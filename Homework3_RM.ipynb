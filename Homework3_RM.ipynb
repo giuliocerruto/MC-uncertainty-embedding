{
  "nbformat": 4,
  "nbformat_minor": 0,
  "metadata": {
    "colab": {
      "name": "Homework3-RM.ipynb",
      "provenance": [],
      "collapsed_sections": [],
      "include_colab_link": true
    },
    "kernelspec": {
      "name": "python3",
      "display_name": "Python 3"
    },
    "language_info": {
      "name": "python"
    }
  },
  "cells": [
    {
      "cell_type": "markdown",
      "metadata": {
        "id": "view-in-github",
        "colab_type": "text"
      },
      "source": [
        "<a href=\"https://colab.research.google.com/github/giuliocerruto/MC-uncertainty-embedding/blob/main/Homework3_RM.ipynb\" target=\"_parent\"><img src=\"https://colab.research.google.com/assets/colab-badge.svg\" alt=\"Open In Colab\"/></a>"
      ]
    },
    {
      "cell_type": "markdown",
      "metadata": {
        "id": "UsdoPlidsaeZ"
      },
      "source": [
        "# Homework III - Metodi quantitativi per la gestione del rischio\n",
        "## Simona Maria Borrello s277789 \n",
        "## Giulio Cerruto s277335 <a class=\"tocSkip\">"
      ]
    },
    {
      "cell_type": "code",
      "metadata": {
        "id": "EaBgCKXf4ZjA",
        "colab": {
          "base_uri": "https://localhost:8080/"
        },
        "outputId": "979ed499-4dc7-46cc-df31-a7323df4cc03"
      },
      "source": [
        "import numpy as np\n",
        "from numpy.random import default_rng\n",
        "np.random.seed(seed=2021) # settiamo il random seed\n",
        "import pandas as pd\n",
        "import plotly.graph_objects as go\n",
        "!pip install quadprog\n",
        "import quadprog\n",
        "from plotly.subplots import make_subplots"
      ],
      "execution_count": null,
      "outputs": [
        {
          "output_type": "stream",
          "text": [
            "Requirement already satisfied: quadprog in /usr/local/lib/python3.7/dist-packages (0.1.8)\n",
            "Requirement already satisfied: Cython in /usr/local/lib/python3.7/dist-packages (from quadprog) (0.29.23)\n"
          ],
          "name": "stdout"
        }
      ]
    },
    {
      "cell_type": "markdown",
      "metadata": {
        "id": "Sc-H5yNDfN8m"
      },
      "source": [
        "Obiettivo di questo homework è verificare l’impatto degli **errori di stima** sulla formazione di un **portafoglio MV**.\n",
        "\n",
        "L'analisi si focalizzerà sui seguenti punti: \n",
        "- confronto portafoglio di **2 asset** vs  portafoglio di **10 asset**; \n",
        "- effetto dell'**orizzonte temporale** su cui si basano le stime ( 7 giorni, 1 mese, 4 mesi) \n",
        "- effetto dell'**avversione** al **rischio** sulla stima del  portafoglio MV ottimo; \n",
        "- studio sugli  errori di stima del portafoglio a **minima varianza**;\n",
        "- influenza del vincolo di **vendita** allo **scoperto** nel problema di ottimizzazione; \n",
        "- confronto tra il **peso degli errori** di stima dei rendimenti attesi vs errori di stima della matrice di varianza-covarianza dei rendimenti; \n",
        "- stima della **ricchezza terminale** su orizzenti temporali diversi e calcolo di relative **misure di rischio**. \n",
        "\n",
        "\n",
        "\n",
        "\n",
        "\n"
      ]
    },
    {
      "cell_type": "markdown",
      "metadata": {
        "id": "unopK9yJffum"
      },
      "source": [
        "## Generazione dei dati\n",
        "Per le analisi da svolgere utilizziamo **due portafogli** di numerosità differente: uno formato da **due soli asset** e uno con **dieci asset**. L'idea è quella di usare il portafoglio con due asset per comprendere più semplicemente gli effetti di certe manipolazioni e poi estendere il ragionamento al portafoglio con più asset. \\\n",
        "Iniziamo generando i **rendimenti del portafoglio** con due asset. Per ottenerli, campioneremo i dati da delle **distribuzioni normali multivariate**, per cui sarà necessario partire da un vettore di rendimenti attesi e da una matrice di varianza-covarianza."
      ]
    },
    {
      "cell_type": "code",
      "metadata": {
        "id": "dvnqnj3dXCxG"
      },
      "source": [
        "rng = default_rng(seed=2021)\n",
        "mu2 = np.array([0.07, 0.05])\n",
        "sigma = np.array([0.20, 0.15])\n",
        "rho = 0.7\n",
        "varcov2 = np.array([[sigma[0]**2, rho*sigma[0]*sigma[1]],\n",
        "                   [rho*sigma[0]*sigma[1], sigma[1]**2]])"
      ],
      "execution_count": null,
      "outputs": []
    },
    {
      "cell_type": "code",
      "metadata": {
        "id": "U4lzC14zapwc"
      },
      "source": [
        "data2 = rng.multivariate_normal(mean=mu2, cov=varcov2, size=120).transpose()"
      ],
      "execution_count": null,
      "outputs": []
    },
    {
      "cell_type": "markdown",
      "metadata": {
        "id": "X7xOf5rKe8C9"
      },
      "source": [
        "Visualizziamo quindi la distribuzione dei rendimenti tramite uno scatter plot, osservando l'effetto che ha su quest'ultima l'**alto** valore del coefficiente di **correlazione**."
      ]
    },
    {
      "cell_type": "code",
      "metadata": {
        "colab": {
          "base_uri": "https://localhost:8080/",
          "height": 542
        },
        "id": "uEgrF9VFbDg9",
        "outputId": "876a9242-601d-4705-de9f-9fc0e16ca8b1"
      },
      "source": [
        "fig = go.Figure(go.Scatter(x=data2[0,:], y=data2[1,:], mode='markers'))\n",
        "fig.update_xaxes(title='Rendimento asset 0')\n",
        "fig.update_yaxes(title='Rendimento asset 1', scaleanchor = \"x\", scaleratio = 1)\n",
        "fig.update_layout(title='Rendimenti asset con rho=' + str(rho))\n",
        "fig.show()"
      ],
      "execution_count": null,
      "outputs": [
        {
          "output_type": "display_data",
          "data": {
            "text/html": [
              "<html>\n",
              "<head><meta charset=\"utf-8\" /></head>\n",
              "<body>\n",
              "    <div>\n",
              "            <script src=\"https://cdnjs.cloudflare.com/ajax/libs/mathjax/2.7.5/MathJax.js?config=TeX-AMS-MML_SVG\"></script><script type=\"text/javascript\">if (window.MathJax) {MathJax.Hub.Config({SVG: {font: \"STIX-Web\"}});}</script>\n",
              "                <script type=\"text/javascript\">window.PlotlyConfig = {MathJaxConfig: 'local'};</script>\n",
              "        <script src=\"https://cdn.plot.ly/plotly-latest.min.js\"></script>    \n",
              "            <div id=\"fc6442b0-0237-4e6a-9ba3-990c04f23bcb\" class=\"plotly-graph-div\" style=\"height:525px; width:100%;\"></div>\n",
              "            <script type=\"text/javascript\">\n",
              "                \n",
              "                    window.PLOTLYENV=window.PLOTLYENV || {};\n",
              "                    \n",
              "                if (document.getElementById(\"fc6442b0-0237-4e6a-9ba3-990c04f23bcb\")) {\n",
              "                    Plotly.newPlot(\n",
              "                        'fc6442b0-0237-4e6a-9ba3-990c04f23bcb',\n",
              "                        [{\"mode\": \"markers\", \"type\": \"scatter\", \"x\": [0.11844637346018297, 0.16742683875109654, 0.095337312650518, 0.2115407386467822, 0.3080725822493168, 0.002171801897909567, -0.13448360112044347, 0.29833779065481825, 0.21447422131492494, 0.06602053273089384, -0.09361942509512458, 0.1477096680919747, 0.19674355073148705, -0.2309642977219537, 0.1682126180941514, 0.2600937986728423, 0.11661256699436759, 0.32635603571860183, 0.0920912881359095, 0.1880311605812888, -0.03346772361292569, 0.09707219580314738, -0.33602721467553476, 0.03539773727644017, 0.1803090767830009, 0.15696283170405392, 0.13894672931472996, -0.04086328122113339, -0.07527700740442742, 0.10782365405761099, 0.0390765869152081, 0.06372717083624503, 0.3736567904973229, 0.4094513123587756, 0.13215816570080968, -0.07342006399580736, -0.10341730389155218, 0.22646229966338016, 0.015002430808653773, 0.037978791128872244, -0.18202997709126478, 0.11684448909610443, 0.0009185257118131396, -0.09118615784113115, 0.3170613563434519, 0.22071132016079814, -0.2995982402967887, 0.25417813920441956, 0.11279871246934, 0.007610271658576605, -0.34824648390480917, 0.3855103768611794, 0.3659200128358138, -0.03287316043957032, -0.03060960955736995, 0.2246370249846653, -0.039885336836484264, -0.15095579069163323, 0.06768971687573794, 0.09988980139236964, -0.017917695557872718, 0.26833902594057624, 0.4209167398913624, 0.09902114263022972, 0.007359751770931761, 0.29465989452321584, 0.11754066421142736, -0.20841573295670823, -0.07267933903474882, -0.02736760481022603, 0.11942101786206166, 0.10683006446979507, 0.07226143781092133, -0.023012000459047458, -0.2179042874242768, -0.07963354907046136, 0.15533800533837405, -0.050324794814659235, -0.24154232696077216, 0.18760189401455796, -0.053557912261972415, 0.26608191437344386, -0.10166689993916525, 0.11465294918204078, 0.17500957927781857, 0.49154799958255874, 0.01323331701178146, -0.1262525528091565, -0.21380957918937543, -0.21484775745684476, 0.32981483166884445, -0.046096839220235164, 0.01137365361694842, 0.4114362346002471, 0.06364433104026951, -0.3387476840506526, -0.039744062937183286, -0.08814807725093152, 0.3723616046864289, 0.3234164221066235, 0.5687884930323133, -0.029230982584856846, 0.2249647544545694, 0.14579101735585198, 0.13450371617133672, 0.2961463591721376, -0.10553387696886263, 0.08323774907284204, -0.12442030846337845, 0.05616213120040733, 0.007413581090505231, -0.2517351222694954, 0.1455910793690205, 0.34456902416047924, 0.14697773533810748, -0.08049793399185678, -0.18293494188810844, 0.5837165021921686, 0.023816442852665813, 0.1540058825791084], \"y\": [0.006178267513582282, 0.2341783092126844, 0.016402890875822307, -0.14611476676784124, 0.037768702818848005, -0.03866531592654378, -0.04411359090926177, 0.22045142251753702, 0.1302623887702487, -0.029285048521363544, -0.03736434039746815, -0.05397948304683986, 0.053931622185564874, 0.10798886544107822, -0.12563970811681313, 0.2769424889262654, 0.3822463481690114, 0.31422655648170233, 0.008733265584575184, 0.06248260678972284, -0.10350265323344952, -0.016711634268246234, -0.10299321383764086, -0.02327996862130427, 0.18094706205737948, 0.10405196672319059, 0.2085338129194575, -0.00479244067732628, -0.093157268549674, 0.1669527278619527, 0.08020330459198452, 0.04016941960481387, 0.23656288820473892, 0.13676789623597974, 0.30906043981255193, -0.03730316636995619, 0.07938688835717356, 0.006513753848035118, 0.11092384626983237, 0.09459953525102074, -0.026226896538057612, 0.12517825026660895, 0.03349686003836476, 0.03935560299901107, 0.22323476689012473, 0.14520366334877308, -0.17672346093683783, 0.10422342616826458, 0.1621947531930213, 0.03789856870450316, -0.08255155169881646, 0.20215123278702057, 0.16435334627558162, -0.07460704065546071, -0.1031350819772192, 0.3525050691804962, 0.2906869851872227, -0.05487370596072383, -0.1630871724217317, 0.15037214839936852, -0.0780034386921007, -0.0029388651197670146, 0.2576384458227327, -0.1343991516475686, 0.03792007694367713, 0.20976323865511626, -0.05200750819437093, -0.2298926219984211, -0.28944373727001477, 0.12002258646173013, -0.013435136168059886, -0.05125872345012132, 0.17431051032757044, -0.07926211753933494, -0.19980780658884795, -0.020741969373125863, 0.15657036842034733, 0.03421425123139282, -0.18267558254088423, 0.11157632419592234, 0.20396382366055787, 0.13168768764593594, -0.23835024971514523, 0.09427085443960317, 0.057444110560366926, 0.3298760077532333, -0.0031205889519119873, 0.06653839637611655, -0.31146951726501404, -0.07553476476258857, 0.2000097500694047, 0.09599538796689323, 0.05462885609264801, 0.22879557089962238, -0.05500185092609068, -0.21706464825669092, -0.014768426459393608, -0.047206084456622985, 0.26492734366603427, 0.14324060462617627, 0.39917320769283016, 0.08139859457459885, 0.13960312054487733, 0.026765176346374132, 0.18792752690220965, 0.11505499996568933, -0.04416235385891269, 0.18787369971164897, -0.15455547832706445, -0.16806228934238582, 0.004743882108553685, 0.0507569487746525, 0.20762338895013305, 0.09515033923717202, -0.12455065911722903, -0.04638606943748605, -0.19036606930357058, 0.3714310120755552, 0.06999182258108289, 0.13176412611615745]}],\n",
              "                        {\"template\": {\"data\": {\"bar\": [{\"error_x\": {\"color\": \"#2a3f5f\"}, \"error_y\": {\"color\": \"#2a3f5f\"}, \"marker\": {\"line\": {\"color\": \"#E5ECF6\", \"width\": 0.5}}, \"type\": \"bar\"}], \"barpolar\": [{\"marker\": {\"line\": {\"color\": \"#E5ECF6\", \"width\": 0.5}}, \"type\": \"barpolar\"}], \"carpet\": [{\"aaxis\": {\"endlinecolor\": \"#2a3f5f\", \"gridcolor\": \"white\", \"linecolor\": \"white\", \"minorgridcolor\": \"white\", \"startlinecolor\": \"#2a3f5f\"}, \"baxis\": {\"endlinecolor\": \"#2a3f5f\", \"gridcolor\": \"white\", \"linecolor\": \"white\", \"minorgridcolor\": \"white\", \"startlinecolor\": \"#2a3f5f\"}, \"type\": \"carpet\"}], \"choropleth\": [{\"colorbar\": {\"outlinewidth\": 0, \"ticks\": \"\"}, \"type\": \"choropleth\"}], \"contour\": [{\"colorbar\": {\"outlinewidth\": 0, \"ticks\": \"\"}, \"colorscale\": [[0.0, \"#0d0887\"], [0.1111111111111111, \"#46039f\"], [0.2222222222222222, \"#7201a8\"], [0.3333333333333333, \"#9c179e\"], [0.4444444444444444, \"#bd3786\"], [0.5555555555555556, \"#d8576b\"], [0.6666666666666666, \"#ed7953\"], [0.7777777777777778, \"#fb9f3a\"], [0.8888888888888888, \"#fdca26\"], [1.0, \"#f0f921\"]], \"type\": \"contour\"}], \"contourcarpet\": [{\"colorbar\": {\"outlinewidth\": 0, \"ticks\": \"\"}, \"type\": \"contourcarpet\"}], \"heatmap\": [{\"colorbar\": {\"outlinewidth\": 0, \"ticks\": \"\"}, \"colorscale\": [[0.0, \"#0d0887\"], [0.1111111111111111, \"#46039f\"], [0.2222222222222222, \"#7201a8\"], [0.3333333333333333, \"#9c179e\"], [0.4444444444444444, \"#bd3786\"], [0.5555555555555556, \"#d8576b\"], [0.6666666666666666, \"#ed7953\"], [0.7777777777777778, \"#fb9f3a\"], [0.8888888888888888, \"#fdca26\"], [1.0, \"#f0f921\"]], \"type\": \"heatmap\"}], \"heatmapgl\": [{\"colorbar\": {\"outlinewidth\": 0, \"ticks\": \"\"}, \"colorscale\": [[0.0, \"#0d0887\"], [0.1111111111111111, \"#46039f\"], [0.2222222222222222, \"#7201a8\"], [0.3333333333333333, \"#9c179e\"], [0.4444444444444444, \"#bd3786\"], [0.5555555555555556, \"#d8576b\"], [0.6666666666666666, \"#ed7953\"], [0.7777777777777778, \"#fb9f3a\"], [0.8888888888888888, \"#fdca26\"], [1.0, \"#f0f921\"]], \"type\": \"heatmapgl\"}], \"histogram\": [{\"marker\": {\"colorbar\": {\"outlinewidth\": 0, \"ticks\": \"\"}}, \"type\": \"histogram\"}], \"histogram2d\": [{\"colorbar\": {\"outlinewidth\": 0, \"ticks\": \"\"}, \"colorscale\": [[0.0, \"#0d0887\"], [0.1111111111111111, \"#46039f\"], [0.2222222222222222, \"#7201a8\"], [0.3333333333333333, \"#9c179e\"], [0.4444444444444444, \"#bd3786\"], [0.5555555555555556, \"#d8576b\"], [0.6666666666666666, \"#ed7953\"], [0.7777777777777778, \"#fb9f3a\"], [0.8888888888888888, \"#fdca26\"], [1.0, \"#f0f921\"]], \"type\": \"histogram2d\"}], \"histogram2dcontour\": [{\"colorbar\": {\"outlinewidth\": 0, \"ticks\": \"\"}, \"colorscale\": [[0.0, \"#0d0887\"], [0.1111111111111111, \"#46039f\"], [0.2222222222222222, \"#7201a8\"], [0.3333333333333333, \"#9c179e\"], [0.4444444444444444, \"#bd3786\"], [0.5555555555555556, \"#d8576b\"], [0.6666666666666666, \"#ed7953\"], [0.7777777777777778, \"#fb9f3a\"], [0.8888888888888888, \"#fdca26\"], [1.0, \"#f0f921\"]], \"type\": \"histogram2dcontour\"}], \"mesh3d\": [{\"colorbar\": {\"outlinewidth\": 0, \"ticks\": \"\"}, \"type\": \"mesh3d\"}], \"parcoords\": [{\"line\": {\"colorbar\": {\"outlinewidth\": 0, \"ticks\": \"\"}}, \"type\": \"parcoords\"}], \"pie\": [{\"automargin\": true, \"type\": \"pie\"}], \"scatter\": [{\"marker\": {\"colorbar\": {\"outlinewidth\": 0, \"ticks\": \"\"}}, \"type\": \"scatter\"}], \"scatter3d\": [{\"line\": {\"colorbar\": {\"outlinewidth\": 0, \"ticks\": \"\"}}, \"marker\": {\"colorbar\": {\"outlinewidth\": 0, \"ticks\": \"\"}}, \"type\": \"scatter3d\"}], \"scattercarpet\": [{\"marker\": {\"colorbar\": {\"outlinewidth\": 0, \"ticks\": \"\"}}, \"type\": \"scattercarpet\"}], \"scattergeo\": [{\"marker\": {\"colorbar\": {\"outlinewidth\": 0, \"ticks\": \"\"}}, \"type\": \"scattergeo\"}], \"scattergl\": [{\"marker\": {\"colorbar\": {\"outlinewidth\": 0, \"ticks\": \"\"}}, \"type\": \"scattergl\"}], \"scattermapbox\": [{\"marker\": {\"colorbar\": {\"outlinewidth\": 0, \"ticks\": \"\"}}, \"type\": \"scattermapbox\"}], \"scatterpolar\": [{\"marker\": {\"colorbar\": {\"outlinewidth\": 0, \"ticks\": \"\"}}, \"type\": \"scatterpolar\"}], \"scatterpolargl\": [{\"marker\": {\"colorbar\": {\"outlinewidth\": 0, \"ticks\": \"\"}}, \"type\": \"scatterpolargl\"}], \"scatterternary\": [{\"marker\": {\"colorbar\": {\"outlinewidth\": 0, \"ticks\": \"\"}}, \"type\": \"scatterternary\"}], \"surface\": [{\"colorbar\": {\"outlinewidth\": 0, \"ticks\": \"\"}, \"colorscale\": [[0.0, \"#0d0887\"], [0.1111111111111111, \"#46039f\"], [0.2222222222222222, \"#7201a8\"], [0.3333333333333333, \"#9c179e\"], [0.4444444444444444, \"#bd3786\"], [0.5555555555555556, \"#d8576b\"], [0.6666666666666666, \"#ed7953\"], [0.7777777777777778, \"#fb9f3a\"], [0.8888888888888888, \"#fdca26\"], [1.0, \"#f0f921\"]], \"type\": \"surface\"}], \"table\": [{\"cells\": {\"fill\": {\"color\": \"#EBF0F8\"}, \"line\": {\"color\": \"white\"}}, \"header\": {\"fill\": {\"color\": \"#C8D4E3\"}, \"line\": {\"color\": \"white\"}}, \"type\": \"table\"}]}, \"layout\": {\"annotationdefaults\": {\"arrowcolor\": \"#2a3f5f\", \"arrowhead\": 0, \"arrowwidth\": 1}, \"coloraxis\": {\"colorbar\": {\"outlinewidth\": 0, \"ticks\": \"\"}}, \"colorscale\": {\"diverging\": [[0, \"#8e0152\"], [0.1, \"#c51b7d\"], [0.2, \"#de77ae\"], [0.3, \"#f1b6da\"], [0.4, \"#fde0ef\"], [0.5, \"#f7f7f7\"], [0.6, \"#e6f5d0\"], [0.7, \"#b8e186\"], [0.8, \"#7fbc41\"], [0.9, \"#4d9221\"], [1, \"#276419\"]], \"sequential\": [[0.0, \"#0d0887\"], [0.1111111111111111, \"#46039f\"], [0.2222222222222222, \"#7201a8\"], [0.3333333333333333, \"#9c179e\"], [0.4444444444444444, \"#bd3786\"], [0.5555555555555556, \"#d8576b\"], [0.6666666666666666, \"#ed7953\"], [0.7777777777777778, \"#fb9f3a\"], [0.8888888888888888, \"#fdca26\"], [1.0, \"#f0f921\"]], \"sequentialminus\": [[0.0, \"#0d0887\"], [0.1111111111111111, \"#46039f\"], [0.2222222222222222, \"#7201a8\"], [0.3333333333333333, \"#9c179e\"], [0.4444444444444444, \"#bd3786\"], [0.5555555555555556, \"#d8576b\"], [0.6666666666666666, \"#ed7953\"], [0.7777777777777778, \"#fb9f3a\"], [0.8888888888888888, \"#fdca26\"], [1.0, \"#f0f921\"]]}, \"colorway\": [\"#636efa\", \"#EF553B\", \"#00cc96\", \"#ab63fa\", \"#FFA15A\", \"#19d3f3\", \"#FF6692\", \"#B6E880\", \"#FF97FF\", \"#FECB52\"], \"font\": {\"color\": \"#2a3f5f\"}, \"geo\": {\"bgcolor\": \"white\", \"lakecolor\": \"white\", \"landcolor\": \"#E5ECF6\", \"showlakes\": true, \"showland\": true, \"subunitcolor\": \"white\"}, \"hoverlabel\": {\"align\": \"left\"}, \"hovermode\": \"closest\", \"mapbox\": {\"style\": \"light\"}, \"paper_bgcolor\": \"white\", \"plot_bgcolor\": \"#E5ECF6\", \"polar\": {\"angularaxis\": {\"gridcolor\": \"white\", \"linecolor\": \"white\", \"ticks\": \"\"}, \"bgcolor\": \"#E5ECF6\", \"radialaxis\": {\"gridcolor\": \"white\", \"linecolor\": \"white\", \"ticks\": \"\"}}, \"scene\": {\"xaxis\": {\"backgroundcolor\": \"#E5ECF6\", \"gridcolor\": \"white\", \"gridwidth\": 2, \"linecolor\": \"white\", \"showbackground\": true, \"ticks\": \"\", \"zerolinecolor\": \"white\"}, \"yaxis\": {\"backgroundcolor\": \"#E5ECF6\", \"gridcolor\": \"white\", \"gridwidth\": 2, \"linecolor\": \"white\", \"showbackground\": true, \"ticks\": \"\", \"zerolinecolor\": \"white\"}, \"zaxis\": {\"backgroundcolor\": \"#E5ECF6\", \"gridcolor\": \"white\", \"gridwidth\": 2, \"linecolor\": \"white\", \"showbackground\": true, \"ticks\": \"\", \"zerolinecolor\": \"white\"}}, \"shapedefaults\": {\"line\": {\"color\": \"#2a3f5f\"}}, \"ternary\": {\"aaxis\": {\"gridcolor\": \"white\", \"linecolor\": \"white\", \"ticks\": \"\"}, \"baxis\": {\"gridcolor\": \"white\", \"linecolor\": \"white\", \"ticks\": \"\"}, \"bgcolor\": \"#E5ECF6\", \"caxis\": {\"gridcolor\": \"white\", \"linecolor\": \"white\", \"ticks\": \"\"}}, \"title\": {\"x\": 0.05}, \"xaxis\": {\"automargin\": true, \"gridcolor\": \"white\", \"linecolor\": \"white\", \"ticks\": \"\", \"title\": {\"standoff\": 15}, \"zerolinecolor\": \"white\", \"zerolinewidth\": 2}, \"yaxis\": {\"automargin\": true, \"gridcolor\": \"white\", \"linecolor\": \"white\", \"ticks\": \"\", \"title\": {\"standoff\": 15}, \"zerolinecolor\": \"white\", \"zerolinewidth\": 2}}}, \"title\": {\"text\": \"Rendimenti asset con rho=0.7\"}, \"xaxis\": {\"title\": {\"text\": \"Rendimento asset 0\"}}, \"yaxis\": {\"scaleanchor\": \"x\", \"scaleratio\": 1, \"title\": {\"text\": \"Rendimento asset 1\"}}},\n",
              "                        {\"responsive\": true}\n",
              "                    ).then(function(){\n",
              "                            \n",
              "var gd = document.getElementById('fc6442b0-0237-4e6a-9ba3-990c04f23bcb');\n",
              "var x = new MutationObserver(function (mutations, observer) {{\n",
              "        var display = window.getComputedStyle(gd).display;\n",
              "        if (!display || display === 'none') {{\n",
              "            console.log([gd, 'removed!']);\n",
              "            Plotly.purge(gd);\n",
              "            observer.disconnect();\n",
              "        }}\n",
              "}});\n",
              "\n",
              "// Listen for the removal of the full notebook cells\n",
              "var notebookContainer = gd.closest('#notebook-container');\n",
              "if (notebookContainer) {{\n",
              "    x.observe(notebookContainer, {childList: true});\n",
              "}}\n",
              "\n",
              "// Listen for the clearing of the current output cell\n",
              "var outputEl = gd.closest('.output');\n",
              "if (outputEl) {{\n",
              "    x.observe(outputEl, {childList: true});\n",
              "}}\n",
              "\n",
              "                        })\n",
              "                };\n",
              "                \n",
              "            </script>\n",
              "        </div>\n",
              "</body>\n",
              "</html>"
            ]
          },
          "metadata": {
            "tags": []
          }
        }
      ]
    },
    {
      "cell_type": "markdown",
      "metadata": {
        "id": "Yah1nbGje6G8"
      },
      "source": [
        "Generiamo adesso il dataset di rendimenti del portafoglio con 10 asset. \\\n",
        " Per ovvi motivi, questa volta non è possibile visualizzarne la distribuzione. In questo caso, visto il numero di dati necessari, generiamo il vettore dei rendimenti attesi e la matrice di varianza-covarianza in maniera casuale campionando da una **distribuzione uniforme**. \\\n",
        "  L'unico accorgimento da prendere in questo contesto è assicurarsi di generare una matrice di **varianza-covarianza** che sia **simmetrica definita positiva**; per ottenerla in maniera semplice, basta ricordare che, data una matrice $A$ qualsiasi, la matrice $A^TA$ è simmetrica semidefinita positiva. \\\n",
        "   Ci basterà poi solo controllare che gli autovalori siano tutti strettamente positivi. \\\n",
        "Infine, osserviamo che questo metodo per generare la matrice è sicuramente inadatto nel caso si vogliano creare portafogli di maggior numerosità, ma sufficientemente coveniente in questo contesto."
      ]
    },
    {
      "cell_type": "code",
      "metadata": {
        "id": "gQ8Bha-KbV9y"
      },
      "source": [
        "mu10 = rng.uniform(low=0.01, high=0.20, size=10)\n",
        "varcov10 = rng.uniform(low=0.05, high=0.15, size=(10,10))\n",
        "varcov10 = np.matmul(varcov10.transpose(), varcov10).transpose()"
      ],
      "execution_count": null,
      "outputs": []
    },
    {
      "cell_type": "code",
      "metadata": {
        "colab": {
          "base_uri": "https://localhost:8080/"
        },
        "id": "7NkvvSNWiPbq",
        "outputId": "33e27ae7-68d9-4231-cab9-0f0a2161d54b"
      },
      "source": [
        "print('Gli autovalori della matrice di varianza-covarianza sono',np.linalg.eig(varcov10)[0])"
      ],
      "execution_count": null,
      "outputs": [
        {
          "output_type": "stream",
          "text": [
            "Gli autovalori della matrice di varianza-covarianza sono [9.16451982e-01 1.78697525e-02 1.48576107e-02 5.39603907e-05\n",
            " 4.07059287e-04 1.69473525e-03 3.81631781e-03 6.03821729e-03\n",
            " 1.05648633e-02 1.07254487e-02]\n"
          ],
          "name": "stdout"
        }
      ]
    },
    {
      "cell_type": "markdown",
      "metadata": {
        "id": "H7BURPuE0OHq"
      },
      "source": [
        "Come osserviamo, gli autovalori sono tutti positivi. "
      ]
    },
    {
      "cell_type": "markdown",
      "metadata": {
        "id": "OYQpVCwQo6vc"
      },
      "source": [
        "Analogamente a quanto fatto precedentemente, generiamo  i rendimenti."
      ]
    },
    {
      "cell_type": "code",
      "metadata": {
        "id": "WGQO7S4vjJU9"
      },
      "source": [
        "data10 = rng.multivariate_normal(mean=mu10, cov=varcov10, size=120).transpose()"
      ],
      "execution_count": null,
      "outputs": []
    },
    {
      "cell_type": "markdown",
      "metadata": {
        "id": "9n-fajSHbiq3"
      },
      "source": [
        "Proviamo adesso a **stimare** per mezzo della media, varianza e covarianza **campionarie** i valori attesi, le varianze e le covarianze dei rendimenti del primo portafoglio utilizzando una **quantità** sempre** crescente di dati**. In particolare, usiamo prima i dati degli ultimi** 7 giorni**, poi quelli dell'ultimo mese (**30 giorni**) e infine i dati degli ultimi 4 mesi (**120 giorni**). Visualizziamo inoltre le stime per mezzo di uno scatter plot."
      ]
    },
    {
      "cell_type": "code",
      "metadata": {
        "id": "KRZS4NPDcL-c"
      },
      "source": [
        "mu_estimate7_data2 = np.mean(data2[:,-7:], axis=1)\n",
        "mu_estimate30_data2 = np.mean(data2[:,-30:], axis=1)\n",
        "mu_estimate120_data2 = np.mean(data2, axis=1)"
      ],
      "execution_count": null,
      "outputs": []
    },
    {
      "cell_type": "code",
      "metadata": {
        "colab": {
          "base_uri": "https://localhost:8080/",
          "height": 542
        },
        "id": "TfLHk20YdtR9",
        "outputId": "81ca77b9-24b6-42ce-8f6d-c2d70976720d"
      },
      "source": [
        "fig = go.Figure(go.Scatter(x=[mu2[0]], y=[mu2[1]], marker=dict(color='red', size=25), name='Dato reale'))\n",
        "fig.add_trace(go.Scatter(x=[mu_estimate7_data2[0]], y=[mu_estimate7_data2[1]], marker=dict(color='green', size=15), name='Stima a 7 giorni'))\n",
        "fig.add_trace(go.Scatter(x=[mu_estimate30_data2[0]], y=[mu_estimate30_data2[1]], marker=dict(color='blue', size=15), name='Stima a 1 mese'))\n",
        "fig.add_trace(go.Scatter(x=[mu_estimate120_data2[0]], y=[mu_estimate120_data2[1]], marker=dict(color='magenta', size=15), name='Stima a 4 mesi'))\n",
        "fig.update_xaxes(title='Rendimento asset 0')\n",
        "fig.update_yaxes(scaleanchor = \"x\", scaleratio = 1, title='Rendimento asset 1')\n",
        "fig.show()"
      ],
      "execution_count": null,
      "outputs": [
        {
          "output_type": "display_data",
          "data": {
            "text/html": [
              "<html>\n",
              "<head><meta charset=\"utf-8\" /></head>\n",
              "<body>\n",
              "    <div>\n",
              "            <script src=\"https://cdnjs.cloudflare.com/ajax/libs/mathjax/2.7.5/MathJax.js?config=TeX-AMS-MML_SVG\"></script><script type=\"text/javascript\">if (window.MathJax) {MathJax.Hub.Config({SVG: {font: \"STIX-Web\"}});}</script>\n",
              "                <script type=\"text/javascript\">window.PlotlyConfig = {MathJaxConfig: 'local'};</script>\n",
              "        <script src=\"https://cdn.plot.ly/plotly-latest.min.js\"></script>    \n",
              "            <div id=\"7b658086-6847-4e57-a1c4-12f8fa60f41b\" class=\"plotly-graph-div\" style=\"height:525px; width:100%;\"></div>\n",
              "            <script type=\"text/javascript\">\n",
              "                \n",
              "                    window.PLOTLYENV=window.PLOTLYENV || {};\n",
              "                    \n",
              "                if (document.getElementById(\"7b658086-6847-4e57-a1c4-12f8fa60f41b\")) {\n",
              "                    Plotly.newPlot(\n",
              "                        '7b658086-6847-4e57-a1c4-12f8fa60f41b',\n",
              "                        [{\"marker\": {\"color\": \"red\", \"size\": 25}, \"name\": \"Dato reale\", \"type\": \"scatter\", \"x\": [0.07], \"y\": [0.05]}, {\"marker\": {\"color\": \"green\", \"size\": 15}, \"name\": \"Stima a 7 giorni\", \"type\": \"scatter\", \"x\": [0.14137895874893777], \"y\": [0.04386207173595456]}, {\"marker\": {\"color\": \"blue\", \"size\": 15}, \"name\": \"Stima a 1 mese\", \"type\": \"scatter\", \"x\": [0.10468805720451044], \"y\": [0.06649104764722892]}, {\"marker\": {\"color\": \"magenta\", \"size\": 15}, \"name\": \"Stima a 4 mesi\", \"type\": \"scatter\", \"x\": [0.07725062338085631], \"y\": [0.050978339780536966]}],\n",
              "                        {\"template\": {\"data\": {\"bar\": [{\"error_x\": {\"color\": \"#2a3f5f\"}, \"error_y\": {\"color\": \"#2a3f5f\"}, \"marker\": {\"line\": {\"color\": \"#E5ECF6\", \"width\": 0.5}}, \"type\": \"bar\"}], \"barpolar\": [{\"marker\": {\"line\": {\"color\": \"#E5ECF6\", \"width\": 0.5}}, \"type\": \"barpolar\"}], \"carpet\": [{\"aaxis\": {\"endlinecolor\": \"#2a3f5f\", \"gridcolor\": \"white\", \"linecolor\": \"white\", \"minorgridcolor\": \"white\", \"startlinecolor\": \"#2a3f5f\"}, \"baxis\": {\"endlinecolor\": \"#2a3f5f\", \"gridcolor\": \"white\", \"linecolor\": \"white\", \"minorgridcolor\": \"white\", \"startlinecolor\": \"#2a3f5f\"}, \"type\": \"carpet\"}], \"choropleth\": [{\"colorbar\": {\"outlinewidth\": 0, \"ticks\": \"\"}, \"type\": \"choropleth\"}], \"contour\": [{\"colorbar\": {\"outlinewidth\": 0, \"ticks\": \"\"}, \"colorscale\": [[0.0, \"#0d0887\"], [0.1111111111111111, \"#46039f\"], [0.2222222222222222, \"#7201a8\"], [0.3333333333333333, \"#9c179e\"], [0.4444444444444444, \"#bd3786\"], [0.5555555555555556, \"#d8576b\"], [0.6666666666666666, \"#ed7953\"], [0.7777777777777778, \"#fb9f3a\"], [0.8888888888888888, \"#fdca26\"], [1.0, \"#f0f921\"]], \"type\": \"contour\"}], \"contourcarpet\": [{\"colorbar\": {\"outlinewidth\": 0, \"ticks\": \"\"}, \"type\": \"contourcarpet\"}], \"heatmap\": [{\"colorbar\": {\"outlinewidth\": 0, \"ticks\": \"\"}, \"colorscale\": [[0.0, \"#0d0887\"], [0.1111111111111111, \"#46039f\"], [0.2222222222222222, \"#7201a8\"], [0.3333333333333333, \"#9c179e\"], [0.4444444444444444, \"#bd3786\"], [0.5555555555555556, \"#d8576b\"], [0.6666666666666666, \"#ed7953\"], [0.7777777777777778, \"#fb9f3a\"], [0.8888888888888888, \"#fdca26\"], [1.0, \"#f0f921\"]], \"type\": \"heatmap\"}], \"heatmapgl\": [{\"colorbar\": {\"outlinewidth\": 0, \"ticks\": \"\"}, \"colorscale\": [[0.0, \"#0d0887\"], [0.1111111111111111, \"#46039f\"], [0.2222222222222222, \"#7201a8\"], [0.3333333333333333, \"#9c179e\"], [0.4444444444444444, \"#bd3786\"], [0.5555555555555556, \"#d8576b\"], [0.6666666666666666, \"#ed7953\"], [0.7777777777777778, \"#fb9f3a\"], [0.8888888888888888, \"#fdca26\"], [1.0, \"#f0f921\"]], \"type\": \"heatmapgl\"}], \"histogram\": [{\"marker\": {\"colorbar\": {\"outlinewidth\": 0, \"ticks\": \"\"}}, \"type\": \"histogram\"}], \"histogram2d\": [{\"colorbar\": {\"outlinewidth\": 0, \"ticks\": \"\"}, \"colorscale\": [[0.0, \"#0d0887\"], [0.1111111111111111, \"#46039f\"], [0.2222222222222222, \"#7201a8\"], [0.3333333333333333, \"#9c179e\"], [0.4444444444444444, \"#bd3786\"], [0.5555555555555556, \"#d8576b\"], [0.6666666666666666, \"#ed7953\"], [0.7777777777777778, \"#fb9f3a\"], [0.8888888888888888, \"#fdca26\"], [1.0, \"#f0f921\"]], \"type\": \"histogram2d\"}], \"histogram2dcontour\": [{\"colorbar\": {\"outlinewidth\": 0, \"ticks\": \"\"}, \"colorscale\": [[0.0, \"#0d0887\"], [0.1111111111111111, \"#46039f\"], [0.2222222222222222, \"#7201a8\"], [0.3333333333333333, \"#9c179e\"], [0.4444444444444444, \"#bd3786\"], [0.5555555555555556, \"#d8576b\"], [0.6666666666666666, \"#ed7953\"], [0.7777777777777778, \"#fb9f3a\"], [0.8888888888888888, \"#fdca26\"], [1.0, \"#f0f921\"]], \"type\": \"histogram2dcontour\"}], \"mesh3d\": [{\"colorbar\": {\"outlinewidth\": 0, \"ticks\": \"\"}, \"type\": \"mesh3d\"}], \"parcoords\": [{\"line\": {\"colorbar\": {\"outlinewidth\": 0, \"ticks\": \"\"}}, \"type\": \"parcoords\"}], \"pie\": [{\"automargin\": true, \"type\": \"pie\"}], \"scatter\": [{\"marker\": {\"colorbar\": {\"outlinewidth\": 0, \"ticks\": \"\"}}, \"type\": \"scatter\"}], \"scatter3d\": [{\"line\": {\"colorbar\": {\"outlinewidth\": 0, \"ticks\": \"\"}}, \"marker\": {\"colorbar\": {\"outlinewidth\": 0, \"ticks\": \"\"}}, \"type\": \"scatter3d\"}], \"scattercarpet\": [{\"marker\": {\"colorbar\": {\"outlinewidth\": 0, \"ticks\": \"\"}}, \"type\": \"scattercarpet\"}], \"scattergeo\": [{\"marker\": {\"colorbar\": {\"outlinewidth\": 0, \"ticks\": \"\"}}, \"type\": \"scattergeo\"}], \"scattergl\": [{\"marker\": {\"colorbar\": {\"outlinewidth\": 0, \"ticks\": \"\"}}, \"type\": \"scattergl\"}], \"scattermapbox\": [{\"marker\": {\"colorbar\": {\"outlinewidth\": 0, \"ticks\": \"\"}}, \"type\": \"scattermapbox\"}], \"scatterpolar\": [{\"marker\": {\"colorbar\": {\"outlinewidth\": 0, \"ticks\": \"\"}}, \"type\": \"scatterpolar\"}], \"scatterpolargl\": [{\"marker\": {\"colorbar\": {\"outlinewidth\": 0, \"ticks\": \"\"}}, \"type\": \"scatterpolargl\"}], \"scatterternary\": [{\"marker\": {\"colorbar\": {\"outlinewidth\": 0, \"ticks\": \"\"}}, \"type\": \"scatterternary\"}], \"surface\": [{\"colorbar\": {\"outlinewidth\": 0, \"ticks\": \"\"}, \"colorscale\": [[0.0, \"#0d0887\"], [0.1111111111111111, \"#46039f\"], [0.2222222222222222, \"#7201a8\"], [0.3333333333333333, \"#9c179e\"], [0.4444444444444444, \"#bd3786\"], [0.5555555555555556, \"#d8576b\"], [0.6666666666666666, \"#ed7953\"], [0.7777777777777778, \"#fb9f3a\"], [0.8888888888888888, \"#fdca26\"], [1.0, \"#f0f921\"]], \"type\": \"surface\"}], \"table\": [{\"cells\": {\"fill\": {\"color\": \"#EBF0F8\"}, \"line\": {\"color\": \"white\"}}, \"header\": {\"fill\": {\"color\": \"#C8D4E3\"}, \"line\": {\"color\": \"white\"}}, \"type\": \"table\"}]}, \"layout\": {\"annotationdefaults\": {\"arrowcolor\": \"#2a3f5f\", \"arrowhead\": 0, \"arrowwidth\": 1}, \"coloraxis\": {\"colorbar\": {\"outlinewidth\": 0, \"ticks\": \"\"}}, \"colorscale\": {\"diverging\": [[0, \"#8e0152\"], [0.1, \"#c51b7d\"], [0.2, \"#de77ae\"], [0.3, \"#f1b6da\"], [0.4, \"#fde0ef\"], [0.5, \"#f7f7f7\"], [0.6, \"#e6f5d0\"], [0.7, \"#b8e186\"], [0.8, \"#7fbc41\"], [0.9, \"#4d9221\"], [1, \"#276419\"]], \"sequential\": [[0.0, \"#0d0887\"], [0.1111111111111111, \"#46039f\"], [0.2222222222222222, \"#7201a8\"], [0.3333333333333333, \"#9c179e\"], [0.4444444444444444, \"#bd3786\"], [0.5555555555555556, \"#d8576b\"], [0.6666666666666666, \"#ed7953\"], [0.7777777777777778, \"#fb9f3a\"], [0.8888888888888888, \"#fdca26\"], [1.0, \"#f0f921\"]], \"sequentialminus\": [[0.0, \"#0d0887\"], [0.1111111111111111, \"#46039f\"], [0.2222222222222222, \"#7201a8\"], [0.3333333333333333, \"#9c179e\"], [0.4444444444444444, \"#bd3786\"], [0.5555555555555556, \"#d8576b\"], [0.6666666666666666, \"#ed7953\"], [0.7777777777777778, \"#fb9f3a\"], [0.8888888888888888, \"#fdca26\"], [1.0, \"#f0f921\"]]}, \"colorway\": [\"#636efa\", \"#EF553B\", \"#00cc96\", \"#ab63fa\", \"#FFA15A\", \"#19d3f3\", \"#FF6692\", \"#B6E880\", \"#FF97FF\", \"#FECB52\"], \"font\": {\"color\": \"#2a3f5f\"}, \"geo\": {\"bgcolor\": \"white\", \"lakecolor\": \"white\", \"landcolor\": \"#E5ECF6\", \"showlakes\": true, \"showland\": true, \"subunitcolor\": \"white\"}, \"hoverlabel\": {\"align\": \"left\"}, \"hovermode\": \"closest\", \"mapbox\": {\"style\": \"light\"}, \"paper_bgcolor\": \"white\", \"plot_bgcolor\": \"#E5ECF6\", \"polar\": {\"angularaxis\": {\"gridcolor\": \"white\", \"linecolor\": \"white\", \"ticks\": \"\"}, \"bgcolor\": \"#E5ECF6\", \"radialaxis\": {\"gridcolor\": \"white\", \"linecolor\": \"white\", \"ticks\": \"\"}}, \"scene\": {\"xaxis\": {\"backgroundcolor\": \"#E5ECF6\", \"gridcolor\": \"white\", \"gridwidth\": 2, \"linecolor\": \"white\", \"showbackground\": true, \"ticks\": \"\", \"zerolinecolor\": \"white\"}, \"yaxis\": {\"backgroundcolor\": \"#E5ECF6\", \"gridcolor\": \"white\", \"gridwidth\": 2, \"linecolor\": \"white\", \"showbackground\": true, \"ticks\": \"\", \"zerolinecolor\": \"white\"}, \"zaxis\": {\"backgroundcolor\": \"#E5ECF6\", \"gridcolor\": \"white\", \"gridwidth\": 2, \"linecolor\": \"white\", \"showbackground\": true, \"ticks\": \"\", \"zerolinecolor\": \"white\"}}, \"shapedefaults\": {\"line\": {\"color\": \"#2a3f5f\"}}, \"ternary\": {\"aaxis\": {\"gridcolor\": \"white\", \"linecolor\": \"white\", \"ticks\": \"\"}, \"baxis\": {\"gridcolor\": \"white\", \"linecolor\": \"white\", \"ticks\": \"\"}, \"bgcolor\": \"#E5ECF6\", \"caxis\": {\"gridcolor\": \"white\", \"linecolor\": \"white\", \"ticks\": \"\"}}, \"title\": {\"x\": 0.05}, \"xaxis\": {\"automargin\": true, \"gridcolor\": \"white\", \"linecolor\": \"white\", \"ticks\": \"\", \"title\": {\"standoff\": 15}, \"zerolinecolor\": \"white\", \"zerolinewidth\": 2}, \"yaxis\": {\"automargin\": true, \"gridcolor\": \"white\", \"linecolor\": \"white\", \"ticks\": \"\", \"title\": {\"standoff\": 15}, \"zerolinecolor\": \"white\", \"zerolinewidth\": 2}}}, \"xaxis\": {\"title\": {\"text\": \"Rendimento asset 0\"}}, \"yaxis\": {\"scaleanchor\": \"x\", \"scaleratio\": 1, \"title\": {\"text\": \"Rendimento asset 1\"}}},\n",
              "                        {\"responsive\": true}\n",
              "                    ).then(function(){\n",
              "                            \n",
              "var gd = document.getElementById('7b658086-6847-4e57-a1c4-12f8fa60f41b');\n",
              "var x = new MutationObserver(function (mutations, observer) {{\n",
              "        var display = window.getComputedStyle(gd).display;\n",
              "        if (!display || display === 'none') {{\n",
              "            console.log([gd, 'removed!']);\n",
              "            Plotly.purge(gd);\n",
              "            observer.disconnect();\n",
              "        }}\n",
              "}});\n",
              "\n",
              "// Listen for the removal of the full notebook cells\n",
              "var notebookContainer = gd.closest('#notebook-container');\n",
              "if (notebookContainer) {{\n",
              "    x.observe(notebookContainer, {childList: true});\n",
              "}}\n",
              "\n",
              "// Listen for the clearing of the current output cell\n",
              "var outputEl = gd.closest('.output');\n",
              "if (outputEl) {{\n",
              "    x.observe(outputEl, {childList: true});\n",
              "}}\n",
              "\n",
              "                        })\n",
              "                };\n",
              "                \n",
              "            </script>\n",
              "        </div>\n",
              "</body>\n",
              "</html>"
            ]
          },
          "metadata": {
            "tags": []
          }
        }
      ]
    },
    {
      "cell_type": "markdown",
      "metadata": {
        "id": "uyAV2V4i0mz8"
      },
      "source": [
        "Dallo scatterplot emerge che **stime più precise** sono associate a **quantità** di **dati** usati **maggiori**."
      ]
    },
    {
      "cell_type": "code",
      "metadata": {
        "id": "gRTAMsEGd3LU"
      },
      "source": [
        "varcov_estimate7_data2 = np.cov(data2[:,-7:])\n",
        "varcov_estimate30_data2 = np.cov(data2[:,-30:])\n",
        "varcov_estimate120_data2 = np.cov(data2)"
      ],
      "execution_count": null,
      "outputs": []
    },
    {
      "cell_type": "markdown",
      "metadata": {
        "id": "CsfZAC3coFD4"
      },
      "source": [
        "Per vedere quanto buone sono le stime, questa volta non possiamo affidarci ad un plot. \\ \n",
        "\n",
        "Proviamo invece a calcolare la **norma** 1 della **differenza** della **matrice** stima da quella originale."
      ]
    },
    {
      "cell_type": "code",
      "metadata": {
        "colab": {
          "base_uri": "https://localhost:8080/"
        },
        "id": "oeJi0JnZoACd",
        "outputId": "65f00962-4503-4322-9f34-d098507dc463"
      },
      "source": [
        "print('La norma 1 della differenza tra la matrice reale e la stima a 7 giorni è ' + '{0:.3}'.format(np.linalg.norm(np.subtract(varcov2, varcov_estimate7_data2), ord=1)) + '.')\n",
        "print('La norma 1 della differenza tra la matrice reale e la stima a 1 mese è ' + '{0:.3}'.format(np.linalg.norm(np.subtract(varcov2, varcov_estimate30_data2), ord=1)) + '.')\n",
        "print('La norma 1 della differenza tra la matrice reale e la stima a 4 mesi è ' + '{0:.3}'.format(np.linalg.norm(np.subtract(varcov2, varcov_estimate120_data2), ord=1)) + '.')"
      ],
      "execution_count": null,
      "outputs": [
        {
          "output_type": "stream",
          "text": [
            "La norma 1 della differenza tra la matrice reale e la stima a 7 giorni è 0.048.\n",
            "La norma 1 della differenza tra la matrice reale e la stima a 1 mese è 0.0189.\n",
            "La norma 1 della differenza tra la matrice reale e la stima a 4 mesi è 0.00427.\n"
          ],
          "name": "stdout"
        }
      ]
    },
    {
      "cell_type": "markdown",
      "metadata": {
        "id": "145C6aVQqr6z"
      },
      "source": [
        "Come è lecito aspettarsi, maggiore il numero di dati che vengono utilizzati, migliore la stima sia dei rendimenti attesi, che della matrice di varianza-covarianza. \n",
        "\n",
        "Facciamo adesso lo stesso per il portafoglio da 10 asset. Anche in questo caso, per visualizzare l'accuratezza delle stime, non possiamo usare uno scatter plot a causa della dimensionalità dei vettori in questione. \\\n",
        " Calcoliamo quindi la norma L1 della differenza tra la stima e il dato reale. Proviamo comunque a plottare uno scatter plot in cui poniamo sull'asse x l'indice dell'asset e sull'asse y il rendimento stimato."
      ]
    },
    {
      "cell_type": "code",
      "metadata": {
        "colab": {
          "base_uri": "https://localhost:8080/"
        },
        "id": "b_WXg-hVrQDQ",
        "outputId": "db9a341d-47ca-435c-ff58-d0a0e1aea17e"
      },
      "source": [
        "mu_estimate7_data10 = np.mean(data10[:,-7:], axis=1)\n",
        "mu_estimate30_data10 = np.mean(data10[:,-30:], axis=1)\n",
        "mu_estimate120_data10 = np.mean(data10, axis=1)\n",
        "\n",
        "print('La norma 1 della differenza tra i rendimenti attesi reali e la stima a 7 giorni è ' + '{0:.3}'.format(np.linalg.norm(np.subtract(mu10, mu_estimate7_data10), ord=1)) + '.')\n",
        "print('La norma 1 della differenza tra i rendimenti attesi reali e la stima a 1 mese è ' + '{0:.3}'.format(np.linalg.norm(np.subtract(mu10, mu_estimate30_data10), ord=1)) + '.')\n",
        "print('La norma 1 della differenza tra i rendimenti attesi reali e la stima a 4 mesi è ' + '{0:.3}'.format(np.linalg.norm(np.subtract(mu10, mu_estimate120_data10), ord=1)) + '.')"
      ],
      "execution_count": null,
      "outputs": [
        {
          "output_type": "stream",
          "text": [
            "La norma 1 della differenza tra i rendimenti attesi reali e la stima a 7 giorni è 1.72.\n",
            "La norma 1 della differenza tra i rendimenti attesi reali e la stima a 1 mese è 0.528.\n",
            "La norma 1 della differenza tra i rendimenti attesi reali e la stima a 4 mesi è 0.595.\n"
          ],
          "name": "stdout"
        }
      ]
    },
    {
      "cell_type": "code",
      "metadata": {
        "colab": {
          "base_uri": "https://localhost:8080/",
          "height": 542
        },
        "id": "iFz-hbdQdQ18",
        "outputId": "55e45cee-9ef0-431a-c742-cf57994bc6ea"
      },
      "source": [
        "assets = np.linspace(0,10,num=10,dtype=np.int8)\n",
        "fig = go.Figure(go.Scatter(x=assets, y=mu10, marker=dict(color='red', size=20), name='Dato reale', mode='markers'))\n",
        "fig.add_trace(go.Scatter(x=assets, y=mu_estimate7_data10, marker=dict(color='green', size=10), name='Stima a 7 giorni', mode='markers'))\n",
        "fig.add_trace(go.Scatter(x=assets, y=mu_estimate30_data10, marker=dict(color='blue', size=10), name='Stima a 1 mese', mode='markers'))\n",
        "fig.add_trace(go.Scatter(x=assets, y=mu_estimate120_data10, marker=dict(color='magenta', size=10), name='Stima a 4 mesi', mode='markers'))\n",
        "fig.update_xaxes(title='Asset', zeroline=False, type='category')\n",
        "fig.update_yaxes(title='Rendimento', showgrid=False)\n",
        "fig.show()"
      ],
      "execution_count": null,
      "outputs": [
        {
          "output_type": "display_data",
          "data": {
            "text/html": [
              "<html>\n",
              "<head><meta charset=\"utf-8\" /></head>\n",
              "<body>\n",
              "    <div>\n",
              "            <script src=\"https://cdnjs.cloudflare.com/ajax/libs/mathjax/2.7.5/MathJax.js?config=TeX-AMS-MML_SVG\"></script><script type=\"text/javascript\">if (window.MathJax) {MathJax.Hub.Config({SVG: {font: \"STIX-Web\"}});}</script>\n",
              "                <script type=\"text/javascript\">window.PlotlyConfig = {MathJaxConfig: 'local'};</script>\n",
              "        <script src=\"https://cdn.plot.ly/plotly-latest.min.js\"></script>    \n",
              "            <div id=\"fc9db72d-b181-4ac3-9980-cd16bdabbbb7\" class=\"plotly-graph-div\" style=\"height:525px; width:100%;\"></div>\n",
              "            <script type=\"text/javascript\">\n",
              "                \n",
              "                    window.PLOTLYENV=window.PLOTLYENV || {};\n",
              "                    \n",
              "                if (document.getElementById(\"fc9db72d-b181-4ac3-9980-cd16bdabbbb7\")) {\n",
              "                    Plotly.newPlot(\n",
              "                        'fc9db72d-b181-4ac3-9980-cd16bdabbbb7',\n",
              "                        [{\"marker\": {\"color\": \"red\", \"size\": 20}, \"mode\": \"markers\", \"name\": \"Dato reale\", \"type\": \"scatter\", \"x\": [0, 1, 2, 3, 4, 5, 6, 7, 8, 10], \"y\": [0.169726406121474, 0.09736541185924401, 0.08847653977027313, 0.12859555490037328, 0.17876596478050652, 0.03135063507814536, 0.16352038478314, 0.10283159906725617, 0.1810321829368466, 0.1844589382077101]}, {\"marker\": {\"color\": \"green\", \"size\": 10}, \"mode\": \"markers\", \"name\": \"Stima a 7 giorni\", \"type\": \"scatter\", \"x\": [0, 1, 2, 3, 4, 5, 6, 7, 8, 10], \"y\": [-0.027839457282612445, -0.08178079838013552, -0.07071713372543324, 0.019673103026000536, -0.013300176344470347, -0.1362305624685252, -0.0229842246465533, -0.10524548955423706, 0.03310666353215223, 0.008935594589408085]}, {\"marker\": {\"color\": \"blue\", \"size\": 10}, \"mode\": \"markers\", \"name\": \"Stima a 1 mese\", \"type\": \"scatter\", \"x\": [0, 1, 2, 3, 4, 5, 6, 7, 8, 10], \"y\": [0.10981096379800981, 0.049093002809117964, 0.03508804534248768, 0.10264035955142019, 0.12194554204815855, -0.015614838472118779, 0.10643504014248914, 0.03092300503339717, 0.12881265602679984, 0.12862250772367498]}, {\"marker\": {\"color\": \"magenta\", \"size\": 10}, \"mode\": \"markers\", \"name\": \"Stima a 4 mesi\", \"type\": \"scatter\", \"x\": [0, 1, 2, 3, 4, 5, 6, 7, 8, 10], \"y\": [0.10461329146901137, 0.04393871968292629, 0.026122802809864724, 0.07231580906011088, 0.13226909907234716, -0.017146672189915436, 0.10068291475913821, 0.02662039172596301, 0.10702385314729206, 0.13508875563588083]}],\n",
              "                        {\"template\": {\"data\": {\"bar\": [{\"error_x\": {\"color\": \"#2a3f5f\"}, \"error_y\": {\"color\": \"#2a3f5f\"}, \"marker\": {\"line\": {\"color\": \"#E5ECF6\", \"width\": 0.5}}, \"type\": \"bar\"}], \"barpolar\": [{\"marker\": {\"line\": {\"color\": \"#E5ECF6\", \"width\": 0.5}}, \"type\": \"barpolar\"}], \"carpet\": [{\"aaxis\": {\"endlinecolor\": \"#2a3f5f\", \"gridcolor\": \"white\", \"linecolor\": \"white\", \"minorgridcolor\": \"white\", \"startlinecolor\": \"#2a3f5f\"}, \"baxis\": {\"endlinecolor\": \"#2a3f5f\", \"gridcolor\": \"white\", \"linecolor\": \"white\", \"minorgridcolor\": \"white\", \"startlinecolor\": \"#2a3f5f\"}, \"type\": \"carpet\"}], \"choropleth\": [{\"colorbar\": {\"outlinewidth\": 0, \"ticks\": \"\"}, \"type\": \"choropleth\"}], \"contour\": [{\"colorbar\": {\"outlinewidth\": 0, \"ticks\": \"\"}, \"colorscale\": [[0.0, \"#0d0887\"], [0.1111111111111111, \"#46039f\"], [0.2222222222222222, \"#7201a8\"], [0.3333333333333333, \"#9c179e\"], [0.4444444444444444, \"#bd3786\"], [0.5555555555555556, \"#d8576b\"], [0.6666666666666666, \"#ed7953\"], [0.7777777777777778, \"#fb9f3a\"], [0.8888888888888888, \"#fdca26\"], [1.0, \"#f0f921\"]], \"type\": \"contour\"}], \"contourcarpet\": [{\"colorbar\": {\"outlinewidth\": 0, \"ticks\": \"\"}, \"type\": \"contourcarpet\"}], \"heatmap\": [{\"colorbar\": {\"outlinewidth\": 0, \"ticks\": \"\"}, \"colorscale\": [[0.0, \"#0d0887\"], [0.1111111111111111, \"#46039f\"], [0.2222222222222222, \"#7201a8\"], [0.3333333333333333, \"#9c179e\"], [0.4444444444444444, \"#bd3786\"], [0.5555555555555556, \"#d8576b\"], [0.6666666666666666, \"#ed7953\"], [0.7777777777777778, \"#fb9f3a\"], [0.8888888888888888, \"#fdca26\"], [1.0, \"#f0f921\"]], \"type\": \"heatmap\"}], \"heatmapgl\": [{\"colorbar\": {\"outlinewidth\": 0, \"ticks\": \"\"}, \"colorscale\": [[0.0, \"#0d0887\"], [0.1111111111111111, \"#46039f\"], [0.2222222222222222, \"#7201a8\"], [0.3333333333333333, \"#9c179e\"], [0.4444444444444444, \"#bd3786\"], [0.5555555555555556, \"#d8576b\"], [0.6666666666666666, \"#ed7953\"], [0.7777777777777778, \"#fb9f3a\"], [0.8888888888888888, \"#fdca26\"], [1.0, \"#f0f921\"]], \"type\": \"heatmapgl\"}], \"histogram\": [{\"marker\": {\"colorbar\": {\"outlinewidth\": 0, \"ticks\": \"\"}}, \"type\": \"histogram\"}], \"histogram2d\": [{\"colorbar\": {\"outlinewidth\": 0, \"ticks\": \"\"}, \"colorscale\": [[0.0, \"#0d0887\"], [0.1111111111111111, \"#46039f\"], [0.2222222222222222, \"#7201a8\"], [0.3333333333333333, \"#9c179e\"], [0.4444444444444444, \"#bd3786\"], [0.5555555555555556, \"#d8576b\"], [0.6666666666666666, \"#ed7953\"], [0.7777777777777778, \"#fb9f3a\"], [0.8888888888888888, \"#fdca26\"], [1.0, \"#f0f921\"]], \"type\": \"histogram2d\"}], \"histogram2dcontour\": [{\"colorbar\": {\"outlinewidth\": 0, \"ticks\": \"\"}, \"colorscale\": [[0.0, \"#0d0887\"], [0.1111111111111111, \"#46039f\"], [0.2222222222222222, \"#7201a8\"], [0.3333333333333333, \"#9c179e\"], [0.4444444444444444, \"#bd3786\"], [0.5555555555555556, \"#d8576b\"], [0.6666666666666666, \"#ed7953\"], [0.7777777777777778, \"#fb9f3a\"], [0.8888888888888888, \"#fdca26\"], [1.0, \"#f0f921\"]], \"type\": \"histogram2dcontour\"}], \"mesh3d\": [{\"colorbar\": {\"outlinewidth\": 0, \"ticks\": \"\"}, \"type\": \"mesh3d\"}], \"parcoords\": [{\"line\": {\"colorbar\": {\"outlinewidth\": 0, \"ticks\": \"\"}}, \"type\": \"parcoords\"}], \"pie\": [{\"automargin\": true, \"type\": \"pie\"}], \"scatter\": [{\"marker\": {\"colorbar\": {\"outlinewidth\": 0, \"ticks\": \"\"}}, \"type\": \"scatter\"}], \"scatter3d\": [{\"line\": {\"colorbar\": {\"outlinewidth\": 0, \"ticks\": \"\"}}, \"marker\": {\"colorbar\": {\"outlinewidth\": 0, \"ticks\": \"\"}}, \"type\": \"scatter3d\"}], \"scattercarpet\": [{\"marker\": {\"colorbar\": {\"outlinewidth\": 0, \"ticks\": \"\"}}, \"type\": \"scattercarpet\"}], \"scattergeo\": [{\"marker\": {\"colorbar\": {\"outlinewidth\": 0, \"ticks\": \"\"}}, \"type\": \"scattergeo\"}], \"scattergl\": [{\"marker\": {\"colorbar\": {\"outlinewidth\": 0, \"ticks\": \"\"}}, \"type\": \"scattergl\"}], \"scattermapbox\": [{\"marker\": {\"colorbar\": {\"outlinewidth\": 0, \"ticks\": \"\"}}, \"type\": \"scattermapbox\"}], \"scatterpolar\": [{\"marker\": {\"colorbar\": {\"outlinewidth\": 0, \"ticks\": \"\"}}, \"type\": \"scatterpolar\"}], \"scatterpolargl\": [{\"marker\": {\"colorbar\": {\"outlinewidth\": 0, \"ticks\": \"\"}}, \"type\": \"scatterpolargl\"}], \"scatterternary\": [{\"marker\": {\"colorbar\": {\"outlinewidth\": 0, \"ticks\": \"\"}}, \"type\": \"scatterternary\"}], \"surface\": [{\"colorbar\": {\"outlinewidth\": 0, \"ticks\": \"\"}, \"colorscale\": [[0.0, \"#0d0887\"], [0.1111111111111111, \"#46039f\"], [0.2222222222222222, \"#7201a8\"], [0.3333333333333333, \"#9c179e\"], [0.4444444444444444, \"#bd3786\"], [0.5555555555555556, \"#d8576b\"], [0.6666666666666666, \"#ed7953\"], [0.7777777777777778, \"#fb9f3a\"], [0.8888888888888888, \"#fdca26\"], [1.0, \"#f0f921\"]], \"type\": \"surface\"}], \"table\": [{\"cells\": {\"fill\": {\"color\": \"#EBF0F8\"}, \"line\": {\"color\": \"white\"}}, \"header\": {\"fill\": {\"color\": \"#C8D4E3\"}, \"line\": {\"color\": \"white\"}}, \"type\": \"table\"}]}, \"layout\": {\"annotationdefaults\": {\"arrowcolor\": \"#2a3f5f\", \"arrowhead\": 0, \"arrowwidth\": 1}, \"coloraxis\": {\"colorbar\": {\"outlinewidth\": 0, \"ticks\": \"\"}}, \"colorscale\": {\"diverging\": [[0, \"#8e0152\"], [0.1, \"#c51b7d\"], [0.2, \"#de77ae\"], [0.3, \"#f1b6da\"], [0.4, \"#fde0ef\"], [0.5, \"#f7f7f7\"], [0.6, \"#e6f5d0\"], [0.7, \"#b8e186\"], [0.8, \"#7fbc41\"], [0.9, \"#4d9221\"], [1, \"#276419\"]], \"sequential\": [[0.0, \"#0d0887\"], [0.1111111111111111, \"#46039f\"], [0.2222222222222222, \"#7201a8\"], [0.3333333333333333, \"#9c179e\"], [0.4444444444444444, \"#bd3786\"], [0.5555555555555556, \"#d8576b\"], [0.6666666666666666, \"#ed7953\"], [0.7777777777777778, \"#fb9f3a\"], [0.8888888888888888, \"#fdca26\"], [1.0, \"#f0f921\"]], \"sequentialminus\": [[0.0, \"#0d0887\"], [0.1111111111111111, \"#46039f\"], [0.2222222222222222, \"#7201a8\"], [0.3333333333333333, \"#9c179e\"], [0.4444444444444444, \"#bd3786\"], [0.5555555555555556, \"#d8576b\"], [0.6666666666666666, \"#ed7953\"], [0.7777777777777778, \"#fb9f3a\"], [0.8888888888888888, \"#fdca26\"], [1.0, \"#f0f921\"]]}, \"colorway\": [\"#636efa\", \"#EF553B\", \"#00cc96\", \"#ab63fa\", \"#FFA15A\", \"#19d3f3\", \"#FF6692\", \"#B6E880\", \"#FF97FF\", \"#FECB52\"], \"font\": {\"color\": \"#2a3f5f\"}, \"geo\": {\"bgcolor\": \"white\", \"lakecolor\": \"white\", \"landcolor\": \"#E5ECF6\", \"showlakes\": true, \"showland\": true, \"subunitcolor\": \"white\"}, \"hoverlabel\": {\"align\": \"left\"}, \"hovermode\": \"closest\", \"mapbox\": {\"style\": \"light\"}, \"paper_bgcolor\": \"white\", \"plot_bgcolor\": \"#E5ECF6\", \"polar\": {\"angularaxis\": {\"gridcolor\": \"white\", \"linecolor\": \"white\", \"ticks\": \"\"}, \"bgcolor\": \"#E5ECF6\", \"radialaxis\": {\"gridcolor\": \"white\", \"linecolor\": \"white\", \"ticks\": \"\"}}, \"scene\": {\"xaxis\": {\"backgroundcolor\": \"#E5ECF6\", \"gridcolor\": \"white\", \"gridwidth\": 2, \"linecolor\": \"white\", \"showbackground\": true, \"ticks\": \"\", \"zerolinecolor\": \"white\"}, \"yaxis\": {\"backgroundcolor\": \"#E5ECF6\", \"gridcolor\": \"white\", \"gridwidth\": 2, \"linecolor\": \"white\", \"showbackground\": true, \"ticks\": \"\", \"zerolinecolor\": \"white\"}, \"zaxis\": {\"backgroundcolor\": \"#E5ECF6\", \"gridcolor\": \"white\", \"gridwidth\": 2, \"linecolor\": \"white\", \"showbackground\": true, \"ticks\": \"\", \"zerolinecolor\": \"white\"}}, \"shapedefaults\": {\"line\": {\"color\": \"#2a3f5f\"}}, \"ternary\": {\"aaxis\": {\"gridcolor\": \"white\", \"linecolor\": \"white\", \"ticks\": \"\"}, \"baxis\": {\"gridcolor\": \"white\", \"linecolor\": \"white\", \"ticks\": \"\"}, \"bgcolor\": \"#E5ECF6\", \"caxis\": {\"gridcolor\": \"white\", \"linecolor\": \"white\", \"ticks\": \"\"}}, \"title\": {\"x\": 0.05}, \"xaxis\": {\"automargin\": true, \"gridcolor\": \"white\", \"linecolor\": \"white\", \"ticks\": \"\", \"title\": {\"standoff\": 15}, \"zerolinecolor\": \"white\", \"zerolinewidth\": 2}, \"yaxis\": {\"automargin\": true, \"gridcolor\": \"white\", \"linecolor\": \"white\", \"ticks\": \"\", \"title\": {\"standoff\": 15}, \"zerolinecolor\": \"white\", \"zerolinewidth\": 2}}}, \"xaxis\": {\"title\": {\"text\": \"Asset\"}, \"type\": \"category\", \"zeroline\": false}, \"yaxis\": {\"showgrid\": false, \"title\": {\"text\": \"Rendimento\"}}},\n",
              "                        {\"responsive\": true}\n",
              "                    ).then(function(){\n",
              "                            \n",
              "var gd = document.getElementById('fc9db72d-b181-4ac3-9980-cd16bdabbbb7');\n",
              "var x = new MutationObserver(function (mutations, observer) {{\n",
              "        var display = window.getComputedStyle(gd).display;\n",
              "        if (!display || display === 'none') {{\n",
              "            console.log([gd, 'removed!']);\n",
              "            Plotly.purge(gd);\n",
              "            observer.disconnect();\n",
              "        }}\n",
              "}});\n",
              "\n",
              "// Listen for the removal of the full notebook cells\n",
              "var notebookContainer = gd.closest('#notebook-container');\n",
              "if (notebookContainer) {{\n",
              "    x.observe(notebookContainer, {childList: true});\n",
              "}}\n",
              "\n",
              "// Listen for the clearing of the current output cell\n",
              "var outputEl = gd.closest('.output');\n",
              "if (outputEl) {{\n",
              "    x.observe(outputEl, {childList: true});\n",
              "}}\n",
              "\n",
              "                        })\n",
              "                };\n",
              "                \n",
              "            </script>\n",
              "        </div>\n",
              "</body>\n",
              "</html>"
            ]
          },
          "metadata": {
            "tags": []
          }
        }
      ]
    },
    {
      "cell_type": "markdown",
      "metadata": {
        "id": "xE22vYOghonA"
      },
      "source": [
        "E' interessante notare come la **stima a 7 giorni** restituisca dei **rendimenti** attesi quasi sempre **negativi**. \\\n",
        " Questo fatto dipende sicuramente dai particolari dati che sono stati generati, ma è sicuramente un evento realistico (basta immaginare una settimana di mercato ribassista)."
      ]
    },
    {
      "cell_type": "code",
      "metadata": {
        "colab": {
          "base_uri": "https://localhost:8080/"
        },
        "id": "xZcBRiZGvah-",
        "outputId": "8bd17bb6-5936-463e-8eab-55a61f0da88d"
      },
      "source": [
        "varcov_estimate7_data10 = np.cov(data10[:,-7:])\n",
        "varcov_estimate30_data10 = np.cov(data10[:,-30:])\n",
        "varcov_estimate120_data10 = np.cov(data10)\n",
        "\n",
        "print('La norma 1 della differenza tra la matrice reale e la stima a 7 giorni è ' + '{0:.3}'.format(np.linalg.norm(np.subtract(varcov10, varcov_estimate7_data10), ord=1)) + '.')\n",
        "print('La norma 1 della differenza tra la matrice reale e la stima a 1 mese è ' + '{0:.3}'.format(np.linalg.norm(np.subtract(varcov10, varcov_estimate30_data10), ord=1)) + '.')\n",
        "print('La norma 1 della differenza tra la matrice reale e la stima a 4 mesi è ' + '{0:.3}'.format(np.linalg.norm(np.subtract(varcov10, varcov_estimate120_data10), ord=1)) + '.')"
      ],
      "execution_count": null,
      "outputs": [
        {
          "output_type": "stream",
          "text": [
            "La norma 1 della differenza tra la matrice reale e la stima a 7 giorni è 0.795.\n",
            "La norma 1 della differenza tra la matrice reale e la stima a 1 mese è 0.259.\n",
            "La norma 1 della differenza tra la matrice reale e la stima a 4 mesi è 0.0381.\n"
          ],
          "name": "stdout"
        }
      ]
    },
    {
      "cell_type": "markdown",
      "metadata": {
        "id": "pkPa7iLVvugb"
      },
      "source": [
        "Valgono anche in questo caso le considerazioni precedenti. \\\n",
        "\n",
        "Prima di proseguire, poniamo l'attenzione su una considerazione importante. Abbiamo costruito la matrice di varianza-covarianza dei rendimenti reali facendo sì che essa fosse simmetrica definita positiva. \\\n",
        "\n",
        "Invece, nel caso della **matrice campionaria**, è garantita esclusivamente la proprietà di **simmetria** ( in virtù della definizione stessa di covarianza campionaria), mentre non c'è **nessuna garanzia che essa sia anche definita positiva**. \\\n",
        "\n",
        "Calcoliamo quindi gli autovalori di tutte le matrici stimate. \\\n",
        "Iniziamo con il portafoglio a due asset."
      ]
    },
    {
      "cell_type": "code",
      "metadata": {
        "colab": {
          "base_uri": "https://localhost:8080/"
        },
        "id": "FT-13Cp5mVQK",
        "outputId": "05476d8c-b686-4ae1-e37c-5aed058ddef2"
      },
      "source": [
        "print('Gli autovalori della matrice di varianza-covarianza reale sono',np.linalg.eig(varcov2)[0])\n",
        "print('Gli autovalori della matrice di varianza-covarianza stimata a una settimana sono',np.linalg.eig(varcov_estimate7_data2)[0])\n",
        "print('Gli autovalori della matrice di varianza-covarianza stimata a un mese sono',np.linalg.eig(varcov_estimate30_data2)[0])\n",
        "print('Gli autovalori della matrice di varianza-covarianza stimata a quattro mesi sono',np.linalg.eig(varcov_estimate120_data2)[0])"
      ],
      "execution_count": null,
      "outputs": [
        {
          "output_type": "stream",
          "text": [
            "Gli autovalori della matrice di varianza-covarianza reale sono [0.054  0.0085]\n",
            "Gli autovalori della matrice di varianza-covarianza stimata a una settimana sono [0.09575175 0.00676177]\n",
            "Gli autovalori della matrice di varianza-covarianza stimata a un mese sono [0.06944777 0.00640631]\n",
            "Gli autovalori della matrice di varianza-covarianza stimata a quattro mesi sono [0.05076898 0.00889556]\n"
          ],
          "name": "stdout"
        }
      ]
    },
    {
      "cell_type": "markdown",
      "metadata": {
        "id": "vwQLRKA3o5Gx"
      },
      "source": [
        "Passiamo adesso al portafoglio a 10 asset."
      ]
    },
    {
      "cell_type": "code",
      "metadata": {
        "colab": {
          "base_uri": "https://localhost:8080/"
        },
        "id": "AD2DS3YLo7_r",
        "outputId": "68ca984f-0d6c-4b83-bbf0-ca2ee68cb722"
      },
      "source": [
        "print('Gli autovalori della matrice di varianza-covarianza reale sono',np.linalg.eig(varcov10)[0])\n",
        "print('Gli autovalori della matrice di varianza-covarianza stimata a una settimana sono',np.linalg.eig(varcov_estimate7_data10)[0])\n",
        "print('Gli autovalori della matrice di varianza-covarianza stimata a un mese sono',np.linalg.eig(varcov_estimate30_data10)[0])\n",
        "print('Gli autovalori della matrice di varianza-covarianza stimata a quattro mesi sono',np.linalg.eig(varcov_estimate120_data10)[0])"
      ],
      "execution_count": null,
      "outputs": [
        {
          "output_type": "stream",
          "text": [
            "Gli autovalori della matrice di varianza-covarianza reale sono [9.16451982e-01 1.78697525e-02 1.48576107e-02 5.39603907e-05\n",
            " 4.07059287e-04 1.69473525e-03 3.81631781e-03 6.03821729e-03\n",
            " 1.05648633e-02 1.07254487e-02]\n",
            "Gli autovalori della matrice di varianza-covarianza stimata a una settimana sono [ 1.43951142e+00  2.72385938e-02  5.87887329e-03  9.63664036e-03\n",
            "  1.58351838e-03  1.82615428e-04  5.32547147e-18  3.31870195e-17\n",
            " -7.22323787e-19 -2.96827424e-17]\n",
            "Gli autovalori della matrice di varianza-covarianza stimata a un mese sono [7.23226101e-01 1.95267816e-02 1.12174335e-02 9.50931507e-03\n",
            " 4.40834574e-03 2.77157919e-03 2.27164741e-03 1.05960234e-03\n",
            " 4.73293906e-05 2.25975626e-04]\n",
            "Gli autovalori della matrice di varianza-covarianza stimata a quattro mesi sono [9.36399086e-01 1.81874279e-02 1.55360278e-02 1.09965464e-02\n",
            " 8.46016515e-03 5.60002641e-03 3.51828880e-03 1.39523120e-03\n",
            " 5.18896920e-05 3.06215767e-04]\n"
          ],
          "name": "stdout"
        }
      ]
    },
    {
      "cell_type": "markdown",
      "metadata": {
        "id": "zvXfse0BpUxQ"
      },
      "source": [
        "Osserviamo che nella **stima a una settimana** della matrice del portafoglio a 10 asset, **due autovalori** sono **negativi** ( inoltre altri quattro autovalori sono molti prossimi allo zero numerico). Quindi,  la matrice è **indefinita**. \\\n",
        "Questo è decisamente un **limite del modello**, che risulta in parte sbagliato, e inoltre può avere pesanti conseguenze nella risoluzione di problemi di **ottimizzazione**, in quanto, come è noto, in molti casi, l'ipotesi fondamentale è che la funzione obiettivo sia **convessa**. \\\n",
        "\n",
        "In un contesto reale sarebbe necessario trovare un modo per rendere la matrice definita positiva alterandone il meno possibile le entrate; noi ci limiteremo a osservarne alcune sue **conseguenze** (ne abbiamo un esempio lampante nella prossima sezione)."
      ]
    },
    {
      "cell_type": "markdown",
      "metadata": {
        "id": "zM-lz2pzjkSZ"
      },
      "source": [
        "## L'effetto dell'avversione al rischio\n",
        "Proviamo innanzitutto a trovare il portafoglio MV ottimo **massimizzando** il **rendimento** atteso e **minimizzando** la **varianza**. Come visto durante il corso, si può formulare tale problema di ottimizzazione multi-obiettivo introducendo un parametro $\\lambda$ di **avversione** al **rischio**:\n",
        "$$\n",
        "\\begin{align}\n",
        "\\max_w\\ &\\mu^Tw - \\frac{\\lambda}{2}w^T \\Sigma w\\\\\n",
        "s.t.\\ & i^Tw=1\n",
        "\\end{align}\n",
        "$$\n",
        "\n",
        "Osserviamo che tale formulazione **consente** **vendite** allo **scoperto**. Vedremo l'impatto che ha tale assunzione successivamente. \\\n",
        "Implementiamo una funzione per risolvere questo problema di ottimizzazione come visto durante il corso, in modo da poterla riutilizzare sia per la soluzione teorica, sia per le diverse approssimazioni dei parametri. \\\n",
        " Utilizziamo tre diversi valori per $\\lambda$: 0.1, 1, 10."
      ]
    },
    {
      "cell_type": "code",
      "metadata": {
        "id": "ByT97w-lmogG"
      },
      "source": [
        "def risk_aversion_optimize(mu, Sigma, risk_aversion):\n",
        "  i = np.ones(shape=mu.shape)\n",
        "  invSigmaI = np.linalg.solve(Sigma, i) # Sigma^-1 * i\n",
        "  invSigmaMu = np.linalg.solve(Sigma, mu) # Sigma^-1 * mu\n",
        "  iInvSigmaI = np.dot(i,invSigmaI) # i^T * Sigma^-1 * i\n",
        "  w_opt = invSigmaI/(iInvSigmaI) + (iInvSigmaI*invSigmaMu-np.dot(i,invSigmaMu)*invSigmaI)/(risk_aversion*iInvSigmaI)\n",
        "  mu_opt = np.dot(mu,w_opt)\n",
        "  sigma2_opt = np.dot(w_opt, Sigma.dot(w_opt))\n",
        "\n",
        "  return w_opt, mu_opt, sigma2_opt"
      ],
      "execution_count": null,
      "outputs": []
    },
    {
      "cell_type": "code",
      "metadata": {
        "id": "4h42NyjUp_oW"
      },
      "source": [
        "def risk_aversion_analyze(mu, varcov):\n",
        "  n = mu.shape[0]\n",
        "  risk_range = 10**np.linspace(-1,1,num=3)\n",
        "  w_opt_list = []\n",
        "  mu_list = []\n",
        "  sigma2_list = []\n",
        "\n",
        "  for risk_aversion in risk_range:\n",
        "    w_opt, mu_opt, sigma2_opt = risk_aversion_optimize(mu, varcov, risk_aversion)\n",
        "\n",
        "    output = 'Avversione al rischio : ' + str(risk_aversion) + '\\n'\n",
        "\n",
        "    for i in range(n):\n",
        "      output += '\\t\\tAsset ' + str(i) + ': ' + '{0:.2f}'.format(w_opt[i]) + '\\n'\n",
        "\n",
        "    output += '\\t\\tRendimento atteso: ' + '{0:.2f}'.format(mu_opt) + ' -- Varianza: ' + '{0:.2f}'.format(sigma2_opt) + '.'\n",
        "    print(output)\n",
        "\n",
        "    w_opt_list.append(w_opt)\n",
        "    mu_list.append(mu_opt)\n",
        "    sigma2_list.append(sigma2_opt)\n",
        "  return w_opt_list"
      ],
      "execution_count": null,
      "outputs": []
    },
    {
      "cell_type": "markdown",
      "metadata": {
        "id": "6llitLyy6ApT"
      },
      "source": [
        "Iniziamo con il portafoglio a due asset e calcoliamo la **soluzione esatta,** cioè quella ottenuta utilizzando i valori reali dei rendimenti attesi e della matrice di varianza covarianza."
      ]
    },
    {
      "cell_type": "code",
      "metadata": {
        "colab": {
          "base_uri": "https://localhost:8080/"
        },
        "id": "nn1F-6aQyOJt",
        "outputId": "7dd02f28-9099-41e6-cbb6-dc18a15c2af0"
      },
      "source": [
        "# soluzione con dati reali\n",
        "real_w_opt2 = risk_aversion_analyze(mu2, varcov2)"
      ],
      "execution_count": null,
      "outputs": [
        {
          "output_type": "stream",
          "text": [
            "Avversione al rischio : 0.1\n",
            "\t\tAsset 0: 9.83\n",
            "\t\tAsset 1: -8.83\n",
            "\t\tRendimento atteso: 0.25 -- Varianza: 1.97.\n",
            "Avversione al rischio : 1.0\n",
            "\t\tAsset 0: 1.05\n",
            "\t\tAsset 1: -0.05\n",
            "\t\tRendimento atteso: 0.07 -- Varianza: 0.04.\n",
            "Avversione al rischio : 10.0\n",
            "\t\tAsset 0: 0.17\n",
            "\t\tAsset 1: 0.83\n",
            "\t\tRendimento atteso: 0.05 -- Varianza: 0.02.\n"
          ],
          "name": "stdout"
        }
      ]
    },
    {
      "cell_type": "markdown",
      "metadata": {
        "id": "XfEVBhIx7MA1"
      },
      "source": [
        "Proviamo adesso ad utilizzare i valori che abbiamo stimato su **orizzonti temporali sempre più ampi**."
      ]
    },
    {
      "cell_type": "code",
      "metadata": {
        "colab": {
          "base_uri": "https://localhost:8080/"
        },
        "id": "mOpUhOoH3umt",
        "outputId": "71fc599d-b615-42db-cfd3-0fc9e8b8e367"
      },
      "source": [
        "#stima a 1 settimana\n",
        "week_w_opt2 = risk_aversion_analyze(mu_estimate7_data2, varcov_estimate7_data2)"
      ],
      "execution_count": null,
      "outputs": [
        {
          "output_type": "stream",
          "text": [
            "Avversione al rischio : 0.1\n",
            "\t\tAsset 0: 49.14\n",
            "\t\tAsset 1: -48.14\n",
            "\t\tRendimento atteso: 4.84 -- Varianza: 48.27.\n",
            "Avversione al rischio : 1.0\n",
            "\t\tAsset 0: 4.62\n",
            "\t\tAsset 1: -3.62\n",
            "\t\tRendimento atteso: 0.49 -- Varianza: 0.52.\n",
            "Avversione al rischio : 10.0\n",
            "\t\tAsset 0: 0.17\n",
            "\t\tAsset 1: 0.83\n",
            "\t\tRendimento atteso: 0.06 -- Varianza: 0.04.\n"
          ],
          "name": "stdout"
        }
      ]
    },
    {
      "cell_type": "code",
      "metadata": {
        "colab": {
          "base_uri": "https://localhost:8080/"
        },
        "id": "ZOjeH6cF3zTK",
        "outputId": "a4f13282-ef1c-4381-ecc4-046c1daa7dbd"
      },
      "source": [
        "#stima a 1 mese\n",
        "month_w_opt2 = risk_aversion_analyze(mu_estimate30_data2, varcov_estimate30_data2)"
      ],
      "execution_count": null,
      "outputs": [
        {
          "output_type": "stream",
          "text": [
            "Avversione al rischio : 0.1\n",
            "\t\tAsset 0: 20.00\n",
            "\t\tAsset 1: -19.00\n",
            "\t\tRendimento atteso: 0.83 -- Varianza: 7.75.\n",
            "Avversione al rischio : 1.0\n",
            "\t\tAsset 0: 1.81\n",
            "\t\tAsset 1: -0.81\n",
            "\t\tRendimento atteso: 0.14 -- Varianza: 0.10.\n",
            "Avversione al rischio : 10.0\n",
            "\t\tAsset 0: -0.01\n",
            "\t\tAsset 1: 1.01\n",
            "\t\tRendimento atteso: 0.07 -- Varianza: 0.02.\n"
          ],
          "name": "stdout"
        }
      ]
    },
    {
      "cell_type": "code",
      "metadata": {
        "colab": {
          "base_uri": "https://localhost:8080/"
        },
        "id": "Aa4e4CTq6-xC",
        "outputId": "4bef5490-0633-4906-c4da-9aa53eb38b4d"
      },
      "source": [
        "#stima a 4 mesi\n",
        "quarter_w_opt2 = risk_aversion_analyze(mu_estimate120_data2, varcov_estimate120_data2)"
      ],
      "execution_count": null,
      "outputs": [
        {
          "output_type": "stream",
          "text": [
            "Avversione al rischio : 0.1\n",
            "\t\tAsset 0: 13.03\n",
            "\t\tAsset 1: -12.03\n",
            "\t\tRendimento atteso: 0.39 -- Varianza: 3.41.\n",
            "Avversione al rischio : 1.0\n",
            "\t\tAsset 0: 1.43\n",
            "\t\tAsset 1: -0.43\n",
            "\t\tRendimento atteso: 0.09 -- Varianza: 0.06.\n",
            "Avversione al rischio : 10.0\n",
            "\t\tAsset 0: 0.27\n",
            "\t\tAsset 1: 0.73\n",
            "\t\tRendimento atteso: 0.06 -- Varianza: 0.02.\n"
          ],
          "name": "stdout"
        }
      ]
    },
    {
      "cell_type": "markdown",
      "metadata": {
        "id": "fKoxdEaGJlZc"
      },
      "source": [
        "Plottiamo quindi i portafogli ottenuti."
      ]
    },
    {
      "cell_type": "code",
      "metadata": {
        "colab": {
          "base_uri": "https://localhost:8080/",
          "height": 542
        },
        "id": "C2_4xvkOv2lR",
        "outputId": "ef4ef1d0-e82a-4594-857b-dce73bc99176"
      },
      "source": [
        "fig = make_subplots(rows=1, cols=3, horizontal_spacing=0.04, subplot_titles=['$\\lambda=0.1$','$\\lambda=1$','$\\lambda=10$'])\n",
        "\n",
        "for i in range(3):\n",
        "  fig.add_trace(go.Scatter(x=[real_w_opt2[i][0]], y=[real_w_opt2[i][1]], marker=dict(color='red', size=25), name='Dato reale', showlegend=i==0, legendgroup=1), row=1, col=i+1)\n",
        "  fig.add_trace(go.Scatter(x=[week_w_opt2[i][0]], y=[week_w_opt2[i][1]], marker=dict(color='green', size=15), name='Stima a 7 giorni', showlegend=i==0, legendgroup=2), row=1, col=i+1)\n",
        "  fig.add_trace(go.Scatter(x=[month_w_opt2[i][0]], y=[month_w_opt2[i][1]], marker=dict(color='blue', size=15), name='Stima a 1 mese', showlegend=i==0, legendgroup=3), row=1, col=i+1)\n",
        "  fig.add_trace(go.Scatter(x=[quarter_w_opt2[i][0]], y=[quarter_w_opt2[i][1]], marker=dict(color='magenta', size=15), name='Stima a 4 mesi', showlegend=i==0, legendgroup=4), row=1, col=i+1)\n",
        "  fig.layout.annotations[i].update(y=1.03)\n",
        "\n",
        "fig.update_xaxes(title='$w_0$', row=1)\n",
        "fig.update_yaxes(scaleanchor = \"x\", scaleratio = 1, title='$w_1$', row=1, col=1)\n",
        "fig.update_yaxes(scaleanchor = \"x\", scaleratio = 1)\n",
        "fig.show()"
      ],
      "execution_count": null,
      "outputs": [
        {
          "output_type": "display_data",
          "data": {
            "text/html": [
              "<html>\n",
              "<head><meta charset=\"utf-8\" /></head>\n",
              "<body>\n",
              "    <div>\n",
              "            <script src=\"https://cdnjs.cloudflare.com/ajax/libs/mathjax/2.7.5/MathJax.js?config=TeX-AMS-MML_SVG\"></script><script type=\"text/javascript\">if (window.MathJax) {MathJax.Hub.Config({SVG: {font: \"STIX-Web\"}});}</script>\n",
              "                <script type=\"text/javascript\">window.PlotlyConfig = {MathJaxConfig: 'local'};</script>\n",
              "        <script src=\"https://cdn.plot.ly/plotly-latest.min.js\"></script>    \n",
              "            <div id=\"f3598986-cb47-478e-bda4-0fd6a9f0c502\" class=\"plotly-graph-div\" style=\"height:525px; width:100%;\"></div>\n",
              "            <script type=\"text/javascript\">\n",
              "                \n",
              "                    window.PLOTLYENV=window.PLOTLYENV || {};\n",
              "                    \n",
              "                if (document.getElementById(\"f3598986-cb47-478e-bda4-0fd6a9f0c502\")) {\n",
              "                    Plotly.newPlot(\n",
              "                        'f3598986-cb47-478e-bda4-0fd6a9f0c502',\n",
              "                        [{\"legendgroup\": \"1\", \"marker\": {\"color\": \"red\", \"size\": 25}, \"name\": \"Dato reale\", \"showlegend\": true, \"type\": \"scatter\", \"x\": [9.829268292682926], \"xaxis\": \"x\", \"y\": [-8.829268292682926], \"yaxis\": \"y\"}, {\"legendgroup\": \"2\", \"marker\": {\"color\": \"green\", \"size\": 15}, \"name\": \"Stima a 7 giorni\", \"showlegend\": true, \"type\": \"scatter\", \"x\": [49.13981607906049], \"xaxis\": \"x\", \"y\": [-48.1398160790605], \"yaxis\": \"y\"}, {\"legendgroup\": \"3\", \"marker\": {\"color\": \"blue\", \"size\": 15}, \"name\": \"Stima a 1 mese\", \"showlegend\": true, \"type\": \"scatter\", \"x\": [20.00249052728841], \"xaxis\": \"x\", \"y\": [-19.002490527288412], \"yaxis\": \"y\"}, {\"legendgroup\": \"4\", \"marker\": {\"color\": \"magenta\", \"size\": 15}, \"name\": \"Stima a 4 mesi\", \"showlegend\": true, \"type\": \"scatter\", \"x\": [13.031302633123198], \"xaxis\": \"x\", \"y\": [-12.0313026331232], \"yaxis\": \"y\"}, {\"legendgroup\": \"1\", \"marker\": {\"color\": \"red\", \"size\": 25}, \"name\": \"Dato reale\", \"showlegend\": false, \"type\": \"scatter\", \"x\": [1.048780487804878], \"xaxis\": \"x2\", \"y\": [-0.04878048780487798], \"yaxis\": \"y2\"}, {\"legendgroup\": \"2\", \"marker\": {\"color\": \"green\", \"size\": 15}, \"name\": \"Stima a 7 giorni\", \"showlegend\": false, \"type\": \"scatter\", \"x\": [4.619605257299991], \"xaxis\": \"x2\", \"y\": [-3.6196052572999915], \"yaxis\": \"y2\"}, {\"legendgroup\": \"3\", \"marker\": {\"color\": \"blue\", \"size\": 15}, \"name\": \"Stima a 1 mese\", \"showlegend\": false, \"type\": \"scatter\", \"x\": [1.8068591453382818], \"xaxis\": \"x2\", \"y\": [-0.8068591453382823], \"yaxis\": \"y2\"}, {\"legendgroup\": \"4\", \"marker\": {\"color\": \"magenta\", \"size\": 15}, \"name\": \"Stima a 4 mesi\", \"showlegend\": false, \"type\": \"scatter\", \"x\": [1.4327943508483254], \"xaxis\": \"x2\", \"y\": [-0.4327943508483255], \"yaxis\": \"y2\"}, {\"legendgroup\": \"1\", \"marker\": {\"color\": \"red\", \"size\": 25}, \"name\": \"Dato reale\", \"showlegend\": false, \"type\": \"scatter\", \"x\": [0.1707317073170732], \"xaxis\": \"x3\", \"y\": [0.8292682926829268], \"yaxis\": \"y3\"}, {\"legendgroup\": \"2\", \"marker\": {\"color\": \"green\", \"size\": 15}, \"name\": \"Stima a 7 giorni\", \"showlegend\": false, \"type\": \"scatter\", \"x\": [0.16758417512394047], \"xaxis\": \"x3\", \"y\": [0.8324158248760594], \"yaxis\": \"y3\"}, {\"legendgroup\": \"3\", \"marker\": {\"color\": \"blue\", \"size\": 15}, \"name\": \"Stima a 1 mese\", \"showlegend\": false, \"type\": \"scatter\", \"x\": [-0.0127039928567306], \"xaxis\": \"x3\", \"y\": [1.0127039928567307], \"yaxis\": \"y3\"}, {\"legendgroup\": \"4\", \"marker\": {\"color\": \"magenta\", \"size\": 15}, \"name\": \"Stima a 4 mesi\", \"showlegend\": false, \"type\": \"scatter\", \"x\": [0.2729435226208381], \"xaxis\": \"x3\", \"y\": [0.727056477379162], \"yaxis\": \"y3\"}],\n",
              "                        {\"annotations\": [{\"font\": {\"size\": 16}, \"showarrow\": false, \"text\": \"$\\\\lambda=0.1$\", \"x\": 0.15333333333333335, \"xanchor\": \"center\", \"xref\": \"paper\", \"y\": 1.03, \"yanchor\": \"bottom\", \"yref\": \"paper\"}, {\"font\": {\"size\": 16}, \"showarrow\": false, \"text\": \"$\\\\lambda=1$\", \"x\": 0.5, \"xanchor\": \"center\", \"xref\": \"paper\", \"y\": 1.03, \"yanchor\": \"bottom\", \"yref\": \"paper\"}, {\"font\": {\"size\": 16}, \"showarrow\": false, \"text\": \"$\\\\lambda=10$\", \"x\": 0.8466666666666667, \"xanchor\": \"center\", \"xref\": \"paper\", \"y\": 1.03, \"yanchor\": \"bottom\", \"yref\": \"paper\"}], \"template\": {\"data\": {\"bar\": [{\"error_x\": {\"color\": \"#2a3f5f\"}, \"error_y\": {\"color\": \"#2a3f5f\"}, \"marker\": {\"line\": {\"color\": \"#E5ECF6\", \"width\": 0.5}}, \"type\": \"bar\"}], \"barpolar\": [{\"marker\": {\"line\": {\"color\": \"#E5ECF6\", \"width\": 0.5}}, \"type\": \"barpolar\"}], \"carpet\": [{\"aaxis\": {\"endlinecolor\": \"#2a3f5f\", \"gridcolor\": \"white\", \"linecolor\": \"white\", \"minorgridcolor\": \"white\", \"startlinecolor\": \"#2a3f5f\"}, \"baxis\": {\"endlinecolor\": \"#2a3f5f\", \"gridcolor\": \"white\", \"linecolor\": \"white\", \"minorgridcolor\": \"white\", \"startlinecolor\": \"#2a3f5f\"}, \"type\": \"carpet\"}], \"choropleth\": [{\"colorbar\": {\"outlinewidth\": 0, \"ticks\": \"\"}, \"type\": \"choropleth\"}], \"contour\": [{\"colorbar\": {\"outlinewidth\": 0, \"ticks\": \"\"}, \"colorscale\": [[0.0, \"#0d0887\"], [0.1111111111111111, \"#46039f\"], [0.2222222222222222, \"#7201a8\"], [0.3333333333333333, \"#9c179e\"], [0.4444444444444444, \"#bd3786\"], [0.5555555555555556, \"#d8576b\"], [0.6666666666666666, \"#ed7953\"], [0.7777777777777778, \"#fb9f3a\"], [0.8888888888888888, \"#fdca26\"], [1.0, \"#f0f921\"]], \"type\": \"contour\"}], \"contourcarpet\": [{\"colorbar\": {\"outlinewidth\": 0, \"ticks\": \"\"}, \"type\": \"contourcarpet\"}], \"heatmap\": [{\"colorbar\": {\"outlinewidth\": 0, \"ticks\": \"\"}, \"colorscale\": [[0.0, \"#0d0887\"], [0.1111111111111111, \"#46039f\"], [0.2222222222222222, \"#7201a8\"], [0.3333333333333333, \"#9c179e\"], [0.4444444444444444, \"#bd3786\"], [0.5555555555555556, \"#d8576b\"], [0.6666666666666666, \"#ed7953\"], [0.7777777777777778, \"#fb9f3a\"], [0.8888888888888888, \"#fdca26\"], [1.0, \"#f0f921\"]], \"type\": \"heatmap\"}], \"heatmapgl\": [{\"colorbar\": {\"outlinewidth\": 0, \"ticks\": \"\"}, \"colorscale\": [[0.0, \"#0d0887\"], [0.1111111111111111, \"#46039f\"], [0.2222222222222222, \"#7201a8\"], [0.3333333333333333, \"#9c179e\"], [0.4444444444444444, \"#bd3786\"], [0.5555555555555556, \"#d8576b\"], [0.6666666666666666, \"#ed7953\"], [0.7777777777777778, \"#fb9f3a\"], [0.8888888888888888, \"#fdca26\"], [1.0, \"#f0f921\"]], \"type\": \"heatmapgl\"}], \"histogram\": [{\"marker\": {\"colorbar\": {\"outlinewidth\": 0, \"ticks\": \"\"}}, \"type\": \"histogram\"}], \"histogram2d\": [{\"colorbar\": {\"outlinewidth\": 0, \"ticks\": \"\"}, \"colorscale\": [[0.0, \"#0d0887\"], [0.1111111111111111, \"#46039f\"], [0.2222222222222222, \"#7201a8\"], [0.3333333333333333, \"#9c179e\"], [0.4444444444444444, \"#bd3786\"], [0.5555555555555556, \"#d8576b\"], [0.6666666666666666, \"#ed7953\"], [0.7777777777777778, \"#fb9f3a\"], [0.8888888888888888, \"#fdca26\"], [1.0, \"#f0f921\"]], \"type\": \"histogram2d\"}], \"histogram2dcontour\": [{\"colorbar\": {\"outlinewidth\": 0, \"ticks\": \"\"}, \"colorscale\": [[0.0, \"#0d0887\"], [0.1111111111111111, \"#46039f\"], [0.2222222222222222, \"#7201a8\"], [0.3333333333333333, \"#9c179e\"], [0.4444444444444444, \"#bd3786\"], [0.5555555555555556, \"#d8576b\"], [0.6666666666666666, \"#ed7953\"], [0.7777777777777778, \"#fb9f3a\"], [0.8888888888888888, \"#fdca26\"], [1.0, \"#f0f921\"]], \"type\": \"histogram2dcontour\"}], \"mesh3d\": [{\"colorbar\": {\"outlinewidth\": 0, \"ticks\": \"\"}, \"type\": \"mesh3d\"}], \"parcoords\": [{\"line\": {\"colorbar\": {\"outlinewidth\": 0, \"ticks\": \"\"}}, \"type\": \"parcoords\"}], \"pie\": [{\"automargin\": true, \"type\": \"pie\"}], \"scatter\": [{\"marker\": {\"colorbar\": {\"outlinewidth\": 0, \"ticks\": \"\"}}, \"type\": \"scatter\"}], \"scatter3d\": [{\"line\": {\"colorbar\": {\"outlinewidth\": 0, \"ticks\": \"\"}}, \"marker\": {\"colorbar\": {\"outlinewidth\": 0, \"ticks\": \"\"}}, \"type\": \"scatter3d\"}], \"scattercarpet\": [{\"marker\": {\"colorbar\": {\"outlinewidth\": 0, \"ticks\": \"\"}}, \"type\": \"scattercarpet\"}], \"scattergeo\": [{\"marker\": {\"colorbar\": {\"outlinewidth\": 0, \"ticks\": \"\"}}, \"type\": \"scattergeo\"}], \"scattergl\": [{\"marker\": {\"colorbar\": {\"outlinewidth\": 0, \"ticks\": \"\"}}, \"type\": \"scattergl\"}], \"scattermapbox\": [{\"marker\": {\"colorbar\": {\"outlinewidth\": 0, \"ticks\": \"\"}}, \"type\": \"scattermapbox\"}], \"scatterpolar\": [{\"marker\": {\"colorbar\": {\"outlinewidth\": 0, \"ticks\": \"\"}}, \"type\": \"scatterpolar\"}], \"scatterpolargl\": [{\"marker\": {\"colorbar\": {\"outlinewidth\": 0, \"ticks\": \"\"}}, \"type\": \"scatterpolargl\"}], \"scatterternary\": [{\"marker\": {\"colorbar\": {\"outlinewidth\": 0, \"ticks\": \"\"}}, \"type\": \"scatterternary\"}], \"surface\": [{\"colorbar\": {\"outlinewidth\": 0, \"ticks\": \"\"}, \"colorscale\": [[0.0, \"#0d0887\"], [0.1111111111111111, \"#46039f\"], [0.2222222222222222, \"#7201a8\"], [0.3333333333333333, \"#9c179e\"], [0.4444444444444444, \"#bd3786\"], [0.5555555555555556, \"#d8576b\"], [0.6666666666666666, \"#ed7953\"], [0.7777777777777778, \"#fb9f3a\"], [0.8888888888888888, \"#fdca26\"], [1.0, \"#f0f921\"]], \"type\": \"surface\"}], \"table\": [{\"cells\": {\"fill\": {\"color\": \"#EBF0F8\"}, \"line\": {\"color\": \"white\"}}, \"header\": {\"fill\": {\"color\": \"#C8D4E3\"}, \"line\": {\"color\": \"white\"}}, \"type\": \"table\"}]}, \"layout\": {\"annotationdefaults\": {\"arrowcolor\": \"#2a3f5f\", \"arrowhead\": 0, \"arrowwidth\": 1}, \"coloraxis\": {\"colorbar\": {\"outlinewidth\": 0, \"ticks\": \"\"}}, \"colorscale\": {\"diverging\": [[0, \"#8e0152\"], [0.1, \"#c51b7d\"], [0.2, \"#de77ae\"], [0.3, \"#f1b6da\"], [0.4, \"#fde0ef\"], [0.5, \"#f7f7f7\"], [0.6, \"#e6f5d0\"], [0.7, \"#b8e186\"], [0.8, \"#7fbc41\"], [0.9, \"#4d9221\"], [1, \"#276419\"]], \"sequential\": [[0.0, \"#0d0887\"], [0.1111111111111111, \"#46039f\"], [0.2222222222222222, \"#7201a8\"], [0.3333333333333333, \"#9c179e\"], [0.4444444444444444, \"#bd3786\"], [0.5555555555555556, \"#d8576b\"], [0.6666666666666666, \"#ed7953\"], [0.7777777777777778, \"#fb9f3a\"], [0.8888888888888888, \"#fdca26\"], [1.0, \"#f0f921\"]], \"sequentialminus\": [[0.0, \"#0d0887\"], [0.1111111111111111, \"#46039f\"], [0.2222222222222222, \"#7201a8\"], [0.3333333333333333, \"#9c179e\"], [0.4444444444444444, \"#bd3786\"], [0.5555555555555556, \"#d8576b\"], [0.6666666666666666, \"#ed7953\"], [0.7777777777777778, \"#fb9f3a\"], [0.8888888888888888, \"#fdca26\"], [1.0, \"#f0f921\"]]}, \"colorway\": [\"#636efa\", \"#EF553B\", \"#00cc96\", \"#ab63fa\", \"#FFA15A\", \"#19d3f3\", \"#FF6692\", \"#B6E880\", \"#FF97FF\", \"#FECB52\"], \"font\": {\"color\": \"#2a3f5f\"}, \"geo\": {\"bgcolor\": \"white\", \"lakecolor\": \"white\", \"landcolor\": \"#E5ECF6\", \"showlakes\": true, \"showland\": true, \"subunitcolor\": \"white\"}, \"hoverlabel\": {\"align\": \"left\"}, \"hovermode\": \"closest\", \"mapbox\": {\"style\": \"light\"}, \"paper_bgcolor\": \"white\", \"plot_bgcolor\": \"#E5ECF6\", \"polar\": {\"angularaxis\": {\"gridcolor\": \"white\", \"linecolor\": \"white\", \"ticks\": \"\"}, \"bgcolor\": \"#E5ECF6\", \"radialaxis\": {\"gridcolor\": \"white\", \"linecolor\": \"white\", \"ticks\": \"\"}}, \"scene\": {\"xaxis\": {\"backgroundcolor\": \"#E5ECF6\", \"gridcolor\": \"white\", \"gridwidth\": 2, \"linecolor\": \"white\", \"showbackground\": true, \"ticks\": \"\", \"zerolinecolor\": \"white\"}, \"yaxis\": {\"backgroundcolor\": \"#E5ECF6\", \"gridcolor\": \"white\", \"gridwidth\": 2, \"linecolor\": \"white\", \"showbackground\": true, \"ticks\": \"\", \"zerolinecolor\": \"white\"}, \"zaxis\": {\"backgroundcolor\": \"#E5ECF6\", \"gridcolor\": \"white\", \"gridwidth\": 2, \"linecolor\": \"white\", \"showbackground\": true, \"ticks\": \"\", \"zerolinecolor\": \"white\"}}, \"shapedefaults\": {\"line\": {\"color\": \"#2a3f5f\"}}, \"ternary\": {\"aaxis\": {\"gridcolor\": \"white\", \"linecolor\": \"white\", \"ticks\": \"\"}, \"baxis\": {\"gridcolor\": \"white\", \"linecolor\": \"white\", \"ticks\": \"\"}, \"bgcolor\": \"#E5ECF6\", \"caxis\": {\"gridcolor\": \"white\", \"linecolor\": \"white\", \"ticks\": \"\"}}, \"title\": {\"x\": 0.05}, \"xaxis\": {\"automargin\": true, \"gridcolor\": \"white\", \"linecolor\": \"white\", \"ticks\": \"\", \"title\": {\"standoff\": 15}, \"zerolinecolor\": \"white\", \"zerolinewidth\": 2}, \"yaxis\": {\"automargin\": true, \"gridcolor\": \"white\", \"linecolor\": \"white\", \"ticks\": \"\", \"title\": {\"standoff\": 15}, \"zerolinecolor\": \"white\", \"zerolinewidth\": 2}}}, \"xaxis\": {\"anchor\": \"y\", \"domain\": [0.0, 0.3066666666666667], \"title\": {\"text\": \"$w_0$\"}}, \"xaxis2\": {\"anchor\": \"y2\", \"domain\": [0.3466666666666667, 0.6533333333333333], \"title\": {\"text\": \"$w_0$\"}}, \"xaxis3\": {\"anchor\": \"y3\", \"domain\": [0.6933333333333334, 1.0], \"title\": {\"text\": \"$w_0$\"}}, \"yaxis\": {\"anchor\": \"x\", \"domain\": [0.0, 1.0], \"scaleanchor\": \"x\", \"scaleratio\": 1, \"title\": {\"text\": \"$w_1$\"}}, \"yaxis2\": {\"anchor\": \"x2\", \"domain\": [0.0, 1.0], \"scaleanchor\": \"x\", \"scaleratio\": 1}, \"yaxis3\": {\"anchor\": \"x3\", \"domain\": [0.0, 1.0], \"scaleanchor\": \"x\", \"scaleratio\": 1}},\n",
              "                        {\"responsive\": true}\n",
              "                    ).then(function(){\n",
              "                            \n",
              "var gd = document.getElementById('f3598986-cb47-478e-bda4-0fd6a9f0c502');\n",
              "var x = new MutationObserver(function (mutations, observer) {{\n",
              "        var display = window.getComputedStyle(gd).display;\n",
              "        if (!display || display === 'none') {{\n",
              "            console.log([gd, 'removed!']);\n",
              "            Plotly.purge(gd);\n",
              "            observer.disconnect();\n",
              "        }}\n",
              "}});\n",
              "\n",
              "// Listen for the removal of the full notebook cells\n",
              "var notebookContainer = gd.closest('#notebook-container');\n",
              "if (notebookContainer) {{\n",
              "    x.observe(notebookContainer, {childList: true});\n",
              "}}\n",
              "\n",
              "// Listen for the clearing of the current output cell\n",
              "var outputEl = gd.closest('.output');\n",
              "if (outputEl) {{\n",
              "    x.observe(outputEl, {childList: true});\n",
              "}}\n",
              "\n",
              "                        })\n",
              "                };\n",
              "                \n",
              "            </script>\n",
              "        </div>\n",
              "</body>\n",
              "</html>"
            ]
          },
          "metadata": {
            "tags": []
          }
        }
      ]
    },
    {
      "cell_type": "markdown",
      "metadata": {
        "id": "bKRrJzH3Aqa3"
      },
      "source": [
        "Possiamo osservare innanzitutto che, utilizzando valori più **alti** di coefficienti di **avversione** al **rischio**, si tendono ad **evitare** sempre più le **vendite allo scoperto**. \\\n",
        "Inoltre, come è lecito aspettarsi ancora una volta, **maggiori quantità di dati** utilizzati per le stime comportano una **migliore approssimazione del portafoglio ottimo**."
      ]
    },
    {
      "cell_type": "markdown",
      "metadata": {
        "id": "jzNHD1o973lx"
      },
      "source": [
        "Passiamo adesso al portafoglio con 10 asset."
      ]
    },
    {
      "cell_type": "code",
      "metadata": {
        "colab": {
          "base_uri": "https://localhost:8080/"
        },
        "id": "_IXvKE0c79AU",
        "outputId": "dcafc55e-e0c1-4738-cd13-1076061aaf63"
      },
      "source": [
        "#soluzione reale\n",
        "real_w_opt10 = risk_aversion_analyze(mu10, varcov10)"
      ],
      "execution_count": null,
      "outputs": [
        {
          "output_type": "stream",
          "text": [
            "Avversione al rischio : 0.1\n",
            "\t\tAsset 0: -134.06\n",
            "\t\tAsset 1: 70.80\n",
            "\t\tAsset 2: -492.29\n",
            "\t\tAsset 3: 289.80\n",
            "\t\tAsset 4: 456.24\n",
            "\t\tAsset 5: -529.13\n",
            "\t\tAsset 6: -200.32\n",
            "\t\tAsset 7: 29.23\n",
            "\t\tAsset 8: 154.40\n",
            "\t\tAsset 9: 356.32\n",
            "\t\tRendimento atteso: 106.75 -- Varianza: 1062.54.\n",
            "Avversione al rischio : 1.0\n",
            "\t\tAsset 0: -13.43\n",
            "\t\tAsset 1: 5.80\n",
            "\t\tAsset 2: -48.63\n",
            "\t\tAsset 3: 29.40\n",
            "\t\tAsset 4: 49.41\n",
            "\t\tAsset 5: -53.53\n",
            "\t\tAsset 6: -22.02\n",
            "\t\tAsset 7: 1.19\n",
            "\t\tAsset 8: 16.85\n",
            "\t\tAsset 9: 35.96\n",
            "\t\tRendimento atteso: 11.12 -- Varianza: 10.64.\n",
            "Avversione al rischio : 10.0\n",
            "\t\tAsset 0: -1.37\n",
            "\t\tAsset 1: -0.69\n",
            "\t\tAsset 2: -4.27\n",
            "\t\tAsset 3: 3.36\n",
            "\t\tAsset 4: 8.73\n",
            "\t\tAsset 5: -5.97\n",
            "\t\tAsset 6: -4.19\n",
            "\t\tAsset 7: -1.62\n",
            "\t\tAsset 8: 3.10\n",
            "\t\tAsset 9: 3.92\n",
            "\t\tRendimento atteso: 1.56 -- Varianza: 0.12.\n"
          ],
          "name": "stdout"
        }
      ]
    },
    {
      "cell_type": "code",
      "metadata": {
        "colab": {
          "base_uri": "https://localhost:8080/"
        },
        "id": "GAf5_vJz-lJl",
        "outputId": "ba27488f-4a46-497c-e401-d14adaffb43f"
      },
      "source": [
        "#stima a 1 settimana\n",
        "week_w_opt10 = risk_aversion_analyze(mu_estimate7_data10, varcov_estimate7_data10)"
      ],
      "execution_count": null,
      "outputs": [
        {
          "output_type": "stream",
          "text": [
            "Avversione al rischio : 0.1\n",
            "\t\tAsset 0: 21765739584578288.00\n",
            "\t\tAsset 1: 6869424751016368.00\n",
            "\t\tAsset 2: 20720480446735656.00\n",
            "\t\tAsset 3: -3338468312898296.50\n",
            "\t\tAsset 4: -16468755784795970.00\n",
            "\t\tAsset 5: 4037278215995251.00\n",
            "\t\tAsset 6: 28089929094620804.00\n",
            "\t\tAsset 7: -24641199043413784.00\n",
            "\t\tAsset 8: -2918204204710145.50\n",
            "\t\tAsset 9: -34116224747128176.00\n",
            "\t\tRendimento atteso: -1483378703784543.50 -- Varianza: -170064635002910240.00.\n",
            "Avversione al rischio : 1.0\n",
            "\t\tAsset 0: 2176573958457828.75\n",
            "\t\tAsset 1: 686942475101634.62\n",
            "\t\tAsset 2: 2072048044673566.75\n",
            "\t\tAsset 3: -333846831289830.19\n",
            "\t\tAsset 4: -1646875578479593.50\n",
            "\t\tAsset 5: 403727821599526.19\n",
            "\t\tAsset 6: 2808992909462078.00\n",
            "\t\tAsset 7: -2464119904341380.50\n",
            "\t\tAsset 8: -291820420471013.06\n",
            "\t\tAsset 9: -3411622474712816.50\n",
            "\t\tRendimento atteso: -148337870378454.06 -- Varianza: -183391218810031.94.\n",
            "Avversione al rischio : 10.0\n",
            "\t\tAsset 0: 217657395845782.94\n",
            "\t\tAsset 1: 68694247510161.15\n",
            "\t\tAsset 2: 207204804467357.75\n",
            "\t\tAsset 3: -33384683128983.51\n",
            "\t\tAsset 4: -164687557847955.66\n",
            "\t\tAsset 5: 40372782159953.64\n",
            "\t\tAsset 6: 280899290946205.28\n",
            "\t\tAsset 7: -246411990434140.41\n",
            "\t\tAsset 8: -29182042047099.84\n",
            "\t\tAsset 9: -341162247471280.44\n",
            "\t\tRendimento atteso: -14833787037845.13 -- Varianza: -10725254362535.99.\n"
          ],
          "name": "stdout"
        }
      ]
    },
    {
      "cell_type": "code",
      "metadata": {
        "colab": {
          "base_uri": "https://localhost:8080/"
        },
        "id": "X-FRbK8L-r86",
        "outputId": "d3bb2dbd-6d6e-4639-f971-5c6042c8f145"
      },
      "source": [
        "#stima a 1 mese\n",
        "month_w_opt10 = risk_aversion_analyze(mu_estimate30_data10, varcov_estimate30_data10)"
      ],
      "execution_count": null,
      "outputs": [
        {
          "output_type": "stream",
          "text": [
            "Avversione al rischio : 0.1\n",
            "\t\tAsset 0: -180.12\n",
            "\t\tAsset 1: 7.90\n",
            "\t\tAsset 2: -469.68\n",
            "\t\tAsset 3: 174.24\n",
            "\t\tAsset 4: 987.82\n",
            "\t\tAsset 5: -750.09\n",
            "\t\tAsset 6: -412.54\n",
            "\t\tAsset 7: -366.59\n",
            "\t\tAsset 8: 346.57\n",
            "\t\tAsset 9: 663.49\n",
            "\t\tRendimento atteso: 188.92 -- Varianza: 1883.58.\n",
            "Avversione al rischio : 1.0\n",
            "\t\tAsset 0: -17.52\n",
            "\t\tAsset 1: -0.67\n",
            "\t\tAsset 2: -46.40\n",
            "\t\tAsset 3: 18.48\n",
            "\t\tAsset 4: 102.58\n",
            "\t\tAsset 5: -76.03\n",
            "\t\tAsset 6: -43.33\n",
            "\t\tAsset 7: -38.71\n",
            "\t\tAsset 8: 35.64\n",
            "\t\tAsset 9: 66.97\n",
            "\t\tRendimento atteso: 19.40 -- Varianza: 18.85.\n",
            "Avversione al rischio : 10.0\n",
            "\t\tAsset 0: -1.26\n",
            "\t\tAsset 1: -1.52\n",
            "\t\tAsset 2: -4.07\n",
            "\t\tAsset 3: 2.90\n",
            "\t\tAsset 4: 14.05\n",
            "\t\tAsset 5: -8.63\n",
            "\t\tAsset 6: -6.41\n",
            "\t\tAsset 7: -5.92\n",
            "\t\tAsset 8: 4.54\n",
            "\t\tAsset 9: 7.31\n",
            "\t\tRendimento atteso: 2.45 -- Varianza: 0.20.\n"
          ],
          "name": "stdout"
        }
      ]
    },
    {
      "cell_type": "code",
      "metadata": {
        "colab": {
          "base_uri": "https://localhost:8080/"
        },
        "id": "3T8x6HrE-01e",
        "outputId": "4fc4527a-1d97-48f1-be18-6c66430eb2f6"
      },
      "source": [
        "#stima a 4 mesi\n",
        "quarter_w_opt10 = risk_aversion_analyze(mu_estimate120_data10, varcov_estimate120_data10)"
      ],
      "execution_count": null,
      "outputs": [
        {
          "output_type": "stream",
          "text": [
            "Avversione al rischio : 0.1\n",
            "\t\tAsset 0: -95.79\n",
            "\t\tAsset 1: 39.37\n",
            "\t\tAsset 2: -444.45\n",
            "\t\tAsset 3: 123.25\n",
            "\t\tAsset 4: 570.10\n",
            "\t\tAsset 5: -381.07\n",
            "\t\tAsset 6: -187.06\n",
            "\t\tAsset 7: -165.55\n",
            "\t\tAsset 8: 305.21\n",
            "\t\tAsset 9: 236.99\n",
            "\t\tRendimento atteso: 112.39 -- Varianza: 1118.44.\n",
            "Avversione al rischio : 1.0\n",
            "\t\tAsset 0: -9.50\n",
            "\t\tAsset 1: 2.54\n",
            "\t\tAsset 2: -43.97\n",
            "\t\tAsset 3: 13.03\n",
            "\t\tAsset 4: 60.86\n",
            "\t\tAsset 5: -38.90\n",
            "\t\tAsset 6: -20.82\n",
            "\t\tAsset 7: -18.38\n",
            "\t\tAsset 8: 31.88\n",
            "\t\tAsset 9: 24.27\n",
            "\t\tRendimento atteso: 11.73 -- Varianza: 11.20.\n",
            "Avversione al rischio : 10.0\n",
            "\t\tAsset 0: -0.87\n",
            "\t\tAsset 1: -1.15\n",
            "\t\tAsset 2: -3.93\n",
            "\t\tAsset 3: 2.01\n",
            "\t\tAsset 4: 9.93\n",
            "\t\tAsset 5: -4.68\n",
            "\t\tAsset 6: -4.20\n",
            "\t\tAsset 7: -3.66\n",
            "\t\tAsset 8: 4.54\n",
            "\t\tAsset 9: 3.00\n",
            "\t\tRendimento atteso: 1.67 -- Varianza: 0.12.\n"
          ],
          "name": "stdout"
        }
      ]
    },
    {
      "cell_type": "markdown",
      "metadata": {
        "id": "7TE61p-hLU3F"
      },
      "source": [
        "Osserviamo che con un **portafoglio più numeroso** la stima a una settimana è veramente **pessima**.\\\n",
        " Una **possibile spiegazione** è, come osservato in precedenza, che la matrice di varianza-covarianza stimata con i dati di una settimana **non** è **definita** **positiva**. Come conseguenza, vettori di pesi, $w$, per cui $ w^T \\Sigma w <0 $, fanno crescere  il valore della funzione obiettivo ( dato il segno negativo di fronte al termine). \\\n",
        "\n",
        " Plottiamo nuovamente i risultati, evitando, per una maggiore chiarezza rappresentativa, di mostrare proprio le stime a una settimana."
      ]
    },
    {
      "cell_type": "code",
      "metadata": {
        "colab": {
          "base_uri": "https://localhost:8080/",
          "height": 1000
        },
        "id": "Njc1UwcSGhuD",
        "outputId": "5df5fa99-c725-480b-9c2a-6aabf24d6b56"
      },
      "source": [
        "assets = np.linspace(0,10,num=10,dtype=np.int8)\n",
        "fig = make_subplots(cols=1, rows=3, vertical_spacing=0.06, subplot_titles=['$\\lambda=0.1$','$\\lambda=1$','$\\lambda=10$'])\n",
        "\n",
        "for i in range(3):\n",
        "  fig.add_trace(go.Scatter(x=assets, y=real_w_opt10[i], marker=dict(color='red', size=20), name='Dato reale', mode='markers', showlegend=i==0, legendgroup=1), col=1, row=i+1)\n",
        "  fig.add_trace(go.Scatter(x=assets, y=month_w_opt10[i], marker=dict(color='blue', size=10), name='Stima a 1 mese', mode='markers', showlegend=i==0, legendgroup=2), col=1, row=i+1)\n",
        "  fig.add_trace(go.Scatter(x=assets, y=quarter_w_opt10[i], marker=dict(color='magenta', size=10), name='Stima a 4 mesi', mode='markers', showlegend=i==0, legendgroup=3), col=1, row=i+1)\n",
        "\n",
        "fig.update_xaxes(title='Asset', zeroline=False, type='category')\n",
        "fig.update_yaxes(title='$w$', showgrid=False)\n",
        "fig.update_layout(height=1500)\n",
        "fig.show()"
      ],
      "execution_count": null,
      "outputs": [
        {
          "output_type": "display_data",
          "data": {
            "text/html": [
              "<html>\n",
              "<head><meta charset=\"utf-8\" /></head>\n",
              "<body>\n",
              "    <div>\n",
              "            <script src=\"https://cdnjs.cloudflare.com/ajax/libs/mathjax/2.7.5/MathJax.js?config=TeX-AMS-MML_SVG\"></script><script type=\"text/javascript\">if (window.MathJax) {MathJax.Hub.Config({SVG: {font: \"STIX-Web\"}});}</script>\n",
              "                <script type=\"text/javascript\">window.PlotlyConfig = {MathJaxConfig: 'local'};</script>\n",
              "        <script src=\"https://cdn.plot.ly/plotly-latest.min.js\"></script>    \n",
              "            <div id=\"c63ca890-e929-451d-a0fc-d4ea42e19f6b\" class=\"plotly-graph-div\" style=\"height:1500px; width:100%;\"></div>\n",
              "            <script type=\"text/javascript\">\n",
              "                \n",
              "                    window.PLOTLYENV=window.PLOTLYENV || {};\n",
              "                    \n",
              "                if (document.getElementById(\"c63ca890-e929-451d-a0fc-d4ea42e19f6b\")) {\n",
              "                    Plotly.newPlot(\n",
              "                        'c63ca890-e929-451d-a0fc-d4ea42e19f6b',\n",
              "                        [{\"legendgroup\": \"1\", \"marker\": {\"color\": \"red\", \"size\": 20}, \"mode\": \"markers\", \"name\": \"Dato reale\", \"showlegend\": true, \"type\": \"scatter\", \"x\": [0, 1, 2, 3, 4, 5, 6, 7, 8, 10], \"xaxis\": \"x\", \"y\": [-134.05827199851024, 70.79581904826877, -492.28969292788827, 289.7992313561452, 456.24460518977503, -529.1281997192127, -200.31528101120435, 29.23268487372571, 154.40269478256423, 356.31641040633696], \"yaxis\": \"y\"}, {\"legendgroup\": \"2\", \"marker\": {\"color\": \"blue\", \"size\": 10}, \"mode\": \"markers\", \"name\": \"Stima a 1 mese\", \"showlegend\": true, \"type\": \"scatter\", \"x\": [0, 1, 2, 3, 4, 5, 6, 7, 8, 10], \"xaxis\": \"x\", \"y\": [-180.11543915611324, 7.899789316064254, -469.68392191670847, 174.23969179624504, 987.8216294158701, -750.0924087569836, -412.5405708478051, -366.5882264408692, 346.5739476398101, 663.4855089504899], \"yaxis\": \"y\"}, {\"legendgroup\": \"3\", \"marker\": {\"color\": \"magenta\", \"size\": 10}, \"mode\": \"markers\", \"name\": \"Stima a 4 mesi\", \"showlegend\": true, \"type\": \"scatter\", \"x\": [0, 1, 2, 3, 4, 5, 6, 7, 8, 10], \"xaxis\": \"x\", \"y\": [-95.78590595892372, 39.36638458319828, -444.44705858923635, 123.2510033327123, 570.1030939134589, -381.0694486070236, -187.06093441921882, -165.5512931486184, 305.2082481312967, 236.98591076235445], \"yaxis\": \"y\"}, {\"legendgroup\": \"1\", \"marker\": {\"color\": \"red\", \"size\": 20}, \"mode\": \"markers\", \"name\": \"Dato reale\", \"showlegend\": false, \"type\": \"scatter\", \"x\": [0, 1, 2, 3, 4, 5, 6, 7, 8, 10], \"xaxis\": \"x2\", \"y\": [-13.430206521245637, 5.804892958649102, -48.634114343292204, 29.399081415982817, 49.41133792429737, -53.53104200792121, -22.01511208854802, 1.185760306204362, 16.853506601527073, 35.95589575434637], \"yaxis\": \"y2\"}, {\"legendgroup\": \"2\", \"marker\": {\"color\": \"blue\", \"size\": 10}, \"mode\": \"markers\", \"name\": \"Stima a 1 mese\", \"showlegend\": false, \"type\": \"scatter\", \"x\": [0, 1, 2, 3, 4, 5, 6, 7, 8, 10], \"xaxis\": \"x2\", \"y\": [-17.52289540287077, -0.6672575242019856, -46.3968168956689, 18.47549076370348, 102.57822407757887, -76.03177793094768, -43.32988180907674, -38.70861470379489, 35.63797297903619, 66.96555644624242], \"yaxis\": \"y2\"}, {\"legendgroup\": \"3\", \"marker\": {\"color\": \"magenta\", \"size\": 10}, \"mode\": \"markers\", \"name\": \"Stima a 4 mesi\", \"showlegend\": false, \"type\": \"scatter\", \"x\": [0, 1, 2, 3, 4, 5, 6, 7, 8, 10], \"xaxis\": \"x2\", \"y\": [-9.499952869781959, 2.5369356959501648, -43.973447385790294, 13.030357130687971, 60.85699567800317, -38.90010459507622, -20.823795197474084, -18.377162465725306, 31.87626243143957, 24.27391157776696], \"yaxis\": \"y2\"}, {\"legendgroup\": \"1\", \"marker\": {\"color\": \"red\", \"size\": 20}, \"mode\": \"markers\", \"name\": \"Dato reale\", \"showlegend\": false, \"type\": \"scatter\", \"x\": [0, 1, 2, 3, 4, 5, 6, 7, 8, 10], \"xaxis\": \"x3\", \"y\": [-1.367399973519174, -0.6941996503128645, -4.268556484832595, 3.3590664219665785, 8.728011197749602, -5.971326236792059, -4.185095196282381, -1.6189321505477725, 3.0985877834233584, 3.919844289147309], \"yaxis\": \"y3\"}, {\"legendgroup\": \"2\", \"marker\": {\"color\": \"blue\", \"size\": 10}, \"mode\": \"markers\", \"name\": \"Stima a 1 mese\", \"showlegend\": false, \"type\": \"scatter\", \"x\": [0, 1, 2, 3, 4, 5, 6, 7, 8, 10], \"xaxis\": \"x3\", \"y\": [-1.2636410275465182, -1.5239622082286097, -4.068106393564939, 2.899070660449322, 14.053883543749732, -8.625714848344103, -6.4088129052039005, -5.920653530087466, 4.544375512958798, 7.313561195817684], \"yaxis\": \"y3\"}, {\"legendgroup\": \"3\", \"marker\": {\"color\": \"magenta\", \"size\": 10}, \"mode\": \"markers\", \"name\": \"Stima a 4 mesi\", \"showlegend\": false, \"type\": \"scatter\", \"x\": [0, 1, 2, 3, 4, 5, 6, 7, 8, 10], \"xaxis\": \"x3\", \"y\": [-0.8713575608677818, -1.146009192774647, -3.9260862654456794, 2.008292510485535, 9.932385854457593, -4.683170193881486, -4.200081275299608, -3.659749397435994, 4.543063861453854, 3.0027116593082104], \"yaxis\": \"y3\"}],\n",
              "                        {\"annotations\": [{\"font\": {\"size\": 16}, \"showarrow\": false, \"text\": \"$\\\\lambda=0.1$\", \"x\": 0.5, \"xanchor\": \"center\", \"xref\": \"paper\", \"y\": 1.0, \"yanchor\": \"bottom\", \"yref\": \"paper\"}, {\"font\": {\"size\": 16}, \"showarrow\": false, \"text\": \"$\\\\lambda=1$\", \"x\": 0.5, \"xanchor\": \"center\", \"xref\": \"paper\", \"y\": 0.6466666666666667, \"yanchor\": \"bottom\", \"yref\": \"paper\"}, {\"font\": {\"size\": 16}, \"showarrow\": false, \"text\": \"$\\\\lambda=10$\", \"x\": 0.5, \"xanchor\": \"center\", \"xref\": \"paper\", \"y\": 0.29333333333333333, \"yanchor\": \"bottom\", \"yref\": \"paper\"}], \"height\": 1500, \"template\": {\"data\": {\"bar\": [{\"error_x\": {\"color\": \"#2a3f5f\"}, \"error_y\": {\"color\": \"#2a3f5f\"}, \"marker\": {\"line\": {\"color\": \"#E5ECF6\", \"width\": 0.5}}, \"type\": \"bar\"}], \"barpolar\": [{\"marker\": {\"line\": {\"color\": \"#E5ECF6\", \"width\": 0.5}}, \"type\": \"barpolar\"}], \"carpet\": [{\"aaxis\": {\"endlinecolor\": \"#2a3f5f\", \"gridcolor\": \"white\", \"linecolor\": \"white\", \"minorgridcolor\": \"white\", \"startlinecolor\": \"#2a3f5f\"}, \"baxis\": {\"endlinecolor\": \"#2a3f5f\", \"gridcolor\": \"white\", \"linecolor\": \"white\", \"minorgridcolor\": \"white\", \"startlinecolor\": \"#2a3f5f\"}, \"type\": \"carpet\"}], \"choropleth\": [{\"colorbar\": {\"outlinewidth\": 0, \"ticks\": \"\"}, \"type\": \"choropleth\"}], \"contour\": [{\"colorbar\": {\"outlinewidth\": 0, \"ticks\": \"\"}, \"colorscale\": [[0.0, \"#0d0887\"], [0.1111111111111111, \"#46039f\"], [0.2222222222222222, \"#7201a8\"], [0.3333333333333333, \"#9c179e\"], [0.4444444444444444, \"#bd3786\"], [0.5555555555555556, \"#d8576b\"], [0.6666666666666666, \"#ed7953\"], [0.7777777777777778, \"#fb9f3a\"], [0.8888888888888888, \"#fdca26\"], [1.0, \"#f0f921\"]], \"type\": \"contour\"}], \"contourcarpet\": [{\"colorbar\": {\"outlinewidth\": 0, \"ticks\": \"\"}, \"type\": \"contourcarpet\"}], \"heatmap\": [{\"colorbar\": {\"outlinewidth\": 0, \"ticks\": \"\"}, \"colorscale\": [[0.0, \"#0d0887\"], [0.1111111111111111, \"#46039f\"], [0.2222222222222222, \"#7201a8\"], [0.3333333333333333, \"#9c179e\"], [0.4444444444444444, \"#bd3786\"], [0.5555555555555556, \"#d8576b\"], [0.6666666666666666, \"#ed7953\"], [0.7777777777777778, \"#fb9f3a\"], [0.8888888888888888, \"#fdca26\"], [1.0, \"#f0f921\"]], \"type\": \"heatmap\"}], \"heatmapgl\": [{\"colorbar\": {\"outlinewidth\": 0, \"ticks\": \"\"}, \"colorscale\": [[0.0, \"#0d0887\"], [0.1111111111111111, \"#46039f\"], [0.2222222222222222, \"#7201a8\"], [0.3333333333333333, \"#9c179e\"], [0.4444444444444444, \"#bd3786\"], [0.5555555555555556, \"#d8576b\"], [0.6666666666666666, \"#ed7953\"], [0.7777777777777778, \"#fb9f3a\"], [0.8888888888888888, \"#fdca26\"], [1.0, \"#f0f921\"]], \"type\": \"heatmapgl\"}], \"histogram\": [{\"marker\": {\"colorbar\": {\"outlinewidth\": 0, \"ticks\": \"\"}}, \"type\": \"histogram\"}], \"histogram2d\": [{\"colorbar\": {\"outlinewidth\": 0, \"ticks\": \"\"}, \"colorscale\": [[0.0, \"#0d0887\"], [0.1111111111111111, \"#46039f\"], [0.2222222222222222, \"#7201a8\"], [0.3333333333333333, \"#9c179e\"], [0.4444444444444444, \"#bd3786\"], [0.5555555555555556, \"#d8576b\"], [0.6666666666666666, \"#ed7953\"], [0.7777777777777778, \"#fb9f3a\"], [0.8888888888888888, \"#fdca26\"], [1.0, \"#f0f921\"]], \"type\": \"histogram2d\"}], \"histogram2dcontour\": [{\"colorbar\": {\"outlinewidth\": 0, \"ticks\": \"\"}, \"colorscale\": [[0.0, \"#0d0887\"], [0.1111111111111111, \"#46039f\"], [0.2222222222222222, \"#7201a8\"], [0.3333333333333333, \"#9c179e\"], [0.4444444444444444, \"#bd3786\"], [0.5555555555555556, \"#d8576b\"], [0.6666666666666666, \"#ed7953\"], [0.7777777777777778, \"#fb9f3a\"], [0.8888888888888888, \"#fdca26\"], [1.0, \"#f0f921\"]], \"type\": \"histogram2dcontour\"}], \"mesh3d\": [{\"colorbar\": {\"outlinewidth\": 0, \"ticks\": \"\"}, \"type\": \"mesh3d\"}], \"parcoords\": [{\"line\": {\"colorbar\": {\"outlinewidth\": 0, \"ticks\": \"\"}}, \"type\": \"parcoords\"}], \"pie\": [{\"automargin\": true, \"type\": \"pie\"}], \"scatter\": [{\"marker\": {\"colorbar\": {\"outlinewidth\": 0, \"ticks\": \"\"}}, \"type\": \"scatter\"}], \"scatter3d\": [{\"line\": {\"colorbar\": {\"outlinewidth\": 0, \"ticks\": \"\"}}, \"marker\": {\"colorbar\": {\"outlinewidth\": 0, \"ticks\": \"\"}}, \"type\": \"scatter3d\"}], \"scattercarpet\": [{\"marker\": {\"colorbar\": {\"outlinewidth\": 0, \"ticks\": \"\"}}, \"type\": \"scattercarpet\"}], \"scattergeo\": [{\"marker\": {\"colorbar\": {\"outlinewidth\": 0, \"ticks\": \"\"}}, \"type\": \"scattergeo\"}], \"scattergl\": [{\"marker\": {\"colorbar\": {\"outlinewidth\": 0, \"ticks\": \"\"}}, \"type\": \"scattergl\"}], \"scattermapbox\": [{\"marker\": {\"colorbar\": {\"outlinewidth\": 0, \"ticks\": \"\"}}, \"type\": \"scattermapbox\"}], \"scatterpolar\": [{\"marker\": {\"colorbar\": {\"outlinewidth\": 0, \"ticks\": \"\"}}, \"type\": \"scatterpolar\"}], \"scatterpolargl\": [{\"marker\": {\"colorbar\": {\"outlinewidth\": 0, \"ticks\": \"\"}}, \"type\": \"scatterpolargl\"}], \"scatterternary\": [{\"marker\": {\"colorbar\": {\"outlinewidth\": 0, \"ticks\": \"\"}}, \"type\": \"scatterternary\"}], \"surface\": [{\"colorbar\": {\"outlinewidth\": 0, \"ticks\": \"\"}, \"colorscale\": [[0.0, \"#0d0887\"], [0.1111111111111111, \"#46039f\"], [0.2222222222222222, \"#7201a8\"], [0.3333333333333333, \"#9c179e\"], [0.4444444444444444, \"#bd3786\"], [0.5555555555555556, \"#d8576b\"], [0.6666666666666666, \"#ed7953\"], [0.7777777777777778, \"#fb9f3a\"], [0.8888888888888888, \"#fdca26\"], [1.0, \"#f0f921\"]], \"type\": \"surface\"}], \"table\": [{\"cells\": {\"fill\": {\"color\": \"#EBF0F8\"}, \"line\": {\"color\": \"white\"}}, \"header\": {\"fill\": {\"color\": \"#C8D4E3\"}, \"line\": {\"color\": \"white\"}}, \"type\": \"table\"}]}, \"layout\": {\"annotationdefaults\": {\"arrowcolor\": \"#2a3f5f\", \"arrowhead\": 0, \"arrowwidth\": 1}, \"coloraxis\": {\"colorbar\": {\"outlinewidth\": 0, \"ticks\": \"\"}}, \"colorscale\": {\"diverging\": [[0, \"#8e0152\"], [0.1, \"#c51b7d\"], [0.2, \"#de77ae\"], [0.3, \"#f1b6da\"], [0.4, \"#fde0ef\"], [0.5, \"#f7f7f7\"], [0.6, \"#e6f5d0\"], [0.7, \"#b8e186\"], [0.8, \"#7fbc41\"], [0.9, \"#4d9221\"], [1, \"#276419\"]], \"sequential\": [[0.0, \"#0d0887\"], [0.1111111111111111, \"#46039f\"], [0.2222222222222222, \"#7201a8\"], [0.3333333333333333, \"#9c179e\"], [0.4444444444444444, \"#bd3786\"], [0.5555555555555556, \"#d8576b\"], [0.6666666666666666, \"#ed7953\"], [0.7777777777777778, \"#fb9f3a\"], [0.8888888888888888, \"#fdca26\"], [1.0, \"#f0f921\"]], \"sequentialminus\": [[0.0, \"#0d0887\"], [0.1111111111111111, \"#46039f\"], [0.2222222222222222, \"#7201a8\"], [0.3333333333333333, \"#9c179e\"], [0.4444444444444444, \"#bd3786\"], [0.5555555555555556, \"#d8576b\"], [0.6666666666666666, \"#ed7953\"], [0.7777777777777778, \"#fb9f3a\"], [0.8888888888888888, \"#fdca26\"], [1.0, \"#f0f921\"]]}, \"colorway\": [\"#636efa\", \"#EF553B\", \"#00cc96\", \"#ab63fa\", \"#FFA15A\", \"#19d3f3\", \"#FF6692\", \"#B6E880\", \"#FF97FF\", \"#FECB52\"], \"font\": {\"color\": \"#2a3f5f\"}, \"geo\": {\"bgcolor\": \"white\", \"lakecolor\": \"white\", \"landcolor\": \"#E5ECF6\", \"showlakes\": true, \"showland\": true, \"subunitcolor\": \"white\"}, \"hoverlabel\": {\"align\": \"left\"}, \"hovermode\": \"closest\", \"mapbox\": {\"style\": \"light\"}, \"paper_bgcolor\": \"white\", \"plot_bgcolor\": \"#E5ECF6\", \"polar\": {\"angularaxis\": {\"gridcolor\": \"white\", \"linecolor\": \"white\", \"ticks\": \"\"}, \"bgcolor\": \"#E5ECF6\", \"radialaxis\": {\"gridcolor\": \"white\", \"linecolor\": \"white\", \"ticks\": \"\"}}, \"scene\": {\"xaxis\": {\"backgroundcolor\": \"#E5ECF6\", \"gridcolor\": \"white\", \"gridwidth\": 2, \"linecolor\": \"white\", \"showbackground\": true, \"ticks\": \"\", \"zerolinecolor\": \"white\"}, \"yaxis\": {\"backgroundcolor\": \"#E5ECF6\", \"gridcolor\": \"white\", \"gridwidth\": 2, \"linecolor\": \"white\", \"showbackground\": true, \"ticks\": \"\", \"zerolinecolor\": \"white\"}, \"zaxis\": {\"backgroundcolor\": \"#E5ECF6\", \"gridcolor\": \"white\", \"gridwidth\": 2, \"linecolor\": \"white\", \"showbackground\": true, \"ticks\": \"\", \"zerolinecolor\": \"white\"}}, \"shapedefaults\": {\"line\": {\"color\": \"#2a3f5f\"}}, \"ternary\": {\"aaxis\": {\"gridcolor\": \"white\", \"linecolor\": \"white\", \"ticks\": \"\"}, \"baxis\": {\"gridcolor\": \"white\", \"linecolor\": \"white\", \"ticks\": \"\"}, \"bgcolor\": \"#E5ECF6\", \"caxis\": {\"gridcolor\": \"white\", \"linecolor\": \"white\", \"ticks\": \"\"}}, \"title\": {\"x\": 0.05}, \"xaxis\": {\"automargin\": true, \"gridcolor\": \"white\", \"linecolor\": \"white\", \"ticks\": \"\", \"title\": {\"standoff\": 15}, \"zerolinecolor\": \"white\", \"zerolinewidth\": 2}, \"yaxis\": {\"automargin\": true, \"gridcolor\": \"white\", \"linecolor\": \"white\", \"ticks\": \"\", \"title\": {\"standoff\": 15}, \"zerolinecolor\": \"white\", \"zerolinewidth\": 2}}}, \"xaxis\": {\"anchor\": \"y\", \"domain\": [0.0, 1.0], \"title\": {\"text\": \"Asset\"}, \"type\": \"category\", \"zeroline\": false}, \"xaxis2\": {\"anchor\": \"y2\", \"domain\": [0.0, 1.0], \"title\": {\"text\": \"Asset\"}, \"type\": \"category\", \"zeroline\": false}, \"xaxis3\": {\"anchor\": \"y3\", \"domain\": [0.0, 1.0], \"title\": {\"text\": \"Asset\"}, \"type\": \"category\", \"zeroline\": false}, \"yaxis\": {\"anchor\": \"x\", \"domain\": [0.7066666666666667, 1.0], \"showgrid\": false, \"title\": {\"text\": \"$w$\"}}, \"yaxis2\": {\"anchor\": \"x2\", \"domain\": [0.35333333333333333, 0.6466666666666667], \"showgrid\": false, \"title\": {\"text\": \"$w$\"}}, \"yaxis3\": {\"anchor\": \"x3\", \"domain\": [0.0, 0.29333333333333333], \"showgrid\": false, \"title\": {\"text\": \"$w$\"}}},\n",
              "                        {\"responsive\": true}\n",
              "                    ).then(function(){\n",
              "                            \n",
              "var gd = document.getElementById('c63ca890-e929-451d-a0fc-d4ea42e19f6b');\n",
              "var x = new MutationObserver(function (mutations, observer) {{\n",
              "        var display = window.getComputedStyle(gd).display;\n",
              "        if (!display || display === 'none') {{\n",
              "            console.log([gd, 'removed!']);\n",
              "            Plotly.purge(gd);\n",
              "            observer.disconnect();\n",
              "        }}\n",
              "}});\n",
              "\n",
              "// Listen for the removal of the full notebook cells\n",
              "var notebookContainer = gd.closest('#notebook-container');\n",
              "if (notebookContainer) {{\n",
              "    x.observe(notebookContainer, {childList: true});\n",
              "}}\n",
              "\n",
              "// Listen for the clearing of the current output cell\n",
              "var outputEl = gd.closest('.output');\n",
              "if (outputEl) {{\n",
              "    x.observe(outputEl, {childList: true});\n",
              "}}\n",
              "\n",
              "                        })\n",
              "                };\n",
              "                \n",
              "            </script>\n",
              "        </div>\n",
              "</body>\n",
              "</html>"
            ]
          },
          "metadata": {
            "tags": []
          }
        }
      ]
    },
    {
      "cell_type": "markdown",
      "metadata": {
        "id": "cywCbQk_BAnw"
      },
      "source": [
        "Possiamo trarre anche in questo caso le stesse conclusioni ottenute in precedenza.\\\n",
        " E', inoltre, interessante notare che, al di là della bontà del risultato ottenuto, quasi sempre gli **asset** che andrebbero **venduti allo scoperto** secondo la strategia ottima basata su **dati reali** sono venduti allo scoperto **anche** basandosi sulle **approssimazioni**. \n",
        "\n",
        "Per avere una migliore idea della stima ottenuta, misuriamo l'errore, calcolando la norma 1 della differenza tra le varie stime e il risultato esatto. Per tenere conto della **diversa numerosità** dei due portafogli, **dividiamo** la norma per il **numero di asset** nel portafoglio. \\\n",
        "\n",
        "Per prima cosa, vediamo i risultati riguardanti il portafoglio a 2 asset."
      ]
    },
    {
      "cell_type": "code",
      "metadata": {
        "colab": {
          "base_uri": "https://localhost:8080/"
        },
        "id": "5HpTQIfRvhs5",
        "outputId": "70e6e6b7-bd71-4603-bf6b-468e7ef43c8a"
      },
      "source": [
        "print('Stima a 1 settimana:\\n\\tAvversione al rischio:0.1\\tErrore: ' + '{0:.4f}'.format(np.linalg.norm(real_w_opt2[0]-week_w_opt2[0], ord=1)/2))\n",
        "print('\\tAvversione al rischio:1\\t\\tErrore: ' + '{0:.4f}'.format(np.linalg.norm(real_w_opt2[1]-week_w_opt2[1], ord=1)/2))\n",
        "print('\\tAvversione al rischio:10\\tErrore: ' + '{0:.4f}'.format(np.linalg.norm(real_w_opt2[2]-week_w_opt2[2], ord=1)/2))\n",
        "print('Stima a 1 mese:\\n\\tAvversione al rischio:0.1\\tErrore: ' + '{0:.4f}'.format(np.linalg.norm(real_w_opt2[0]-month_w_opt2[0], ord=1)/2))\n",
        "print('\\tAvversione al rischio:1\\t\\tErrore: ' + '{0:.4f}'.format(np.linalg.norm(real_w_opt2[1]-month_w_opt2[1], ord=1)/2))\n",
        "print('\\tAvversione al rischio:10\\tErrore: ' + '{0:.4f}'.format(np.linalg.norm(real_w_opt2[2]-month_w_opt2[2], ord=1)/2))\n",
        "print('Stima a 4 mesi:\\n\\tAvversione al rischio:0.1\\tErrore: ' + '{0:.4f}'.format(np.linalg.norm(real_w_opt2[0]-quarter_w_opt2[0], ord=1)/2))\n",
        "print('\\tAvversione al rischio:1\\t\\tErrore: ' + '{0:.4f}'.format(np.linalg.norm(real_w_opt2[1]-quarter_w_opt2[1], ord=1)/2))\n",
        "print('\\tAvversione al rischio:10\\tErrore: ' + '{0:.4f}'.format(np.linalg.norm(real_w_opt2[2]-quarter_w_opt2[2], ord=1)/2))"
      ],
      "execution_count": null,
      "outputs": [
        {
          "output_type": "stream",
          "text": [
            "Stima a 1 settimana:\n",
            "\tAvversione al rischio:0.1\tErrore: 39.3105\n",
            "\tAvversione al rischio:1\t\tErrore: 3.5708\n",
            "\tAvversione al rischio:10\tErrore: 0.0031\n",
            "Stima a 1 mese:\n",
            "\tAvversione al rischio:0.1\tErrore: 10.1732\n",
            "\tAvversione al rischio:1\t\tErrore: 0.7581\n",
            "\tAvversione al rischio:10\tErrore: 0.1834\n",
            "Stima a 4 mesi:\n",
            "\tAvversione al rischio:0.1\tErrore: 3.2020\n",
            "\tAvversione al rischio:1\t\tErrore: 0.3840\n",
            "\tAvversione al rischio:10\tErrore: 0.1022\n"
          ],
          "name": "stdout"
        }
      ]
    },
    {
      "cell_type": "markdown",
      "metadata": {
        "id": "1MglhHRnDPhm"
      },
      "source": [
        "E' immediato notare che valori **maggiori** del fattore di **avversione** al **rischio** permettano di **contenere** gli **errori** sulla stima dei portafogli ottimi. \\\n",
        "\n",
        "Come vedremo successivamente, **errori** sulla **stima dei rendimenti attesi** **pesano** di **più** ( rispetto a errori sulla stima della matrice di varianza-covarianza) sulla correttezza del risultato. \\\n",
        "Infatti, poiché all'**aumentare di lambda**, **cresce** il **peso** nella funzione obiettivo della **matrice di varianza-covarianza**  rispetto ai rendimenti attesi, l'**errore** commesso sarà **minore**. \n",
        "Un caso estremo è il **portafoglio a minima varianza**, in cui il peso dei rendimenti attesi è nullo."
      ]
    },
    {
      "cell_type": "markdown",
      "metadata": {
        "id": "7aMA-SUSHpXr"
      },
      "source": [
        "Passiamo ora al portafoglio a 10 asset."
      ]
    },
    {
      "cell_type": "code",
      "metadata": {
        "colab": {
          "base_uri": "https://localhost:8080/"
        },
        "id": "MLM7JE1VE1MO",
        "outputId": "35ddba3c-62bc-4810-83f9-a8d8425afec4"
      },
      "source": [
        "print('Stima a 1 settimana:\\n\\tAvversione al rischio:0.1\\tErrore: ' + '{0:.4f}'.format(np.linalg.norm(real_w_opt10[0]-week_w_opt10[0], ord=1)/10))\n",
        "print('\\tAvversione al rischio:1\\t\\tErrore: ' + '{0:.4f}'.format(np.linalg.norm(real_w_opt10[1]-week_w_opt10[1], ord=1)/10))\n",
        "print('\\tAvversione al rischio:10\\tErrore: ' + '{0:.4f}'.format(np.linalg.norm(real_w_opt10[2]-week_w_opt10[2], ord=1)/10))\n",
        "print('Stima a 1 mese:\\n\\tAvversione al rischio:0.1\\tErrore: ' + '{0:.4f}'.format(np.linalg.norm(real_w_opt10[0]-month_w_opt10[0], ord=1)/10))\n",
        "print('\\tAvversione al rischio:1\\t\\tErrore: ' + '{0:.4f}'.format(np.linalg.norm(real_w_opt10[1]-month_w_opt10[1], ord=1)/10))\n",
        "print('\\tAvversione al rischio:10\\tErrore: ' + '{0:.4f}'.format(np.linalg.norm(real_w_opt10[2]-month_w_opt10[2], ord=1)/10))\n",
        "print('Stima a 4 mesi:\\n\\tAvversione al rischio:0.1\\tErrore: ' + '{0:.4f}'.format(np.linalg.norm(real_w_opt10[0]-quarter_w_opt10[0], ord=1)/10))\n",
        "print('\\tAvversione al rischio:1\\t\\tErrore: ' + '{0:.4f}'.format(np.linalg.norm(real_w_opt10[1]-quarter_w_opt10[1], ord=1)/10))\n",
        "print('\\tAvversione al rischio:10\\tErrore: ' + '{0:.4f}'.format(np.linalg.norm(real_w_opt10[2]-quarter_w_opt10[2], ord=1)/10))"
      ],
      "execution_count": null,
      "outputs": [
        {
          "output_type": "stream",
          "text": [
            "Stima a 1 settimana:\n",
            "\tAvversione al rischio:0.1\tErrore: 16296570418589532.0000\n",
            "\tAvversione al rischio:1\t\tErrore: 1629657041858953.5000\n",
            "\tAvversione al rischio:10\tErrore: 162965704185895.4375\n",
            "Stima a 1 mese:\n",
            "\tAvversione al rischio:0.1\tErrore: 210.7046\n",
            "\tAvversione al rischio:1\t\tErrore: 21.0397\n",
            "\tAvversione al rischio:10\tErrore: 2.0939\n",
            "Stima a 4 mesi:\n",
            "\tAvversione al rischio:0.1\tErrore: 102.4184\n",
            "\tAvversione al rischio:1\t\tErrore: 10.1763\n",
            "\tAvversione al rischio:10\tErrore: 0.9551\n"
          ],
          "name": "stdout"
        }
      ]
    },
    {
      "cell_type": "markdown",
      "metadata": {
        "id": "PMjTGYh5FdGk"
      },
      "source": [
        "Anche in questo caso una maggiore avversione al rischio permette di contenere maggiormente gli errori sui portafogli ottimi ottenuti. \\\n",
        " E' interessante notare che in questo caso la relazione tra $\\lambda$ e gli errori è quasi esatta: ad un **aumento di $\\lambda$ di 10 volte**, corrisponde una **riduzione** dell' **errore di circa 10 volte** (e di 100 volte della norma L1)."
      ]
    },
    {
      "cell_type": "markdown",
      "metadata": {
        "id": "cDcHaaj5MY8n"
      },
      "source": [
        "## Il portafoglio a minima varianza\n",
        "Calcoliamo adesso il portafoglio a **minima varianza**, risolviamo cioè il seguente problema di ottimizzazione:\n",
        "$$\n",
        "\\begin{align}\n",
        "\\min_w\\ &\\frac{1}{2} w^T\\Sigma w^T\\\\\n",
        "s.t.\\ &i^T w = 1\n",
        "\\end{align}\n",
        "$$\n",
        "\n",
        "Osserviamo nuovamente la possibilità di **vendite allo scoperto**. Inoltre, possiamo considerare questo come il caso limite del problema di ottimizzazione precedente, quando $\\lambda \\rightarrow +\\infty$. \\\n",
        "Definiamo nuovamente delle funzioni per risolvere il problema."
      ]
    },
    {
      "cell_type": "code",
      "metadata": {
        "id": "HJJdHESXOAL7"
      },
      "source": [
        "def min_variance_optimize(mu, Sigma):\n",
        "  i = np.ones(shape=mu.shape)\n",
        "  invSigmaI = np.linalg.solve(Sigma, i) # Sigma^-1 * i\n",
        "  iInvSigmaI = np.dot(i,invSigmaI) # i^T * Sigma^-1 * i\n",
        "  w_opt = invSigmaI/(iInvSigmaI)\n",
        "  mu_opt = np.dot(mu,w_opt)\n",
        "  sigma2_opt = np.dot(w_opt, Sigma.dot(w_opt))\n",
        "\n",
        "  return w_opt, mu_opt, sigma2_opt\n",
        "\n",
        "def min_variance_analyze(mu, varcov):\n",
        "  n = mu.shape[0]\n",
        "\n",
        "  w_opt, mu_opt, sigma2_opt = min_variance_optimize(mu, varcov)\n",
        "  \n",
        "  output = ''\n",
        "  for i in range(n):\n",
        "    output += 'Asset ' + str(i) + ': ' + '{0:.2f}'.format(w_opt[i]) + '\\n'\n",
        "\n",
        "  output += 'Rendimento atteso: ' + '{0:.2f}'.format(mu_opt) + ' -- Varianza: ' + '{0:.2f}'.format(sigma2_opt) + '.'\n",
        "  print(output)\n",
        "\n",
        "  return w_opt"
      ],
      "execution_count": null,
      "outputs": []
    },
    {
      "cell_type": "markdown",
      "metadata": {
        "id": "SN5Ax90rQtmc"
      },
      "source": [
        "Iniziamo con il portafoglio a 2 asset."
      ]
    },
    {
      "cell_type": "code",
      "metadata": {
        "colab": {
          "base_uri": "https://localhost:8080/"
        },
        "id": "d0T-AiSLOqKs",
        "outputId": "631d3250-5de4-4093-dfc4-9df4d82346d5"
      },
      "source": [
        "# risultato reale\n",
        "real_w_opt2 = min_variance_analyze(mu2, varcov2)"
      ],
      "execution_count": null,
      "outputs": [
        {
          "output_type": "stream",
          "text": [
            "Asset 0: 0.07\n",
            "Asset 1: 0.93\n",
            "Rendimento atteso: 0.05 -- Varianza: 0.02.\n"
          ],
          "name": "stdout"
        }
      ]
    },
    {
      "cell_type": "code",
      "metadata": {
        "colab": {
          "base_uri": "https://localhost:8080/"
        },
        "id": "vrHMgcv9Op_K",
        "outputId": "f2ee55a4-6461-40c5-b944-928f3f8ce937"
      },
      "source": [
        "# stima a 1 settimana\n",
        "week_w_opt2 = min_variance_analyze(mu_estimate7_data2, varcov_estimate7_data2)"
      ],
      "execution_count": null,
      "outputs": [
        {
          "output_type": "stream",
          "text": [
            "Asset 0: -0.33\n",
            "Asset 1: 1.33\n",
            "Rendimento atteso: 0.01 -- Varianza: 0.03.\n"
          ],
          "name": "stdout"
        }
      ]
    },
    {
      "cell_type": "code",
      "metadata": {
        "colab": {
          "base_uri": "https://localhost:8080/"
        },
        "id": "TIxJCodPQTzg",
        "outputId": "cbd3225e-bdcf-46f7-c170-e085e18b3837"
      },
      "source": [
        "# stima a 1 mese\n",
        "month_w_opt2 = min_variance_analyze(mu_estimate30_data2, varcov_estimate30_data2)"
      ],
      "execution_count": null,
      "outputs": [
        {
          "output_type": "stream",
          "text": [
            "Asset 0: -0.21\n",
            "Asset 1: 1.21\n",
            "Rendimento atteso: 0.06 -- Varianza: 0.02.\n"
          ],
          "name": "stdout"
        }
      ]
    },
    {
      "cell_type": "code",
      "metadata": {
        "colab": {
          "base_uri": "https://localhost:8080/"
        },
        "id": "i_vJIHw7QepV",
        "outputId": "d33a8c3e-079a-44d2-9fdb-5c3c4cbd2096"
      },
      "source": [
        "# stima a 4 mesi\n",
        "quarter_w_opt2 = min_variance_analyze(mu_estimate120_data2, varcov_estimate120_data2)"
      ],
      "execution_count": null,
      "outputs": [
        {
          "output_type": "stream",
          "text": [
            "Asset 0: 0.14\n",
            "Asset 1: 0.86\n",
            "Rendimento atteso: 0.05 -- Varianza: 0.02.\n"
          ],
          "name": "stdout"
        }
      ]
    },
    {
      "cell_type": "markdown",
      "metadata": {
        "id": "2cXX1z2Aeexz"
      },
      "source": [
        "Notiamo  **risultati meno estremi** rispetto a quelli ottenuti con l'approccio precedente. \\\n",
        "\n",
        "Ciò non  sorprende se consideriamo questo approccio, ancora una volta, come un caso particolare di quello della sezione precedente, in cui $\\lambda \\rightarrow +\\infty$ e se ricordiamo che valori maggiori del fattore di avversione al rischio comportano minori errori di stima dei portafogli ottimi. \\\n",
        "Vediamo ancora una volta una rappresentazione delle stime appena ottenute."
      ]
    },
    {
      "cell_type": "code",
      "metadata": {
        "colab": {
          "base_uri": "https://localhost:8080/",
          "height": 542
        },
        "id": "4DY8QzZqgaSe",
        "outputId": "c1950462-2337-43fe-ba30-7f236419fd62"
      },
      "source": [
        "fig = go.Figure()\n",
        "\n",
        "fig.add_trace(go.Scatter(x=[real_w_opt2[0]], y=[real_w_opt2[1]], marker=dict(color='red', size=25), name='Dato reale'))\n",
        "fig.add_trace(go.Scatter(x=[week_w_opt2[0]], y=[week_w_opt2[1]], marker=dict(color='green', size=15), name='Stima a 7 giorni'))\n",
        "fig.add_trace(go.Scatter(x=[month_w_opt2[0]], y=[month_w_opt2[1]], marker=dict(color='blue', size=15), name='Stima a 1 mese'))\n",
        "fig.add_trace(go.Scatter(x=[quarter_w_opt2[0]], y=[quarter_w_opt2[1]], marker=dict(color='magenta', size=15), name='Stima a 4 mesi'))\n",
        "\n",
        "fig.update_xaxes(title='$w_0$')\n",
        "fig.update_yaxes(scaleanchor = \"x\", scaleratio = 1, title='$w_1$')\n",
        "fig.show()"
      ],
      "execution_count": null,
      "outputs": [
        {
          "output_type": "display_data",
          "data": {
            "text/html": [
              "<html>\n",
              "<head><meta charset=\"utf-8\" /></head>\n",
              "<body>\n",
              "    <div>\n",
              "            <script src=\"https://cdnjs.cloudflare.com/ajax/libs/mathjax/2.7.5/MathJax.js?config=TeX-AMS-MML_SVG\"></script><script type=\"text/javascript\">if (window.MathJax) {MathJax.Hub.Config({SVG: {font: \"STIX-Web\"}});}</script>\n",
              "                <script type=\"text/javascript\">window.PlotlyConfig = {MathJaxConfig: 'local'};</script>\n",
              "        <script src=\"https://cdn.plot.ly/plotly-latest.min.js\"></script>    \n",
              "            <div id=\"52ccd86d-1cfa-46d4-88fc-fdb67daee45f\" class=\"plotly-graph-div\" style=\"height:525px; width:100%;\"></div>\n",
              "            <script type=\"text/javascript\">\n",
              "                \n",
              "                    window.PLOTLYENV=window.PLOTLYENV || {};\n",
              "                    \n",
              "                if (document.getElementById(\"52ccd86d-1cfa-46d4-88fc-fdb67daee45f\")) {\n",
              "                    Plotly.newPlot(\n",
              "                        '52ccd86d-1cfa-46d4-88fc-fdb67daee45f',\n",
              "                        [{\"marker\": {\"color\": \"red\", \"size\": 25}, \"name\": \"Dato reale\", \"type\": \"scatter\", \"x\": [0.07317073170731714], \"y\": [0.9268292682926829]}, {\"marker\": {\"color\": \"green\", \"size\": 15}, \"name\": \"Stima a 7 giorni\", \"type\": \"scatter\", \"x\": [-0.32708483400673183], \"y\": [1.3270848340067318]}, {\"marker\": {\"color\": \"blue\", \"size\": 15}, \"name\": \"Stima a 1 mese\", \"type\": \"scatter\", \"x\": [-0.21487767487839865], \"y\": [1.2148776748783987]}, {\"marker\": {\"color\": \"magenta\", \"size\": 15}, \"name\": \"Stima a 4 mesi\", \"type\": \"scatter\", \"x\": [0.14407120837333953], \"y\": [0.8559287916266606]}],\n",
              "                        {\"template\": {\"data\": {\"bar\": [{\"error_x\": {\"color\": \"#2a3f5f\"}, \"error_y\": {\"color\": \"#2a3f5f\"}, \"marker\": {\"line\": {\"color\": \"#E5ECF6\", \"width\": 0.5}}, \"type\": \"bar\"}], \"barpolar\": [{\"marker\": {\"line\": {\"color\": \"#E5ECF6\", \"width\": 0.5}}, \"type\": \"barpolar\"}], \"carpet\": [{\"aaxis\": {\"endlinecolor\": \"#2a3f5f\", \"gridcolor\": \"white\", \"linecolor\": \"white\", \"minorgridcolor\": \"white\", \"startlinecolor\": \"#2a3f5f\"}, \"baxis\": {\"endlinecolor\": \"#2a3f5f\", \"gridcolor\": \"white\", \"linecolor\": \"white\", \"minorgridcolor\": \"white\", \"startlinecolor\": \"#2a3f5f\"}, \"type\": \"carpet\"}], \"choropleth\": [{\"colorbar\": {\"outlinewidth\": 0, \"ticks\": \"\"}, \"type\": \"choropleth\"}], \"contour\": [{\"colorbar\": {\"outlinewidth\": 0, \"ticks\": \"\"}, \"colorscale\": [[0.0, \"#0d0887\"], [0.1111111111111111, \"#46039f\"], [0.2222222222222222, \"#7201a8\"], [0.3333333333333333, \"#9c179e\"], [0.4444444444444444, \"#bd3786\"], [0.5555555555555556, \"#d8576b\"], [0.6666666666666666, \"#ed7953\"], [0.7777777777777778, \"#fb9f3a\"], [0.8888888888888888, \"#fdca26\"], [1.0, \"#f0f921\"]], \"type\": \"contour\"}], \"contourcarpet\": [{\"colorbar\": {\"outlinewidth\": 0, \"ticks\": \"\"}, \"type\": \"contourcarpet\"}], \"heatmap\": [{\"colorbar\": {\"outlinewidth\": 0, \"ticks\": \"\"}, \"colorscale\": [[0.0, \"#0d0887\"], [0.1111111111111111, \"#46039f\"], [0.2222222222222222, \"#7201a8\"], [0.3333333333333333, \"#9c179e\"], [0.4444444444444444, \"#bd3786\"], [0.5555555555555556, \"#d8576b\"], [0.6666666666666666, \"#ed7953\"], [0.7777777777777778, \"#fb9f3a\"], [0.8888888888888888, \"#fdca26\"], [1.0, \"#f0f921\"]], \"type\": \"heatmap\"}], \"heatmapgl\": [{\"colorbar\": {\"outlinewidth\": 0, \"ticks\": \"\"}, \"colorscale\": [[0.0, \"#0d0887\"], [0.1111111111111111, \"#46039f\"], [0.2222222222222222, \"#7201a8\"], [0.3333333333333333, \"#9c179e\"], [0.4444444444444444, \"#bd3786\"], [0.5555555555555556, \"#d8576b\"], [0.6666666666666666, \"#ed7953\"], [0.7777777777777778, \"#fb9f3a\"], [0.8888888888888888, \"#fdca26\"], [1.0, \"#f0f921\"]], \"type\": \"heatmapgl\"}], \"histogram\": [{\"marker\": {\"colorbar\": {\"outlinewidth\": 0, \"ticks\": \"\"}}, \"type\": \"histogram\"}], \"histogram2d\": [{\"colorbar\": {\"outlinewidth\": 0, \"ticks\": \"\"}, \"colorscale\": [[0.0, \"#0d0887\"], [0.1111111111111111, \"#46039f\"], [0.2222222222222222, \"#7201a8\"], [0.3333333333333333, \"#9c179e\"], [0.4444444444444444, \"#bd3786\"], [0.5555555555555556, \"#d8576b\"], [0.6666666666666666, \"#ed7953\"], [0.7777777777777778, \"#fb9f3a\"], [0.8888888888888888, \"#fdca26\"], [1.0, \"#f0f921\"]], \"type\": \"histogram2d\"}], \"histogram2dcontour\": [{\"colorbar\": {\"outlinewidth\": 0, \"ticks\": \"\"}, \"colorscale\": [[0.0, \"#0d0887\"], [0.1111111111111111, \"#46039f\"], [0.2222222222222222, \"#7201a8\"], [0.3333333333333333, \"#9c179e\"], [0.4444444444444444, \"#bd3786\"], [0.5555555555555556, \"#d8576b\"], [0.6666666666666666, \"#ed7953\"], [0.7777777777777778, \"#fb9f3a\"], [0.8888888888888888, \"#fdca26\"], [1.0, \"#f0f921\"]], \"type\": \"histogram2dcontour\"}], \"mesh3d\": [{\"colorbar\": {\"outlinewidth\": 0, \"ticks\": \"\"}, \"type\": \"mesh3d\"}], \"parcoords\": [{\"line\": {\"colorbar\": {\"outlinewidth\": 0, \"ticks\": \"\"}}, \"type\": \"parcoords\"}], \"pie\": [{\"automargin\": true, \"type\": \"pie\"}], \"scatter\": [{\"marker\": {\"colorbar\": {\"outlinewidth\": 0, \"ticks\": \"\"}}, \"type\": \"scatter\"}], \"scatter3d\": [{\"line\": {\"colorbar\": {\"outlinewidth\": 0, \"ticks\": \"\"}}, \"marker\": {\"colorbar\": {\"outlinewidth\": 0, \"ticks\": \"\"}}, \"type\": \"scatter3d\"}], \"scattercarpet\": [{\"marker\": {\"colorbar\": {\"outlinewidth\": 0, \"ticks\": \"\"}}, \"type\": \"scattercarpet\"}], \"scattergeo\": [{\"marker\": {\"colorbar\": {\"outlinewidth\": 0, \"ticks\": \"\"}}, \"type\": \"scattergeo\"}], \"scattergl\": [{\"marker\": {\"colorbar\": {\"outlinewidth\": 0, \"ticks\": \"\"}}, \"type\": \"scattergl\"}], \"scattermapbox\": [{\"marker\": {\"colorbar\": {\"outlinewidth\": 0, \"ticks\": \"\"}}, \"type\": \"scattermapbox\"}], \"scatterpolar\": [{\"marker\": {\"colorbar\": {\"outlinewidth\": 0, \"ticks\": \"\"}}, \"type\": \"scatterpolar\"}], \"scatterpolargl\": [{\"marker\": {\"colorbar\": {\"outlinewidth\": 0, \"ticks\": \"\"}}, \"type\": \"scatterpolargl\"}], \"scatterternary\": [{\"marker\": {\"colorbar\": {\"outlinewidth\": 0, \"ticks\": \"\"}}, \"type\": \"scatterternary\"}], \"surface\": [{\"colorbar\": {\"outlinewidth\": 0, \"ticks\": \"\"}, \"colorscale\": [[0.0, \"#0d0887\"], [0.1111111111111111, \"#46039f\"], [0.2222222222222222, \"#7201a8\"], [0.3333333333333333, \"#9c179e\"], [0.4444444444444444, \"#bd3786\"], [0.5555555555555556, \"#d8576b\"], [0.6666666666666666, \"#ed7953\"], [0.7777777777777778, \"#fb9f3a\"], [0.8888888888888888, \"#fdca26\"], [1.0, \"#f0f921\"]], \"type\": \"surface\"}], \"table\": [{\"cells\": {\"fill\": {\"color\": \"#EBF0F8\"}, \"line\": {\"color\": \"white\"}}, \"header\": {\"fill\": {\"color\": \"#C8D4E3\"}, \"line\": {\"color\": \"white\"}}, \"type\": \"table\"}]}, \"layout\": {\"annotationdefaults\": {\"arrowcolor\": \"#2a3f5f\", \"arrowhead\": 0, \"arrowwidth\": 1}, \"coloraxis\": {\"colorbar\": {\"outlinewidth\": 0, \"ticks\": \"\"}}, \"colorscale\": {\"diverging\": [[0, \"#8e0152\"], [0.1, \"#c51b7d\"], [0.2, \"#de77ae\"], [0.3, \"#f1b6da\"], [0.4, \"#fde0ef\"], [0.5, \"#f7f7f7\"], [0.6, \"#e6f5d0\"], [0.7, \"#b8e186\"], [0.8, \"#7fbc41\"], [0.9, \"#4d9221\"], [1, \"#276419\"]], \"sequential\": [[0.0, \"#0d0887\"], [0.1111111111111111, \"#46039f\"], [0.2222222222222222, \"#7201a8\"], [0.3333333333333333, \"#9c179e\"], [0.4444444444444444, \"#bd3786\"], [0.5555555555555556, \"#d8576b\"], [0.6666666666666666, \"#ed7953\"], [0.7777777777777778, \"#fb9f3a\"], [0.8888888888888888, \"#fdca26\"], [1.0, \"#f0f921\"]], \"sequentialminus\": [[0.0, \"#0d0887\"], [0.1111111111111111, \"#46039f\"], [0.2222222222222222, \"#7201a8\"], [0.3333333333333333, \"#9c179e\"], [0.4444444444444444, \"#bd3786\"], [0.5555555555555556, \"#d8576b\"], [0.6666666666666666, \"#ed7953\"], [0.7777777777777778, \"#fb9f3a\"], [0.8888888888888888, \"#fdca26\"], [1.0, \"#f0f921\"]]}, \"colorway\": [\"#636efa\", \"#EF553B\", \"#00cc96\", \"#ab63fa\", \"#FFA15A\", \"#19d3f3\", \"#FF6692\", \"#B6E880\", \"#FF97FF\", \"#FECB52\"], \"font\": {\"color\": \"#2a3f5f\"}, \"geo\": {\"bgcolor\": \"white\", \"lakecolor\": \"white\", \"landcolor\": \"#E5ECF6\", \"showlakes\": true, \"showland\": true, \"subunitcolor\": \"white\"}, \"hoverlabel\": {\"align\": \"left\"}, \"hovermode\": \"closest\", \"mapbox\": {\"style\": \"light\"}, \"paper_bgcolor\": \"white\", \"plot_bgcolor\": \"#E5ECF6\", \"polar\": {\"angularaxis\": {\"gridcolor\": \"white\", \"linecolor\": \"white\", \"ticks\": \"\"}, \"bgcolor\": \"#E5ECF6\", \"radialaxis\": {\"gridcolor\": \"white\", \"linecolor\": \"white\", \"ticks\": \"\"}}, \"scene\": {\"xaxis\": {\"backgroundcolor\": \"#E5ECF6\", \"gridcolor\": \"white\", \"gridwidth\": 2, \"linecolor\": \"white\", \"showbackground\": true, \"ticks\": \"\", \"zerolinecolor\": \"white\"}, \"yaxis\": {\"backgroundcolor\": \"#E5ECF6\", \"gridcolor\": \"white\", \"gridwidth\": 2, \"linecolor\": \"white\", \"showbackground\": true, \"ticks\": \"\", \"zerolinecolor\": \"white\"}, \"zaxis\": {\"backgroundcolor\": \"#E5ECF6\", \"gridcolor\": \"white\", \"gridwidth\": 2, \"linecolor\": \"white\", \"showbackground\": true, \"ticks\": \"\", \"zerolinecolor\": \"white\"}}, \"shapedefaults\": {\"line\": {\"color\": \"#2a3f5f\"}}, \"ternary\": {\"aaxis\": {\"gridcolor\": \"white\", \"linecolor\": \"white\", \"ticks\": \"\"}, \"baxis\": {\"gridcolor\": \"white\", \"linecolor\": \"white\", \"ticks\": \"\"}, \"bgcolor\": \"#E5ECF6\", \"caxis\": {\"gridcolor\": \"white\", \"linecolor\": \"white\", \"ticks\": \"\"}}, \"title\": {\"x\": 0.05}, \"xaxis\": {\"automargin\": true, \"gridcolor\": \"white\", \"linecolor\": \"white\", \"ticks\": \"\", \"title\": {\"standoff\": 15}, \"zerolinecolor\": \"white\", \"zerolinewidth\": 2}, \"yaxis\": {\"automargin\": true, \"gridcolor\": \"white\", \"linecolor\": \"white\", \"ticks\": \"\", \"title\": {\"standoff\": 15}, \"zerolinecolor\": \"white\", \"zerolinewidth\": 2}}}, \"xaxis\": {\"title\": {\"text\": \"$w_0$\"}}, \"yaxis\": {\"scaleanchor\": \"x\", \"scaleratio\": 1, \"title\": {\"text\": \"$w_1$\"}}},\n",
              "                        {\"responsive\": true}\n",
              "                    ).then(function(){\n",
              "                            \n",
              "var gd = document.getElementById('52ccd86d-1cfa-46d4-88fc-fdb67daee45f');\n",
              "var x = new MutationObserver(function (mutations, observer) {{\n",
              "        var display = window.getComputedStyle(gd).display;\n",
              "        if (!display || display === 'none') {{\n",
              "            console.log([gd, 'removed!']);\n",
              "            Plotly.purge(gd);\n",
              "            observer.disconnect();\n",
              "        }}\n",
              "}});\n",
              "\n",
              "// Listen for the removal of the full notebook cells\n",
              "var notebookContainer = gd.closest('#notebook-container');\n",
              "if (notebookContainer) {{\n",
              "    x.observe(notebookContainer, {childList: true});\n",
              "}}\n",
              "\n",
              "// Listen for the clearing of the current output cell\n",
              "var outputEl = gd.closest('.output');\n",
              "if (outputEl) {{\n",
              "    x.observe(outputEl, {childList: true});\n",
              "}}\n",
              "\n",
              "                        })\n",
              "                };\n",
              "                \n",
              "            </script>\n",
              "        </div>\n",
              "</body>\n",
              "</html>"
            ]
          },
          "metadata": {
            "tags": []
          }
        }
      ]
    },
    {
      "cell_type": "markdown",
      "metadata": {
        "id": "1K6JmImPQxoz"
      },
      "source": [
        "Passiamo adesso al portafoglio a 10 asset."
      ]
    },
    {
      "cell_type": "code",
      "metadata": {
        "colab": {
          "base_uri": "https://localhost:8080/"
        },
        "id": "nPrD8MNMQ0WV",
        "outputId": "3db725a4-d944-4c0e-b449-ab31003892d4"
      },
      "source": [
        "real_w_opt10 = min_variance_analyze(mu10, varcov10)"
      ],
      "execution_count": null,
      "outputs": [
        {
          "output_type": "stream",
          "text": [
            "Asset 0: -0.03\n",
            "Asset 1: -1.42\n",
            "Asset 2: 0.66\n",
            "Asset 3: 0.47\n",
            "Asset 4: 4.21\n",
            "Asset 5: -0.69\n",
            "Asset 6: -2.20\n",
            "Asset 7: -1.93\n",
            "Asset 8: 1.57\n",
            "Asset 9: 0.36\n",
            "Rendimento atteso: 0.50 -- Varianza: 0.02.\n"
          ],
          "name": "stdout"
        }
      ]
    },
    {
      "cell_type": "code",
      "metadata": {
        "colab": {
          "base_uri": "https://localhost:8080/"
        },
        "id": "vyc3EXc3Q7tO",
        "outputId": "37a685d0-b5a4-4e2a-e2f4-a5a06ced6621"
      },
      "source": [
        "week_w_opt10 = min_variance_analyze(mu_estimate7_data10, varcov_estimate7_data10)"
      ],
      "execution_count": null,
      "outputs": [
        {
          "output_type": "stream",
          "text": [
            "Asset 0: 0.06\n",
            "Asset 1: -2.56\n",
            "Asset 2: 1.19\n",
            "Asset 3: -0.55\n",
            "Asset 4: 4.09\n",
            "Asset 5: 1.13\n",
            "Asset 6: -2.80\n",
            "Asset 7: -2.60\n",
            "Asset 8: 1.64\n",
            "Asset 9: 1.40\n",
            "Rendimento atteso: 0.31 -- Varianza: -0.00.\n"
          ],
          "name": "stdout"
        }
      ]
    },
    {
      "cell_type": "code",
      "metadata": {
        "colab": {
          "base_uri": "https://localhost:8080/"
        },
        "id": "PnPx7dbrRB9D",
        "outputId": "59215c85-cd5a-4ac0-d444-f548de33be41"
      },
      "source": [
        "month_w_opt10 = min_variance_analyze(mu_estimate30_data10, varcov_estimate30_data10)"
      ],
      "execution_count": null,
      "outputs": [
        {
          "output_type": "stream",
          "text": [
            "Asset 0: 0.54\n",
            "Asset 1: -1.62\n",
            "Asset 2: 0.64\n",
            "Asset 3: 1.17\n",
            "Asset 4: 4.22\n",
            "Asset 5: -1.14\n",
            "Asset 6: -2.31\n",
            "Asset 7: -2.28\n",
            "Asset 8: 1.09\n",
            "Asset 9: 0.69\n",
            "Rendimento atteso: 0.57 -- Varianza: 0.01.\n"
          ],
          "name": "stdout"
        }
      ]
    },
    {
      "cell_type": "code",
      "metadata": {
        "colab": {
          "base_uri": "https://localhost:8080/"
        },
        "id": "0wkWIlfORHHa",
        "outputId": "00390ee0-a141-4bc7-c6aa-0e34dc6a9f15"
      },
      "source": [
        "quarter_w_opt10 = min_variance_analyze(mu_estimate120_data10, varcov_estimate120_data10)"
      ],
      "execution_count": null,
      "outputs": [
        {
          "output_type": "stream",
          "text": [
            "Asset 0: 0.09\n",
            "Asset 1: -1.56\n",
            "Asset 2: 0.52\n",
            "Asset 3: 0.78\n",
            "Asset 4: 4.27\n",
            "Asset 5: -0.88\n",
            "Asset 6: -2.35\n",
            "Asset 7: -2.02\n",
            "Asset 8: 1.51\n",
            "Asset 9: 0.64\n",
            "Rendimento atteso: 0.55 -- Varianza: 0.01.\n"
          ],
          "name": "stdout"
        }
      ]
    },
    {
      "cell_type": "code",
      "metadata": {
        "colab": {
          "base_uri": "https://localhost:8080/",
          "height": 542
        },
        "id": "_ETIcrc0jYFv",
        "outputId": "9afcd017-88d1-4892-ee9c-7c2f74ee141f"
      },
      "source": [
        "fig = go.Figure()\n",
        "\n",
        "fig.add_trace(go.Scatter(x=assets, y=real_w_opt10, marker=dict(color='red', size=20), name='Dato reale', mode='markers'))\n",
        "fig.add_trace(go.Scatter(x=assets, y=week_w_opt10, marker=dict(color='green', size=10), name='Stima a 7 giorni', mode='markers'))\n",
        "fig.add_trace(go.Scatter(x=assets, y=month_w_opt10, marker=dict(color='blue', size=10), name='Stima a 1 mese', mode='markers'))\n",
        "fig.add_trace(go.Scatter(x=assets, y=quarter_w_opt10, marker=dict(color='magenta', size=10), name='Stima a 4 mesi', mode='markers'))\n",
        "  \n",
        "fig.update_xaxes(title='Asset', zeroline=False, type='category')\n",
        "fig.update_yaxes(title='$w$', showgrid=False)\n",
        "fig.show()"
      ],
      "execution_count": null,
      "outputs": [
        {
          "output_type": "display_data",
          "data": {
            "text/html": [
              "<html>\n",
              "<head><meta charset=\"utf-8\" /></head>\n",
              "<body>\n",
              "    <div>\n",
              "            <script src=\"https://cdnjs.cloudflare.com/ajax/libs/mathjax/2.7.5/MathJax.js?config=TeX-AMS-MML_SVG\"></script><script type=\"text/javascript\">if (window.MathJax) {MathJax.Hub.Config({SVG: {font: \"STIX-Web\"}});}</script>\n",
              "                <script type=\"text/javascript\">window.PlotlyConfig = {MathJaxConfig: 'local'};</script>\n",
              "        <script src=\"https://cdn.plot.ly/plotly-latest.min.js\"></script>    \n",
              "            <div id=\"8746be67-d18d-4a6a-a01a-b46657b64352\" class=\"plotly-graph-div\" style=\"height:525px; width:100%;\"></div>\n",
              "            <script type=\"text/javascript\">\n",
              "                \n",
              "                    window.PLOTLYENV=window.PLOTLYENV || {};\n",
              "                    \n",
              "                if (document.getElementById(\"8746be67-d18d-4a6a-a01a-b46657b64352\")) {\n",
              "                    Plotly.newPlot(\n",
              "                        '8746be67-d18d-4a6a-a01a-b46657b64352',\n",
              "                        [{\"marker\": {\"color\": \"red\", \"size\": 20}, \"mode\": \"markers\", \"name\": \"Dato reale\", \"type\": \"scatter\", \"x\": [0, 1, 2, 3, 4, 5, 6, 7, 8, 10], \"y\": [-0.027088134882900124, -1.4163210513086386, 0.6609499438851405, 0.46573142263144096, 4.207641561466516, -0.6869133733332643, -2.203982208252866, -1.9305646457424541, 1.5702634703007234, 0.3602830152363024]}, {\"marker\": {\"color\": \"green\", \"size\": 10}, \"mode\": \"markers\", \"name\": \"Stima a 7 giorni\", \"type\": \"scatter\", \"x\": [0, 1, 2, 3, 4, 5, 6, 7, 8, 10], \"y\": [0.06408590210727694, -2.5623619327606195, 1.1913583660902496, -0.5494208148023964, 4.089891556779981, 1.131020551254861, -2.7970973686303666, -2.602604862461464, 1.6378502469685159, 1.3972783554539623]}, {\"marker\": {\"color\": \"blue\", \"size\": 10}, \"mode\": \"markers\", \"name\": \"Stima a 1 mese\", \"type\": \"scatter\", \"x\": [0, 1, 2, 3, 4, 5, 6, 7, 8, 10], \"y\": [0.5429427919339541, -1.6191516175649012, 0.6350836622243903, 1.1683573156433047, 4.217845706657608, -1.1361522836103715, -2.3064719158846967, -2.277546733008863, 1.0895313500613089, 0.685561723548267]}, {\"marker\": {\"color\": \"magenta\", \"size\": 10}, \"mode\": \"markers\", \"name\": \"Stima a 4 mesi\", \"type\": \"scatter\", \"x\": [0, 1, 2, 3, 4, 5, 6, 7, 8, 10], \"y\": [0.08737525123379335, -1.5552252915218483, 0.5236205257037215, 0.7836186637963759, 4.27409587406364, -0.8812885937487366, -2.353001950613555, -2.024481278737182, 1.5060417981221081, 0.6392450017016829]}],\n",
              "                        {\"template\": {\"data\": {\"bar\": [{\"error_x\": {\"color\": \"#2a3f5f\"}, \"error_y\": {\"color\": \"#2a3f5f\"}, \"marker\": {\"line\": {\"color\": \"#E5ECF6\", \"width\": 0.5}}, \"type\": \"bar\"}], \"barpolar\": [{\"marker\": {\"line\": {\"color\": \"#E5ECF6\", \"width\": 0.5}}, \"type\": \"barpolar\"}], \"carpet\": [{\"aaxis\": {\"endlinecolor\": \"#2a3f5f\", \"gridcolor\": \"white\", \"linecolor\": \"white\", \"minorgridcolor\": \"white\", \"startlinecolor\": \"#2a3f5f\"}, \"baxis\": {\"endlinecolor\": \"#2a3f5f\", \"gridcolor\": \"white\", \"linecolor\": \"white\", \"minorgridcolor\": \"white\", \"startlinecolor\": \"#2a3f5f\"}, \"type\": \"carpet\"}], \"choropleth\": [{\"colorbar\": {\"outlinewidth\": 0, \"ticks\": \"\"}, \"type\": \"choropleth\"}], \"contour\": [{\"colorbar\": {\"outlinewidth\": 0, \"ticks\": \"\"}, \"colorscale\": [[0.0, \"#0d0887\"], [0.1111111111111111, \"#46039f\"], [0.2222222222222222, \"#7201a8\"], [0.3333333333333333, \"#9c179e\"], [0.4444444444444444, \"#bd3786\"], [0.5555555555555556, \"#d8576b\"], [0.6666666666666666, \"#ed7953\"], [0.7777777777777778, \"#fb9f3a\"], [0.8888888888888888, \"#fdca26\"], [1.0, \"#f0f921\"]], \"type\": \"contour\"}], \"contourcarpet\": [{\"colorbar\": {\"outlinewidth\": 0, \"ticks\": \"\"}, \"type\": \"contourcarpet\"}], \"heatmap\": [{\"colorbar\": {\"outlinewidth\": 0, \"ticks\": \"\"}, \"colorscale\": [[0.0, \"#0d0887\"], [0.1111111111111111, \"#46039f\"], [0.2222222222222222, \"#7201a8\"], [0.3333333333333333, \"#9c179e\"], [0.4444444444444444, \"#bd3786\"], [0.5555555555555556, \"#d8576b\"], [0.6666666666666666, \"#ed7953\"], [0.7777777777777778, \"#fb9f3a\"], [0.8888888888888888, \"#fdca26\"], [1.0, \"#f0f921\"]], \"type\": \"heatmap\"}], \"heatmapgl\": [{\"colorbar\": {\"outlinewidth\": 0, \"ticks\": \"\"}, \"colorscale\": [[0.0, \"#0d0887\"], [0.1111111111111111, \"#46039f\"], [0.2222222222222222, \"#7201a8\"], [0.3333333333333333, \"#9c179e\"], [0.4444444444444444, \"#bd3786\"], [0.5555555555555556, \"#d8576b\"], [0.6666666666666666, \"#ed7953\"], [0.7777777777777778, \"#fb9f3a\"], [0.8888888888888888, \"#fdca26\"], [1.0, \"#f0f921\"]], \"type\": \"heatmapgl\"}], \"histogram\": [{\"marker\": {\"colorbar\": {\"outlinewidth\": 0, \"ticks\": \"\"}}, \"type\": \"histogram\"}], \"histogram2d\": [{\"colorbar\": {\"outlinewidth\": 0, \"ticks\": \"\"}, \"colorscale\": [[0.0, \"#0d0887\"], [0.1111111111111111, \"#46039f\"], [0.2222222222222222, \"#7201a8\"], [0.3333333333333333, \"#9c179e\"], [0.4444444444444444, \"#bd3786\"], [0.5555555555555556, \"#d8576b\"], [0.6666666666666666, \"#ed7953\"], [0.7777777777777778, \"#fb9f3a\"], [0.8888888888888888, \"#fdca26\"], [1.0, \"#f0f921\"]], \"type\": \"histogram2d\"}], \"histogram2dcontour\": [{\"colorbar\": {\"outlinewidth\": 0, \"ticks\": \"\"}, \"colorscale\": [[0.0, \"#0d0887\"], [0.1111111111111111, \"#46039f\"], [0.2222222222222222, \"#7201a8\"], [0.3333333333333333, \"#9c179e\"], [0.4444444444444444, \"#bd3786\"], [0.5555555555555556, \"#d8576b\"], [0.6666666666666666, \"#ed7953\"], [0.7777777777777778, \"#fb9f3a\"], [0.8888888888888888, \"#fdca26\"], [1.0, \"#f0f921\"]], \"type\": \"histogram2dcontour\"}], \"mesh3d\": [{\"colorbar\": {\"outlinewidth\": 0, \"ticks\": \"\"}, \"type\": \"mesh3d\"}], \"parcoords\": [{\"line\": {\"colorbar\": {\"outlinewidth\": 0, \"ticks\": \"\"}}, \"type\": \"parcoords\"}], \"pie\": [{\"automargin\": true, \"type\": \"pie\"}], \"scatter\": [{\"marker\": {\"colorbar\": {\"outlinewidth\": 0, \"ticks\": \"\"}}, \"type\": \"scatter\"}], \"scatter3d\": [{\"line\": {\"colorbar\": {\"outlinewidth\": 0, \"ticks\": \"\"}}, \"marker\": {\"colorbar\": {\"outlinewidth\": 0, \"ticks\": \"\"}}, \"type\": \"scatter3d\"}], \"scattercarpet\": [{\"marker\": {\"colorbar\": {\"outlinewidth\": 0, \"ticks\": \"\"}}, \"type\": \"scattercarpet\"}], \"scattergeo\": [{\"marker\": {\"colorbar\": {\"outlinewidth\": 0, \"ticks\": \"\"}}, \"type\": \"scattergeo\"}], \"scattergl\": [{\"marker\": {\"colorbar\": {\"outlinewidth\": 0, \"ticks\": \"\"}}, \"type\": \"scattergl\"}], \"scattermapbox\": [{\"marker\": {\"colorbar\": {\"outlinewidth\": 0, \"ticks\": \"\"}}, \"type\": \"scattermapbox\"}], \"scatterpolar\": [{\"marker\": {\"colorbar\": {\"outlinewidth\": 0, \"ticks\": \"\"}}, \"type\": \"scatterpolar\"}], \"scatterpolargl\": [{\"marker\": {\"colorbar\": {\"outlinewidth\": 0, \"ticks\": \"\"}}, \"type\": \"scatterpolargl\"}], \"scatterternary\": [{\"marker\": {\"colorbar\": {\"outlinewidth\": 0, \"ticks\": \"\"}}, \"type\": \"scatterternary\"}], \"surface\": [{\"colorbar\": {\"outlinewidth\": 0, \"ticks\": \"\"}, \"colorscale\": [[0.0, \"#0d0887\"], [0.1111111111111111, \"#46039f\"], [0.2222222222222222, \"#7201a8\"], [0.3333333333333333, \"#9c179e\"], [0.4444444444444444, \"#bd3786\"], [0.5555555555555556, \"#d8576b\"], [0.6666666666666666, \"#ed7953\"], [0.7777777777777778, \"#fb9f3a\"], [0.8888888888888888, \"#fdca26\"], [1.0, \"#f0f921\"]], \"type\": \"surface\"}], \"table\": [{\"cells\": {\"fill\": {\"color\": \"#EBF0F8\"}, \"line\": {\"color\": \"white\"}}, \"header\": {\"fill\": {\"color\": \"#C8D4E3\"}, \"line\": {\"color\": \"white\"}}, \"type\": \"table\"}]}, \"layout\": {\"annotationdefaults\": {\"arrowcolor\": \"#2a3f5f\", \"arrowhead\": 0, \"arrowwidth\": 1}, \"coloraxis\": {\"colorbar\": {\"outlinewidth\": 0, \"ticks\": \"\"}}, \"colorscale\": {\"diverging\": [[0, \"#8e0152\"], [0.1, \"#c51b7d\"], [0.2, \"#de77ae\"], [0.3, \"#f1b6da\"], [0.4, \"#fde0ef\"], [0.5, \"#f7f7f7\"], [0.6, \"#e6f5d0\"], [0.7, \"#b8e186\"], [0.8, \"#7fbc41\"], [0.9, \"#4d9221\"], [1, \"#276419\"]], \"sequential\": [[0.0, \"#0d0887\"], [0.1111111111111111, \"#46039f\"], [0.2222222222222222, \"#7201a8\"], [0.3333333333333333, \"#9c179e\"], [0.4444444444444444, \"#bd3786\"], [0.5555555555555556, \"#d8576b\"], [0.6666666666666666, \"#ed7953\"], [0.7777777777777778, \"#fb9f3a\"], [0.8888888888888888, \"#fdca26\"], [1.0, \"#f0f921\"]], \"sequentialminus\": [[0.0, \"#0d0887\"], [0.1111111111111111, \"#46039f\"], [0.2222222222222222, \"#7201a8\"], [0.3333333333333333, \"#9c179e\"], [0.4444444444444444, \"#bd3786\"], [0.5555555555555556, \"#d8576b\"], [0.6666666666666666, \"#ed7953\"], [0.7777777777777778, \"#fb9f3a\"], [0.8888888888888888, \"#fdca26\"], [1.0, \"#f0f921\"]]}, \"colorway\": [\"#636efa\", \"#EF553B\", \"#00cc96\", \"#ab63fa\", \"#FFA15A\", \"#19d3f3\", \"#FF6692\", \"#B6E880\", \"#FF97FF\", \"#FECB52\"], \"font\": {\"color\": \"#2a3f5f\"}, \"geo\": {\"bgcolor\": \"white\", \"lakecolor\": \"white\", \"landcolor\": \"#E5ECF6\", \"showlakes\": true, \"showland\": true, \"subunitcolor\": \"white\"}, \"hoverlabel\": {\"align\": \"left\"}, \"hovermode\": \"closest\", \"mapbox\": {\"style\": \"light\"}, \"paper_bgcolor\": \"white\", \"plot_bgcolor\": \"#E5ECF6\", \"polar\": {\"angularaxis\": {\"gridcolor\": \"white\", \"linecolor\": \"white\", \"ticks\": \"\"}, \"bgcolor\": \"#E5ECF6\", \"radialaxis\": {\"gridcolor\": \"white\", \"linecolor\": \"white\", \"ticks\": \"\"}}, \"scene\": {\"xaxis\": {\"backgroundcolor\": \"#E5ECF6\", \"gridcolor\": \"white\", \"gridwidth\": 2, \"linecolor\": \"white\", \"showbackground\": true, \"ticks\": \"\", \"zerolinecolor\": \"white\"}, \"yaxis\": {\"backgroundcolor\": \"#E5ECF6\", \"gridcolor\": \"white\", \"gridwidth\": 2, \"linecolor\": \"white\", \"showbackground\": true, \"ticks\": \"\", \"zerolinecolor\": \"white\"}, \"zaxis\": {\"backgroundcolor\": \"#E5ECF6\", \"gridcolor\": \"white\", \"gridwidth\": 2, \"linecolor\": \"white\", \"showbackground\": true, \"ticks\": \"\", \"zerolinecolor\": \"white\"}}, \"shapedefaults\": {\"line\": {\"color\": \"#2a3f5f\"}}, \"ternary\": {\"aaxis\": {\"gridcolor\": \"white\", \"linecolor\": \"white\", \"ticks\": \"\"}, \"baxis\": {\"gridcolor\": \"white\", \"linecolor\": \"white\", \"ticks\": \"\"}, \"bgcolor\": \"#E5ECF6\", \"caxis\": {\"gridcolor\": \"white\", \"linecolor\": \"white\", \"ticks\": \"\"}}, \"title\": {\"x\": 0.05}, \"xaxis\": {\"automargin\": true, \"gridcolor\": \"white\", \"linecolor\": \"white\", \"ticks\": \"\", \"title\": {\"standoff\": 15}, \"zerolinecolor\": \"white\", \"zerolinewidth\": 2}, \"yaxis\": {\"automargin\": true, \"gridcolor\": \"white\", \"linecolor\": \"white\", \"ticks\": \"\", \"title\": {\"standoff\": 15}, \"zerolinecolor\": \"white\", \"zerolinewidth\": 2}}}, \"xaxis\": {\"title\": {\"text\": \"Asset\"}, \"type\": \"category\", \"zeroline\": false}, \"yaxis\": {\"showgrid\": false, \"title\": {\"text\": \"$w$\"}}},\n",
              "                        {\"responsive\": true}\n",
              "                    ).then(function(){\n",
              "                            \n",
              "var gd = document.getElementById('8746be67-d18d-4a6a-a01a-b46657b64352');\n",
              "var x = new MutationObserver(function (mutations, observer) {{\n",
              "        var display = window.getComputedStyle(gd).display;\n",
              "        if (!display || display === 'none') {{\n",
              "            console.log([gd, 'removed!']);\n",
              "            Plotly.purge(gd);\n",
              "            observer.disconnect();\n",
              "        }}\n",
              "}});\n",
              "\n",
              "// Listen for the removal of the full notebook cells\n",
              "var notebookContainer = gd.closest('#notebook-container');\n",
              "if (notebookContainer) {{\n",
              "    x.observe(notebookContainer, {childList: true});\n",
              "}}\n",
              "\n",
              "// Listen for the clearing of the current output cell\n",
              "var outputEl = gd.closest('.output');\n",
              "if (outputEl) {{\n",
              "    x.observe(outputEl, {childList: true});\n",
              "}}\n",
              "\n",
              "                        })\n",
              "                };\n",
              "                \n",
              "            </script>\n",
              "        </div>\n",
              "</body>\n",
              "</html>"
            ]
          },
          "metadata": {
            "tags": []
          }
        }
      ]
    },
    {
      "cell_type": "markdown",
      "metadata": {
        "id": "XBOdD02pSCd8"
      },
      "source": [
        "Stiamiamo di nuovo gli errori nella stima dei pesi calcolando la norma 1 della differenza tra il risultato reale e quello approssimato. \\\n",
        "Nel caso del portafoglio con due asset abbiamo i seguenti risultati."
      ]
    },
    {
      "cell_type": "code",
      "metadata": {
        "colab": {
          "base_uri": "https://localhost:8080/"
        },
        "id": "hgkzZUPYRJpX",
        "outputId": "c374572b-e61d-4798-e1a3-ceaa5e13347f"
      },
      "source": [
        "print('Stima a 1 settimana:\\tErrore: ' + '{0:.4f}'.format(np.linalg.norm(real_w_opt2-week_w_opt2, ord=1)/2))\n",
        "print('Stima a 1 mese:\\t\\tErrore: ' + '{0:.4f}'.format(np.linalg.norm(real_w_opt2-month_w_opt2, ord=1)/2))\n",
        "print('Stima a 4 mesi:\\t\\tErrore: ' + '{0:.4f}'.format(np.linalg.norm(real_w_opt2-quarter_w_opt2, ord=1)/2))"
      ],
      "execution_count": null,
      "outputs": [
        {
          "output_type": "stream",
          "text": [
            "Stima a 1 settimana:\tErrore: 0.4003\n",
            "Stima a 1 mese:\t\tErrore: 0.2880\n",
            "Stima a 4 mesi:\t\tErrore: 0.0709\n"
          ],
          "name": "stdout"
        }
      ]
    },
    {
      "cell_type": "markdown",
      "metadata": {
        "id": "UyJnsV18S0_n"
      },
      "source": [
        "Invece, i risultati nel caso del portafoglio con 10 asset sono i seguenti."
      ]
    },
    {
      "cell_type": "code",
      "metadata": {
        "colab": {
          "base_uri": "https://localhost:8080/"
        },
        "id": "7dK390LmS9PP",
        "outputId": "6d9c1690-7a4b-4a0a-a1e0-83869858c0c6"
      },
      "source": [
        "print('Stima a 1 settimana:\\tErrore: ' + '{0:.4f}'.format(np.linalg.norm(real_w_opt10-week_w_opt10, ord=1)/10))\n",
        "print('Stima a 1 mese:\\t\\tErrore: ' + '{0:.4f}'.format(np.linalg.norm(real_w_opt10-month_w_opt10, ord=1)/10))\n",
        "print('Stima a 4 mesi:\\t\\tErrore: ' + '{0:.4f}'.format(np.linalg.norm(real_w_opt10-quarter_w_opt10, ord=1)/10))"
      ],
      "execution_count": null,
      "outputs": [
        {
          "output_type": "stream",
          "text": [
            "Stima a 1 settimana:\tErrore: 0.7088\n",
            "Stima a 1 mese:\t\tErrore: 0.3216\n",
            "Stima a 4 mesi:\t\tErrore: 0.1556\n"
          ],
          "name": "stdout"
        }
      ]
    },
    {
      "cell_type": "markdown",
      "metadata": {
        "id": "Duc76PIjPA7D"
      },
      "source": [
        "Come possiamo osservare, l'approccio a **minima varianza** permette di **ridurre** di molto l'**errore di stima** dei portafoglio ottimi rispetto all'approccio MV."
      ]
    },
    {
      "cell_type": "markdown",
      "metadata": {
        "id": "6DnRuTr70qlr"
      },
      "source": [
        "## L'effetto dei vincoli sulle vendite allo scoperto"
      ]
    },
    {
      "cell_type": "markdown",
      "metadata": {
        "id": "n4SlKBpmEJT0"
      },
      "source": [
        "Nelle precedenti sezioni, abbiamo ammesso la possibilità di avere dei pesi negativi, cioè di vendere allo scoperto alcuni asset.\\\n",
        " Proviamo adesso a escludere questa opzione e risolviamo  il seguente problema:\n",
        "$$\n",
        "\\begin{align}\n",
        "\\min_w\\ &\\frac{1}{2} w^T\\Sigma w^T\\\\\n",
        "s.t.\\ &i^T w = 1\\\\\n",
        "&w_i \\geq 0 \\quad \\forall i\n",
        "\\end{align}\n",
        "$$\n",
        "\n",
        "Durante il corso, non abbiamo visto una soluzione analitica a questo problema.  Serviamoci, quindi, della libreria *quadprog* di Python, utile  a risolvere problemi QP.  \\\n",
        "Quindi, definiamo  due funzioni per risolvere il problema di ottimizzazione e per visualizzarne meglio i risultati."
      ]
    },
    {
      "cell_type": "code",
      "metadata": {
        "id": "C7Pe8S1s0X-t"
      },
      "source": [
        "def quadprog_solve_qp(P, q, G=None, h=None, A=None, b=None):\n",
        "    qp_G = P\n",
        "    qp_a = -q\n",
        "    if A is not None:\n",
        "        qp_C = -np.vstack([A, G]).T\n",
        "        qp_b = -np.hstack([b, h])\n",
        "        meq = A.shape[0]\n",
        "    else:  # no equality constraint\n",
        "        qp_C = -G.T\n",
        "        qp_b = -h\n",
        "        meq = 0\n",
        "    return quadprog.solve_qp(qp_G, qp_a, qp_C, qp_b, meq)[0]\n",
        "\n",
        "def no_short_sales_analyze(w_opt, mu, varcov):\n",
        "  n = w_opt.shape[0]\n",
        "  mu_opt = np.dot(mu,w_opt)\n",
        "  sigma2_opt = np.dot(w_opt, varcov.dot(w_opt))\n",
        "\n",
        "  output = ''\n",
        "  for i in range(n):\n",
        "    output += 'Asset ' + str(i) + ': ' + '{0:.2f}'.format(w_opt[i]) + '\\n'\n",
        "\n",
        "  output += 'Rendimento atteso: ' + '{0:.2f}'.format(mu_opt) + ' -- Varianza: ' + '{0:.2f}'.format(sigma2_opt) + '.'\n",
        "  print(output)\n",
        "\n",
        "  return w_opt"
      ],
      "execution_count": null,
      "outputs": []
    },
    {
      "cell_type": "markdown",
      "metadata": {
        "id": "TSXMvQSVGgY4"
      },
      "source": [
        "Iniziamo ancora una volta dal portafoglio a due asset."
      ]
    },
    {
      "cell_type": "code",
      "metadata": {
        "colab": {
          "base_uri": "https://localhost:8080/"
        },
        "id": "K385dSvz07pt",
        "outputId": "9f8d9e37-b842-4546-bede-67e5b786bbe5"
      },
      "source": [
        "q = np.array([0,0], dtype=np.double) # non abbiamo la componente lineare\n",
        "G = -np.identity(2,dtype=np.double) # matrice per vincoli di disuguaglianza\n",
        "h = np.array([0,0],dtype=np.double) # vettore per vincoli di disuguaglianza\n",
        "A = np.array([[1,1]],dtype=np.double) # matrice per vincoli di uguaglianza\n",
        "b = np.array(1,dtype=np.double) # vettore per vincoli di uguaglianza\n",
        "\n",
        "#risultato reale\n",
        "real_minvar_w_opt2 = no_short_sales_analyze(quadprog_solve_qp(varcov2, q, G, h, A, b), mu2, varcov2)"
      ],
      "execution_count": null,
      "outputs": [
        {
          "output_type": "stream",
          "text": [
            "Asset 0: 0.07\n",
            "Asset 1: 0.93\n",
            "Rendimento atteso: 0.05 -- Varianza: 0.02.\n"
          ],
          "name": "stdout"
        }
      ]
    },
    {
      "cell_type": "code",
      "metadata": {
        "colab": {
          "base_uri": "https://localhost:8080/"
        },
        "id": "rS7FosAo161b",
        "outputId": "02635b51-d809-4303-aaf3-02ebb5036571"
      },
      "source": [
        "#stima a 1 settimana\n",
        "week_minvar_w_opt2 = no_short_sales_analyze(quadprog_solve_qp(varcov_estimate7_data2, q, G, h, A, b), mu_estimate7_data2, varcov_estimate7_data2)"
      ],
      "execution_count": null,
      "outputs": [
        {
          "output_type": "stream",
          "text": [
            "Asset 0: 0.00\n",
            "Asset 1: 1.00\n",
            "Rendimento atteso: 0.04 -- Varianza: 0.03.\n"
          ],
          "name": "stdout"
        }
      ]
    },
    {
      "cell_type": "code",
      "metadata": {
        "colab": {
          "base_uri": "https://localhost:8080/"
        },
        "id": "cAVqaJ0a3QSe",
        "outputId": "566224ee-8813-443f-d8af-342969df04b6"
      },
      "source": [
        "#stima a 1 mese\n",
        "month_minvar_w_opt2 = no_short_sales_analyze(quadprog_solve_qp(varcov_estimate30_data2, q, G, h, A, b), mu_estimate30_data2, varcov_estimate30_data2)"
      ],
      "execution_count": null,
      "outputs": [
        {
          "output_type": "stream",
          "text": [
            "Asset 0: 0.00\n",
            "Asset 1: 1.00\n",
            "Rendimento atteso: 0.07 -- Varianza: 0.02.\n"
          ],
          "name": "stdout"
        }
      ]
    },
    {
      "cell_type": "code",
      "metadata": {
        "colab": {
          "base_uri": "https://localhost:8080/"
        },
        "id": "lOB5JLqU3SCn",
        "outputId": "4c419fe4-7c10-4925-99cf-fd004d315921"
      },
      "source": [
        "#stima a 4 mesi\n",
        "quarter_minvar_w_opt2 = no_short_sales_analyze(quadprog_solve_qp(varcov_estimate120_data2, q, G, h, A, b), mu_estimate120_data2, varcov_estimate120_data2)"
      ],
      "execution_count": null,
      "outputs": [
        {
          "output_type": "stream",
          "text": [
            "Asset 0: 0.14\n",
            "Asset 1: 0.86\n",
            "Rendimento atteso: 0.05 -- Varianza: 0.02.\n"
          ],
          "name": "stdout"
        }
      ]
    },
    {
      "cell_type": "markdown",
      "metadata": {
        "id": "rqwfkixbMTnZ"
      },
      "source": [
        "In questo caso si notano sicuramente dei **risultati più accurati** anche con **pochi dati**."
      ]
    },
    {
      "cell_type": "code",
      "metadata": {
        "colab": {
          "base_uri": "https://localhost:8080/",
          "height": 542
        },
        "id": "cxO1-CsdNCV1",
        "outputId": "58e9c468-e162-41b0-a54e-261ebdfcd375"
      },
      "source": [
        "fig = go.Figure()\n",
        "\n",
        "fig.add_trace(go.Scatter(x=[real_minvar_w_opt2[0]], y=[real_minvar_w_opt2[1]], marker=dict(color='red', size=25), name='Dato reale'))\n",
        "fig.add_trace(go.Scatter(x=[week_minvar_w_opt2[0]], y=[week_minvar_w_opt2[1]], marker=dict(color='green', size=15), name='Stima a 7 giorni'))\n",
        "fig.add_trace(go.Scatter(x=[month_minvar_w_opt2[0]], y=[month_minvar_w_opt2[1]], marker=dict(color='blue', size=15), name='Stima a 1 mese'))\n",
        "fig.add_trace(go.Scatter(x=[quarter_minvar_w_opt2[0]], y=[quarter_minvar_w_opt2[1]], marker=dict(color='magenta', size=15), name='Stima a 4 mesi'))\n",
        "\n",
        "fig.update_xaxes(title='$w_0$')\n",
        "fig.update_yaxes(scaleanchor = \"x\", scaleratio = 1, title='$w_1$')\n",
        "fig.show()"
      ],
      "execution_count": null,
      "outputs": [
        {
          "output_type": "display_data",
          "data": {
            "text/html": [
              "<html>\n",
              "<head><meta charset=\"utf-8\" /></head>\n",
              "<body>\n",
              "    <div>\n",
              "            <script src=\"https://cdnjs.cloudflare.com/ajax/libs/mathjax/2.7.5/MathJax.js?config=TeX-AMS-MML_SVG\"></script><script type=\"text/javascript\">if (window.MathJax) {MathJax.Hub.Config({SVG: {font: \"STIX-Web\"}});}</script>\n",
              "                <script type=\"text/javascript\">window.PlotlyConfig = {MathJaxConfig: 'local'};</script>\n",
              "        <script src=\"https://cdn.plot.ly/plotly-latest.min.js\"></script>    \n",
              "            <div id=\"33a0e6f0-dd57-4eb9-87b8-a379ed2ed207\" class=\"plotly-graph-div\" style=\"height:525px; width:100%;\"></div>\n",
              "            <script type=\"text/javascript\">\n",
              "                \n",
              "                    window.PLOTLYENV=window.PLOTLYENV || {};\n",
              "                    \n",
              "                if (document.getElementById(\"33a0e6f0-dd57-4eb9-87b8-a379ed2ed207\")) {\n",
              "                    Plotly.newPlot(\n",
              "                        '33a0e6f0-dd57-4eb9-87b8-a379ed2ed207',\n",
              "                        [{\"marker\": {\"color\": \"red\", \"size\": 25}, \"name\": \"Dato reale\", \"type\": \"scatter\", \"x\": [0.07317073170731711], \"y\": [0.9268292682926829]}, {\"marker\": {\"color\": \"green\", \"size\": 15}, \"name\": \"Stima a 7 giorni\", \"type\": \"scatter\", \"x\": [0.0], \"y\": [1.0]}, {\"marker\": {\"color\": \"blue\", \"size\": 15}, \"name\": \"Stima a 1 mese\", \"type\": \"scatter\", \"x\": [2.7755575615628914e-17], \"y\": [0.9999999999999998]}, {\"marker\": {\"color\": \"magenta\", \"size\": 15}, \"name\": \"Stima a 4 mesi\", \"type\": \"scatter\", \"x\": [0.14407120837333942], \"y\": [0.8559287916266606]}],\n",
              "                        {\"template\": {\"data\": {\"bar\": [{\"error_x\": {\"color\": \"#2a3f5f\"}, \"error_y\": {\"color\": \"#2a3f5f\"}, \"marker\": {\"line\": {\"color\": \"#E5ECF6\", \"width\": 0.5}}, \"type\": \"bar\"}], \"barpolar\": [{\"marker\": {\"line\": {\"color\": \"#E5ECF6\", \"width\": 0.5}}, \"type\": \"barpolar\"}], \"carpet\": [{\"aaxis\": {\"endlinecolor\": \"#2a3f5f\", \"gridcolor\": \"white\", \"linecolor\": \"white\", \"minorgridcolor\": \"white\", \"startlinecolor\": \"#2a3f5f\"}, \"baxis\": {\"endlinecolor\": \"#2a3f5f\", \"gridcolor\": \"white\", \"linecolor\": \"white\", \"minorgridcolor\": \"white\", \"startlinecolor\": \"#2a3f5f\"}, \"type\": \"carpet\"}], \"choropleth\": [{\"colorbar\": {\"outlinewidth\": 0, \"ticks\": \"\"}, \"type\": \"choropleth\"}], \"contour\": [{\"colorbar\": {\"outlinewidth\": 0, \"ticks\": \"\"}, \"colorscale\": [[0.0, \"#0d0887\"], [0.1111111111111111, \"#46039f\"], [0.2222222222222222, \"#7201a8\"], [0.3333333333333333, \"#9c179e\"], [0.4444444444444444, \"#bd3786\"], [0.5555555555555556, \"#d8576b\"], [0.6666666666666666, \"#ed7953\"], [0.7777777777777778, \"#fb9f3a\"], [0.8888888888888888, \"#fdca26\"], [1.0, \"#f0f921\"]], \"type\": \"contour\"}], \"contourcarpet\": [{\"colorbar\": {\"outlinewidth\": 0, \"ticks\": \"\"}, \"type\": \"contourcarpet\"}], \"heatmap\": [{\"colorbar\": {\"outlinewidth\": 0, \"ticks\": \"\"}, \"colorscale\": [[0.0, \"#0d0887\"], [0.1111111111111111, \"#46039f\"], [0.2222222222222222, \"#7201a8\"], [0.3333333333333333, \"#9c179e\"], [0.4444444444444444, \"#bd3786\"], [0.5555555555555556, \"#d8576b\"], [0.6666666666666666, \"#ed7953\"], [0.7777777777777778, \"#fb9f3a\"], [0.8888888888888888, \"#fdca26\"], [1.0, \"#f0f921\"]], \"type\": \"heatmap\"}], \"heatmapgl\": [{\"colorbar\": {\"outlinewidth\": 0, \"ticks\": \"\"}, \"colorscale\": [[0.0, \"#0d0887\"], [0.1111111111111111, \"#46039f\"], [0.2222222222222222, \"#7201a8\"], [0.3333333333333333, \"#9c179e\"], [0.4444444444444444, \"#bd3786\"], [0.5555555555555556, \"#d8576b\"], [0.6666666666666666, \"#ed7953\"], [0.7777777777777778, \"#fb9f3a\"], [0.8888888888888888, \"#fdca26\"], [1.0, \"#f0f921\"]], \"type\": \"heatmapgl\"}], \"histogram\": [{\"marker\": {\"colorbar\": {\"outlinewidth\": 0, \"ticks\": \"\"}}, \"type\": \"histogram\"}], \"histogram2d\": [{\"colorbar\": {\"outlinewidth\": 0, \"ticks\": \"\"}, \"colorscale\": [[0.0, \"#0d0887\"], [0.1111111111111111, \"#46039f\"], [0.2222222222222222, \"#7201a8\"], [0.3333333333333333, \"#9c179e\"], [0.4444444444444444, \"#bd3786\"], [0.5555555555555556, \"#d8576b\"], [0.6666666666666666, \"#ed7953\"], [0.7777777777777778, \"#fb9f3a\"], [0.8888888888888888, \"#fdca26\"], [1.0, \"#f0f921\"]], \"type\": \"histogram2d\"}], \"histogram2dcontour\": [{\"colorbar\": {\"outlinewidth\": 0, \"ticks\": \"\"}, \"colorscale\": [[0.0, \"#0d0887\"], [0.1111111111111111, \"#46039f\"], [0.2222222222222222, \"#7201a8\"], [0.3333333333333333, \"#9c179e\"], [0.4444444444444444, \"#bd3786\"], [0.5555555555555556, \"#d8576b\"], [0.6666666666666666, \"#ed7953\"], [0.7777777777777778, \"#fb9f3a\"], [0.8888888888888888, \"#fdca26\"], [1.0, \"#f0f921\"]], \"type\": \"histogram2dcontour\"}], \"mesh3d\": [{\"colorbar\": {\"outlinewidth\": 0, \"ticks\": \"\"}, \"type\": \"mesh3d\"}], \"parcoords\": [{\"line\": {\"colorbar\": {\"outlinewidth\": 0, \"ticks\": \"\"}}, \"type\": \"parcoords\"}], \"pie\": [{\"automargin\": true, \"type\": \"pie\"}], \"scatter\": [{\"marker\": {\"colorbar\": {\"outlinewidth\": 0, \"ticks\": \"\"}}, \"type\": \"scatter\"}], \"scatter3d\": [{\"line\": {\"colorbar\": {\"outlinewidth\": 0, \"ticks\": \"\"}}, \"marker\": {\"colorbar\": {\"outlinewidth\": 0, \"ticks\": \"\"}}, \"type\": \"scatter3d\"}], \"scattercarpet\": [{\"marker\": {\"colorbar\": {\"outlinewidth\": 0, \"ticks\": \"\"}}, \"type\": \"scattercarpet\"}], \"scattergeo\": [{\"marker\": {\"colorbar\": {\"outlinewidth\": 0, \"ticks\": \"\"}}, \"type\": \"scattergeo\"}], \"scattergl\": [{\"marker\": {\"colorbar\": {\"outlinewidth\": 0, \"ticks\": \"\"}}, \"type\": \"scattergl\"}], \"scattermapbox\": [{\"marker\": {\"colorbar\": {\"outlinewidth\": 0, \"ticks\": \"\"}}, \"type\": \"scattermapbox\"}], \"scatterpolar\": [{\"marker\": {\"colorbar\": {\"outlinewidth\": 0, \"ticks\": \"\"}}, \"type\": \"scatterpolar\"}], \"scatterpolargl\": [{\"marker\": {\"colorbar\": {\"outlinewidth\": 0, \"ticks\": \"\"}}, \"type\": \"scatterpolargl\"}], \"scatterternary\": [{\"marker\": {\"colorbar\": {\"outlinewidth\": 0, \"ticks\": \"\"}}, \"type\": \"scatterternary\"}], \"surface\": [{\"colorbar\": {\"outlinewidth\": 0, \"ticks\": \"\"}, \"colorscale\": [[0.0, \"#0d0887\"], [0.1111111111111111, \"#46039f\"], [0.2222222222222222, \"#7201a8\"], [0.3333333333333333, \"#9c179e\"], [0.4444444444444444, \"#bd3786\"], [0.5555555555555556, \"#d8576b\"], [0.6666666666666666, \"#ed7953\"], [0.7777777777777778, \"#fb9f3a\"], [0.8888888888888888, \"#fdca26\"], [1.0, \"#f0f921\"]], \"type\": \"surface\"}], \"table\": [{\"cells\": {\"fill\": {\"color\": \"#EBF0F8\"}, \"line\": {\"color\": \"white\"}}, \"header\": {\"fill\": {\"color\": \"#C8D4E3\"}, \"line\": {\"color\": \"white\"}}, \"type\": \"table\"}]}, \"layout\": {\"annotationdefaults\": {\"arrowcolor\": \"#2a3f5f\", \"arrowhead\": 0, \"arrowwidth\": 1}, \"coloraxis\": {\"colorbar\": {\"outlinewidth\": 0, \"ticks\": \"\"}}, \"colorscale\": {\"diverging\": [[0, \"#8e0152\"], [0.1, \"#c51b7d\"], [0.2, \"#de77ae\"], [0.3, \"#f1b6da\"], [0.4, \"#fde0ef\"], [0.5, \"#f7f7f7\"], [0.6, \"#e6f5d0\"], [0.7, \"#b8e186\"], [0.8, \"#7fbc41\"], [0.9, \"#4d9221\"], [1, \"#276419\"]], \"sequential\": [[0.0, \"#0d0887\"], [0.1111111111111111, \"#46039f\"], [0.2222222222222222, \"#7201a8\"], [0.3333333333333333, \"#9c179e\"], [0.4444444444444444, \"#bd3786\"], [0.5555555555555556, \"#d8576b\"], [0.6666666666666666, \"#ed7953\"], [0.7777777777777778, \"#fb9f3a\"], [0.8888888888888888, \"#fdca26\"], [1.0, \"#f0f921\"]], \"sequentialminus\": [[0.0, \"#0d0887\"], [0.1111111111111111, \"#46039f\"], [0.2222222222222222, \"#7201a8\"], [0.3333333333333333, \"#9c179e\"], [0.4444444444444444, \"#bd3786\"], [0.5555555555555556, \"#d8576b\"], [0.6666666666666666, \"#ed7953\"], [0.7777777777777778, \"#fb9f3a\"], [0.8888888888888888, \"#fdca26\"], [1.0, \"#f0f921\"]]}, \"colorway\": [\"#636efa\", \"#EF553B\", \"#00cc96\", \"#ab63fa\", \"#FFA15A\", \"#19d3f3\", \"#FF6692\", \"#B6E880\", \"#FF97FF\", \"#FECB52\"], \"font\": {\"color\": \"#2a3f5f\"}, \"geo\": {\"bgcolor\": \"white\", \"lakecolor\": \"white\", \"landcolor\": \"#E5ECF6\", \"showlakes\": true, \"showland\": true, \"subunitcolor\": \"white\"}, \"hoverlabel\": {\"align\": \"left\"}, \"hovermode\": \"closest\", \"mapbox\": {\"style\": \"light\"}, \"paper_bgcolor\": \"white\", \"plot_bgcolor\": \"#E5ECF6\", \"polar\": {\"angularaxis\": {\"gridcolor\": \"white\", \"linecolor\": \"white\", \"ticks\": \"\"}, \"bgcolor\": \"#E5ECF6\", \"radialaxis\": {\"gridcolor\": \"white\", \"linecolor\": \"white\", \"ticks\": \"\"}}, \"scene\": {\"xaxis\": {\"backgroundcolor\": \"#E5ECF6\", \"gridcolor\": \"white\", \"gridwidth\": 2, \"linecolor\": \"white\", \"showbackground\": true, \"ticks\": \"\", \"zerolinecolor\": \"white\"}, \"yaxis\": {\"backgroundcolor\": \"#E5ECF6\", \"gridcolor\": \"white\", \"gridwidth\": 2, \"linecolor\": \"white\", \"showbackground\": true, \"ticks\": \"\", \"zerolinecolor\": \"white\"}, \"zaxis\": {\"backgroundcolor\": \"#E5ECF6\", \"gridcolor\": \"white\", \"gridwidth\": 2, \"linecolor\": \"white\", \"showbackground\": true, \"ticks\": \"\", \"zerolinecolor\": \"white\"}}, \"shapedefaults\": {\"line\": {\"color\": \"#2a3f5f\"}}, \"ternary\": {\"aaxis\": {\"gridcolor\": \"white\", \"linecolor\": \"white\", \"ticks\": \"\"}, \"baxis\": {\"gridcolor\": \"white\", \"linecolor\": \"white\", \"ticks\": \"\"}, \"bgcolor\": \"#E5ECF6\", \"caxis\": {\"gridcolor\": \"white\", \"linecolor\": \"white\", \"ticks\": \"\"}}, \"title\": {\"x\": 0.05}, \"xaxis\": {\"automargin\": true, \"gridcolor\": \"white\", \"linecolor\": \"white\", \"ticks\": \"\", \"title\": {\"standoff\": 15}, \"zerolinecolor\": \"white\", \"zerolinewidth\": 2}, \"yaxis\": {\"automargin\": true, \"gridcolor\": \"white\", \"linecolor\": \"white\", \"ticks\": \"\", \"title\": {\"standoff\": 15}, \"zerolinecolor\": \"white\", \"zerolinewidth\": 2}}}, \"xaxis\": {\"title\": {\"text\": \"$w_0$\"}}, \"yaxis\": {\"scaleanchor\": \"x\", \"scaleratio\": 1, \"title\": {\"text\": \"$w_1$\"}}},\n",
              "                        {\"responsive\": true}\n",
              "                    ).then(function(){\n",
              "                            \n",
              "var gd = document.getElementById('33a0e6f0-dd57-4eb9-87b8-a379ed2ed207');\n",
              "var x = new MutationObserver(function (mutations, observer) {{\n",
              "        var display = window.getComputedStyle(gd).display;\n",
              "        if (!display || display === 'none') {{\n",
              "            console.log([gd, 'removed!']);\n",
              "            Plotly.purge(gd);\n",
              "            observer.disconnect();\n",
              "        }}\n",
              "}});\n",
              "\n",
              "// Listen for the removal of the full notebook cells\n",
              "var notebookContainer = gd.closest('#notebook-container');\n",
              "if (notebookContainer) {{\n",
              "    x.observe(notebookContainer, {childList: true});\n",
              "}}\n",
              "\n",
              "// Listen for the clearing of the current output cell\n",
              "var outputEl = gd.closest('.output');\n",
              "if (outputEl) {{\n",
              "    x.observe(outputEl, {childList: true});\n",
              "}}\n",
              "\n",
              "                        })\n",
              "                };\n",
              "                \n",
              "            </script>\n",
              "        </div>\n",
              "</body>\n",
              "</html>"
            ]
          },
          "metadata": {
            "tags": []
          }
        }
      ]
    },
    {
      "cell_type": "markdown",
      "metadata": {
        "id": "UP89g-klH7UU"
      },
      "source": [
        "Passiamo adesso al portafoglio a 10 asset. \\\n",
        "Ricordiamo che la matrice di varianza-covarianza stimata con i dati di una settimana non è definita positiva, per questa ragione il solver non è in grado di trovare una soluzione."
      ]
    },
    {
      "cell_type": "code",
      "metadata": {
        "colab": {
          "base_uri": "https://localhost:8080/"
        },
        "id": "5cgURr6P3YZl",
        "outputId": "98ecdc10-34f4-44c2-98b2-f4c069b29407"
      },
      "source": [
        "q = np.zeros(shape=10, dtype=np.double) # non abbiamo la componente lineare\n",
        "G = -np.identity(10,dtype=np.double) # matrice per vincoli di disuguaglianza\n",
        "h = np.zeros(shape=10,dtype=np.double) # vettore per vincoli di disuguaglianza\n",
        "A = np.ones(shape=[1,10],dtype=np.double) # matrice per vincoli di uguaglianza\n",
        "b = np.array(1,dtype=np.double) # vettore per vincoli di uguaglianza\n",
        "\n",
        "# risultato reale\n",
        "real_minvar_w_opt10 = no_short_sales_analyze(quadprog_solve_qp(varcov10, q, G, h, A, b), mu10, varcov10)"
      ],
      "execution_count": null,
      "outputs": [
        {
          "output_type": "stream",
          "text": [
            "Asset 0: 0.00\n",
            "Asset 1: 0.00\n",
            "Asset 2: 0.14\n",
            "Asset 3: 0.12\n",
            "Asset 4: 0.74\n",
            "Asset 5: -0.00\n",
            "Asset 6: 0.00\n",
            "Asset 7: 0.00\n",
            "Asset 8: -0.00\n",
            "Asset 9: 0.00\n",
            "Rendimento atteso: 0.16 -- Varianza: 0.07.\n"
          ],
          "name": "stdout"
        }
      ]
    },
    {
      "cell_type": "code",
      "metadata": {
        "colab": {
          "base_uri": "https://localhost:8080/"
        },
        "id": "1rQfHGQ8CFp8",
        "outputId": "fc0dc409-4178-47a9-b77e-35a6292e8dcb"
      },
      "source": [
        "# stima a 1 mese\n",
        "month_minvar_w_opt10 = no_short_sales_analyze(quadprog_solve_qp(varcov_estimate30_data10, q, G, h, A, b), mu_estimate30_data10, varcov_estimate30_data10)"
      ],
      "execution_count": null,
      "outputs": [
        {
          "output_type": "stream",
          "text": [
            "Asset 0: 0.00\n",
            "Asset 1: 0.00\n",
            "Asset 2: 0.00\n",
            "Asset 3: 0.65\n",
            "Asset 4: 0.35\n",
            "Asset 5: -0.00\n",
            "Asset 6: 0.00\n",
            "Asset 7: -0.00\n",
            "Asset 8: -0.00\n",
            "Asset 9: -0.00\n",
            "Rendimento atteso: 0.11 -- Varianza: 0.05.\n"
          ],
          "name": "stdout"
        }
      ]
    },
    {
      "cell_type": "code",
      "metadata": {
        "colab": {
          "base_uri": "https://localhost:8080/"
        },
        "id": "25n2aszqCPcr",
        "outputId": "43c232f2-294c-438e-cce3-40426da9df5c"
      },
      "source": [
        "# stima a 4 mesi\n",
        "quarter_minvar_w_opt10 = no_short_sales_analyze(quadprog_solve_qp(varcov_estimate120_data10, q, G, h, A, b), mu_estimate120_data10, varcov_estimate120_data10)"
      ],
      "execution_count": null,
      "outputs": [
        {
          "output_type": "stream",
          "text": [
            "Asset 0: 0.00\n",
            "Asset 1: -0.00\n",
            "Asset 2: 0.00\n",
            "Asset 3: 0.35\n",
            "Asset 4: 0.65\n",
            "Asset 5: 0.00\n",
            "Asset 6: -0.00\n",
            "Asset 7: -0.00\n",
            "Asset 8: -0.00\n",
            "Asset 9: -0.00\n",
            "Rendimento atteso: 0.11 -- Varianza: 0.07.\n"
          ],
          "name": "stdout"
        }
      ]
    },
    {
      "cell_type": "code",
      "metadata": {
        "colab": {
          "base_uri": "https://localhost:8080/",
          "height": 542
        },
        "id": "0uijFgxTCTvO",
        "outputId": "f79fc7d0-d282-4606-c85b-783734de31ab"
      },
      "source": [
        "fig = go.Figure()\n",
        "\n",
        "fig.add_trace(go.Scatter(x=assets, y=real_minvar_w_opt10, marker=dict(color='red', size=20), name='Dato reale', mode='markers'))\n",
        "fig.add_trace(go.Scatter(x=assets, y=month_minvar_w_opt10, marker=dict(color='blue', size=10), name='Stima a 1 mese', mode='markers'))\n",
        "fig.add_trace(go.Scatter(x=assets, y=quarter_minvar_w_opt10, marker=dict(color='magenta', size=10), name='Stima a 4 mesi', mode='markers'))\n",
        "  \n",
        "fig.update_xaxes(title='Asset', zeroline=False, type='category')\n",
        "fig.update_yaxes(title='$w$', showgrid=False)\n",
        "fig.show()"
      ],
      "execution_count": null,
      "outputs": [
        {
          "output_type": "display_data",
          "data": {
            "text/html": [
              "<html>\n",
              "<head><meta charset=\"utf-8\" /></head>\n",
              "<body>\n",
              "    <div>\n",
              "            <script src=\"https://cdnjs.cloudflare.com/ajax/libs/mathjax/2.7.5/MathJax.js?config=TeX-AMS-MML_SVG\"></script><script type=\"text/javascript\">if (window.MathJax) {MathJax.Hub.Config({SVG: {font: \"STIX-Web\"}});}</script>\n",
              "                <script type=\"text/javascript\">window.PlotlyConfig = {MathJaxConfig: 'local'};</script>\n",
              "        <script src=\"https://cdn.plot.ly/plotly-latest.min.js\"></script>    \n",
              "            <div id=\"6f4775d8-133d-4120-95b6-ad7df79db461\" class=\"plotly-graph-div\" style=\"height:525px; width:100%;\"></div>\n",
              "            <script type=\"text/javascript\">\n",
              "                \n",
              "                    window.PLOTLYENV=window.PLOTLYENV || {};\n",
              "                    \n",
              "                if (document.getElementById(\"6f4775d8-133d-4120-95b6-ad7df79db461\")) {\n",
              "                    Plotly.newPlot(\n",
              "                        '6f4775d8-133d-4120-95b6-ad7df79db461',\n",
              "                        [{\"marker\": {\"color\": \"red\", \"size\": 20}, \"mode\": \"markers\", \"name\": \"Dato reale\", \"type\": \"scatter\", \"x\": [0, 1, 2, 3, 4, 5, 6, 7, 8, 10], \"y\": [1.0191541853963306e-16, 5.7292458405370845e-18, 0.14294233973130654, 0.11613390728794239, 0.7409237529807496, -3.3768996844267535e-16, 1.372177704762303e-15, 1.1219883829989642e-15, -1.6362117886422348e-16, 0.0]}, {\"marker\": {\"color\": \"blue\", \"size\": 10}, \"mode\": \"markers\", \"name\": \"Stima a 1 mese\", \"type\": \"scatter\", \"x\": [0, 1, 2, 3, 4, 5, 6, 7, 8, 10], \"y\": [0.0, 3.444826917494393e-16, 0.0, 0.648103322170277, 0.3518966778297142, -8.076408290424851e-16, 2.0248046811850742e-15, -3.1309562474984524e-15, -2.2955721777201235e-17, -9.288211506875021e-17]}, {\"marker\": {\"color\": \"magenta\", \"size\": 10}, \"mode\": \"markers\", \"name\": \"Stima a 4 mesi\", \"type\": \"scatter\", \"x\": [0, 1, 2, 3, 4, 5, 6, 7, 8, 10], \"y\": [9.333175479971328e-18, -1.5908684194025323e-17, 0.0, 0.3487422659617918, 0.6512577340382111, 1.476063435970883e-16, -1.8680000804788153e-15, -1.208789731668009e-16, -2.7105410359901857e-16, -1.304799751490656e-19]}],\n",
              "                        {\"template\": {\"data\": {\"bar\": [{\"error_x\": {\"color\": \"#2a3f5f\"}, \"error_y\": {\"color\": \"#2a3f5f\"}, \"marker\": {\"line\": {\"color\": \"#E5ECF6\", \"width\": 0.5}}, \"type\": \"bar\"}], \"barpolar\": [{\"marker\": {\"line\": {\"color\": \"#E5ECF6\", \"width\": 0.5}}, \"type\": \"barpolar\"}], \"carpet\": [{\"aaxis\": {\"endlinecolor\": \"#2a3f5f\", \"gridcolor\": \"white\", \"linecolor\": \"white\", \"minorgridcolor\": \"white\", \"startlinecolor\": \"#2a3f5f\"}, \"baxis\": {\"endlinecolor\": \"#2a3f5f\", \"gridcolor\": \"white\", \"linecolor\": \"white\", \"minorgridcolor\": \"white\", \"startlinecolor\": \"#2a3f5f\"}, \"type\": \"carpet\"}], \"choropleth\": [{\"colorbar\": {\"outlinewidth\": 0, \"ticks\": \"\"}, \"type\": \"choropleth\"}], \"contour\": [{\"colorbar\": {\"outlinewidth\": 0, \"ticks\": \"\"}, \"colorscale\": [[0.0, \"#0d0887\"], [0.1111111111111111, \"#46039f\"], [0.2222222222222222, \"#7201a8\"], [0.3333333333333333, \"#9c179e\"], [0.4444444444444444, \"#bd3786\"], [0.5555555555555556, \"#d8576b\"], [0.6666666666666666, \"#ed7953\"], [0.7777777777777778, \"#fb9f3a\"], [0.8888888888888888, \"#fdca26\"], [1.0, \"#f0f921\"]], \"type\": \"contour\"}], \"contourcarpet\": [{\"colorbar\": {\"outlinewidth\": 0, \"ticks\": \"\"}, \"type\": \"contourcarpet\"}], \"heatmap\": [{\"colorbar\": {\"outlinewidth\": 0, \"ticks\": \"\"}, \"colorscale\": [[0.0, \"#0d0887\"], [0.1111111111111111, \"#46039f\"], [0.2222222222222222, \"#7201a8\"], [0.3333333333333333, \"#9c179e\"], [0.4444444444444444, \"#bd3786\"], [0.5555555555555556, \"#d8576b\"], [0.6666666666666666, \"#ed7953\"], [0.7777777777777778, \"#fb9f3a\"], [0.8888888888888888, \"#fdca26\"], [1.0, \"#f0f921\"]], \"type\": \"heatmap\"}], \"heatmapgl\": [{\"colorbar\": {\"outlinewidth\": 0, \"ticks\": \"\"}, \"colorscale\": [[0.0, \"#0d0887\"], [0.1111111111111111, \"#46039f\"], [0.2222222222222222, \"#7201a8\"], [0.3333333333333333, \"#9c179e\"], [0.4444444444444444, \"#bd3786\"], [0.5555555555555556, \"#d8576b\"], [0.6666666666666666, \"#ed7953\"], [0.7777777777777778, \"#fb9f3a\"], [0.8888888888888888, \"#fdca26\"], [1.0, \"#f0f921\"]], \"type\": \"heatmapgl\"}], \"histogram\": [{\"marker\": {\"colorbar\": {\"outlinewidth\": 0, \"ticks\": \"\"}}, \"type\": \"histogram\"}], \"histogram2d\": [{\"colorbar\": {\"outlinewidth\": 0, \"ticks\": \"\"}, \"colorscale\": [[0.0, \"#0d0887\"], [0.1111111111111111, \"#46039f\"], [0.2222222222222222, \"#7201a8\"], [0.3333333333333333, \"#9c179e\"], [0.4444444444444444, \"#bd3786\"], [0.5555555555555556, \"#d8576b\"], [0.6666666666666666, \"#ed7953\"], [0.7777777777777778, \"#fb9f3a\"], [0.8888888888888888, \"#fdca26\"], [1.0, \"#f0f921\"]], \"type\": \"histogram2d\"}], \"histogram2dcontour\": [{\"colorbar\": {\"outlinewidth\": 0, \"ticks\": \"\"}, \"colorscale\": [[0.0, \"#0d0887\"], [0.1111111111111111, \"#46039f\"], [0.2222222222222222, \"#7201a8\"], [0.3333333333333333, \"#9c179e\"], [0.4444444444444444, \"#bd3786\"], [0.5555555555555556, \"#d8576b\"], [0.6666666666666666, \"#ed7953\"], [0.7777777777777778, \"#fb9f3a\"], [0.8888888888888888, \"#fdca26\"], [1.0, \"#f0f921\"]], \"type\": \"histogram2dcontour\"}], \"mesh3d\": [{\"colorbar\": {\"outlinewidth\": 0, \"ticks\": \"\"}, \"type\": \"mesh3d\"}], \"parcoords\": [{\"line\": {\"colorbar\": {\"outlinewidth\": 0, \"ticks\": \"\"}}, \"type\": \"parcoords\"}], \"pie\": [{\"automargin\": true, \"type\": \"pie\"}], \"scatter\": [{\"marker\": {\"colorbar\": {\"outlinewidth\": 0, \"ticks\": \"\"}}, \"type\": \"scatter\"}], \"scatter3d\": [{\"line\": {\"colorbar\": {\"outlinewidth\": 0, \"ticks\": \"\"}}, \"marker\": {\"colorbar\": {\"outlinewidth\": 0, \"ticks\": \"\"}}, \"type\": \"scatter3d\"}], \"scattercarpet\": [{\"marker\": {\"colorbar\": {\"outlinewidth\": 0, \"ticks\": \"\"}}, \"type\": \"scattercarpet\"}], \"scattergeo\": [{\"marker\": {\"colorbar\": {\"outlinewidth\": 0, \"ticks\": \"\"}}, \"type\": \"scattergeo\"}], \"scattergl\": [{\"marker\": {\"colorbar\": {\"outlinewidth\": 0, \"ticks\": \"\"}}, \"type\": \"scattergl\"}], \"scattermapbox\": [{\"marker\": {\"colorbar\": {\"outlinewidth\": 0, \"ticks\": \"\"}}, \"type\": \"scattermapbox\"}], \"scatterpolar\": [{\"marker\": {\"colorbar\": {\"outlinewidth\": 0, \"ticks\": \"\"}}, \"type\": \"scatterpolar\"}], \"scatterpolargl\": [{\"marker\": {\"colorbar\": {\"outlinewidth\": 0, \"ticks\": \"\"}}, \"type\": \"scatterpolargl\"}], \"scatterternary\": [{\"marker\": {\"colorbar\": {\"outlinewidth\": 0, \"ticks\": \"\"}}, \"type\": \"scatterternary\"}], \"surface\": [{\"colorbar\": {\"outlinewidth\": 0, \"ticks\": \"\"}, \"colorscale\": [[0.0, \"#0d0887\"], [0.1111111111111111, \"#46039f\"], [0.2222222222222222, \"#7201a8\"], [0.3333333333333333, \"#9c179e\"], [0.4444444444444444, \"#bd3786\"], [0.5555555555555556, \"#d8576b\"], [0.6666666666666666, \"#ed7953\"], [0.7777777777777778, \"#fb9f3a\"], [0.8888888888888888, \"#fdca26\"], [1.0, \"#f0f921\"]], \"type\": \"surface\"}], \"table\": [{\"cells\": {\"fill\": {\"color\": \"#EBF0F8\"}, \"line\": {\"color\": \"white\"}}, \"header\": {\"fill\": {\"color\": \"#C8D4E3\"}, \"line\": {\"color\": \"white\"}}, \"type\": \"table\"}]}, \"layout\": {\"annotationdefaults\": {\"arrowcolor\": \"#2a3f5f\", \"arrowhead\": 0, \"arrowwidth\": 1}, \"coloraxis\": {\"colorbar\": {\"outlinewidth\": 0, \"ticks\": \"\"}}, \"colorscale\": {\"diverging\": [[0, \"#8e0152\"], [0.1, \"#c51b7d\"], [0.2, \"#de77ae\"], [0.3, \"#f1b6da\"], [0.4, \"#fde0ef\"], [0.5, \"#f7f7f7\"], [0.6, \"#e6f5d0\"], [0.7, \"#b8e186\"], [0.8, \"#7fbc41\"], [0.9, \"#4d9221\"], [1, \"#276419\"]], \"sequential\": [[0.0, \"#0d0887\"], [0.1111111111111111, \"#46039f\"], [0.2222222222222222, \"#7201a8\"], [0.3333333333333333, \"#9c179e\"], [0.4444444444444444, \"#bd3786\"], [0.5555555555555556, \"#d8576b\"], [0.6666666666666666, \"#ed7953\"], [0.7777777777777778, \"#fb9f3a\"], [0.8888888888888888, \"#fdca26\"], [1.0, \"#f0f921\"]], \"sequentialminus\": [[0.0, \"#0d0887\"], [0.1111111111111111, \"#46039f\"], [0.2222222222222222, \"#7201a8\"], [0.3333333333333333, \"#9c179e\"], [0.4444444444444444, \"#bd3786\"], [0.5555555555555556, \"#d8576b\"], [0.6666666666666666, \"#ed7953\"], [0.7777777777777778, \"#fb9f3a\"], [0.8888888888888888, \"#fdca26\"], [1.0, \"#f0f921\"]]}, \"colorway\": [\"#636efa\", \"#EF553B\", \"#00cc96\", \"#ab63fa\", \"#FFA15A\", \"#19d3f3\", \"#FF6692\", \"#B6E880\", \"#FF97FF\", \"#FECB52\"], \"font\": {\"color\": \"#2a3f5f\"}, \"geo\": {\"bgcolor\": \"white\", \"lakecolor\": \"white\", \"landcolor\": \"#E5ECF6\", \"showlakes\": true, \"showland\": true, \"subunitcolor\": \"white\"}, \"hoverlabel\": {\"align\": \"left\"}, \"hovermode\": \"closest\", \"mapbox\": {\"style\": \"light\"}, \"paper_bgcolor\": \"white\", \"plot_bgcolor\": \"#E5ECF6\", \"polar\": {\"angularaxis\": {\"gridcolor\": \"white\", \"linecolor\": \"white\", \"ticks\": \"\"}, \"bgcolor\": \"#E5ECF6\", \"radialaxis\": {\"gridcolor\": \"white\", \"linecolor\": \"white\", \"ticks\": \"\"}}, \"scene\": {\"xaxis\": {\"backgroundcolor\": \"#E5ECF6\", \"gridcolor\": \"white\", \"gridwidth\": 2, \"linecolor\": \"white\", \"showbackground\": true, \"ticks\": \"\", \"zerolinecolor\": \"white\"}, \"yaxis\": {\"backgroundcolor\": \"#E5ECF6\", \"gridcolor\": \"white\", \"gridwidth\": 2, \"linecolor\": \"white\", \"showbackground\": true, \"ticks\": \"\", \"zerolinecolor\": \"white\"}, \"zaxis\": {\"backgroundcolor\": \"#E5ECF6\", \"gridcolor\": \"white\", \"gridwidth\": 2, \"linecolor\": \"white\", \"showbackground\": true, \"ticks\": \"\", \"zerolinecolor\": \"white\"}}, \"shapedefaults\": {\"line\": {\"color\": \"#2a3f5f\"}}, \"ternary\": {\"aaxis\": {\"gridcolor\": \"white\", \"linecolor\": \"white\", \"ticks\": \"\"}, \"baxis\": {\"gridcolor\": \"white\", \"linecolor\": \"white\", \"ticks\": \"\"}, \"bgcolor\": \"#E5ECF6\", \"caxis\": {\"gridcolor\": \"white\", \"linecolor\": \"white\", \"ticks\": \"\"}}, \"title\": {\"x\": 0.05}, \"xaxis\": {\"automargin\": true, \"gridcolor\": \"white\", \"linecolor\": \"white\", \"ticks\": \"\", \"title\": {\"standoff\": 15}, \"zerolinecolor\": \"white\", \"zerolinewidth\": 2}, \"yaxis\": {\"automargin\": true, \"gridcolor\": \"white\", \"linecolor\": \"white\", \"ticks\": \"\", \"title\": {\"standoff\": 15}, \"zerolinecolor\": \"white\", \"zerolinewidth\": 2}}}, \"xaxis\": {\"title\": {\"text\": \"Asset\"}, \"type\": \"category\", \"zeroline\": false}, \"yaxis\": {\"showgrid\": false, \"title\": {\"text\": \"$w$\"}}},\n",
              "                        {\"responsive\": true}\n",
              "                    ).then(function(){\n",
              "                            \n",
              "var gd = document.getElementById('6f4775d8-133d-4120-95b6-ad7df79db461');\n",
              "var x = new MutationObserver(function (mutations, observer) {{\n",
              "        var display = window.getComputedStyle(gd).display;\n",
              "        if (!display || display === 'none') {{\n",
              "            console.log([gd, 'removed!']);\n",
              "            Plotly.purge(gd);\n",
              "            observer.disconnect();\n",
              "        }}\n",
              "}});\n",
              "\n",
              "// Listen for the removal of the full notebook cells\n",
              "var notebookContainer = gd.closest('#notebook-container');\n",
              "if (notebookContainer) {{\n",
              "    x.observe(notebookContainer, {childList: true});\n",
              "}}\n",
              "\n",
              "// Listen for the clearing of the current output cell\n",
              "var outputEl = gd.closest('.output');\n",
              "if (outputEl) {{\n",
              "    x.observe(outputEl, {childList: true});\n",
              "}}\n",
              "\n",
              "                        })\n",
              "                };\n",
              "                \n",
              "            </script>\n",
              "        </div>\n",
              "</body>\n",
              "</html>"
            ]
          },
          "metadata": {
            "tags": []
          }
        }
      ]
    },
    {
      "cell_type": "markdown",
      "metadata": {
        "id": "QeLrERDoU6OF"
      },
      "source": [
        "In questo caso, ciò che colpisce maggiormente è che **alcuni asset** (quelli con maggiore varianza), **piuttosto che** essere **venduti allo scoperto**, **non** vengono **acquistati**. Questa decisione viene presa anche affidandosi a **pochi dati**. \\\n",
        "**Invece**, a **pesi strettamente positivi**, corrispondono **stime meno precise**.\n",
        "\n",
        "\n",
        "\n",
        "Proviamo adesso a introdurre il **vincolo** sulle **vendite allo scoperto** anche al **portafoglio MV**:\n",
        "$$\n",
        "\\begin{align}\n",
        "\\max_w\\ &\\mu^Tw - \\frac{\\lambda}{2}w^T \\Sigma w\\\\\n",
        "s.t.\\ & i^Tw=1 \\\\\n",
        "& w_i \\geq 0 \\quad \\forall i\n",
        "\\end{align}\n",
        "$$\n",
        "\n",
        "In questo caso, fissiamo $\\lambda = 0.1$. Scegliamo questo valore in quanto è quello che amplificava maggiormente gli errori di stima tra quelli usati nella prima sezione. Per utilizzare il solver, dobbiamo prima riscrivere il problema in forma di minimizzazione, cioè:\n",
        "$$\n",
        "\\begin{align}\n",
        "\\min_w\\ &\\frac{\\lambda}{2} w^T \\Sigma w - \\mu^T w\\\\\n",
        "s.t.\\ & i^Tw=1 \\\\\n",
        "& w_i \\geq 0 \\quad \\forall i\n",
        "\\end{align}\n",
        "$$\n",
        "\n",
        "Iniziamo  dal portafoglio con due asset."
      ]
    },
    {
      "cell_type": "code",
      "metadata": {
        "colab": {
          "base_uri": "https://localhost:8080/"
        },
        "id": "UiU_1pZub5Gk",
        "outputId": "edd7c815-d729-47a2-911e-c006560d742d"
      },
      "source": [
        "G = -np.identity(2,dtype=np.double) # matrice per vincoli di disuguaglianza\n",
        "h = np.array([0,0],dtype=np.double) # vettore per vincoli di disuguaglianza\n",
        "A = np.array([[1,1]],dtype=np.double) # matrice per vincoli di uguaglianza\n",
        "b = np.array(1,dtype=np.double) # vettore per vincoli di uguaglianza\n",
        "\n",
        "#risultato reale\n",
        "real_w_opt2 = no_short_sales_analyze(quadprog_solve_qp(0.1*varcov2, -mu2, G, h, A, b), mu2, varcov2)"
      ],
      "execution_count": null,
      "outputs": [
        {
          "output_type": "stream",
          "text": [
            "Asset 0: 1.00\n",
            "Asset 1: 0.00\n",
            "Rendimento atteso: 0.07 -- Varianza: 0.04.\n"
          ],
          "name": "stdout"
        }
      ]
    },
    {
      "cell_type": "code",
      "metadata": {
        "colab": {
          "base_uri": "https://localhost:8080/"
        },
        "id": "nOfsZpQXeXH2",
        "outputId": "641666da-4ff1-4f27-c83e-54270c4b1682"
      },
      "source": [
        "#stima a 1 settimana\n",
        "week_w_opt2 = no_short_sales_analyze(quadprog_solve_qp(0.1*varcov_estimate7_data2, -mu_estimate7_data2, G, h, A, b), mu_estimate7_data2, varcov_estimate7_data2)"
      ],
      "execution_count": null,
      "outputs": [
        {
          "output_type": "stream",
          "text": [
            "Asset 0: 1.00\n",
            "Asset 1: 0.00\n",
            "Rendimento atteso: 0.14 -- Varianza: 0.07.\n"
          ],
          "name": "stdout"
        }
      ]
    },
    {
      "cell_type": "code",
      "metadata": {
        "colab": {
          "base_uri": "https://localhost:8080/"
        },
        "id": "kZrjwtaoeavP",
        "outputId": "0e20e87c-fd83-4235-9db5-35995b3a55e1"
      },
      "source": [
        "#stima a 1 mese\n",
        "month_w_opt2 = no_short_sales_analyze(quadprog_solve_qp(0.1*varcov_estimate30_data2, -mu_estimate30_data2, G, h, A, b), mu_estimate30_data2, varcov_estimate30_data2)"
      ],
      "execution_count": null,
      "outputs": [
        {
          "output_type": "stream",
          "text": [
            "Asset 0: 1.00\n",
            "Asset 1: 0.00\n",
            "Rendimento atteso: 0.10 -- Varianza: 0.05.\n"
          ],
          "name": "stdout"
        }
      ]
    },
    {
      "cell_type": "code",
      "metadata": {
        "colab": {
          "base_uri": "https://localhost:8080/"
        },
        "id": "mXGvUlLlefW1",
        "outputId": "bb36e4d1-1c98-44d0-ada1-0098b97a7f18"
      },
      "source": [
        "#stima a 4 mesi\n",
        "quarter_w_opt2 = no_short_sales_analyze(quadprog_solve_qp(0.1*varcov_estimate120_data2, -mu_estimate120_data2, G, h, A, b), mu_estimate120_data2, varcov_estimate120_data2)"
      ],
      "execution_count": null,
      "outputs": [
        {
          "output_type": "stream",
          "text": [
            "Asset 0: 1.00\n",
            "Asset 1: 0.00\n",
            "Rendimento atteso: 0.08 -- Varianza: 0.04.\n"
          ],
          "name": "stdout"
        }
      ]
    },
    {
      "cell_type": "code",
      "metadata": {
        "colab": {
          "base_uri": "https://localhost:8080/",
          "height": 542
        },
        "id": "2jXojCRafmEi",
        "outputId": "586f5930-ace9-4fba-968f-7c351e2d53d3"
      },
      "source": [
        "fig = go.Figure()\n",
        "\n",
        "fig.add_trace(go.Scatter(x=[real_w_opt2[0]], y=[real_w_opt2[1]], marker=dict(color='red', size=25), name='Dato reale'))\n",
        "fig.add_trace(go.Scatter(x=[week_w_opt2[0]], y=[week_w_opt2[1]], marker=dict(color='green', size=15), name='Stima a 7 giorni'))\n",
        "fig.add_trace(go.Scatter(x=[month_w_opt2[0]], y=[month_w_opt2[1]], marker=dict(color='blue', size=15), name='Stima a 1 mese'))\n",
        "fig.add_trace(go.Scatter(x=[quarter_w_opt2[0]], y=[quarter_w_opt2[1]], marker=dict(color='magenta', size=15), name='Stima a 4 mesi'))\n",
        "\n",
        "fig.update_xaxes(title='$w_0$')\n",
        "fig.update_yaxes(scaleanchor = \"x\", scaleratio = 1, title='$w_1$')\n",
        "fig.show()"
      ],
      "execution_count": null,
      "outputs": [
        {
          "output_type": "display_data",
          "data": {
            "text/html": [
              "<html>\n",
              "<head><meta charset=\"utf-8\" /></head>\n",
              "<body>\n",
              "    <div>\n",
              "            <script src=\"https://cdnjs.cloudflare.com/ajax/libs/mathjax/2.7.5/MathJax.js?config=TeX-AMS-MML_SVG\"></script><script type=\"text/javascript\">if (window.MathJax) {MathJax.Hub.Config({SVG: {font: \"STIX-Web\"}});}</script>\n",
              "                <script type=\"text/javascript\">window.PlotlyConfig = {MathJaxConfig: 'local'};</script>\n",
              "        <script src=\"https://cdn.plot.ly/plotly-latest.min.js\"></script>    \n",
              "            <div id=\"31d4ef51-8bc4-4987-ad5a-c690cfa8dcfb\" class=\"plotly-graph-div\" style=\"height:525px; width:100%;\"></div>\n",
              "            <script type=\"text/javascript\">\n",
              "                \n",
              "                    window.PLOTLYENV=window.PLOTLYENV || {};\n",
              "                    \n",
              "                if (document.getElementById(\"31d4ef51-8bc4-4987-ad5a-c690cfa8dcfb\")) {\n",
              "                    Plotly.newPlot(\n",
              "                        '31d4ef51-8bc4-4987-ad5a-c690cfa8dcfb',\n",
              "                        [{\"marker\": {\"color\": \"red\", \"size\": 25}, \"name\": \"Dato reale\", \"type\": \"scatter\", \"x\": [1.0], \"y\": [0.0]}, {\"marker\": {\"color\": \"green\", \"size\": 15}, \"name\": \"Stima a 7 giorni\", \"type\": \"scatter\", \"x\": [1.0], \"y\": [0.0]}, {\"marker\": {\"color\": \"blue\", \"size\": 15}, \"name\": \"Stima a 1 mese\", \"type\": \"scatter\", \"x\": [0.9999999999999964], \"y\": [0.0]}, {\"marker\": {\"color\": \"magenta\", \"size\": 15}, \"name\": \"Stima a 4 mesi\", \"type\": \"scatter\", \"x\": [0.9999999999999982], \"y\": [0.0]}],\n",
              "                        {\"template\": {\"data\": {\"bar\": [{\"error_x\": {\"color\": \"#2a3f5f\"}, \"error_y\": {\"color\": \"#2a3f5f\"}, \"marker\": {\"line\": {\"color\": \"#E5ECF6\", \"width\": 0.5}}, \"type\": \"bar\"}], \"barpolar\": [{\"marker\": {\"line\": {\"color\": \"#E5ECF6\", \"width\": 0.5}}, \"type\": \"barpolar\"}], \"carpet\": [{\"aaxis\": {\"endlinecolor\": \"#2a3f5f\", \"gridcolor\": \"white\", \"linecolor\": \"white\", \"minorgridcolor\": \"white\", \"startlinecolor\": \"#2a3f5f\"}, \"baxis\": {\"endlinecolor\": \"#2a3f5f\", \"gridcolor\": \"white\", \"linecolor\": \"white\", \"minorgridcolor\": \"white\", \"startlinecolor\": \"#2a3f5f\"}, \"type\": \"carpet\"}], \"choropleth\": [{\"colorbar\": {\"outlinewidth\": 0, \"ticks\": \"\"}, \"type\": \"choropleth\"}], \"contour\": [{\"colorbar\": {\"outlinewidth\": 0, \"ticks\": \"\"}, \"colorscale\": [[0.0, \"#0d0887\"], [0.1111111111111111, \"#46039f\"], [0.2222222222222222, \"#7201a8\"], [0.3333333333333333, \"#9c179e\"], [0.4444444444444444, \"#bd3786\"], [0.5555555555555556, \"#d8576b\"], [0.6666666666666666, \"#ed7953\"], [0.7777777777777778, \"#fb9f3a\"], [0.8888888888888888, \"#fdca26\"], [1.0, \"#f0f921\"]], \"type\": \"contour\"}], \"contourcarpet\": [{\"colorbar\": {\"outlinewidth\": 0, \"ticks\": \"\"}, \"type\": \"contourcarpet\"}], \"heatmap\": [{\"colorbar\": {\"outlinewidth\": 0, \"ticks\": \"\"}, \"colorscale\": [[0.0, \"#0d0887\"], [0.1111111111111111, \"#46039f\"], [0.2222222222222222, \"#7201a8\"], [0.3333333333333333, \"#9c179e\"], [0.4444444444444444, \"#bd3786\"], [0.5555555555555556, \"#d8576b\"], [0.6666666666666666, \"#ed7953\"], [0.7777777777777778, \"#fb9f3a\"], [0.8888888888888888, \"#fdca26\"], [1.0, \"#f0f921\"]], \"type\": \"heatmap\"}], \"heatmapgl\": [{\"colorbar\": {\"outlinewidth\": 0, \"ticks\": \"\"}, \"colorscale\": [[0.0, \"#0d0887\"], [0.1111111111111111, \"#46039f\"], [0.2222222222222222, \"#7201a8\"], [0.3333333333333333, \"#9c179e\"], [0.4444444444444444, \"#bd3786\"], [0.5555555555555556, \"#d8576b\"], [0.6666666666666666, \"#ed7953\"], [0.7777777777777778, \"#fb9f3a\"], [0.8888888888888888, \"#fdca26\"], [1.0, \"#f0f921\"]], \"type\": \"heatmapgl\"}], \"histogram\": [{\"marker\": {\"colorbar\": {\"outlinewidth\": 0, \"ticks\": \"\"}}, \"type\": \"histogram\"}], \"histogram2d\": [{\"colorbar\": {\"outlinewidth\": 0, \"ticks\": \"\"}, \"colorscale\": [[0.0, \"#0d0887\"], [0.1111111111111111, \"#46039f\"], [0.2222222222222222, \"#7201a8\"], [0.3333333333333333, \"#9c179e\"], [0.4444444444444444, \"#bd3786\"], [0.5555555555555556, \"#d8576b\"], [0.6666666666666666, \"#ed7953\"], [0.7777777777777778, \"#fb9f3a\"], [0.8888888888888888, \"#fdca26\"], [1.0, \"#f0f921\"]], \"type\": \"histogram2d\"}], \"histogram2dcontour\": [{\"colorbar\": {\"outlinewidth\": 0, \"ticks\": \"\"}, \"colorscale\": [[0.0, \"#0d0887\"], [0.1111111111111111, \"#46039f\"], [0.2222222222222222, \"#7201a8\"], [0.3333333333333333, \"#9c179e\"], [0.4444444444444444, \"#bd3786\"], [0.5555555555555556, \"#d8576b\"], [0.6666666666666666, \"#ed7953\"], [0.7777777777777778, \"#fb9f3a\"], [0.8888888888888888, \"#fdca26\"], [1.0, \"#f0f921\"]], \"type\": \"histogram2dcontour\"}], \"mesh3d\": [{\"colorbar\": {\"outlinewidth\": 0, \"ticks\": \"\"}, \"type\": \"mesh3d\"}], \"parcoords\": [{\"line\": {\"colorbar\": {\"outlinewidth\": 0, \"ticks\": \"\"}}, \"type\": \"parcoords\"}], \"pie\": [{\"automargin\": true, \"type\": \"pie\"}], \"scatter\": [{\"marker\": {\"colorbar\": {\"outlinewidth\": 0, \"ticks\": \"\"}}, \"type\": \"scatter\"}], \"scatter3d\": [{\"line\": {\"colorbar\": {\"outlinewidth\": 0, \"ticks\": \"\"}}, \"marker\": {\"colorbar\": {\"outlinewidth\": 0, \"ticks\": \"\"}}, \"type\": \"scatter3d\"}], \"scattercarpet\": [{\"marker\": {\"colorbar\": {\"outlinewidth\": 0, \"ticks\": \"\"}}, \"type\": \"scattercarpet\"}], \"scattergeo\": [{\"marker\": {\"colorbar\": {\"outlinewidth\": 0, \"ticks\": \"\"}}, \"type\": \"scattergeo\"}], \"scattergl\": [{\"marker\": {\"colorbar\": {\"outlinewidth\": 0, \"ticks\": \"\"}}, \"type\": \"scattergl\"}], \"scattermapbox\": [{\"marker\": {\"colorbar\": {\"outlinewidth\": 0, \"ticks\": \"\"}}, \"type\": \"scattermapbox\"}], \"scatterpolar\": [{\"marker\": {\"colorbar\": {\"outlinewidth\": 0, \"ticks\": \"\"}}, \"type\": \"scatterpolar\"}], \"scatterpolargl\": [{\"marker\": {\"colorbar\": {\"outlinewidth\": 0, \"ticks\": \"\"}}, \"type\": \"scatterpolargl\"}], \"scatterternary\": [{\"marker\": {\"colorbar\": {\"outlinewidth\": 0, \"ticks\": \"\"}}, \"type\": \"scatterternary\"}], \"surface\": [{\"colorbar\": {\"outlinewidth\": 0, \"ticks\": \"\"}, \"colorscale\": [[0.0, \"#0d0887\"], [0.1111111111111111, \"#46039f\"], [0.2222222222222222, \"#7201a8\"], [0.3333333333333333, \"#9c179e\"], [0.4444444444444444, \"#bd3786\"], [0.5555555555555556, \"#d8576b\"], [0.6666666666666666, \"#ed7953\"], [0.7777777777777778, \"#fb9f3a\"], [0.8888888888888888, \"#fdca26\"], [1.0, \"#f0f921\"]], \"type\": \"surface\"}], \"table\": [{\"cells\": {\"fill\": {\"color\": \"#EBF0F8\"}, \"line\": {\"color\": \"white\"}}, \"header\": {\"fill\": {\"color\": \"#C8D4E3\"}, \"line\": {\"color\": \"white\"}}, \"type\": \"table\"}]}, \"layout\": {\"annotationdefaults\": {\"arrowcolor\": \"#2a3f5f\", \"arrowhead\": 0, \"arrowwidth\": 1}, \"coloraxis\": {\"colorbar\": {\"outlinewidth\": 0, \"ticks\": \"\"}}, \"colorscale\": {\"diverging\": [[0, \"#8e0152\"], [0.1, \"#c51b7d\"], [0.2, \"#de77ae\"], [0.3, \"#f1b6da\"], [0.4, \"#fde0ef\"], [0.5, \"#f7f7f7\"], [0.6, \"#e6f5d0\"], [0.7, \"#b8e186\"], [0.8, \"#7fbc41\"], [0.9, \"#4d9221\"], [1, \"#276419\"]], \"sequential\": [[0.0, \"#0d0887\"], [0.1111111111111111, \"#46039f\"], [0.2222222222222222, \"#7201a8\"], [0.3333333333333333, \"#9c179e\"], [0.4444444444444444, \"#bd3786\"], [0.5555555555555556, \"#d8576b\"], [0.6666666666666666, \"#ed7953\"], [0.7777777777777778, \"#fb9f3a\"], [0.8888888888888888, \"#fdca26\"], [1.0, \"#f0f921\"]], \"sequentialminus\": [[0.0, \"#0d0887\"], [0.1111111111111111, \"#46039f\"], [0.2222222222222222, \"#7201a8\"], [0.3333333333333333, \"#9c179e\"], [0.4444444444444444, \"#bd3786\"], [0.5555555555555556, \"#d8576b\"], [0.6666666666666666, \"#ed7953\"], [0.7777777777777778, \"#fb9f3a\"], [0.8888888888888888, \"#fdca26\"], [1.0, \"#f0f921\"]]}, \"colorway\": [\"#636efa\", \"#EF553B\", \"#00cc96\", \"#ab63fa\", \"#FFA15A\", \"#19d3f3\", \"#FF6692\", \"#B6E880\", \"#FF97FF\", \"#FECB52\"], \"font\": {\"color\": \"#2a3f5f\"}, \"geo\": {\"bgcolor\": \"white\", \"lakecolor\": \"white\", \"landcolor\": \"#E5ECF6\", \"showlakes\": true, \"showland\": true, \"subunitcolor\": \"white\"}, \"hoverlabel\": {\"align\": \"left\"}, \"hovermode\": \"closest\", \"mapbox\": {\"style\": \"light\"}, \"paper_bgcolor\": \"white\", \"plot_bgcolor\": \"#E5ECF6\", \"polar\": {\"angularaxis\": {\"gridcolor\": \"white\", \"linecolor\": \"white\", \"ticks\": \"\"}, \"bgcolor\": \"#E5ECF6\", \"radialaxis\": {\"gridcolor\": \"white\", \"linecolor\": \"white\", \"ticks\": \"\"}}, \"scene\": {\"xaxis\": {\"backgroundcolor\": \"#E5ECF6\", \"gridcolor\": \"white\", \"gridwidth\": 2, \"linecolor\": \"white\", \"showbackground\": true, \"ticks\": \"\", \"zerolinecolor\": \"white\"}, \"yaxis\": {\"backgroundcolor\": \"#E5ECF6\", \"gridcolor\": \"white\", \"gridwidth\": 2, \"linecolor\": \"white\", \"showbackground\": true, \"ticks\": \"\", \"zerolinecolor\": \"white\"}, \"zaxis\": {\"backgroundcolor\": \"#E5ECF6\", \"gridcolor\": \"white\", \"gridwidth\": 2, \"linecolor\": \"white\", \"showbackground\": true, \"ticks\": \"\", \"zerolinecolor\": \"white\"}}, \"shapedefaults\": {\"line\": {\"color\": \"#2a3f5f\"}}, \"ternary\": {\"aaxis\": {\"gridcolor\": \"white\", \"linecolor\": \"white\", \"ticks\": \"\"}, \"baxis\": {\"gridcolor\": \"white\", \"linecolor\": \"white\", \"ticks\": \"\"}, \"bgcolor\": \"#E5ECF6\", \"caxis\": {\"gridcolor\": \"white\", \"linecolor\": \"white\", \"ticks\": \"\"}}, \"title\": {\"x\": 0.05}, \"xaxis\": {\"automargin\": true, \"gridcolor\": \"white\", \"linecolor\": \"white\", \"ticks\": \"\", \"title\": {\"standoff\": 15}, \"zerolinecolor\": \"white\", \"zerolinewidth\": 2}, \"yaxis\": {\"automargin\": true, \"gridcolor\": \"white\", \"linecolor\": \"white\", \"ticks\": \"\", \"title\": {\"standoff\": 15}, \"zerolinecolor\": \"white\", \"zerolinewidth\": 2}}}, \"xaxis\": {\"title\": {\"text\": \"$w_0$\"}}, \"yaxis\": {\"scaleanchor\": \"x\", \"scaleratio\": 1, \"title\": {\"text\": \"$w_1$\"}}},\n",
              "                        {\"responsive\": true}\n",
              "                    ).then(function(){\n",
              "                            \n",
              "var gd = document.getElementById('31d4ef51-8bc4-4987-ad5a-c690cfa8dcfb');\n",
              "var x = new MutationObserver(function (mutations, observer) {{\n",
              "        var display = window.getComputedStyle(gd).display;\n",
              "        if (!display || display === 'none') {{\n",
              "            console.log([gd, 'removed!']);\n",
              "            Plotly.purge(gd);\n",
              "            observer.disconnect();\n",
              "        }}\n",
              "}});\n",
              "\n",
              "// Listen for the removal of the full notebook cells\n",
              "var notebookContainer = gd.closest('#notebook-container');\n",
              "if (notebookContainer) {{\n",
              "    x.observe(notebookContainer, {childList: true});\n",
              "}}\n",
              "\n",
              "// Listen for the clearing of the current output cell\n",
              "var outputEl = gd.closest('.output');\n",
              "if (outputEl) {{\n",
              "    x.observe(outputEl, {childList: true});\n",
              "}}\n",
              "\n",
              "                        })\n",
              "                };\n",
              "                \n",
              "            </script>\n",
              "        </div>\n",
              "</body>\n",
              "</html>"
            ]
          },
          "metadata": {
            "tags": []
          }
        }
      ]
    },
    {
      "cell_type": "markdown",
      "metadata": {
        "id": "Y-v9piUIp_Mg"
      },
      "source": [
        "Questa volta **tutte le stime sono corrette**: compriamo **solo** l'**asset** con **rendimento** atteso **maggiore**. \\\n",
        "Passiamo al portafoglio con 10 asset."
      ]
    },
    {
      "cell_type": "code",
      "metadata": {
        "colab": {
          "base_uri": "https://localhost:8080/"
        },
        "id": "5AVk6HLSpHdu",
        "outputId": "410f91d3-d4c1-4fc0-a84e-e53424390003"
      },
      "source": [
        "G = -np.identity(10,dtype=np.double) # matrice per vincoli di disuguaglianza\n",
        "h = np.zeros(shape=10,dtype=np.double) # vettore per vincoli di disuguaglianza\n",
        "A = np.ones(shape=[1,10],dtype=np.double) # matrice per vincoli di uguaglianza\n",
        "b = np.array(1,dtype=np.double) # vettore per vincoli di uguaglianza\n",
        "\n",
        "#risultato reale\n",
        "real_w_opt10 = no_short_sales_analyze(quadprog_solve_qp(0.1*varcov10, -mu10, G, h, A, b), mu10, varcov10)"
      ],
      "execution_count": null,
      "outputs": [
        {
          "output_type": "stream",
          "text": [
            "Asset 0: 0.00\n",
            "Asset 1: -0.00\n",
            "Asset 2: 0.00\n",
            "Asset 3: 0.00\n",
            "Asset 4: 0.00\n",
            "Asset 5: -0.00\n",
            "Asset 6: -0.00\n",
            "Asset 7: -0.00\n",
            "Asset 8: 0.00\n",
            "Asset 9: 1.00\n",
            "Rendimento atteso: 0.18 -- Varianza: 0.11.\n"
          ],
          "name": "stdout"
        }
      ]
    },
    {
      "cell_type": "code",
      "metadata": {
        "colab": {
          "base_uri": "https://localhost:8080/"
        },
        "id": "VWSURa4tqsYo",
        "outputId": "26467ee5-bfb5-4ea3-f9cb-d737630388f1"
      },
      "source": [
        "#stima a 1 mese\n",
        "month_w_opt10 = no_short_sales_analyze(quadprog_solve_qp(0.1*varcov_estimate30_data10, -mu_estimate30_data10, G, h, A, b), mu_estimate30_data10, varcov_estimate30_data10)"
      ],
      "execution_count": null,
      "outputs": [
        {
          "output_type": "stream",
          "text": [
            "Asset 0: 0.00\n",
            "Asset 1: 0.00\n",
            "Asset 2: 0.00\n",
            "Asset 3: 0.00\n",
            "Asset 4: -0.00\n",
            "Asset 5: 0.00\n",
            "Asset 6: 0.00\n",
            "Asset 7: -0.00\n",
            "Asset 8: 1.00\n",
            "Asset 9: -0.00\n",
            "Rendimento atteso: 0.13 -- Varianza: 0.08.\n"
          ],
          "name": "stdout"
        }
      ]
    },
    {
      "cell_type": "code",
      "metadata": {
        "colab": {
          "base_uri": "https://localhost:8080/"
        },
        "id": "qi1cN_rSqzMd",
        "outputId": "e36e4f48-e407-409f-c3b2-88aadb86432a"
      },
      "source": [
        "#stima a 4 mesi\n",
        "quarter_w_opt10 = no_short_sales_analyze(quadprog_solve_qp(0.1*varcov_estimate120_data10, -mu_estimate120_data10, G, h, A, b), mu_estimate120_data10, varcov_estimate120_data10)"
      ],
      "execution_count": null,
      "outputs": [
        {
          "output_type": "stream",
          "text": [
            "Asset 0: -0.00\n",
            "Asset 1: 0.00\n",
            "Asset 2: -0.00\n",
            "Asset 3: -0.00\n",
            "Asset 4: 0.00\n",
            "Asset 5: -0.00\n",
            "Asset 6: -0.00\n",
            "Asset 7: 0.00\n",
            "Asset 8: -0.00\n",
            "Asset 9: 1.00\n",
            "Rendimento atteso: 0.14 -- Varianza: 0.11.\n"
          ],
          "name": "stdout"
        }
      ]
    },
    {
      "cell_type": "code",
      "metadata": {
        "colab": {
          "base_uri": "https://localhost:8080/",
          "height": 542
        },
        "id": "NRD-1T_8rJ5z",
        "outputId": "40853ad0-b78b-4c34-e605-9e2a27ba33cb"
      },
      "source": [
        "fig = go.Figure()\n",
        "\n",
        "fig.add_trace(go.Scatter(x=assets, y=real_w_opt10, marker=dict(color='red', size=20), name='Dato reale', mode='markers'))\n",
        "fig.add_trace(go.Scatter(x=assets, y=month_w_opt10, marker=dict(color='blue', size=10), name='Stima a 1 mese', mode='markers'))\n",
        "fig.add_trace(go.Scatter(x=assets, y=quarter_w_opt10, marker=dict(color='magenta', size=10), name='Stima a 4 mesi', mode='markers'))\n",
        "  \n",
        "fig.update_xaxes(title='Asset', zeroline=False, type='category')\n",
        "fig.update_yaxes(title='$w$', showgrid=False)\n",
        "fig.show()"
      ],
      "execution_count": null,
      "outputs": [
        {
          "output_type": "display_data",
          "data": {
            "text/html": [
              "<html>\n",
              "<head><meta charset=\"utf-8\" /></head>\n",
              "<body>\n",
              "    <div>\n",
              "            <script src=\"https://cdnjs.cloudflare.com/ajax/libs/mathjax/2.7.5/MathJax.js?config=TeX-AMS-MML_SVG\"></script><script type=\"text/javascript\">if (window.MathJax) {MathJax.Hub.Config({SVG: {font: \"STIX-Web\"}});}</script>\n",
              "                <script type=\"text/javascript\">window.PlotlyConfig = {MathJaxConfig: 'local'};</script>\n",
              "        <script src=\"https://cdn.plot.ly/plotly-latest.min.js\"></script>    \n",
              "            <div id=\"24352229-4c73-48a7-8da9-a2509e7d7963\" class=\"plotly-graph-div\" style=\"height:525px; width:100%;\"></div>\n",
              "            <script type=\"text/javascript\">\n",
              "                \n",
              "                    window.PLOTLYENV=window.PLOTLYENV || {};\n",
              "                    \n",
              "                if (document.getElementById(\"24352229-4c73-48a7-8da9-a2509e7d7963\")) {\n",
              "                    Plotly.newPlot(\n",
              "                        '24352229-4c73-48a7-8da9-a2509e7d7963',\n",
              "                        [{\"marker\": {\"color\": \"red\", \"size\": 20}, \"mode\": \"markers\", \"name\": \"Dato reale\", \"type\": \"scatter\", \"x\": [0, 1, 2, 3, 4, 5, 6, 7, 8, 10], \"y\": [8.80877455990838e-15, -8.863248195730319e-15, 4.595966918672163e-15, 2.578688865543529e-14, 0.0, -2.0063460693134922e-16, -2.8580177995387066e-13, -1.416516138727825e-13, 0.0, 1.0000000000004]}, {\"marker\": {\"color\": \"blue\", \"size\": 10}, \"mode\": \"markers\", \"name\": \"Stima a 1 mese\", \"type\": \"scatter\", \"x\": [0, 1, 2, 3, 4, 5, 6, 7, 8, 10], \"y\": [3.6870616695526544e-15, 2.9898902533072845e-14, 4.63930057729296e-14, 1.9596404542126e-16, -4.440892098500626e-16, 0.0, 6.196532269532556e-13, -4.435148829272817e-13, 0.9999999999997293, -2.7755575615628914e-17]}, {\"marker\": {\"color\": \"magenta\", \"size\": 10}, \"mode\": \"markers\", \"name\": \"Stima a 4 mesi\", \"type\": \"scatter\", \"x\": [0, 1, 2, 3, 4, 5, 6, 7, 8, 10], \"y\": [-6.372927455902233e-15, 6.393183590662707e-15, -2.3881134990097548e-14, -4.422988800214236e-15, 0.0, -5.041884997136504e-15, -9.677840938270484e-14, 1.899899897080888e-13, -1.0782255178421584e-14, 0.9999999999999512]}],\n",
              "                        {\"template\": {\"data\": {\"bar\": [{\"error_x\": {\"color\": \"#2a3f5f\"}, \"error_y\": {\"color\": \"#2a3f5f\"}, \"marker\": {\"line\": {\"color\": \"#E5ECF6\", \"width\": 0.5}}, \"type\": \"bar\"}], \"barpolar\": [{\"marker\": {\"line\": {\"color\": \"#E5ECF6\", \"width\": 0.5}}, \"type\": \"barpolar\"}], \"carpet\": [{\"aaxis\": {\"endlinecolor\": \"#2a3f5f\", \"gridcolor\": \"white\", \"linecolor\": \"white\", \"minorgridcolor\": \"white\", \"startlinecolor\": \"#2a3f5f\"}, \"baxis\": {\"endlinecolor\": \"#2a3f5f\", \"gridcolor\": \"white\", \"linecolor\": \"white\", \"minorgridcolor\": \"white\", \"startlinecolor\": \"#2a3f5f\"}, \"type\": \"carpet\"}], \"choropleth\": [{\"colorbar\": {\"outlinewidth\": 0, \"ticks\": \"\"}, \"type\": \"choropleth\"}], \"contour\": [{\"colorbar\": {\"outlinewidth\": 0, \"ticks\": \"\"}, \"colorscale\": [[0.0, \"#0d0887\"], [0.1111111111111111, \"#46039f\"], [0.2222222222222222, \"#7201a8\"], [0.3333333333333333, \"#9c179e\"], [0.4444444444444444, \"#bd3786\"], [0.5555555555555556, \"#d8576b\"], [0.6666666666666666, \"#ed7953\"], [0.7777777777777778, \"#fb9f3a\"], [0.8888888888888888, \"#fdca26\"], [1.0, \"#f0f921\"]], \"type\": \"contour\"}], \"contourcarpet\": [{\"colorbar\": {\"outlinewidth\": 0, \"ticks\": \"\"}, \"type\": \"contourcarpet\"}], \"heatmap\": [{\"colorbar\": {\"outlinewidth\": 0, \"ticks\": \"\"}, \"colorscale\": [[0.0, \"#0d0887\"], [0.1111111111111111, \"#46039f\"], [0.2222222222222222, \"#7201a8\"], [0.3333333333333333, \"#9c179e\"], [0.4444444444444444, \"#bd3786\"], [0.5555555555555556, \"#d8576b\"], [0.6666666666666666, \"#ed7953\"], [0.7777777777777778, \"#fb9f3a\"], [0.8888888888888888, \"#fdca26\"], [1.0, \"#f0f921\"]], \"type\": \"heatmap\"}], \"heatmapgl\": [{\"colorbar\": {\"outlinewidth\": 0, \"ticks\": \"\"}, \"colorscale\": [[0.0, \"#0d0887\"], [0.1111111111111111, \"#46039f\"], [0.2222222222222222, \"#7201a8\"], [0.3333333333333333, \"#9c179e\"], [0.4444444444444444, \"#bd3786\"], [0.5555555555555556, \"#d8576b\"], [0.6666666666666666, \"#ed7953\"], [0.7777777777777778, \"#fb9f3a\"], [0.8888888888888888, \"#fdca26\"], [1.0, \"#f0f921\"]], \"type\": \"heatmapgl\"}], \"histogram\": [{\"marker\": {\"colorbar\": {\"outlinewidth\": 0, \"ticks\": \"\"}}, \"type\": \"histogram\"}], \"histogram2d\": [{\"colorbar\": {\"outlinewidth\": 0, \"ticks\": \"\"}, \"colorscale\": [[0.0, \"#0d0887\"], [0.1111111111111111, \"#46039f\"], [0.2222222222222222, \"#7201a8\"], [0.3333333333333333, \"#9c179e\"], [0.4444444444444444, \"#bd3786\"], [0.5555555555555556, \"#d8576b\"], [0.6666666666666666, \"#ed7953\"], [0.7777777777777778, \"#fb9f3a\"], [0.8888888888888888, \"#fdca26\"], [1.0, \"#f0f921\"]], \"type\": \"histogram2d\"}], \"histogram2dcontour\": [{\"colorbar\": {\"outlinewidth\": 0, \"ticks\": \"\"}, \"colorscale\": [[0.0, \"#0d0887\"], [0.1111111111111111, \"#46039f\"], [0.2222222222222222, \"#7201a8\"], [0.3333333333333333, \"#9c179e\"], [0.4444444444444444, \"#bd3786\"], [0.5555555555555556, \"#d8576b\"], [0.6666666666666666, \"#ed7953\"], [0.7777777777777778, \"#fb9f3a\"], [0.8888888888888888, \"#fdca26\"], [1.0, \"#f0f921\"]], \"type\": \"histogram2dcontour\"}], \"mesh3d\": [{\"colorbar\": {\"outlinewidth\": 0, \"ticks\": \"\"}, \"type\": \"mesh3d\"}], \"parcoords\": [{\"line\": {\"colorbar\": {\"outlinewidth\": 0, \"ticks\": \"\"}}, \"type\": \"parcoords\"}], \"pie\": [{\"automargin\": true, \"type\": \"pie\"}], \"scatter\": [{\"marker\": {\"colorbar\": {\"outlinewidth\": 0, \"ticks\": \"\"}}, \"type\": \"scatter\"}], \"scatter3d\": [{\"line\": {\"colorbar\": {\"outlinewidth\": 0, \"ticks\": \"\"}}, \"marker\": {\"colorbar\": {\"outlinewidth\": 0, \"ticks\": \"\"}}, \"type\": \"scatter3d\"}], \"scattercarpet\": [{\"marker\": {\"colorbar\": {\"outlinewidth\": 0, \"ticks\": \"\"}}, \"type\": \"scattercarpet\"}], \"scattergeo\": [{\"marker\": {\"colorbar\": {\"outlinewidth\": 0, \"ticks\": \"\"}}, \"type\": \"scattergeo\"}], \"scattergl\": [{\"marker\": {\"colorbar\": {\"outlinewidth\": 0, \"ticks\": \"\"}}, \"type\": \"scattergl\"}], \"scattermapbox\": [{\"marker\": {\"colorbar\": {\"outlinewidth\": 0, \"ticks\": \"\"}}, \"type\": \"scattermapbox\"}], \"scatterpolar\": [{\"marker\": {\"colorbar\": {\"outlinewidth\": 0, \"ticks\": \"\"}}, \"type\": \"scatterpolar\"}], \"scatterpolargl\": [{\"marker\": {\"colorbar\": {\"outlinewidth\": 0, \"ticks\": \"\"}}, \"type\": \"scatterpolargl\"}], \"scatterternary\": [{\"marker\": {\"colorbar\": {\"outlinewidth\": 0, \"ticks\": \"\"}}, \"type\": \"scatterternary\"}], \"surface\": [{\"colorbar\": {\"outlinewidth\": 0, \"ticks\": \"\"}, \"colorscale\": [[0.0, \"#0d0887\"], [0.1111111111111111, \"#46039f\"], [0.2222222222222222, \"#7201a8\"], [0.3333333333333333, \"#9c179e\"], [0.4444444444444444, \"#bd3786\"], [0.5555555555555556, \"#d8576b\"], [0.6666666666666666, \"#ed7953\"], [0.7777777777777778, \"#fb9f3a\"], [0.8888888888888888, \"#fdca26\"], [1.0, \"#f0f921\"]], \"type\": \"surface\"}], \"table\": [{\"cells\": {\"fill\": {\"color\": \"#EBF0F8\"}, \"line\": {\"color\": \"white\"}}, \"header\": {\"fill\": {\"color\": \"#C8D4E3\"}, \"line\": {\"color\": \"white\"}}, \"type\": \"table\"}]}, \"layout\": {\"annotationdefaults\": {\"arrowcolor\": \"#2a3f5f\", \"arrowhead\": 0, \"arrowwidth\": 1}, \"coloraxis\": {\"colorbar\": {\"outlinewidth\": 0, \"ticks\": \"\"}}, \"colorscale\": {\"diverging\": [[0, \"#8e0152\"], [0.1, \"#c51b7d\"], [0.2, \"#de77ae\"], [0.3, \"#f1b6da\"], [0.4, \"#fde0ef\"], [0.5, \"#f7f7f7\"], [0.6, \"#e6f5d0\"], [0.7, \"#b8e186\"], [0.8, \"#7fbc41\"], [0.9, \"#4d9221\"], [1, \"#276419\"]], \"sequential\": [[0.0, \"#0d0887\"], [0.1111111111111111, \"#46039f\"], [0.2222222222222222, \"#7201a8\"], [0.3333333333333333, \"#9c179e\"], [0.4444444444444444, \"#bd3786\"], [0.5555555555555556, \"#d8576b\"], [0.6666666666666666, \"#ed7953\"], [0.7777777777777778, \"#fb9f3a\"], [0.8888888888888888, \"#fdca26\"], [1.0, \"#f0f921\"]], \"sequentialminus\": [[0.0, \"#0d0887\"], [0.1111111111111111, \"#46039f\"], [0.2222222222222222, \"#7201a8\"], [0.3333333333333333, \"#9c179e\"], [0.4444444444444444, \"#bd3786\"], [0.5555555555555556, \"#d8576b\"], [0.6666666666666666, \"#ed7953\"], [0.7777777777777778, \"#fb9f3a\"], [0.8888888888888888, \"#fdca26\"], [1.0, \"#f0f921\"]]}, \"colorway\": [\"#636efa\", \"#EF553B\", \"#00cc96\", \"#ab63fa\", \"#FFA15A\", \"#19d3f3\", \"#FF6692\", \"#B6E880\", \"#FF97FF\", \"#FECB52\"], \"font\": {\"color\": \"#2a3f5f\"}, \"geo\": {\"bgcolor\": \"white\", \"lakecolor\": \"white\", \"landcolor\": \"#E5ECF6\", \"showlakes\": true, \"showland\": true, \"subunitcolor\": \"white\"}, \"hoverlabel\": {\"align\": \"left\"}, \"hovermode\": \"closest\", \"mapbox\": {\"style\": \"light\"}, \"paper_bgcolor\": \"white\", \"plot_bgcolor\": \"#E5ECF6\", \"polar\": {\"angularaxis\": {\"gridcolor\": \"white\", \"linecolor\": \"white\", \"ticks\": \"\"}, \"bgcolor\": \"#E5ECF6\", \"radialaxis\": {\"gridcolor\": \"white\", \"linecolor\": \"white\", \"ticks\": \"\"}}, \"scene\": {\"xaxis\": {\"backgroundcolor\": \"#E5ECF6\", \"gridcolor\": \"white\", \"gridwidth\": 2, \"linecolor\": \"white\", \"showbackground\": true, \"ticks\": \"\", \"zerolinecolor\": \"white\"}, \"yaxis\": {\"backgroundcolor\": \"#E5ECF6\", \"gridcolor\": \"white\", \"gridwidth\": 2, \"linecolor\": \"white\", \"showbackground\": true, \"ticks\": \"\", \"zerolinecolor\": \"white\"}, \"zaxis\": {\"backgroundcolor\": \"#E5ECF6\", \"gridcolor\": \"white\", \"gridwidth\": 2, \"linecolor\": \"white\", \"showbackground\": true, \"ticks\": \"\", \"zerolinecolor\": \"white\"}}, \"shapedefaults\": {\"line\": {\"color\": \"#2a3f5f\"}}, \"ternary\": {\"aaxis\": {\"gridcolor\": \"white\", \"linecolor\": \"white\", \"ticks\": \"\"}, \"baxis\": {\"gridcolor\": \"white\", \"linecolor\": \"white\", \"ticks\": \"\"}, \"bgcolor\": \"#E5ECF6\", \"caxis\": {\"gridcolor\": \"white\", \"linecolor\": \"white\", \"ticks\": \"\"}}, \"title\": {\"x\": 0.05}, \"xaxis\": {\"automargin\": true, \"gridcolor\": \"white\", \"linecolor\": \"white\", \"ticks\": \"\", \"title\": {\"standoff\": 15}, \"zerolinecolor\": \"white\", \"zerolinewidth\": 2}, \"yaxis\": {\"automargin\": true, \"gridcolor\": \"white\", \"linecolor\": \"white\", \"ticks\": \"\", \"title\": {\"standoff\": 15}, \"zerolinecolor\": \"white\", \"zerolinewidth\": 2}}}, \"xaxis\": {\"title\": {\"text\": \"Asset\"}, \"type\": \"category\", \"zeroline\": false}, \"yaxis\": {\"showgrid\": false, \"title\": {\"text\": \"$w$\"}}},\n",
              "                        {\"responsive\": true}\n",
              "                    ).then(function(){\n",
              "                            \n",
              "var gd = document.getElementById('24352229-4c73-48a7-8da9-a2509e7d7963');\n",
              "var x = new MutationObserver(function (mutations, observer) {{\n",
              "        var display = window.getComputedStyle(gd).display;\n",
              "        if (!display || display === 'none') {{\n",
              "            console.log([gd, 'removed!']);\n",
              "            Plotly.purge(gd);\n",
              "            observer.disconnect();\n",
              "        }}\n",
              "}});\n",
              "\n",
              "// Listen for the removal of the full notebook cells\n",
              "var notebookContainer = gd.closest('#notebook-container');\n",
              "if (notebookContainer) {{\n",
              "    x.observe(notebookContainer, {childList: true});\n",
              "}}\n",
              "\n",
              "// Listen for the clearing of the current output cell\n",
              "var outputEl = gd.closest('.output');\n",
              "if (outputEl) {{\n",
              "    x.observe(outputEl, {childList: true});\n",
              "}}\n",
              "\n",
              "                        })\n",
              "                };\n",
              "                \n",
              "            </script>\n",
              "        </div>\n",
              "</body>\n",
              "</html>"
            ]
          },
          "metadata": {
            "tags": []
          }
        }
      ]
    },
    {
      "cell_type": "markdown",
      "metadata": {
        "id": "ecT2LV1RIg52"
      },
      "source": [
        "Anche in questo caso,  i **pesi** di molti asset sono **nulli** sia nella soluzione esatta che in tutte le approssimazioni, cioè si preferisce un **portafoglio poco diverficato**.  \\\n",
        "La stima ad un mese, però, porta ad acquistare solamente l'asset 'sbagliato'.\n",
        "\n",
        "Calcoliamo nuovamente gli errori in norma 1 delle stime. Iniziamo dal portafoglio a due asset ottenuto minimizzando la sola varianza."
      ]
    },
    {
      "cell_type": "code",
      "metadata": {
        "colab": {
          "base_uri": "https://localhost:8080/"
        },
        "id": "fZGuAsRxXZXA",
        "outputId": "8f6c6610-af2a-4ae5-e7f4-5f62d14ccab2"
      },
      "source": [
        "print('Stima a 1 settimana:\\tErrore: ' + '{0:.4f}'.format(np.linalg.norm(real_minvar_w_opt2-week_minvar_w_opt2, ord=1)/2))\n",
        "print('Stima a 1 mese:\\t\\tErrore: ' + '{0:.4f}'.format(np.linalg.norm(real_minvar_w_opt2-month_minvar_w_opt2, ord=1)/2))\n",
        "print('Stima a 4 mesi:\\t\\tErrore: ' + '{0:.4f}'.format(np.linalg.norm(real_minvar_w_opt2-quarter_minvar_w_opt2, ord=1)/2))"
      ],
      "execution_count": null,
      "outputs": [
        {
          "output_type": "stream",
          "text": [
            "Stima a 1 settimana:\tErrore: 0.0732\n",
            "Stima a 1 mese:\t\tErrore: 0.0732\n",
            "Stima a 4 mesi:\t\tErrore: 0.0709\n"
          ],
          "name": "stdout"
        }
      ]
    },
    {
      "cell_type": "markdown",
      "metadata": {
        "id": "v8IgUD6qYsYR"
      },
      "source": [
        "Vediamo adesso gli errori dei portafogli ottenuti introducendo il fattore di avversione al rischio."
      ]
    },
    {
      "cell_type": "code",
      "metadata": {
        "colab": {
          "base_uri": "https://localhost:8080/"
        },
        "id": "RMyKFU6wXute",
        "outputId": "a34053c8-f1e5-45d0-ac56-0f5cb8681ff0"
      },
      "source": [
        "print('Stima a 1 settimana:\\tErrore: ' + '{0:.4f}'.format(np.linalg.norm(real_w_opt2-week_w_opt2, ord=1)/2))\n",
        "print('Stima a 1 mese:\\t\\tErrore: ' + '{0:.4f}'.format(np.linalg.norm(real_w_opt2-month_w_opt2, ord=1)/2))\n",
        "print('Stima a 4 mesi:\\t\\tErrore: ' + '{0:.4f}'.format(np.linalg.norm(real_w_opt2-quarter_w_opt2, ord=1)/2))"
      ],
      "execution_count": null,
      "outputs": [
        {
          "output_type": "stream",
          "text": [
            "Stima a 1 settimana:\tErrore: 0.0000\n",
            "Stima a 1 mese:\t\tErrore: 0.0000\n",
            "Stima a 4 mesi:\t\tErrore: 0.0000\n"
          ],
          "name": "stdout"
        }
      ]
    },
    {
      "cell_type": "markdown",
      "metadata": {
        "id": "v0bvcn9BY2qb"
      },
      "source": [
        "Facciamo lo stesso per il portafoglio a 10 asset. Gli errori ottenuti minimizzando la sola varianza sono i seguenti."
      ]
    },
    {
      "cell_type": "code",
      "metadata": {
        "colab": {
          "base_uri": "https://localhost:8080/"
        },
        "id": "LSO9tnLjXwV3",
        "outputId": "0cca34c6-0b2d-4282-ecc2-2e978bc73d52"
      },
      "source": [
        "print('Stima a 1 mese:\\t\\tErrore: ' + '{0:.4f}'.format(np.linalg.norm(real_minvar_w_opt10-month_minvar_w_opt10, ord=1)/10))\n",
        "print('Stima a 4 mesi:\\t\\tErrore: ' + '{0:.4f}'.format(np.linalg.norm(real_minvar_w_opt10-quarter_minvar_w_opt10, ord=1)/10))"
      ],
      "execution_count": null,
      "outputs": [
        {
          "output_type": "stream",
          "text": [
            "Stima a 1 mese:\t\tErrore: 0.1064\n",
            "Stima a 4 mesi:\t\tErrore: 0.0465\n"
          ],
          "name": "stdout"
        }
      ]
    },
    {
      "cell_type": "markdown",
      "metadata": {
        "id": "w_PvYkNyRWSS"
      },
      "source": [
        "Vediamo adesso gli errori dei portafogli ottenuti introducendo il fattore di avversione al rischio."
      ]
    },
    {
      "cell_type": "code",
      "metadata": {
        "colab": {
          "base_uri": "https://localhost:8080/"
        },
        "id": "6kKCRGUBZEUS",
        "outputId": "c9891f05-dc06-423c-dca6-3bbf7831c1ca"
      },
      "source": [
        "print('Stima a 1 mese:\\t\\tErrore: ' + '{0:.4f}'.format(np.linalg.norm(real_w_opt10-month_w_opt10, ord=1)/10))\n",
        "print('Stima a 4 mesi:\\t\\tErrore: ' + '{0:.4f}'.format(np.linalg.norm(real_w_opt10-quarter_w_opt10, ord=1)/10))"
      ],
      "execution_count": null,
      "outputs": [
        {
          "output_type": "stream",
          "text": [
            "Stima a 1 mese:\t\tErrore: 0.2000\n",
            "Stima a 4 mesi:\t\tErrore: 0.0000\n"
          ],
          "name": "stdout"
        }
      ]
    },
    {
      "cell_type": "markdown",
      "metadata": {
        "id": "3rYrjkIiVBLZ"
      },
      "source": [
        "L'aggiunta del **vincolo sulle vendite allo scoperto** sembra avere un **ottimo effetto sulla stima** dei portafogli ottimi in ogni caso. \\\n",
        " Un netto miglioramento, in particolare, si può osservare sui **portafogli MV**, in cui l'**errore** è, in molti casi, **azzerato**.  Questo miglioramento può essere spiegato pensando al caso in cui un **rendimento** atteso viene **sottostimato**: il portafoglio ottimo tenderà a **vendere** il relativo asset allo **scoperto**, causando un errore nella stima dei pesi ottimi.\\\n",
        "  Introducendo il vincolo sulle vendite allo scoperto, invece, questo errore viene evitato."
      ]
    },
    {
      "cell_type": "markdown",
      "metadata": {
        "id": "OXGI96sFa0KD"
      },
      "source": [
        "## Rendimenti attesi o covarianze? Quali errori pesano di più?\n",
        "Come abbiamo già intuito in precedenza, gli **errori sulla stima dei rendimenti attesi sembrano pesare di più degli errori sulla matrice di varianza-covarianza**. Ricordiamo, però, che errori sulla stima della matrice di varianza covarianza possono portare quest'ultima a non essere definita positiva. \\\n",
        "Per studiare meglio il fenomeno, risolviamo di nuovo i problemi risolti in precedenza, ma isolando le due stime e cioè:\n",
        "- nel primo caso,  forniamo il vettore dei **rendimenti esatti** e la matrice di **varianza-covarianza stimata** ;\n",
        "- nel secondo caso, utilizziamo il vettore dei **rendimenti stimati** e la matrice di **varianza-covarianza esatta**.\n",
        "\n",
        "Quindi quantifichiamo l'errore nei due casi distinti. \\\n",
        "Rimuoviamo i vincoli sulle vendite allo scoperto, che, come abbiamo visto, hanno l'effetto di ridurre gli errori di stima. \\\n"
      ]
    },
    {
      "cell_type": "markdown",
      "metadata": {
        "id": "V6qj4yH9GBik"
      },
      "source": [
        "Calcoliamo quindi gli **errori** nelle stime dei portafogli a **minima varianza**."
      ]
    },
    {
      "cell_type": "code",
      "metadata": {
        "id": "LRTem0_AhOAk"
      },
      "source": [
        "## PORTAFOGLIO A 2 Asset\n",
        "# risultato reale\n",
        "real_minvar_w_opt2, _, _ = min_variance_optimize(mu2, varcov2)\n",
        "\n",
        "# stime con rendimenti attesi reali\n",
        "week_realmu_minvar_w_opt2, _, _ = min_variance_optimize(mu2, varcov_estimate7_data2)\n",
        "month_realmu_minvar_w_opt2, _, _ = min_variance_optimize(mu2, varcov_estimate30_data2)\n",
        "quarter_realmu_minvar_w_opt2, _, _ = min_variance_optimize(mu2, varcov_estimate120_data2)\n",
        "\n",
        "# stime con matrice di varianza-covarianza reale\n",
        "week_realvar_minvar_w_opt2, _, _ = min_variance_optimize(mu_estimate7_data2, varcov2)\n",
        "month_realvar_minvar_w_opt2, _, _ = min_variance_optimize(mu_estimate30_data2, varcov2)\n",
        "quarter_realvar_minvar_w_opt2, _, _ = min_variance_optimize(mu_estimate120_data2, varcov2)\n",
        "\n",
        "\n",
        "## PORTAFOGLIO A 10 Asset\n",
        "# risultato reale\n",
        "real_minvar_w_opt10, _, _ = min_variance_optimize(mu10, varcov10)\n",
        "\n",
        "# stime con rendimenti attesi reali\n",
        "week_realmu_minvar_w_opt10, _, _ = min_variance_optimize(mu10, varcov_estimate7_data10)\n",
        "month_realmu_minvar_w_opt10, _, _ = min_variance_optimize(mu10, varcov_estimate30_data10)\n",
        "quarter_realmu_minvar_w_opt10, _, _ = min_variance_optimize(mu10, varcov_estimate120_data10)\n",
        "\n",
        "# stime con matrice di varianza-covarianza reale\n",
        "week_realvar_minvar_w_opt10, _, _ = min_variance_optimize(mu_estimate7_data10, varcov10)\n",
        "month_realvar_minvar_w_opt10, _, _ = min_variance_optimize(mu_estimate30_data10, varcov10)\n",
        "quarter_realvar_minvar_w_opt10, _, _ = min_variance_optimize(mu_estimate120_data10, varcov10)"
      ],
      "execution_count": null,
      "outputs": []
    },
    {
      "cell_type": "code",
      "metadata": {
        "id": "ZBLmM-FqqQli"
      },
      "source": [
        "# errori di stima usando i rendimenti attesi reali per portafoglio a 2 asset\n",
        "realmu_minvar_errs2 = [np.linalg.norm(real_minvar_w_opt2 - week_realmu_minvar_w_opt2, ord=1)/2,\n",
        "                      np.linalg.norm(real_minvar_w_opt2 - month_realmu_minvar_w_opt2, ord=1)/2,\n",
        "                      np.linalg.norm(real_minvar_w_opt2 - quarter_realmu_minvar_w_opt2, ord=1)/2]\n",
        "\n",
        "# errori di stima usando la matrice di varianza covarianza reale per portafoglio a 10 asset\n",
        "realvar_minvar_errs2 = [np.linalg.norm(real_minvar_w_opt2 - week_realvar_minvar_w_opt2, ord=1)/2,\n",
        "                       np.linalg.norm(real_minvar_w_opt2 - month_realvar_minvar_w_opt2, ord=1)/2,\n",
        "                       np.linalg.norm(real_minvar_w_opt2 - quarter_realvar_minvar_w_opt2, ord=1)/2]\n",
        "\n",
        "# errori di stima usando i rendimenti attesi reali per portafoglio a 10 asset\n",
        "realmu_minvar_errs10 = [np.linalg.norm(real_minvar_w_opt10 - week_realmu_minvar_w_opt10, ord=1)/10,\n",
        "                      np.linalg.norm(real_minvar_w_opt10 - month_realmu_minvar_w_opt10, ord=1)/10,\n",
        "                      np.linalg.norm(real_minvar_w_opt10 - quarter_realmu_minvar_w_opt10, ord=1)/10]\n",
        "\n",
        "# errori di stima usando la matrice di varianza covarianza reale per portafoglio a 10 asset\n",
        "realvar_minvar_errs10 = [np.linalg.norm(real_minvar_w_opt10 - week_realvar_minvar_w_opt10, ord=1)/10,\n",
        "                       np.linalg.norm(real_minvar_w_opt10 - month_realvar_minvar_w_opt10, ord=1)/10,\n",
        "                       np.linalg.norm(real_minvar_w_opt10 - quarter_realvar_minvar_w_opt10, ord=1)/10]"
      ],
      "execution_count": null,
      "outputs": []
    },
    {
      "cell_type": "markdown",
      "metadata": {
        "id": "weBduQmn9Ueb"
      },
      "source": [
        "Facciamo lo stesso con i **portafogli MV**, fissando nuovamente $\\lambda = 0.1$ per non far crescere troppo il numero di dati ottenuti."
      ]
    },
    {
      "cell_type": "code",
      "metadata": {
        "id": "OGYkPqul9nCq"
      },
      "source": [
        "## PORTAFOGLIO A 2 Asset\n",
        "# risultato reale\n",
        "real_mv_w_opt2, _, _ = risk_aversion_optimize(mu2, varcov2, 0.1)\n",
        "\n",
        "# stime con rendimenti attesi reali\n",
        "week_realmu_mv_w_opt2, _, _ = risk_aversion_optimize(mu2, varcov_estimate7_data2, 0.1)\n",
        "month_realmu_mv_w_opt2, _, _ = risk_aversion_optimize(mu2, varcov_estimate30_data2, 0.1)\n",
        "quarter_realmu_mv_w_opt2, _, _ = risk_aversion_optimize(mu2, varcov_estimate120_data2, 0.1)\n",
        "\n",
        "# stime con matrice di varianza-covarianza reale\n",
        "week_realvar_mv_w_opt2, _, _ = risk_aversion_optimize(mu_estimate7_data2, varcov2, 0.1)\n",
        "month_realvar_mv_w_opt2, _, _ = risk_aversion_optimize(mu_estimate30_data2, varcov2, 0.1)\n",
        "quarter_realvar_mv_w_opt2, _, _ = risk_aversion_optimize(mu_estimate120_data2, varcov2, 0.1)\n",
        "\n",
        "\n",
        "## PORTAFOGLIO A 10 Asset\n",
        "# risultato reale\n",
        "real_mv_w_opt10, _, _ = risk_aversion_optimize(mu10, varcov10, 0.1)\n",
        "\n",
        "# stime con rendimenti attesi reali\n",
        "week_realmu_mv_w_opt10, _, _ = risk_aversion_optimize(mu10, varcov_estimate7_data10, 0.1)\n",
        "month_realmu_mv_w_opt10, _, _ = risk_aversion_optimize(mu10, varcov_estimate30_data10, 0.1)\n",
        "quarter_realmu_mv_w_opt10, _, _ = risk_aversion_optimize(mu10, varcov_estimate120_data10, 0.1)\n",
        "\n",
        "# stime con matrice di varianza-covarianza reale\n",
        "week_realvar_mv_w_opt10, _, _ = risk_aversion_optimize(mu_estimate7_data10, varcov10, 0.1)\n",
        "month_realvar_mv_w_opt10, _, _ = risk_aversion_optimize(mu_estimate30_data10, varcov10, 0.1)\n",
        "quarter_realvar_mv_w_opt10, _, _ = risk_aversion_optimize(mu_estimate120_data10, varcov10, 0.1)"
      ],
      "execution_count": null,
      "outputs": []
    },
    {
      "cell_type": "code",
      "metadata": {
        "id": "Sf1ebQLEBIQU"
      },
      "source": [
        "# errori di stima usando i rendimenti attesi reali per portafoglio a 2 asset\n",
        "realmu_mv_errs2 = [np.linalg.norm(real_mv_w_opt2 - week_realmu_mv_w_opt2, ord=1)/2,\n",
        "                      np.linalg.norm(real_mv_w_opt2 - month_realmu_mv_w_opt2, ord=1)/2,\n",
        "                      np.linalg.norm(real_mv_w_opt2 - quarter_realmu_mv_w_opt2, ord=1)/2]\n",
        "\n",
        "# errori di stima usando la matrice di varianza covarianza reale per portafoglio a 10 asset\n",
        "realvar_mv_errs2 = [np.linalg.norm(real_mv_w_opt2 - week_realvar_mv_w_opt2, ord=1)/2,\n",
        "                       np.linalg.norm(real_mv_w_opt2 - month_realvar_mv_w_opt2, ord=1)/2,\n",
        "                       np.linalg.norm(real_mv_w_opt2 - quarter_realvar_mv_w_opt2, ord=1)/2]\n",
        "\n",
        "# errori di stima usando i rendimenti attesi reali per portafoglio a 10 asset\n",
        "realmu_mv_errs10 = [np.linalg.norm(real_mv_w_opt10 - week_realmu_mv_w_opt10, ord=1)/10,\n",
        "                      np.linalg.norm(real_mv_w_opt10 - month_realmu_mv_w_opt10, ord=1)/10,\n",
        "                      np.linalg.norm(real_mv_w_opt10 - quarter_realmu_mv_w_opt10, ord=1)/10]\n",
        "\n",
        "# errori di stima usando la matrice di varianza covarianza reale per portafoglio a 10 asset\n",
        "realvar_mv_errs10 = [np.linalg.norm(real_mv_w_opt10 - week_realvar_mv_w_opt10, ord=1)/10,\n",
        "                       np.linalg.norm(real_mv_w_opt10 - month_realvar_mv_w_opt10, ord=1)/10,\n",
        "                       np.linalg.norm(real_mv_w_opt10 - quarter_realvar_mv_w_opt10, ord=1)/10]"
      ],
      "execution_count": null,
      "outputs": []
    },
    {
      "cell_type": "markdown",
      "metadata": {
        "id": "SSKaOTtp9oLR"
      },
      "source": [
        "Plottiamo infine gli errori al **variare** dell'**orizzonte temporale** su cui sono stati stimati i dati."
      ]
    },
    {
      "cell_type": "code",
      "metadata": {
        "colab": {
          "base_uri": "https://localhost:8080/",
          "height": 817
        },
        "id": "-V5gJivps5Mc",
        "outputId": "ff85367d-6376-4dfa-a314-17048c648ccb"
      },
      "source": [
        "times = ['1 settimana', '1 mese', '4 mesi']\n",
        "fig = make_subplots(rows=1, cols=2, subplot_titles=['2 asset','10 asset'])\n",
        "\n",
        "fig.add_trace(go.Scatter(x=times, y=realmu_minvar_errs2, name='Varianza minima - Rendimenti reali', marker={'color':'blue'}, legendgroup='1'), row=1, col=1)\n",
        "fig.add_trace(go.Scatter(x=times, y=realvar_minvar_errs2, name='Varianza minima - Covarianze reali', marker={'color':'red'}, legendgroup='2'), row=1, col=1)\n",
        "fig.add_trace(go.Scatter(x=times, y=realmu_mv_errs2, name='Mean variance - Rendimenti reali', marker={'color':'lightgreen'}, legendgroup='3'), row=1, col=1)\n",
        "fig.add_trace(go.Scatter(x=times, y=realvar_mv_errs2, name='Mean variance - Covarianze reali', marker={'color':'deeppink'}, legendgroup='4'), row=1, col=1)\n",
        "\n",
        "fig.add_trace(go.Scatter(x=times, y=realmu_minvar_errs10, name='Varianza minima - Rendimenti reali', marker={'color':'blue'}, legendgroup='1', showlegend=False), row=1, col=2)\n",
        "fig.add_trace(go.Scatter(x=times, y=realvar_minvar_errs10, name='Varianza minima - Covarianze reali', marker={'color':'red'}, legendgroup='2', showlegend=False), row=1, col=2)\n",
        "fig.add_trace(go.Scatter(x=times, y=realmu_mv_errs10, name='Mean variance - Rendimenti reali', marker={'color':'lightgreen'}, legendgroup='3', showlegend=False), row=1, col=2)\n",
        "fig.add_trace(go.Scatter(x=times, y=realvar_mv_errs10, name='Mean variance - Covarianze reali', marker={'color':'deeppink'}, legendgroup='4', showlegend=False), row=1, col=2)\n",
        "\n",
        "fig.update_xaxes(title='Quantità di dati')\n",
        "fig.update_yaxes(title='Errore', range=[-1,20], col=1)\n",
        "fig.update_yaxes(range=[-1,70], col=2)\n",
        "fig.update_layout(height=800)"
      ],
      "execution_count": null,
      "outputs": [
        {
          "output_type": "display_data",
          "data": {
            "text/html": [
              "<html>\n",
              "<head><meta charset=\"utf-8\" /></head>\n",
              "<body>\n",
              "    <div>\n",
              "            <script src=\"https://cdnjs.cloudflare.com/ajax/libs/mathjax/2.7.5/MathJax.js?config=TeX-AMS-MML_SVG\"></script><script type=\"text/javascript\">if (window.MathJax) {MathJax.Hub.Config({SVG: {font: \"STIX-Web\"}});}</script>\n",
              "                <script type=\"text/javascript\">window.PlotlyConfig = {MathJaxConfig: 'local'};</script>\n",
              "        <script src=\"https://cdn.plot.ly/plotly-latest.min.js\"></script>    \n",
              "            <div id=\"14698e5c-3a34-469c-86b9-a3ab4465aba9\" class=\"plotly-graph-div\" style=\"height:800px; width:100%;\"></div>\n",
              "            <script type=\"text/javascript\">\n",
              "                \n",
              "                    window.PLOTLYENV=window.PLOTLYENV || {};\n",
              "                    \n",
              "                if (document.getElementById(\"14698e5c-3a34-469c-86b9-a3ab4465aba9\")) {\n",
              "                    Plotly.newPlot(\n",
              "                        '14698e5c-3a34-469c-86b9-a3ab4465aba9',\n",
              "                        [{\"legendgroup\": \"1\", \"marker\": {\"color\": \"blue\"}, \"name\": \"Varianza minima - Rendimenti reali\", \"type\": \"scatter\", \"x\": [\"1 settimana\", \"1 mese\", \"4 mesi\"], \"xaxis\": \"x\", \"y\": [0.40025556571404897, 0.28804840658571584, 0.07090047666602234], \"yaxis\": \"y\"}, {\"legendgroup\": \"2\", \"marker\": {\"color\": \"red\"}, \"name\": \"Varianza minima - Covarianze reali\", \"type\": \"scatter\", \"x\": [\"1 settimana\", \"1 mese\", \"4 mesi\"], \"xaxis\": \"x\", \"y\": [0.0, 0.0, 0.0], \"yaxis\": \"y\"}, {\"legendgroup\": \"3\", \"marker\": {\"color\": \"lightgreen\"}, \"name\": \"Mean variance - Rendimenti reali\", \"type\": \"scatter\", \"x\": [\"1 settimana\", \"1 mese\", \"4 mesi\"], \"xaxis\": \"x\", \"y\": [0.011053696349695663, 0.5416922624436564, 0.12531776914092596], \"yaxis\": \"y\"}, {\"legendgroup\": \"4\", \"marker\": {\"color\": \"deeppink\"}, \"name\": \"Mean variance - Covarianze reali\", \"type\": \"scatter\", \"x\": [\"1 settimana\", \"1 mese\", \"4 mesi\"], \"xaxis\": \"x\", \"y\": [37.813115616089355, 8.876590027942195, 3.059650536741138], \"yaxis\": \"y\"}, {\"legendgroup\": \"1\", \"marker\": {\"color\": \"blue\"}, \"name\": \"Varianza minima - Rendimenti reali\", \"showlegend\": false, \"type\": \"scatter\", \"x\": [\"1 settimana\", \"1 mese\", \"4 mesi\"], \"xaxis\": \"x2\", \"y\": [0.7088197001337727, 0.32162793466635486, 0.15555338526882664], \"yaxis\": \"y2\"}, {\"legendgroup\": \"2\", \"marker\": {\"color\": \"red\"}, \"name\": \"Varianza minima - Covarianze reali\", \"showlegend\": false, \"type\": \"scatter\", \"x\": [\"1 settimana\", \"1 mese\", \"4 mesi\"], \"xaxis\": \"x2\", \"y\": [0.0, 0.0, 0.0], \"yaxis\": \"y2\"}, {\"legendgroup\": \"3\", \"marker\": {\"color\": \"lightgreen\"}, \"name\": \"Mean variance - Rendimenti reali\", \"showlegend\": false, \"type\": \"scatter\", \"x\": [\"1 settimana\", \"1 mese\", \"4 mesi\"], \"xaxis\": \"x2\", \"y\": [1.1590466019285406e+16, 203.44637972775527, 63.65289732740473], \"yaxis\": \"y2\"}, {\"legendgroup\": \"4\", \"marker\": {\"color\": \"deeppink\"}, \"name\": \"Mean variance - Covarianze reali\", \"showlegend\": false, \"type\": \"scatter\", \"x\": [\"1 settimana\", \"1 mese\", \"4 mesi\"], \"xaxis\": \"x2\", \"y\": [135.51756335340983, 28.696823111527543, 43.4414578189959], \"yaxis\": \"y2\"}],\n",
              "                        {\"annotations\": [{\"font\": {\"size\": 16}, \"showarrow\": false, \"text\": \"2 asset\", \"x\": 0.225, \"xanchor\": \"center\", \"xref\": \"paper\", \"y\": 1.0, \"yanchor\": \"bottom\", \"yref\": \"paper\"}, {\"font\": {\"size\": 16}, \"showarrow\": false, \"text\": \"10 asset\", \"x\": 0.775, \"xanchor\": \"center\", \"xref\": \"paper\", \"y\": 1.0, \"yanchor\": \"bottom\", \"yref\": \"paper\"}], \"height\": 800, \"template\": {\"data\": {\"bar\": [{\"error_x\": {\"color\": \"#2a3f5f\"}, \"error_y\": {\"color\": \"#2a3f5f\"}, \"marker\": {\"line\": {\"color\": \"#E5ECF6\", \"width\": 0.5}}, \"type\": \"bar\"}], \"barpolar\": [{\"marker\": {\"line\": {\"color\": \"#E5ECF6\", \"width\": 0.5}}, \"type\": \"barpolar\"}], \"carpet\": [{\"aaxis\": {\"endlinecolor\": \"#2a3f5f\", \"gridcolor\": \"white\", \"linecolor\": \"white\", \"minorgridcolor\": \"white\", \"startlinecolor\": \"#2a3f5f\"}, \"baxis\": {\"endlinecolor\": \"#2a3f5f\", \"gridcolor\": \"white\", \"linecolor\": \"white\", \"minorgridcolor\": \"white\", \"startlinecolor\": \"#2a3f5f\"}, \"type\": \"carpet\"}], \"choropleth\": [{\"colorbar\": {\"outlinewidth\": 0, \"ticks\": \"\"}, \"type\": \"choropleth\"}], \"contour\": [{\"colorbar\": {\"outlinewidth\": 0, \"ticks\": \"\"}, \"colorscale\": [[0.0, \"#0d0887\"], [0.1111111111111111, \"#46039f\"], [0.2222222222222222, \"#7201a8\"], [0.3333333333333333, \"#9c179e\"], [0.4444444444444444, \"#bd3786\"], [0.5555555555555556, \"#d8576b\"], [0.6666666666666666, \"#ed7953\"], [0.7777777777777778, \"#fb9f3a\"], [0.8888888888888888, \"#fdca26\"], [1.0, \"#f0f921\"]], \"type\": \"contour\"}], \"contourcarpet\": [{\"colorbar\": {\"outlinewidth\": 0, \"ticks\": \"\"}, \"type\": \"contourcarpet\"}], \"heatmap\": [{\"colorbar\": {\"outlinewidth\": 0, \"ticks\": \"\"}, \"colorscale\": [[0.0, \"#0d0887\"], [0.1111111111111111, \"#46039f\"], [0.2222222222222222, \"#7201a8\"], [0.3333333333333333, \"#9c179e\"], [0.4444444444444444, \"#bd3786\"], [0.5555555555555556, \"#d8576b\"], [0.6666666666666666, \"#ed7953\"], [0.7777777777777778, \"#fb9f3a\"], [0.8888888888888888, \"#fdca26\"], [1.0, \"#f0f921\"]], \"type\": \"heatmap\"}], \"heatmapgl\": [{\"colorbar\": {\"outlinewidth\": 0, \"ticks\": \"\"}, \"colorscale\": [[0.0, \"#0d0887\"], [0.1111111111111111, \"#46039f\"], [0.2222222222222222, \"#7201a8\"], [0.3333333333333333, \"#9c179e\"], [0.4444444444444444, \"#bd3786\"], [0.5555555555555556, \"#d8576b\"], [0.6666666666666666, \"#ed7953\"], [0.7777777777777778, \"#fb9f3a\"], [0.8888888888888888, \"#fdca26\"], [1.0, \"#f0f921\"]], \"type\": \"heatmapgl\"}], \"histogram\": [{\"marker\": {\"colorbar\": {\"outlinewidth\": 0, \"ticks\": \"\"}}, \"type\": \"histogram\"}], \"histogram2d\": [{\"colorbar\": {\"outlinewidth\": 0, \"ticks\": \"\"}, \"colorscale\": [[0.0, \"#0d0887\"], [0.1111111111111111, \"#46039f\"], [0.2222222222222222, \"#7201a8\"], [0.3333333333333333, \"#9c179e\"], [0.4444444444444444, \"#bd3786\"], [0.5555555555555556, \"#d8576b\"], [0.6666666666666666, \"#ed7953\"], [0.7777777777777778, \"#fb9f3a\"], [0.8888888888888888, \"#fdca26\"], [1.0, \"#f0f921\"]], \"type\": \"histogram2d\"}], \"histogram2dcontour\": [{\"colorbar\": {\"outlinewidth\": 0, \"ticks\": \"\"}, \"colorscale\": [[0.0, \"#0d0887\"], [0.1111111111111111, \"#46039f\"], [0.2222222222222222, \"#7201a8\"], [0.3333333333333333, \"#9c179e\"], [0.4444444444444444, \"#bd3786\"], [0.5555555555555556, \"#d8576b\"], [0.6666666666666666, \"#ed7953\"], [0.7777777777777778, \"#fb9f3a\"], [0.8888888888888888, \"#fdca26\"], [1.0, \"#f0f921\"]], \"type\": \"histogram2dcontour\"}], \"mesh3d\": [{\"colorbar\": {\"outlinewidth\": 0, \"ticks\": \"\"}, \"type\": \"mesh3d\"}], \"parcoords\": [{\"line\": {\"colorbar\": {\"outlinewidth\": 0, \"ticks\": \"\"}}, \"type\": \"parcoords\"}], \"pie\": [{\"automargin\": true, \"type\": \"pie\"}], \"scatter\": [{\"marker\": {\"colorbar\": {\"outlinewidth\": 0, \"ticks\": \"\"}}, \"type\": \"scatter\"}], \"scatter3d\": [{\"line\": {\"colorbar\": {\"outlinewidth\": 0, \"ticks\": \"\"}}, \"marker\": {\"colorbar\": {\"outlinewidth\": 0, \"ticks\": \"\"}}, \"type\": \"scatter3d\"}], \"scattercarpet\": [{\"marker\": {\"colorbar\": {\"outlinewidth\": 0, \"ticks\": \"\"}}, \"type\": \"scattercarpet\"}], \"scattergeo\": [{\"marker\": {\"colorbar\": {\"outlinewidth\": 0, \"ticks\": \"\"}}, \"type\": \"scattergeo\"}], \"scattergl\": [{\"marker\": {\"colorbar\": {\"outlinewidth\": 0, \"ticks\": \"\"}}, \"type\": \"scattergl\"}], \"scattermapbox\": [{\"marker\": {\"colorbar\": {\"outlinewidth\": 0, \"ticks\": \"\"}}, \"type\": \"scattermapbox\"}], \"scatterpolar\": [{\"marker\": {\"colorbar\": {\"outlinewidth\": 0, \"ticks\": \"\"}}, \"type\": \"scatterpolar\"}], \"scatterpolargl\": [{\"marker\": {\"colorbar\": {\"outlinewidth\": 0, \"ticks\": \"\"}}, \"type\": \"scatterpolargl\"}], \"scatterternary\": [{\"marker\": {\"colorbar\": {\"outlinewidth\": 0, \"ticks\": \"\"}}, \"type\": \"scatterternary\"}], \"surface\": [{\"colorbar\": {\"outlinewidth\": 0, \"ticks\": \"\"}, \"colorscale\": [[0.0, \"#0d0887\"], [0.1111111111111111, \"#46039f\"], [0.2222222222222222, \"#7201a8\"], [0.3333333333333333, \"#9c179e\"], [0.4444444444444444, \"#bd3786\"], [0.5555555555555556, \"#d8576b\"], [0.6666666666666666, \"#ed7953\"], [0.7777777777777778, \"#fb9f3a\"], [0.8888888888888888, \"#fdca26\"], [1.0, \"#f0f921\"]], \"type\": \"surface\"}], \"table\": [{\"cells\": {\"fill\": {\"color\": \"#EBF0F8\"}, \"line\": {\"color\": \"white\"}}, \"header\": {\"fill\": {\"color\": \"#C8D4E3\"}, \"line\": {\"color\": \"white\"}}, \"type\": \"table\"}]}, \"layout\": {\"annotationdefaults\": {\"arrowcolor\": \"#2a3f5f\", \"arrowhead\": 0, \"arrowwidth\": 1}, \"coloraxis\": {\"colorbar\": {\"outlinewidth\": 0, \"ticks\": \"\"}}, \"colorscale\": {\"diverging\": [[0, \"#8e0152\"], [0.1, \"#c51b7d\"], [0.2, \"#de77ae\"], [0.3, \"#f1b6da\"], [0.4, \"#fde0ef\"], [0.5, \"#f7f7f7\"], [0.6, \"#e6f5d0\"], [0.7, \"#b8e186\"], [0.8, \"#7fbc41\"], [0.9, \"#4d9221\"], [1, \"#276419\"]], \"sequential\": [[0.0, \"#0d0887\"], [0.1111111111111111, \"#46039f\"], [0.2222222222222222, \"#7201a8\"], [0.3333333333333333, \"#9c179e\"], [0.4444444444444444, \"#bd3786\"], [0.5555555555555556, \"#d8576b\"], [0.6666666666666666, \"#ed7953\"], [0.7777777777777778, \"#fb9f3a\"], [0.8888888888888888, \"#fdca26\"], [1.0, \"#f0f921\"]], \"sequentialminus\": [[0.0, \"#0d0887\"], [0.1111111111111111, \"#46039f\"], [0.2222222222222222, \"#7201a8\"], [0.3333333333333333, \"#9c179e\"], [0.4444444444444444, \"#bd3786\"], [0.5555555555555556, \"#d8576b\"], [0.6666666666666666, \"#ed7953\"], [0.7777777777777778, \"#fb9f3a\"], [0.8888888888888888, \"#fdca26\"], [1.0, \"#f0f921\"]]}, \"colorway\": [\"#636efa\", \"#EF553B\", \"#00cc96\", \"#ab63fa\", \"#FFA15A\", \"#19d3f3\", \"#FF6692\", \"#B6E880\", \"#FF97FF\", \"#FECB52\"], \"font\": {\"color\": \"#2a3f5f\"}, \"geo\": {\"bgcolor\": \"white\", \"lakecolor\": \"white\", \"landcolor\": \"#E5ECF6\", \"showlakes\": true, \"showland\": true, \"subunitcolor\": \"white\"}, \"hoverlabel\": {\"align\": \"left\"}, \"hovermode\": \"closest\", \"mapbox\": {\"style\": \"light\"}, \"paper_bgcolor\": \"white\", \"plot_bgcolor\": \"#E5ECF6\", \"polar\": {\"angularaxis\": {\"gridcolor\": \"white\", \"linecolor\": \"white\", \"ticks\": \"\"}, \"bgcolor\": \"#E5ECF6\", \"radialaxis\": {\"gridcolor\": \"white\", \"linecolor\": \"white\", \"ticks\": \"\"}}, \"scene\": {\"xaxis\": {\"backgroundcolor\": \"#E5ECF6\", \"gridcolor\": \"white\", \"gridwidth\": 2, \"linecolor\": \"white\", \"showbackground\": true, \"ticks\": \"\", \"zerolinecolor\": \"white\"}, \"yaxis\": {\"backgroundcolor\": \"#E5ECF6\", \"gridcolor\": \"white\", \"gridwidth\": 2, \"linecolor\": \"white\", \"showbackground\": true, \"ticks\": \"\", \"zerolinecolor\": \"white\"}, \"zaxis\": {\"backgroundcolor\": \"#E5ECF6\", \"gridcolor\": \"white\", \"gridwidth\": 2, \"linecolor\": \"white\", \"showbackground\": true, \"ticks\": \"\", \"zerolinecolor\": \"white\"}}, \"shapedefaults\": {\"line\": {\"color\": \"#2a3f5f\"}}, \"ternary\": {\"aaxis\": {\"gridcolor\": \"white\", \"linecolor\": \"white\", \"ticks\": \"\"}, \"baxis\": {\"gridcolor\": \"white\", \"linecolor\": \"white\", \"ticks\": \"\"}, \"bgcolor\": \"#E5ECF6\", \"caxis\": {\"gridcolor\": \"white\", \"linecolor\": \"white\", \"ticks\": \"\"}}, \"title\": {\"x\": 0.05}, \"xaxis\": {\"automargin\": true, \"gridcolor\": \"white\", \"linecolor\": \"white\", \"ticks\": \"\", \"title\": {\"standoff\": 15}, \"zerolinecolor\": \"white\", \"zerolinewidth\": 2}, \"yaxis\": {\"automargin\": true, \"gridcolor\": \"white\", \"linecolor\": \"white\", \"ticks\": \"\", \"title\": {\"standoff\": 15}, \"zerolinecolor\": \"white\", \"zerolinewidth\": 2}}}, \"xaxis\": {\"anchor\": \"y\", \"domain\": [0.0, 0.45], \"title\": {\"text\": \"Quantit\\u00e0 di dati\"}}, \"xaxis2\": {\"anchor\": \"y2\", \"domain\": [0.55, 1.0], \"title\": {\"text\": \"Quantit\\u00e0 di dati\"}}, \"yaxis\": {\"anchor\": \"x\", \"domain\": [0.0, 1.0], \"range\": [-1, 20], \"title\": {\"text\": \"Errore\"}}, \"yaxis2\": {\"anchor\": \"x2\", \"domain\": [0.0, 1.0], \"range\": [-1, 70]}},\n",
              "                        {\"responsive\": true}\n",
              "                    ).then(function(){\n",
              "                            \n",
              "var gd = document.getElementById('14698e5c-3a34-469c-86b9-a3ab4465aba9');\n",
              "var x = new MutationObserver(function (mutations, observer) {{\n",
              "        var display = window.getComputedStyle(gd).display;\n",
              "        if (!display || display === 'none') {{\n",
              "            console.log([gd, 'removed!']);\n",
              "            Plotly.purge(gd);\n",
              "            observer.disconnect();\n",
              "        }}\n",
              "}});\n",
              "\n",
              "// Listen for the removal of the full notebook cells\n",
              "var notebookContainer = gd.closest('#notebook-container');\n",
              "if (notebookContainer) {{\n",
              "    x.observe(notebookContainer, {childList: true});\n",
              "}}\n",
              "\n",
              "// Listen for the clearing of the current output cell\n",
              "var outputEl = gd.closest('.output');\n",
              "if (outputEl) {{\n",
              "    x.observe(outputEl, {childList: true});\n",
              "}}\n",
              "\n",
              "                        })\n",
              "                };\n",
              "                \n",
              "            </script>\n",
              "        </div>\n",
              "</body>\n",
              "</html>"
            ]
          },
          "metadata": {
            "tags": []
          }
        }
      ]
    },
    {
      "cell_type": "markdown",
      "metadata": {
        "id": "nmOY-94RCgnT"
      },
      "source": [
        "Riportiamo i seguenti commenti. \n",
        "- Il **portafoglio a minima varianza** riesce, in entrambi i casi, a **contenere gli errori** di stima nei **rendimenti attesi** (per ovvi motivi non commette errori nella stima del portafoglio a minima varianza quando viene fornita la matrice di varianza-covarianza reale). \n",
        "\n",
        "- Nel caso del **portafoglio MV**, sicuramente la situazione è più delicata:\n",
        "  -  in entrambi i portafogli, **errori sulla stima dei rendimenti attesi** comportano **grandi errori** nella **stima** dei **portafogli ottimi**. \n",
        "  - Per quanto riguarda gli **errori sulla matrice di varianza-covarianza**, essi sembrano avere ben **poco peso** nel portafoglio di **due** soli **asset**, mentre un **peso** decisamente **maggiore** in quello da **dieci** **asset**. \\\n",
        "Una possibile spiegazione è la seguente:  la matrice stimata con i dati di una settimana non è definita positiva, come precedentemente osservato. Tuttavia, questo non può essere l'unico motivo. Infatti, le stime con più dati restituiscono matrici definite positive, ma, nonostante ciò, il problema persiste ancora a i risultati sono peggiori rispetto al caso in cui si considerano errori sui rendimenti attesi. \\\n",
        "\n",
        "- Ancora una volta, come è lecito aspettarsi, ancora una volta, una **maggiore quantità di dati** permette di avere **stime migliori** dei portafogli ottimi.\n",
        "\n",
        "\n",
        "La regola generale che sembra emergere da questi dati è che, come già osservato in precedenza, il **portafoglio a minima varianza** permette di **contenere** **errori** dovuti alle **stime** dei parametri, mentre quello **MV** è decisamente più **sensibile** a questi ultimi. Nel caso di **portafogli MV**, inoltre, **errori sulla stima dei rendimenti attesi** giocano in ogni caso un ruolo **importante** sulla **correttezza dei risultati**, mentre **errori sulle covarianze** tendono ad amplificare gli errori al **crescere della numerosità degli asset**."
      ]
    },
    {
      "cell_type": "markdown",
      "metadata": {
        "id": "f85D9Fk5DHBw"
      },
      "source": [
        "## Confonto tra portafoglio ottimi : l'impatto sulla ricchezza terminale\n",
        "Nelle precedenti sezioni abbiamo analizzato quale effetto gli errori di stima dei parametri del problema possano avere sulla stima di un portafoglio ottimo.\\\n",
        " In questa sezione, proveremo invece a **confrontare** i vari approcci di **ottimizzazione** (portafoglio a minima varianza o MV/presenza o meno di vincoli sulle vendite allo scoperto) in base al loro **impatto** sulla **ricchezza terminale.**\n",
        "\n",
        "Immaginiamo, quindi, di partire da una ricchezza iniziale di €1 e stimiamo la distribuzione di probabilità della ricchezza terminale a 7 giorni e 14 giorni ottenuta utilizzando il portafoglio a minima varianza (sia con vincoli sulle vendite allo scoperto che senza) e il portafoglio MV fissando $\\lambda=1$ (sia con vincoli sulle vendite allo scoperto che senza).\\\n",
        "\n",
        " Concentriamoci sul portafoglio a 10 asset. \\\n",
        "\n",
        "Simuliamo 1000 scenari di rendimenti per i prossimi 14 giorni e utilizziamo solo i portafogli ottimi ottenuti per mezzo delle stime di rendimenti attesi e covarianze su dati dell'ultimo mese e degli ultimi 4 mesi (per evitare i problemi dovuti alla matrice di varianza-covarianza stimata a una settimana, che, come abbiamo osservato, non è definita positiva). \n",
        "\n",
        "Calcoliamo infine V@R e CV@R per ogni portafoglio utilizzato.\n",
        "Per il calcolo di tali misure di rischio, utilizziamo le simulazioni ottenute dai dati reali ( e non dalle stime). \n",
        "Tale approccio non è propriamente corretto, ma  ci permette di studiare le conseguenze degli errori di stima sulla richezza terminale, separando dunque gli effetti.  \n",
        "\n",
        "Osserviamo che gli scenari dei rendimenti dei prossimi 14 giorni vanno simulati utilizzando i dati reali."
      ]
    },
    {
      "cell_type": "code",
      "metadata": {
        "id": "920W2qPyLPkW"
      },
      "source": [
        "SIZE = 1000\n",
        "datanext14 = []\n",
        "for i in range(SIZE):\n",
        "  datanext14.append(rng.multivariate_normal(mean=mu10, cov=varcov10, size=14).transpose())"
      ],
      "execution_count": null,
      "outputs": []
    },
    {
      "cell_type": "code",
      "metadata": {
        "id": "mkVWXa_xMLqk"
      },
      "source": [
        "def compute_final_wealths(mu, varcov, realmu, realvarcov):\n",
        "  minvar_w_opt, _, _ = min_variance_optimize(mu, varcov) # portafoglio a minima varianza\n",
        "  mv_w_opt, _, _ = risk_aversion_optimize(mu, varcov, 1) # portafoglio mv\n",
        "\n",
        "  G = -np.identity(10,dtype=np.double) # matrice per vincoli di disuguaglianza\n",
        "  h = np.zeros(shape=10,dtype=np.double) # vettore per vincoli di disuguaglianza\n",
        "  A = np.ones(shape=[1,10],dtype=np.double) # matrice per vincoli di uguaglianza\n",
        "  b = np.array(1,dtype=np.double) # vettore per vincoli di uguaglianza\n",
        "  minvar_noshort_w_opt = quadprog_solve_qp(varcov, np.zeros(shape=10, dtype=np.double), G, h, A, b) # portafoglio a minima varianza senza vendite allo scoperto\n",
        "  mv_noshort_w_opt = quadprog_solve_qp(varcov, -mu, G, h, A, b) # portafoglio mv senza vendite allo scoperto\n",
        "\n",
        "  keys = ['min var', 'mv', 'min var - no short', 'mv - no short']\n",
        "  portfolios = dict.fromkeys(keys)\n",
        "  portfolios[keys[0]] = minvar_w_opt\n",
        "  portfolios[keys[1]] = mv_w_opt\n",
        "  portfolios[keys[2]] = minvar_noshort_w_opt\n",
        "  portfolios[keys[3]] = mv_noshort_w_opt\n",
        "\n",
        "  trajectories = {key:np.ones(shape=datanext14[0].shape[1]+1) for key in keys} # dizionario per salvare la traiettoria di una simulazione per ogni portafoglio\n",
        "\n",
        "  final_wealth_1w = {key:np.zeros(shape=len(datanext14)) for key in keys} # dizionario per salvare ricchezze a 1 mese per ogni portafoglio (tutte le simulazioni)\n",
        "  final_wealth_2w = {key:np.zeros(shape=len(datanext14)) for key in keys} # dizionario per salvare ricchezze a 4 mesi per ogni portafoglio (tutte le simulazioni)\n",
        "\n",
        "  expected_returns = {key: np.dot(realmu, portfolios[key]) for key in keys} # rendimenti attesi reali usando i portafoglio approssimati\n",
        "  variances = {key: np.dot(portfolios[key], realvarcov.dot(portfolios[key])) for key in keys} # varianze reali usando i portafoglio approssimati\n",
        "\n",
        "  for portfolio in portfolios.keys():\n",
        "    for sim in range(len(datanext14)):\n",
        "      day_value = 1 \n",
        "      \n",
        "      for day in range(datanext14[0].shape[1]):\n",
        "        day_value = day_value * (1+np.dot(portfolios[portfolio],datanext14[sim][:,day]))\n",
        "\n",
        "        if sim == 0: # se è la prima simulazione, salvo tutta la traiettoria\n",
        "          trajectories[portfolio][day+1] = day_value\n",
        "\n",
        "        if day == 7-1 : # se è il 7 giorno, salviamo la ricchezza in quel momento per ogni portafoglio e per ogni simulazione\n",
        "          final_wealth_1w[portfolio][sim] = day_value\n",
        "        elif day == 14-1: # idem se è il 14 giorno\n",
        "          final_wealth_2w[portfolio][sim] = day_value\n",
        "  \n",
        "  return trajectories, final_wealth_1w, final_wealth_2w, expected_returns, variances"
      ],
      "execution_count": null,
      "outputs": []
    },
    {
      "cell_type": "markdown",
      "metadata": {
        "id": "OqUtrCOCpGyr"
      },
      "source": [
        "Iniziamo utilizzando le **stime a 1 mese.**"
      ]
    },
    {
      "cell_type": "code",
      "metadata": {
        "id": "pFIJ-zc2MQZ3"
      },
      "source": [
        "trajectories, final_wealth_1w, final_wealth_2w, expected_returns, variances = compute_final_wealths(mu_estimate30_data10, varcov_estimate30_data10, mu10, varcov10)"
      ],
      "execution_count": null,
      "outputs": []
    },
    {
      "cell_type": "markdown",
      "metadata": {
        "id": "5Of9jM0pryJb"
      },
      "source": [
        "Plottiamo i risultati ottenuti con la prima simulazione usando i diversi portafogli."
      ]
    },
    {
      "cell_type": "code",
      "metadata": {
        "colab": {
          "base_uri": "https://localhost:8080/",
          "height": 542
        },
        "id": "btx1oroSOTYy",
        "outputId": "3a73860d-7a57-4c42-871b-a111c6d0e6d7"
      },
      "source": [
        "fig = go.Figure()\n",
        "\n",
        "for i in trajectories.keys():\n",
        "  fig.add_trace(go.Scatter(x=np.linspace(0,13,14,dtype=np.int8), y=trajectories[i], name=i))\n",
        "\n",
        "fig.update_xaxes(type='category', title='giorno')\n",
        "fig.update_yaxes(type='log', title='€')\n",
        "fig.show()"
      ],
      "execution_count": null,
      "outputs": [
        {
          "output_type": "display_data",
          "data": {
            "text/html": [
              "<html>\n",
              "<head><meta charset=\"utf-8\" /></head>\n",
              "<body>\n",
              "    <div>\n",
              "            <script src=\"https://cdnjs.cloudflare.com/ajax/libs/mathjax/2.7.5/MathJax.js?config=TeX-AMS-MML_SVG\"></script><script type=\"text/javascript\">if (window.MathJax) {MathJax.Hub.Config({SVG: {font: \"STIX-Web\"}});}</script>\n",
              "                <script type=\"text/javascript\">window.PlotlyConfig = {MathJaxConfig: 'local'};</script>\n",
              "        <script src=\"https://cdn.plot.ly/plotly-latest.min.js\"></script>    \n",
              "            <div id=\"f6676d91-61e1-469d-9df6-b246a3d4951a\" class=\"plotly-graph-div\" style=\"height:525px; width:100%;\"></div>\n",
              "            <script type=\"text/javascript\">\n",
              "                \n",
              "                    window.PLOTLYENV=window.PLOTLYENV || {};\n",
              "                    \n",
              "                if (document.getElementById(\"f6676d91-61e1-469d-9df6-b246a3d4951a\")) {\n",
              "                    Plotly.newPlot(\n",
              "                        'f6676d91-61e1-469d-9df6-b246a3d4951a',\n",
              "                        [{\"name\": \"min var\", \"type\": \"scatter\", \"x\": [0, 1, 2, 3, 4, 5, 6, 7, 8, 9, 10, 11, 12, 13], \"y\": [1.0, 1.5029347431030193, 2.4762937500712314, 3.498689308219524, 5.6098015553354665, 10.515437517295359, 17.899744354327858, 29.87447407605259, 46.528177732050764, 80.05184922689958, 104.93903882526581, 162.06387729277145, 259.6895808406844, 430.68899658440546, 683.1683567120447]}, {\"name\": \"mv\", \"type\": \"scatter\", \"x\": [0, 1, 2, 3, 4, 5, 6, 7, 8, 9, 10, 11, 12, 13], \"y\": [1.0, 22.095687110543306, 652.8605351404603, 14828.900149227582, 370364.25738431484, 8654004.751176551, 183727215.70072806, 3909934062.917992, 89936625093.9892, 1845967984668.405, 37714325696086.375, 383013172745079.44, 3474485271831512.5, 7.737964644537664e+16, 1.8754419166805578e+18]}, {\"name\": \"min var - no short\", \"type\": \"scatter\", \"x\": [0, 1, 2, 3, 4, 5, 6, 7, 8, 9, 10, 11, 12, 13], \"y\": [1.0, 1.1723052329200307, 1.0166142522512134, 1.0339919612201303, 1.2332654519148458, 1.580163495654921, 1.6565396470971692, 2.232171835210685, 2.3421858645281737, 3.2096455945670317, 2.943569366969155, 3.6694227603315572, 5.042363269714408, 6.860675264596847, 6.610833592812908]}, {\"name\": \"mv - no short\", \"type\": \"scatter\", \"x\": [0, 1, 2, 3, 4, 5, 6, 7, 8, 9, 10, 11, 12, 13], \"y\": [1.0, 1.2278562869287262, 1.091996187920216, 1.192724835313538, 1.5285818734140484, 2.0820845421179075, 2.2465526388657646, 3.234619252721026, 3.298328558332178, 4.339194109491946, 4.447593897455512, 5.821412858339235, 7.863190400116514, 10.280433997305314, 10.447028418406495]}],\n",
              "                        {\"template\": {\"data\": {\"bar\": [{\"error_x\": {\"color\": \"#2a3f5f\"}, \"error_y\": {\"color\": \"#2a3f5f\"}, \"marker\": {\"line\": {\"color\": \"#E5ECF6\", \"width\": 0.5}}, \"type\": \"bar\"}], \"barpolar\": [{\"marker\": {\"line\": {\"color\": \"#E5ECF6\", \"width\": 0.5}}, \"type\": \"barpolar\"}], \"carpet\": [{\"aaxis\": {\"endlinecolor\": \"#2a3f5f\", \"gridcolor\": \"white\", \"linecolor\": \"white\", \"minorgridcolor\": \"white\", \"startlinecolor\": \"#2a3f5f\"}, \"baxis\": {\"endlinecolor\": \"#2a3f5f\", \"gridcolor\": \"white\", \"linecolor\": \"white\", \"minorgridcolor\": \"white\", \"startlinecolor\": \"#2a3f5f\"}, \"type\": \"carpet\"}], \"choropleth\": [{\"colorbar\": {\"outlinewidth\": 0, \"ticks\": \"\"}, \"type\": \"choropleth\"}], \"contour\": [{\"colorbar\": {\"outlinewidth\": 0, \"ticks\": \"\"}, \"colorscale\": [[0.0, \"#0d0887\"], [0.1111111111111111, \"#46039f\"], [0.2222222222222222, \"#7201a8\"], [0.3333333333333333, \"#9c179e\"], [0.4444444444444444, \"#bd3786\"], [0.5555555555555556, \"#d8576b\"], [0.6666666666666666, \"#ed7953\"], [0.7777777777777778, \"#fb9f3a\"], [0.8888888888888888, \"#fdca26\"], [1.0, \"#f0f921\"]], \"type\": \"contour\"}], \"contourcarpet\": [{\"colorbar\": {\"outlinewidth\": 0, \"ticks\": \"\"}, \"type\": \"contourcarpet\"}], \"heatmap\": [{\"colorbar\": {\"outlinewidth\": 0, \"ticks\": \"\"}, \"colorscale\": [[0.0, \"#0d0887\"], [0.1111111111111111, \"#46039f\"], [0.2222222222222222, \"#7201a8\"], [0.3333333333333333, \"#9c179e\"], [0.4444444444444444, \"#bd3786\"], [0.5555555555555556, \"#d8576b\"], [0.6666666666666666, \"#ed7953\"], [0.7777777777777778, \"#fb9f3a\"], [0.8888888888888888, \"#fdca26\"], [1.0, \"#f0f921\"]], \"type\": \"heatmap\"}], \"heatmapgl\": [{\"colorbar\": {\"outlinewidth\": 0, \"ticks\": \"\"}, \"colorscale\": [[0.0, \"#0d0887\"], [0.1111111111111111, \"#46039f\"], [0.2222222222222222, \"#7201a8\"], [0.3333333333333333, \"#9c179e\"], [0.4444444444444444, \"#bd3786\"], [0.5555555555555556, \"#d8576b\"], [0.6666666666666666, \"#ed7953\"], [0.7777777777777778, \"#fb9f3a\"], [0.8888888888888888, \"#fdca26\"], [1.0, \"#f0f921\"]], \"type\": \"heatmapgl\"}], \"histogram\": [{\"marker\": {\"colorbar\": {\"outlinewidth\": 0, \"ticks\": \"\"}}, \"type\": \"histogram\"}], \"histogram2d\": [{\"colorbar\": {\"outlinewidth\": 0, \"ticks\": \"\"}, \"colorscale\": [[0.0, \"#0d0887\"], [0.1111111111111111, \"#46039f\"], [0.2222222222222222, \"#7201a8\"], [0.3333333333333333, \"#9c179e\"], [0.4444444444444444, \"#bd3786\"], [0.5555555555555556, \"#d8576b\"], [0.6666666666666666, \"#ed7953\"], [0.7777777777777778, \"#fb9f3a\"], [0.8888888888888888, \"#fdca26\"], [1.0, \"#f0f921\"]], \"type\": \"histogram2d\"}], \"histogram2dcontour\": [{\"colorbar\": {\"outlinewidth\": 0, \"ticks\": \"\"}, \"colorscale\": [[0.0, \"#0d0887\"], [0.1111111111111111, \"#46039f\"], [0.2222222222222222, \"#7201a8\"], [0.3333333333333333, \"#9c179e\"], [0.4444444444444444, \"#bd3786\"], [0.5555555555555556, \"#d8576b\"], [0.6666666666666666, \"#ed7953\"], [0.7777777777777778, \"#fb9f3a\"], [0.8888888888888888, \"#fdca26\"], [1.0, \"#f0f921\"]], \"type\": \"histogram2dcontour\"}], \"mesh3d\": [{\"colorbar\": {\"outlinewidth\": 0, \"ticks\": \"\"}, \"type\": \"mesh3d\"}], \"parcoords\": [{\"line\": {\"colorbar\": {\"outlinewidth\": 0, \"ticks\": \"\"}}, \"type\": \"parcoords\"}], \"pie\": [{\"automargin\": true, \"type\": \"pie\"}], \"scatter\": [{\"marker\": {\"colorbar\": {\"outlinewidth\": 0, \"ticks\": \"\"}}, \"type\": \"scatter\"}], \"scatter3d\": [{\"line\": {\"colorbar\": {\"outlinewidth\": 0, \"ticks\": \"\"}}, \"marker\": {\"colorbar\": {\"outlinewidth\": 0, \"ticks\": \"\"}}, \"type\": \"scatter3d\"}], \"scattercarpet\": [{\"marker\": {\"colorbar\": {\"outlinewidth\": 0, \"ticks\": \"\"}}, \"type\": \"scattercarpet\"}], \"scattergeo\": [{\"marker\": {\"colorbar\": {\"outlinewidth\": 0, \"ticks\": \"\"}}, \"type\": \"scattergeo\"}], \"scattergl\": [{\"marker\": {\"colorbar\": {\"outlinewidth\": 0, \"ticks\": \"\"}}, \"type\": \"scattergl\"}], \"scattermapbox\": [{\"marker\": {\"colorbar\": {\"outlinewidth\": 0, \"ticks\": \"\"}}, \"type\": \"scattermapbox\"}], \"scatterpolar\": [{\"marker\": {\"colorbar\": {\"outlinewidth\": 0, \"ticks\": \"\"}}, \"type\": \"scatterpolar\"}], \"scatterpolargl\": [{\"marker\": {\"colorbar\": {\"outlinewidth\": 0, \"ticks\": \"\"}}, \"type\": \"scatterpolargl\"}], \"scatterternary\": [{\"marker\": {\"colorbar\": {\"outlinewidth\": 0, \"ticks\": \"\"}}, \"type\": \"scatterternary\"}], \"surface\": [{\"colorbar\": {\"outlinewidth\": 0, \"ticks\": \"\"}, \"colorscale\": [[0.0, \"#0d0887\"], [0.1111111111111111, \"#46039f\"], [0.2222222222222222, \"#7201a8\"], [0.3333333333333333, \"#9c179e\"], [0.4444444444444444, \"#bd3786\"], [0.5555555555555556, \"#d8576b\"], [0.6666666666666666, \"#ed7953\"], [0.7777777777777778, \"#fb9f3a\"], [0.8888888888888888, \"#fdca26\"], [1.0, \"#f0f921\"]], \"type\": \"surface\"}], \"table\": [{\"cells\": {\"fill\": {\"color\": \"#EBF0F8\"}, \"line\": {\"color\": \"white\"}}, \"header\": {\"fill\": {\"color\": \"#C8D4E3\"}, \"line\": {\"color\": \"white\"}}, \"type\": \"table\"}]}, \"layout\": {\"annotationdefaults\": {\"arrowcolor\": \"#2a3f5f\", \"arrowhead\": 0, \"arrowwidth\": 1}, \"coloraxis\": {\"colorbar\": {\"outlinewidth\": 0, \"ticks\": \"\"}}, \"colorscale\": {\"diverging\": [[0, \"#8e0152\"], [0.1, \"#c51b7d\"], [0.2, \"#de77ae\"], [0.3, \"#f1b6da\"], [0.4, \"#fde0ef\"], [0.5, \"#f7f7f7\"], [0.6, \"#e6f5d0\"], [0.7, \"#b8e186\"], [0.8, \"#7fbc41\"], [0.9, \"#4d9221\"], [1, \"#276419\"]], \"sequential\": [[0.0, \"#0d0887\"], [0.1111111111111111, \"#46039f\"], [0.2222222222222222, \"#7201a8\"], [0.3333333333333333, \"#9c179e\"], [0.4444444444444444, \"#bd3786\"], [0.5555555555555556, \"#d8576b\"], [0.6666666666666666, \"#ed7953\"], [0.7777777777777778, \"#fb9f3a\"], [0.8888888888888888, \"#fdca26\"], [1.0, \"#f0f921\"]], \"sequentialminus\": [[0.0, \"#0d0887\"], [0.1111111111111111, \"#46039f\"], [0.2222222222222222, \"#7201a8\"], [0.3333333333333333, \"#9c179e\"], [0.4444444444444444, \"#bd3786\"], [0.5555555555555556, \"#d8576b\"], [0.6666666666666666, \"#ed7953\"], [0.7777777777777778, \"#fb9f3a\"], [0.8888888888888888, \"#fdca26\"], [1.0, \"#f0f921\"]]}, \"colorway\": [\"#636efa\", \"#EF553B\", \"#00cc96\", \"#ab63fa\", \"#FFA15A\", \"#19d3f3\", \"#FF6692\", \"#B6E880\", \"#FF97FF\", \"#FECB52\"], \"font\": {\"color\": \"#2a3f5f\"}, \"geo\": {\"bgcolor\": \"white\", \"lakecolor\": \"white\", \"landcolor\": \"#E5ECF6\", \"showlakes\": true, \"showland\": true, \"subunitcolor\": \"white\"}, \"hoverlabel\": {\"align\": \"left\"}, \"hovermode\": \"closest\", \"mapbox\": {\"style\": \"light\"}, \"paper_bgcolor\": \"white\", \"plot_bgcolor\": \"#E5ECF6\", \"polar\": {\"angularaxis\": {\"gridcolor\": \"white\", \"linecolor\": \"white\", \"ticks\": \"\"}, \"bgcolor\": \"#E5ECF6\", \"radialaxis\": {\"gridcolor\": \"white\", \"linecolor\": \"white\", \"ticks\": \"\"}}, \"scene\": {\"xaxis\": {\"backgroundcolor\": \"#E5ECF6\", \"gridcolor\": \"white\", \"gridwidth\": 2, \"linecolor\": \"white\", \"showbackground\": true, \"ticks\": \"\", \"zerolinecolor\": \"white\"}, \"yaxis\": {\"backgroundcolor\": \"#E5ECF6\", \"gridcolor\": \"white\", \"gridwidth\": 2, \"linecolor\": \"white\", \"showbackground\": true, \"ticks\": \"\", \"zerolinecolor\": \"white\"}, \"zaxis\": {\"backgroundcolor\": \"#E5ECF6\", \"gridcolor\": \"white\", \"gridwidth\": 2, \"linecolor\": \"white\", \"showbackground\": true, \"ticks\": \"\", \"zerolinecolor\": \"white\"}}, \"shapedefaults\": {\"line\": {\"color\": \"#2a3f5f\"}}, \"ternary\": {\"aaxis\": {\"gridcolor\": \"white\", \"linecolor\": \"white\", \"ticks\": \"\"}, \"baxis\": {\"gridcolor\": \"white\", \"linecolor\": \"white\", \"ticks\": \"\"}, \"bgcolor\": \"#E5ECF6\", \"caxis\": {\"gridcolor\": \"white\", \"linecolor\": \"white\", \"ticks\": \"\"}}, \"title\": {\"x\": 0.05}, \"xaxis\": {\"automargin\": true, \"gridcolor\": \"white\", \"linecolor\": \"white\", \"ticks\": \"\", \"title\": {\"standoff\": 15}, \"zerolinecolor\": \"white\", \"zerolinewidth\": 2}, \"yaxis\": {\"automargin\": true, \"gridcolor\": \"white\", \"linecolor\": \"white\", \"ticks\": \"\", \"title\": {\"standoff\": 15}, \"zerolinecolor\": \"white\", \"zerolinewidth\": 2}}}, \"xaxis\": {\"title\": {\"text\": \"giorno\"}, \"type\": \"category\"}, \"yaxis\": {\"title\": {\"text\": \"\\u20ac\"}, \"type\": \"log\"}},\n",
              "                        {\"responsive\": true}\n",
              "                    ).then(function(){\n",
              "                            \n",
              "var gd = document.getElementById('f6676d91-61e1-469d-9df6-b246a3d4951a');\n",
              "var x = new MutationObserver(function (mutations, observer) {{\n",
              "        var display = window.getComputedStyle(gd).display;\n",
              "        if (!display || display === 'none') {{\n",
              "            console.log([gd, 'removed!']);\n",
              "            Plotly.purge(gd);\n",
              "            observer.disconnect();\n",
              "        }}\n",
              "}});\n",
              "\n",
              "// Listen for the removal of the full notebook cells\n",
              "var notebookContainer = gd.closest('#notebook-container');\n",
              "if (notebookContainer) {{\n",
              "    x.observe(notebookContainer, {childList: true});\n",
              "}}\n",
              "\n",
              "// Listen for the clearing of the current output cell\n",
              "var outputEl = gd.closest('.output');\n",
              "if (outputEl) {{\n",
              "    x.observe(outputEl, {childList: true});\n",
              "}}\n",
              "\n",
              "                        })\n",
              "                };\n",
              "                \n",
              "            </script>\n",
              "        </div>\n",
              "</body>\n",
              "</html>"
            ]
          },
          "metadata": {
            "tags": []
          }
        }
      ]
    },
    {
      "cell_type": "markdown",
      "metadata": {
        "id": "aFS42DSU98d6"
      },
      "source": [
        "Sicuramente i **risultati** di questa simulazione sembrano ben **promettenti** per il **portafoglio MV**.\n",
        " Indaghiamo però meglio i risultati."
      ]
    },
    {
      "cell_type": "markdown",
      "metadata": {
        "id": "f6Yoc5PY3S0e"
      },
      "source": [
        "Calcoliamo adesso V@R e CV@R della ricchezza a 7 e 14 giorni per ogni portafoglio e plottiamola."
      ]
    },
    {
      "cell_type": "code",
      "metadata": {
        "id": "CrlJPtyHhUaF"
      },
      "source": [
        "def compute_var(data):\n",
        "  var = {key : np.quantile(data[key], 0.05) for key in data.keys()}\n",
        "  return var\n",
        "\n",
        "def compute_cvar(data):\n",
        "  var = compute_var(data)\n",
        "  cvar = {key : np.mean(data[key][data[key] <= var[key]]) for key in data.keys()}\n",
        "  return cvar"
      ],
      "execution_count": null,
      "outputs": []
    },
    {
      "cell_type": "code",
      "metadata": {
        "colab": {
          "base_uri": "https://localhost:8080/"
        },
        "id": "0PL236nT3jfZ",
        "outputId": "bdd2d3c1-d4ae-4c0b-df97-6ee96893bec2"
      },
      "source": [
        "print('V@R della ricchezza a 1 settimana',compute_var(final_wealth_1w))\n",
        "print('CV@R della ricchezza a 1 settimana',compute_cvar(final_wealth_1w))\n",
        "print('V@R della ricchezza a 2 settimane',compute_var(final_wealth_2w))\n",
        "print('CV@R della ricchezza a 2 settimane',compute_cvar(final_wealth_2w))"
      ],
      "execution_count": null,
      "outputs": [
        {
          "output_type": "stream",
          "text": [
            "V@R della ricchezza a 1 settimana {'min var': 15.055843757527567, 'mv': 50935810.10125781, 'min var - no short': 0.6180525388253533, 'mv - no short': 0.7550425993351753}\n",
            "CV@R della ricchezza a 1 settimana {'min var': 13.484989020297327, 'mv': -45785346.49691123, 'min var - no short': 0.4616375212499025, 'mv - no short': 0.5658785855788008}\n",
            "V@R della ricchezza a 2 settimane {'min var': 294.30764567280056, 'mv': 4161132288307584.0, 'min var - no short': 0.7996750689700223, 'mv - no short': 1.2572814182598568}\n",
            "CV@R della ricchezza a 2 settimane {'min var': 241.41817316658324, 'mv': -7.306661474637347e+16, 'min var - no short': 0.5471854379194144, 'mv - no short': 0.8330797326413986}\n"
          ],
          "name": "stdout"
        }
      ]
    },
    {
      "cell_type": "markdown",
      "metadata": {
        "id": "Npngs4FT4i5y"
      },
      "source": [
        "Notiamo che il portafoglio MV ha CV@R negativo. \\\n",
        "Avendo utilizzato una scala logaritmica per i plot, esso non verrà visualizzato."
      ]
    },
    {
      "cell_type": "code",
      "metadata": {
        "colab": {
          "base_uri": "https://localhost:8080/",
          "height": 1000
        },
        "id": "KEO_OjbgvVr4",
        "outputId": "a7cb334d-a388-4c67-ce5c-65b3c9d5e8c7"
      },
      "source": [
        "fig = make_subplots(rows=2, cols=2, subplot_titles=['Ricchezza terminale dopo 7 giorni', 'Ricchezza terminale dopo 14 giorni'], specs=[[{}, {}], [{'colspan':2}, None]], vertical_spacing=0.08, row_heights=[0.6,0.4])\n",
        "\n",
        "fig.add_trace(go.Bar(x=list(final_wealth_1w.keys()), y=list(compute_var(final_wealth_1w).values()), name='V@R', legendgroup=1, marker=dict(color='blue')), row=1, col=1)\n",
        "fig.add_trace(go.Bar(x=list(final_wealth_1w.keys()), y=list(compute_cvar(final_wealth_1w).values()), name='CV@R', legendgroup=2, marker=dict(color='red')), row=1, col=1)\n",
        "\n",
        "fig.add_trace(go.Bar(x=list(final_wealth_1w.keys()), y=list(compute_var(final_wealth_2w).values()), name='V@R', legendgroup=1, showlegend=False, marker=dict(color='blue')), row=1, col=2)\n",
        "fig.add_trace(go.Bar(x=list(final_wealth_1w.keys()), y=list(compute_cvar(final_wealth_2w).values()), name='CV@R', legendgroup=2, showlegend=False, marker=dict(color='red')), row=1, col=2)\n",
        "\n",
        "fig.add_trace(go.Bar(x=list(expected_returns.keys()), y=list(expected_returns.values()), name='Rendimento atteso', legendgroup=3), row=2, col=1)\n",
        "fig.add_trace(go.Bar(x=list(variances.keys()), y=list(variances.values()), name='Varianza', legendgroup=4), row=2, col=1)\n",
        "\n",
        "fig.update_yaxes(type='log')\n",
        "fig.update_layout(height=1000)"
      ],
      "execution_count": null,
      "outputs": [
        {
          "output_type": "display_data",
          "data": {
            "text/html": [
              "<html>\n",
              "<head><meta charset=\"utf-8\" /></head>\n",
              "<body>\n",
              "    <div>\n",
              "            <script src=\"https://cdnjs.cloudflare.com/ajax/libs/mathjax/2.7.5/MathJax.js?config=TeX-AMS-MML_SVG\"></script><script type=\"text/javascript\">if (window.MathJax) {MathJax.Hub.Config({SVG: {font: \"STIX-Web\"}});}</script>\n",
              "                <script type=\"text/javascript\">window.PlotlyConfig = {MathJaxConfig: 'local'};</script>\n",
              "        <script src=\"https://cdn.plot.ly/plotly-latest.min.js\"></script>    \n",
              "            <div id=\"4c8a39d5-1c6e-4848-8439-6493c51e38a0\" class=\"plotly-graph-div\" style=\"height:1000px; width:100%;\"></div>\n",
              "            <script type=\"text/javascript\">\n",
              "                \n",
              "                    window.PLOTLYENV=window.PLOTLYENV || {};\n",
              "                    \n",
              "                if (document.getElementById(\"4c8a39d5-1c6e-4848-8439-6493c51e38a0\")) {\n",
              "                    Plotly.newPlot(\n",
              "                        '4c8a39d5-1c6e-4848-8439-6493c51e38a0',\n",
              "                        [{\"legendgroup\": \"1\", \"marker\": {\"color\": \"blue\"}, \"name\": \"V@R\", \"type\": \"bar\", \"x\": [\"min var\", \"mv\", \"min var - no short\", \"mv - no short\"], \"xaxis\": \"x\", \"y\": [15.055843757527567, 50935810.10125781, 0.6180525388253533, 0.7550425993351753], \"yaxis\": \"y\"}, {\"legendgroup\": \"2\", \"marker\": {\"color\": \"red\"}, \"name\": \"CV@R\", \"type\": \"bar\", \"x\": [\"min var\", \"mv\", \"min var - no short\", \"mv - no short\"], \"xaxis\": \"x\", \"y\": [13.484989020297327, -45785346.49691123, 0.4616375212499025, 0.5658785855788008], \"yaxis\": \"y\"}, {\"legendgroup\": \"1\", \"marker\": {\"color\": \"blue\"}, \"name\": \"V@R\", \"showlegend\": false, \"type\": \"bar\", \"x\": [\"min var\", \"mv\", \"min var - no short\", \"mv - no short\"], \"xaxis\": \"x2\", \"y\": [294.30764567280056, 4161132288307584.0, 0.7996750689700223, 1.2572814182598568], \"yaxis\": \"y2\"}, {\"legendgroup\": \"2\", \"marker\": {\"color\": \"red\"}, \"name\": \"CV@R\", \"showlegend\": false, \"type\": \"bar\", \"x\": [\"min var\", \"mv\", \"min var - no short\", \"mv - no short\"], \"xaxis\": \"x2\", \"y\": [241.41817316658324, -7.306661474637347e+16, 0.5471854379194144, 0.8330797326413986], \"yaxis\": \"y2\"}, {\"legendgroup\": \"3\", \"name\": \"Rendimento atteso\", \"type\": \"bar\", \"x\": [\"min var\", \"mv\", \"min var - no short\", \"mv - no short\"], \"xaxis\": \"x3\", \"y\": [0.5716653669309552, 18.92384876344711, 0.14625035546254608, 0.17953988905598398], \"yaxis\": \"y3\"}, {\"legendgroup\": \"4\", \"name\": \"Varianza\", \"type\": \"bar\", \"x\": [\"min var\", \"mv\", \"min var - no short\", \"mv - no short\"], \"xaxis\": \"x3\", \"y\": [0.022294584076024453, 51.20352063111474, 0.07558446889051676, 0.07891130445205258], \"yaxis\": \"y3\"}],\n",
              "                        {\"annotations\": [{\"font\": {\"size\": 16}, \"showarrow\": false, \"text\": \"Ricchezza terminale dopo 7 giorni\", \"x\": 0.225, \"xanchor\": \"center\", \"xref\": \"paper\", \"y\": 1.0, \"yanchor\": \"bottom\", \"yref\": \"paper\"}, {\"font\": {\"size\": 16}, \"showarrow\": false, \"text\": \"Ricchezza terminale dopo 14 giorni\", \"x\": 0.775, \"xanchor\": \"center\", \"xref\": \"paper\", \"y\": 1.0, \"yanchor\": \"bottom\", \"yref\": \"paper\"}], \"height\": 1000, \"template\": {\"data\": {\"bar\": [{\"error_x\": {\"color\": \"#2a3f5f\"}, \"error_y\": {\"color\": \"#2a3f5f\"}, \"marker\": {\"line\": {\"color\": \"#E5ECF6\", \"width\": 0.5}}, \"type\": \"bar\"}], \"barpolar\": [{\"marker\": {\"line\": {\"color\": \"#E5ECF6\", \"width\": 0.5}}, \"type\": \"barpolar\"}], \"carpet\": [{\"aaxis\": {\"endlinecolor\": \"#2a3f5f\", \"gridcolor\": \"white\", \"linecolor\": \"white\", \"minorgridcolor\": \"white\", \"startlinecolor\": \"#2a3f5f\"}, \"baxis\": {\"endlinecolor\": \"#2a3f5f\", \"gridcolor\": \"white\", \"linecolor\": \"white\", \"minorgridcolor\": \"white\", \"startlinecolor\": \"#2a3f5f\"}, \"type\": \"carpet\"}], \"choropleth\": [{\"colorbar\": {\"outlinewidth\": 0, \"ticks\": \"\"}, \"type\": \"choropleth\"}], \"contour\": [{\"colorbar\": {\"outlinewidth\": 0, \"ticks\": \"\"}, \"colorscale\": [[0.0, \"#0d0887\"], [0.1111111111111111, \"#46039f\"], [0.2222222222222222, \"#7201a8\"], [0.3333333333333333, \"#9c179e\"], [0.4444444444444444, \"#bd3786\"], [0.5555555555555556, \"#d8576b\"], [0.6666666666666666, \"#ed7953\"], [0.7777777777777778, \"#fb9f3a\"], [0.8888888888888888, \"#fdca26\"], [1.0, \"#f0f921\"]], \"type\": \"contour\"}], \"contourcarpet\": [{\"colorbar\": {\"outlinewidth\": 0, \"ticks\": \"\"}, \"type\": \"contourcarpet\"}], \"heatmap\": [{\"colorbar\": {\"outlinewidth\": 0, \"ticks\": \"\"}, \"colorscale\": [[0.0, \"#0d0887\"], [0.1111111111111111, \"#46039f\"], [0.2222222222222222, \"#7201a8\"], [0.3333333333333333, \"#9c179e\"], [0.4444444444444444, \"#bd3786\"], [0.5555555555555556, \"#d8576b\"], [0.6666666666666666, \"#ed7953\"], [0.7777777777777778, \"#fb9f3a\"], [0.8888888888888888, \"#fdca26\"], [1.0, \"#f0f921\"]], \"type\": \"heatmap\"}], \"heatmapgl\": [{\"colorbar\": {\"outlinewidth\": 0, \"ticks\": \"\"}, \"colorscale\": [[0.0, \"#0d0887\"], [0.1111111111111111, \"#46039f\"], [0.2222222222222222, \"#7201a8\"], [0.3333333333333333, \"#9c179e\"], [0.4444444444444444, \"#bd3786\"], [0.5555555555555556, \"#d8576b\"], [0.6666666666666666, \"#ed7953\"], [0.7777777777777778, \"#fb9f3a\"], [0.8888888888888888, \"#fdca26\"], [1.0, \"#f0f921\"]], \"type\": \"heatmapgl\"}], \"histogram\": [{\"marker\": {\"colorbar\": {\"outlinewidth\": 0, \"ticks\": \"\"}}, \"type\": \"histogram\"}], \"histogram2d\": [{\"colorbar\": {\"outlinewidth\": 0, \"ticks\": \"\"}, \"colorscale\": [[0.0, \"#0d0887\"], [0.1111111111111111, \"#46039f\"], [0.2222222222222222, \"#7201a8\"], [0.3333333333333333, \"#9c179e\"], [0.4444444444444444, \"#bd3786\"], [0.5555555555555556, \"#d8576b\"], [0.6666666666666666, \"#ed7953\"], [0.7777777777777778, \"#fb9f3a\"], [0.8888888888888888, \"#fdca26\"], [1.0, \"#f0f921\"]], \"type\": \"histogram2d\"}], \"histogram2dcontour\": [{\"colorbar\": {\"outlinewidth\": 0, \"ticks\": \"\"}, \"colorscale\": [[0.0, \"#0d0887\"], [0.1111111111111111, \"#46039f\"], [0.2222222222222222, \"#7201a8\"], [0.3333333333333333, \"#9c179e\"], [0.4444444444444444, \"#bd3786\"], [0.5555555555555556, \"#d8576b\"], [0.6666666666666666, \"#ed7953\"], [0.7777777777777778, \"#fb9f3a\"], [0.8888888888888888, \"#fdca26\"], [1.0, \"#f0f921\"]], \"type\": \"histogram2dcontour\"}], \"mesh3d\": [{\"colorbar\": {\"outlinewidth\": 0, \"ticks\": \"\"}, \"type\": \"mesh3d\"}], \"parcoords\": [{\"line\": {\"colorbar\": {\"outlinewidth\": 0, \"ticks\": \"\"}}, \"type\": \"parcoords\"}], \"pie\": [{\"automargin\": true, \"type\": \"pie\"}], \"scatter\": [{\"marker\": {\"colorbar\": {\"outlinewidth\": 0, \"ticks\": \"\"}}, \"type\": \"scatter\"}], \"scatter3d\": [{\"line\": {\"colorbar\": {\"outlinewidth\": 0, \"ticks\": \"\"}}, \"marker\": {\"colorbar\": {\"outlinewidth\": 0, \"ticks\": \"\"}}, \"type\": \"scatter3d\"}], \"scattercarpet\": [{\"marker\": {\"colorbar\": {\"outlinewidth\": 0, \"ticks\": \"\"}}, \"type\": \"scattercarpet\"}], \"scattergeo\": [{\"marker\": {\"colorbar\": {\"outlinewidth\": 0, \"ticks\": \"\"}}, \"type\": \"scattergeo\"}], \"scattergl\": [{\"marker\": {\"colorbar\": {\"outlinewidth\": 0, \"ticks\": \"\"}}, \"type\": \"scattergl\"}], \"scattermapbox\": [{\"marker\": {\"colorbar\": {\"outlinewidth\": 0, \"ticks\": \"\"}}, \"type\": \"scattermapbox\"}], \"scatterpolar\": [{\"marker\": {\"colorbar\": {\"outlinewidth\": 0, \"ticks\": \"\"}}, \"type\": \"scatterpolar\"}], \"scatterpolargl\": [{\"marker\": {\"colorbar\": {\"outlinewidth\": 0, \"ticks\": \"\"}}, \"type\": \"scatterpolargl\"}], \"scatterternary\": [{\"marker\": {\"colorbar\": {\"outlinewidth\": 0, \"ticks\": \"\"}}, \"type\": \"scatterternary\"}], \"surface\": [{\"colorbar\": {\"outlinewidth\": 0, \"ticks\": \"\"}, \"colorscale\": [[0.0, \"#0d0887\"], [0.1111111111111111, \"#46039f\"], [0.2222222222222222, \"#7201a8\"], [0.3333333333333333, \"#9c179e\"], [0.4444444444444444, \"#bd3786\"], [0.5555555555555556, \"#d8576b\"], [0.6666666666666666, \"#ed7953\"], [0.7777777777777778, \"#fb9f3a\"], [0.8888888888888888, \"#fdca26\"], [1.0, \"#f0f921\"]], \"type\": \"surface\"}], \"table\": [{\"cells\": {\"fill\": {\"color\": \"#EBF0F8\"}, \"line\": {\"color\": \"white\"}}, \"header\": {\"fill\": {\"color\": \"#C8D4E3\"}, \"line\": {\"color\": \"white\"}}, \"type\": \"table\"}]}, \"layout\": {\"annotationdefaults\": {\"arrowcolor\": \"#2a3f5f\", \"arrowhead\": 0, \"arrowwidth\": 1}, \"coloraxis\": {\"colorbar\": {\"outlinewidth\": 0, \"ticks\": \"\"}}, \"colorscale\": {\"diverging\": [[0, \"#8e0152\"], [0.1, \"#c51b7d\"], [0.2, \"#de77ae\"], [0.3, \"#f1b6da\"], [0.4, \"#fde0ef\"], [0.5, \"#f7f7f7\"], [0.6, \"#e6f5d0\"], [0.7, \"#b8e186\"], [0.8, \"#7fbc41\"], [0.9, \"#4d9221\"], [1, \"#276419\"]], \"sequential\": [[0.0, \"#0d0887\"], [0.1111111111111111, \"#46039f\"], [0.2222222222222222, \"#7201a8\"], [0.3333333333333333, \"#9c179e\"], [0.4444444444444444, \"#bd3786\"], [0.5555555555555556, \"#d8576b\"], [0.6666666666666666, \"#ed7953\"], [0.7777777777777778, \"#fb9f3a\"], [0.8888888888888888, \"#fdca26\"], [1.0, \"#f0f921\"]], \"sequentialminus\": [[0.0, \"#0d0887\"], [0.1111111111111111, \"#46039f\"], [0.2222222222222222, \"#7201a8\"], [0.3333333333333333, \"#9c179e\"], [0.4444444444444444, \"#bd3786\"], [0.5555555555555556, \"#d8576b\"], [0.6666666666666666, \"#ed7953\"], [0.7777777777777778, \"#fb9f3a\"], [0.8888888888888888, \"#fdca26\"], [1.0, \"#f0f921\"]]}, \"colorway\": [\"#636efa\", \"#EF553B\", \"#00cc96\", \"#ab63fa\", \"#FFA15A\", \"#19d3f3\", \"#FF6692\", \"#B6E880\", \"#FF97FF\", \"#FECB52\"], \"font\": {\"color\": \"#2a3f5f\"}, \"geo\": {\"bgcolor\": \"white\", \"lakecolor\": \"white\", \"landcolor\": \"#E5ECF6\", \"showlakes\": true, \"showland\": true, \"subunitcolor\": \"white\"}, \"hoverlabel\": {\"align\": \"left\"}, \"hovermode\": \"closest\", \"mapbox\": {\"style\": \"light\"}, \"paper_bgcolor\": \"white\", \"plot_bgcolor\": \"#E5ECF6\", \"polar\": {\"angularaxis\": {\"gridcolor\": \"white\", \"linecolor\": \"white\", \"ticks\": \"\"}, \"bgcolor\": \"#E5ECF6\", \"radialaxis\": {\"gridcolor\": \"white\", \"linecolor\": \"white\", \"ticks\": \"\"}}, \"scene\": {\"xaxis\": {\"backgroundcolor\": \"#E5ECF6\", \"gridcolor\": \"white\", \"gridwidth\": 2, \"linecolor\": \"white\", \"showbackground\": true, \"ticks\": \"\", \"zerolinecolor\": \"white\"}, \"yaxis\": {\"backgroundcolor\": \"#E5ECF6\", \"gridcolor\": \"white\", \"gridwidth\": 2, \"linecolor\": \"white\", \"showbackground\": true, \"ticks\": \"\", \"zerolinecolor\": \"white\"}, \"zaxis\": {\"backgroundcolor\": \"#E5ECF6\", \"gridcolor\": \"white\", \"gridwidth\": 2, \"linecolor\": \"white\", \"showbackground\": true, \"ticks\": \"\", \"zerolinecolor\": \"white\"}}, \"shapedefaults\": {\"line\": {\"color\": \"#2a3f5f\"}}, \"ternary\": {\"aaxis\": {\"gridcolor\": \"white\", \"linecolor\": \"white\", \"ticks\": \"\"}, \"baxis\": {\"gridcolor\": \"white\", \"linecolor\": \"white\", \"ticks\": \"\"}, \"bgcolor\": \"#E5ECF6\", \"caxis\": {\"gridcolor\": \"white\", \"linecolor\": \"white\", \"ticks\": \"\"}}, \"title\": {\"x\": 0.05}, \"xaxis\": {\"automargin\": true, \"gridcolor\": \"white\", \"linecolor\": \"white\", \"ticks\": \"\", \"title\": {\"standoff\": 15}, \"zerolinecolor\": \"white\", \"zerolinewidth\": 2}, \"yaxis\": {\"automargin\": true, \"gridcolor\": \"white\", \"linecolor\": \"white\", \"ticks\": \"\", \"title\": {\"standoff\": 15}, \"zerolinecolor\": \"white\", \"zerolinewidth\": 2}}}, \"xaxis\": {\"anchor\": \"y\", \"domain\": [0.0, 0.45]}, \"xaxis2\": {\"anchor\": \"y2\", \"domain\": [0.55, 1.0]}, \"xaxis3\": {\"anchor\": \"y3\", \"domain\": [0.0, 1.0]}, \"yaxis\": {\"anchor\": \"x\", \"domain\": [0.44800000000000006, 1.0], \"type\": \"log\"}, \"yaxis2\": {\"anchor\": \"x2\", \"domain\": [0.44800000000000006, 1.0], \"type\": \"log\"}, \"yaxis3\": {\"anchor\": \"x3\", \"domain\": [0.0, 0.36800000000000005], \"type\": \"log\"}},\n",
              "                        {\"responsive\": true}\n",
              "                    ).then(function(){\n",
              "                            \n",
              "var gd = document.getElementById('4c8a39d5-1c6e-4848-8439-6493c51e38a0');\n",
              "var x = new MutationObserver(function (mutations, observer) {{\n",
              "        var display = window.getComputedStyle(gd).display;\n",
              "        if (!display || display === 'none') {{\n",
              "            console.log([gd, 'removed!']);\n",
              "            Plotly.purge(gd);\n",
              "            observer.disconnect();\n",
              "        }}\n",
              "}});\n",
              "\n",
              "// Listen for the removal of the full notebook cells\n",
              "var notebookContainer = gd.closest('#notebook-container');\n",
              "if (notebookContainer) {{\n",
              "    x.observe(notebookContainer, {childList: true});\n",
              "}}\n",
              "\n",
              "// Listen for the clearing of the current output cell\n",
              "var outputEl = gd.closest('.output');\n",
              "if (outputEl) {{\n",
              "    x.observe(outputEl, {childList: true});\n",
              "}}\n",
              "\n",
              "                        })\n",
              "                };\n",
              "                \n",
              "            </script>\n",
              "        </div>\n",
              "</body>\n",
              "</html>"
            ]
          },
          "metadata": {
            "tags": []
          }
        }
      ]
    },
    {
      "cell_type": "markdown",
      "metadata": {
        "id": "ylmIzEsI4v8-"
      },
      "source": [
        "Come possiamo osservare dai grafici, i **risultati** sono molto **simili** per entrambi gli orizzonti temporali.\n",
        "- Affidandoci al **V@R**, la scelta migliore è il portafoglio MV con vendite allo scoperto. Purtroppo quest'ultimo è anche il portafoglio che ha il peggior CV@R. La motivazione è sicuramente, come mostra l'ultimo grafico, l'elevatissima **varianza** del **rendimento** del **portafoglio**. \n",
        "-Affidandoci al **CV@R**, invece, il portafoglio migliore è quello a minima varianza con vendite allo scoperto, che può essere in generale considerato come l'**alternativa migliore** in entrambi i casi.\n",
        "\n",
        "Facciamo adesso gli stessi ragionamenti usando le stime a 4 mesi."
      ]
    },
    {
      "cell_type": "code",
      "metadata": {
        "id": "O4nDIYmAvk_G"
      },
      "source": [
        "trajectories, final_wealth_1w, final_wealth_2w, expected_returns, variances = compute_final_wealths(mu_estimate120_data10, varcov_estimate120_data10, mu10, varcov10)"
      ],
      "execution_count": null,
      "outputs": []
    },
    {
      "cell_type": "code",
      "metadata": {
        "colab": {
          "base_uri": "https://localhost:8080/",
          "height": 542
        },
        "id": "oGsDEiDQ9pRD",
        "outputId": "37266ee0-cc62-4c28-e0fb-2230ba5bfc6a"
      },
      "source": [
        "fig = go.Figure()\n",
        "\n",
        "for i in trajectories.keys():\n",
        "  fig.add_trace(go.Scatter(x=np.linspace(0,13,14,dtype=np.int8), y=trajectories[i], name=i))\n",
        "\n",
        "fig.update_xaxes(type='category', title='giorno')\n",
        "fig.update_yaxes(type='log', title='€')\n",
        "fig.show()"
      ],
      "execution_count": null,
      "outputs": [
        {
          "output_type": "display_data",
          "data": {
            "text/html": [
              "<html>\n",
              "<head><meta charset=\"utf-8\" /></head>\n",
              "<body>\n",
              "    <div>\n",
              "            <script src=\"https://cdnjs.cloudflare.com/ajax/libs/mathjax/2.7.5/MathJax.js?config=TeX-AMS-MML_SVG\"></script><script type=\"text/javascript\">if (window.MathJax) {MathJax.Hub.Config({SVG: {font: \"STIX-Web\"}});}</script>\n",
              "                <script type=\"text/javascript\">window.PlotlyConfig = {MathJaxConfig: 'local'};</script>\n",
              "        <script src=\"https://cdn.plot.ly/plotly-latest.min.js\"></script>    \n",
              "            <div id=\"c2870531-74b5-4f80-81e3-9f630c7c9fc4\" class=\"plotly-graph-div\" style=\"height:525px; width:100%;\"></div>\n",
              "            <script type=\"text/javascript\">\n",
              "                \n",
              "                    window.PLOTLYENV=window.PLOTLYENV || {};\n",
              "                    \n",
              "                if (document.getElementById(\"c2870531-74b5-4f80-81e3-9f630c7c9fc4\")) {\n",
              "                    Plotly.newPlot(\n",
              "                        'c2870531-74b5-4f80-81e3-9f630c7c9fc4',\n",
              "                        [{\"name\": \"min var\", \"type\": \"scatter\", \"x\": [0, 1, 2, 3, 4, 5, 6, 7, 8, 9, 10, 11, 12, 13], \"y\": [1.0, 1.5460743152060579, 2.3852033202064793, 3.3307595809411574, 5.505568075493026, 10.147146328923675, 16.19058334244487, 27.46428173211025, 40.71398633800158, 66.34430388979902, 86.3425049583748, 130.0109114974334, 206.64030433989603, 335.0640543996018, 521.1221751892989]}, {\"name\": \"mv\", \"type\": \"scatter\", \"x\": [0, 1, 2, 3, 4, 5, 6, 7, 8, 9, 10, 11, 12, 13], \"y\": [1.0, 15.666114593825494, 206.82109783500175, 2586.379992738165, 35961.645703362876, 539014.637237216, 5889256.925317037, 77324557.21313226, 1099835782.0201292, 12204963407.420578, 131126704189.53165, 1116639408919.783, 10556236069848.615, 161920421496716.1, 2355977600213605.5]}, {\"name\": \"min var - no short\", \"type\": \"scatter\", \"x\": [0, 1, 2, 3, 4, 5, 6, 7, 8, 9, 10, 11, 12, 13], \"y\": [1.0, 1.1854760010936254, 1.094147315538656, 1.188877781809723, 1.4364425382768582, 1.9099381146020864, 2.047059405982186, 2.8934026067959207, 2.9202340959197803, 3.8482579911770554, 3.8223171400116462, 4.919653760688955, 6.6309521859917995, 8.614094632156405, 8.640609732739481]}, {\"name\": \"mv - no short\", \"type\": \"scatter\", \"x\": [0, 1, 2, 3, 4, 5, 6, 7, 8, 9, 10, 11, 12, 13], \"y\": [1.0, 1.2008193580268574, 1.1863223523650528, 1.3850631714305106, 1.6985087811162054, 2.3540521171033095, 2.5873917644804876, 3.8559260492370586, 3.711948770047059, 4.664235989275802, 5.046608879261729, 6.7335096069663125, 8.869392625598566, 10.886201360600662, 11.420578220196315]}],\n",
              "                        {\"template\": {\"data\": {\"bar\": [{\"error_x\": {\"color\": \"#2a3f5f\"}, \"error_y\": {\"color\": \"#2a3f5f\"}, \"marker\": {\"line\": {\"color\": \"#E5ECF6\", \"width\": 0.5}}, \"type\": \"bar\"}], \"barpolar\": [{\"marker\": {\"line\": {\"color\": \"#E5ECF6\", \"width\": 0.5}}, \"type\": \"barpolar\"}], \"carpet\": [{\"aaxis\": {\"endlinecolor\": \"#2a3f5f\", \"gridcolor\": \"white\", \"linecolor\": \"white\", \"minorgridcolor\": \"white\", \"startlinecolor\": \"#2a3f5f\"}, \"baxis\": {\"endlinecolor\": \"#2a3f5f\", \"gridcolor\": \"white\", \"linecolor\": \"white\", \"minorgridcolor\": \"white\", \"startlinecolor\": \"#2a3f5f\"}, \"type\": \"carpet\"}], \"choropleth\": [{\"colorbar\": {\"outlinewidth\": 0, \"ticks\": \"\"}, \"type\": \"choropleth\"}], \"contour\": [{\"colorbar\": {\"outlinewidth\": 0, \"ticks\": \"\"}, \"colorscale\": [[0.0, \"#0d0887\"], [0.1111111111111111, \"#46039f\"], [0.2222222222222222, \"#7201a8\"], [0.3333333333333333, \"#9c179e\"], [0.4444444444444444, \"#bd3786\"], [0.5555555555555556, \"#d8576b\"], [0.6666666666666666, \"#ed7953\"], [0.7777777777777778, \"#fb9f3a\"], [0.8888888888888888, \"#fdca26\"], [1.0, \"#f0f921\"]], \"type\": \"contour\"}], \"contourcarpet\": [{\"colorbar\": {\"outlinewidth\": 0, \"ticks\": \"\"}, \"type\": \"contourcarpet\"}], \"heatmap\": [{\"colorbar\": {\"outlinewidth\": 0, \"ticks\": \"\"}, \"colorscale\": [[0.0, \"#0d0887\"], [0.1111111111111111, \"#46039f\"], [0.2222222222222222, \"#7201a8\"], [0.3333333333333333, \"#9c179e\"], [0.4444444444444444, \"#bd3786\"], [0.5555555555555556, \"#d8576b\"], [0.6666666666666666, \"#ed7953\"], [0.7777777777777778, \"#fb9f3a\"], [0.8888888888888888, \"#fdca26\"], [1.0, \"#f0f921\"]], \"type\": \"heatmap\"}], \"heatmapgl\": [{\"colorbar\": {\"outlinewidth\": 0, \"ticks\": \"\"}, \"colorscale\": [[0.0, \"#0d0887\"], [0.1111111111111111, \"#46039f\"], [0.2222222222222222, \"#7201a8\"], [0.3333333333333333, \"#9c179e\"], [0.4444444444444444, \"#bd3786\"], [0.5555555555555556, \"#d8576b\"], [0.6666666666666666, \"#ed7953\"], [0.7777777777777778, \"#fb9f3a\"], [0.8888888888888888, \"#fdca26\"], [1.0, \"#f0f921\"]], \"type\": \"heatmapgl\"}], \"histogram\": [{\"marker\": {\"colorbar\": {\"outlinewidth\": 0, \"ticks\": \"\"}}, \"type\": \"histogram\"}], \"histogram2d\": [{\"colorbar\": {\"outlinewidth\": 0, \"ticks\": \"\"}, \"colorscale\": [[0.0, \"#0d0887\"], [0.1111111111111111, \"#46039f\"], [0.2222222222222222, \"#7201a8\"], [0.3333333333333333, \"#9c179e\"], [0.4444444444444444, \"#bd3786\"], [0.5555555555555556, \"#d8576b\"], [0.6666666666666666, \"#ed7953\"], [0.7777777777777778, \"#fb9f3a\"], [0.8888888888888888, \"#fdca26\"], [1.0, \"#f0f921\"]], \"type\": \"histogram2d\"}], \"histogram2dcontour\": [{\"colorbar\": {\"outlinewidth\": 0, \"ticks\": \"\"}, \"colorscale\": [[0.0, \"#0d0887\"], [0.1111111111111111, \"#46039f\"], [0.2222222222222222, \"#7201a8\"], [0.3333333333333333, \"#9c179e\"], [0.4444444444444444, \"#bd3786\"], [0.5555555555555556, \"#d8576b\"], [0.6666666666666666, \"#ed7953\"], [0.7777777777777778, \"#fb9f3a\"], [0.8888888888888888, \"#fdca26\"], [1.0, \"#f0f921\"]], \"type\": \"histogram2dcontour\"}], \"mesh3d\": [{\"colorbar\": {\"outlinewidth\": 0, \"ticks\": \"\"}, \"type\": \"mesh3d\"}], \"parcoords\": [{\"line\": {\"colorbar\": {\"outlinewidth\": 0, \"ticks\": \"\"}}, \"type\": \"parcoords\"}], \"pie\": [{\"automargin\": true, \"type\": \"pie\"}], \"scatter\": [{\"marker\": {\"colorbar\": {\"outlinewidth\": 0, \"ticks\": \"\"}}, \"type\": \"scatter\"}], \"scatter3d\": [{\"line\": {\"colorbar\": {\"outlinewidth\": 0, \"ticks\": \"\"}}, \"marker\": {\"colorbar\": {\"outlinewidth\": 0, \"ticks\": \"\"}}, \"type\": \"scatter3d\"}], \"scattercarpet\": [{\"marker\": {\"colorbar\": {\"outlinewidth\": 0, \"ticks\": \"\"}}, \"type\": \"scattercarpet\"}], \"scattergeo\": [{\"marker\": {\"colorbar\": {\"outlinewidth\": 0, \"ticks\": \"\"}}, \"type\": \"scattergeo\"}], \"scattergl\": [{\"marker\": {\"colorbar\": {\"outlinewidth\": 0, \"ticks\": \"\"}}, \"type\": \"scattergl\"}], \"scattermapbox\": [{\"marker\": {\"colorbar\": {\"outlinewidth\": 0, \"ticks\": \"\"}}, \"type\": \"scattermapbox\"}], \"scatterpolar\": [{\"marker\": {\"colorbar\": {\"outlinewidth\": 0, \"ticks\": \"\"}}, \"type\": \"scatterpolar\"}], \"scatterpolargl\": [{\"marker\": {\"colorbar\": {\"outlinewidth\": 0, \"ticks\": \"\"}}, \"type\": \"scatterpolargl\"}], \"scatterternary\": [{\"marker\": {\"colorbar\": {\"outlinewidth\": 0, \"ticks\": \"\"}}, \"type\": \"scatterternary\"}], \"surface\": [{\"colorbar\": {\"outlinewidth\": 0, \"ticks\": \"\"}, \"colorscale\": [[0.0, \"#0d0887\"], [0.1111111111111111, \"#46039f\"], [0.2222222222222222, \"#7201a8\"], [0.3333333333333333, \"#9c179e\"], [0.4444444444444444, \"#bd3786\"], [0.5555555555555556, \"#d8576b\"], [0.6666666666666666, \"#ed7953\"], [0.7777777777777778, \"#fb9f3a\"], [0.8888888888888888, \"#fdca26\"], [1.0, \"#f0f921\"]], \"type\": \"surface\"}], \"table\": [{\"cells\": {\"fill\": {\"color\": \"#EBF0F8\"}, \"line\": {\"color\": \"white\"}}, \"header\": {\"fill\": {\"color\": \"#C8D4E3\"}, \"line\": {\"color\": \"white\"}}, \"type\": \"table\"}]}, \"layout\": {\"annotationdefaults\": {\"arrowcolor\": \"#2a3f5f\", \"arrowhead\": 0, \"arrowwidth\": 1}, \"coloraxis\": {\"colorbar\": {\"outlinewidth\": 0, \"ticks\": \"\"}}, \"colorscale\": {\"diverging\": [[0, \"#8e0152\"], [0.1, \"#c51b7d\"], [0.2, \"#de77ae\"], [0.3, \"#f1b6da\"], [0.4, \"#fde0ef\"], [0.5, \"#f7f7f7\"], [0.6, \"#e6f5d0\"], [0.7, \"#b8e186\"], [0.8, \"#7fbc41\"], [0.9, \"#4d9221\"], [1, \"#276419\"]], \"sequential\": [[0.0, \"#0d0887\"], [0.1111111111111111, \"#46039f\"], [0.2222222222222222, \"#7201a8\"], [0.3333333333333333, \"#9c179e\"], [0.4444444444444444, \"#bd3786\"], [0.5555555555555556, \"#d8576b\"], [0.6666666666666666, \"#ed7953\"], [0.7777777777777778, \"#fb9f3a\"], [0.8888888888888888, \"#fdca26\"], [1.0, \"#f0f921\"]], \"sequentialminus\": [[0.0, \"#0d0887\"], [0.1111111111111111, \"#46039f\"], [0.2222222222222222, \"#7201a8\"], [0.3333333333333333, \"#9c179e\"], [0.4444444444444444, \"#bd3786\"], [0.5555555555555556, \"#d8576b\"], [0.6666666666666666, \"#ed7953\"], [0.7777777777777778, \"#fb9f3a\"], [0.8888888888888888, \"#fdca26\"], [1.0, \"#f0f921\"]]}, \"colorway\": [\"#636efa\", \"#EF553B\", \"#00cc96\", \"#ab63fa\", \"#FFA15A\", \"#19d3f3\", \"#FF6692\", \"#B6E880\", \"#FF97FF\", \"#FECB52\"], \"font\": {\"color\": \"#2a3f5f\"}, \"geo\": {\"bgcolor\": \"white\", \"lakecolor\": \"white\", \"landcolor\": \"#E5ECF6\", \"showlakes\": true, \"showland\": true, \"subunitcolor\": \"white\"}, \"hoverlabel\": {\"align\": \"left\"}, \"hovermode\": \"closest\", \"mapbox\": {\"style\": \"light\"}, \"paper_bgcolor\": \"white\", \"plot_bgcolor\": \"#E5ECF6\", \"polar\": {\"angularaxis\": {\"gridcolor\": \"white\", \"linecolor\": \"white\", \"ticks\": \"\"}, \"bgcolor\": \"#E5ECF6\", \"radialaxis\": {\"gridcolor\": \"white\", \"linecolor\": \"white\", \"ticks\": \"\"}}, \"scene\": {\"xaxis\": {\"backgroundcolor\": \"#E5ECF6\", \"gridcolor\": \"white\", \"gridwidth\": 2, \"linecolor\": \"white\", \"showbackground\": true, \"ticks\": \"\", \"zerolinecolor\": \"white\"}, \"yaxis\": {\"backgroundcolor\": \"#E5ECF6\", \"gridcolor\": \"white\", \"gridwidth\": 2, \"linecolor\": \"white\", \"showbackground\": true, \"ticks\": \"\", \"zerolinecolor\": \"white\"}, \"zaxis\": {\"backgroundcolor\": \"#E5ECF6\", \"gridcolor\": \"white\", \"gridwidth\": 2, \"linecolor\": \"white\", \"showbackground\": true, \"ticks\": \"\", \"zerolinecolor\": \"white\"}}, \"shapedefaults\": {\"line\": {\"color\": \"#2a3f5f\"}}, \"ternary\": {\"aaxis\": {\"gridcolor\": \"white\", \"linecolor\": \"white\", \"ticks\": \"\"}, \"baxis\": {\"gridcolor\": \"white\", \"linecolor\": \"white\", \"ticks\": \"\"}, \"bgcolor\": \"#E5ECF6\", \"caxis\": {\"gridcolor\": \"white\", \"linecolor\": \"white\", \"ticks\": \"\"}}, \"title\": {\"x\": 0.05}, \"xaxis\": {\"automargin\": true, \"gridcolor\": \"white\", \"linecolor\": \"white\", \"ticks\": \"\", \"title\": {\"standoff\": 15}, \"zerolinecolor\": \"white\", \"zerolinewidth\": 2}, \"yaxis\": {\"automargin\": true, \"gridcolor\": \"white\", \"linecolor\": \"white\", \"ticks\": \"\", \"title\": {\"standoff\": 15}, \"zerolinecolor\": \"white\", \"zerolinewidth\": 2}}}, \"xaxis\": {\"title\": {\"text\": \"giorno\"}, \"type\": \"category\"}, \"yaxis\": {\"title\": {\"text\": \"\\u20ac\"}, \"type\": \"log\"}},\n",
              "                        {\"responsive\": true}\n",
              "                    ).then(function(){\n",
              "                            \n",
              "var gd = document.getElementById('c2870531-74b5-4f80-81e3-9f630c7c9fc4');\n",
              "var x = new MutationObserver(function (mutations, observer) {{\n",
              "        var display = window.getComputedStyle(gd).display;\n",
              "        if (!display || display === 'none') {{\n",
              "            console.log([gd, 'removed!']);\n",
              "            Plotly.purge(gd);\n",
              "            observer.disconnect();\n",
              "        }}\n",
              "}});\n",
              "\n",
              "// Listen for the removal of the full notebook cells\n",
              "var notebookContainer = gd.closest('#notebook-container');\n",
              "if (notebookContainer) {{\n",
              "    x.observe(notebookContainer, {childList: true});\n",
              "}}\n",
              "\n",
              "// Listen for the clearing of the current output cell\n",
              "var outputEl = gd.closest('.output');\n",
              "if (outputEl) {{\n",
              "    x.observe(outputEl, {childList: true});\n",
              "}}\n",
              "\n",
              "                        })\n",
              "                };\n",
              "                \n",
              "            </script>\n",
              "        </div>\n",
              "</body>\n",
              "</html>"
            ]
          },
          "metadata": {
            "tags": []
          }
        }
      ]
    },
    {
      "cell_type": "markdown",
      "metadata": {
        "id": "Qn1H9qkj-O4s"
      },
      "source": [
        "Ancora una volta, il **portafoglio MV** sembra essere il **più** **promettente**, anche in questa simulazione."
      ]
    },
    {
      "cell_type": "code",
      "metadata": {
        "colab": {
          "base_uri": "https://localhost:8080/"
        },
        "id": "ggGC46-79r-F",
        "outputId": "b0f33e7d-9724-4e8a-a889-ea47d1c3e177"
      },
      "source": [
        "print('V@R della ricchezza a 1 settimana',compute_var(final_wealth_1w))\n",
        "print('CV@R della ricchezza a 1 settimana',compute_cvar(final_wealth_1w))\n",
        "print('V@R della ricchezza a 2 settimane',compute_var(final_wealth_2w))\n",
        "print('CV@R della ricchezza a 2 settimane',compute_cvar(final_wealth_2w))"
      ],
      "execution_count": null,
      "outputs": [
        {
          "output_type": "stream",
          "text": [
            "V@R della ricchezza a 1 settimana {'min var': 13.839771426432257, 'mv': 6215078.900043517, 'min var - no short': 0.7279501554740281, 'mv - no short': 0.8333700295841322}\n",
            "CV@R della ricchezza a 1 settimana {'min var': 12.598351564284894, 'mv': 3897055.840675428, 'min var - no short': 0.5559927680855414, 'mv - no short': 0.6167739530203606}\n",
            "V@R della ricchezza a 2 settimane {'min var': 244.9481182793656, 'mv': 84184870244356.05, 'min var - no short': 1.0772536397478332, 'mv - no short': 1.4779619720766204}\n",
            "CV@R della ricchezza a 2 settimane {'min var': 209.43080812698867, 'mv': 47171902834155.94, 'min var - no short': 0.767617520759585, 'mv - no short': 1.029377343163218}\n"
          ],
          "name": "stdout"
        }
      ]
    },
    {
      "cell_type": "code",
      "metadata": {
        "colab": {
          "base_uri": "https://localhost:8080/",
          "height": 1000
        },
        "id": "_iEjFtxu9u4y",
        "outputId": "949ea473-477e-48d4-f21e-fb28eca75df0"
      },
      "source": [
        "fig = make_subplots(rows=2, cols=2, subplot_titles=['Ricchezza terminale dopo 7 giorni', 'Ricchezza terminale dopo 14 giorni'], specs=[[{}, {}], [{'colspan':2}, None]], vertical_spacing=0.08, row_heights=[0.6,0.4])\n",
        "\n",
        "fig.add_trace(go.Bar(x=list(final_wealth_1w.keys()), y=list(compute_var(final_wealth_1w).values()), name='V@R', legendgroup=1, marker=dict(color='blue')), row=1, col=1)\n",
        "fig.add_trace(go.Bar(x=list(final_wealth_1w.keys()), y=list(compute_cvar(final_wealth_1w).values()), name='CV@R', legendgroup=2, marker=dict(color='red')), row=1, col=1)\n",
        "\n",
        "fig.add_trace(go.Bar(x=list(final_wealth_1w.keys()), y=list(compute_var(final_wealth_2w).values()), name='V@R', legendgroup=1, showlegend=False, marker=dict(color='blue')), row=1, col=2)\n",
        "fig.add_trace(go.Bar(x=list(final_wealth_1w.keys()), y=list(compute_cvar(final_wealth_2w).values()), name='CV@R', legendgroup=2, showlegend=False, marker=dict(color='red')), row=1, col=2)\n",
        "\n",
        "fig.add_trace(go.Bar(x=list(expected_returns.keys()), y=list(expected_returns.values()), name='Rendimento atteso', legendgroup=3), row=2, col=1)\n",
        "fig.add_trace(go.Bar(x=list(variances.keys()), y=list(variances.values()), name='Varianza', legendgroup=4), row=2, col=1)\n",
        "\n",
        "fig.update_yaxes(type='log')\n",
        "fig.update_layout(height=1000)"
      ],
      "execution_count": null,
      "outputs": [
        {
          "output_type": "display_data",
          "data": {
            "text/html": [
              "<html>\n",
              "<head><meta charset=\"utf-8\" /></head>\n",
              "<body>\n",
              "    <div>\n",
              "            <script src=\"https://cdnjs.cloudflare.com/ajax/libs/mathjax/2.7.5/MathJax.js?config=TeX-AMS-MML_SVG\"></script><script type=\"text/javascript\">if (window.MathJax) {MathJax.Hub.Config({SVG: {font: \"STIX-Web\"}});}</script>\n",
              "                <script type=\"text/javascript\">window.PlotlyConfig = {MathJaxConfig: 'local'};</script>\n",
              "        <script src=\"https://cdn.plot.ly/plotly-latest.min.js\"></script>    \n",
              "            <div id=\"dc3458f4-b05b-4af0-a530-0ad13212f4f3\" class=\"plotly-graph-div\" style=\"height:1000px; width:100%;\"></div>\n",
              "            <script type=\"text/javascript\">\n",
              "                \n",
              "                    window.PLOTLYENV=window.PLOTLYENV || {};\n",
              "                    \n",
              "                if (document.getElementById(\"dc3458f4-b05b-4af0-a530-0ad13212f4f3\")) {\n",
              "                    Plotly.newPlot(\n",
              "                        'dc3458f4-b05b-4af0-a530-0ad13212f4f3',\n",
              "                        [{\"legendgroup\": \"1\", \"marker\": {\"color\": \"blue\"}, \"name\": \"V@R\", \"type\": \"bar\", \"x\": [\"min var\", \"mv\", \"min var - no short\", \"mv - no short\"], \"xaxis\": \"x\", \"y\": [13.839771426432257, 6215078.900043517, 0.7279501554740281, 0.8333700295841322], \"yaxis\": \"y\"}, {\"legendgroup\": \"2\", \"marker\": {\"color\": \"red\"}, \"name\": \"CV@R\", \"type\": \"bar\", \"x\": [\"min var\", \"mv\", \"min var - no short\", \"mv - no short\"], \"xaxis\": \"x\", \"y\": [12.598351564284894, 3897055.840675428, 0.5559927680855414, 0.6167739530203606], \"yaxis\": \"y\"}, {\"legendgroup\": \"1\", \"marker\": {\"color\": \"blue\"}, \"name\": \"V@R\", \"showlegend\": false, \"type\": \"bar\", \"x\": [\"min var\", \"mv\", \"min var - no short\", \"mv - no short\"], \"xaxis\": \"x2\", \"y\": [244.9481182793656, 84184870244356.05, 1.0772536397478332, 1.4779619720766204], \"yaxis\": \"y2\"}, {\"legendgroup\": \"2\", \"marker\": {\"color\": \"red\"}, \"name\": \"CV@R\", \"showlegend\": false, \"type\": \"bar\", \"x\": [\"min var\", \"mv\", \"min var - no short\", \"mv - no short\"], \"xaxis\": \"x2\", \"y\": [209.43080812698867, 47171902834155.94, 0.767617520759585, 1.029377343163218], \"yaxis\": \"y2\"}, {\"legendgroup\": \"3\", \"name\": \"Rendimento atteso\", \"type\": \"bar\", \"x\": [\"min var\", \"mv\", \"min var - no short\", \"mv - no short\"], \"xaxis\": \"x3\", \"y\": [0.5445487179338777, 11.032562353259006, 0.16126942235467714, 0.17876596478051024], \"yaxis\": \"y3\"}, {\"legendgroup\": \"4\", \"name\": \"Varianza\", \"type\": \"bar\", \"x\": [\"min var\", \"mv\", \"min var - no short\", \"mv - no short\"], \"xaxis\": \"x3\", \"y\": [0.017455817805172042, 11.088334535219392, 0.0712573996626836, 0.07124217697365333], \"yaxis\": \"y3\"}],\n",
              "                        {\"annotations\": [{\"font\": {\"size\": 16}, \"showarrow\": false, \"text\": \"Ricchezza terminale dopo 7 giorni\", \"x\": 0.225, \"xanchor\": \"center\", \"xref\": \"paper\", \"y\": 1.0, \"yanchor\": \"bottom\", \"yref\": \"paper\"}, {\"font\": {\"size\": 16}, \"showarrow\": false, \"text\": \"Ricchezza terminale dopo 14 giorni\", \"x\": 0.775, \"xanchor\": \"center\", \"xref\": \"paper\", \"y\": 1.0, \"yanchor\": \"bottom\", \"yref\": \"paper\"}], \"height\": 1000, \"template\": {\"data\": {\"bar\": [{\"error_x\": {\"color\": \"#2a3f5f\"}, \"error_y\": {\"color\": \"#2a3f5f\"}, \"marker\": {\"line\": {\"color\": \"#E5ECF6\", \"width\": 0.5}}, \"type\": \"bar\"}], \"barpolar\": [{\"marker\": {\"line\": {\"color\": \"#E5ECF6\", \"width\": 0.5}}, \"type\": \"barpolar\"}], \"carpet\": [{\"aaxis\": {\"endlinecolor\": \"#2a3f5f\", \"gridcolor\": \"white\", \"linecolor\": \"white\", \"minorgridcolor\": \"white\", \"startlinecolor\": \"#2a3f5f\"}, \"baxis\": {\"endlinecolor\": \"#2a3f5f\", \"gridcolor\": \"white\", \"linecolor\": \"white\", \"minorgridcolor\": \"white\", \"startlinecolor\": \"#2a3f5f\"}, \"type\": \"carpet\"}], \"choropleth\": [{\"colorbar\": {\"outlinewidth\": 0, \"ticks\": \"\"}, \"type\": \"choropleth\"}], \"contour\": [{\"colorbar\": {\"outlinewidth\": 0, \"ticks\": \"\"}, \"colorscale\": [[0.0, \"#0d0887\"], [0.1111111111111111, \"#46039f\"], [0.2222222222222222, \"#7201a8\"], [0.3333333333333333, \"#9c179e\"], [0.4444444444444444, \"#bd3786\"], [0.5555555555555556, \"#d8576b\"], [0.6666666666666666, \"#ed7953\"], [0.7777777777777778, \"#fb9f3a\"], [0.8888888888888888, \"#fdca26\"], [1.0, \"#f0f921\"]], \"type\": \"contour\"}], \"contourcarpet\": [{\"colorbar\": {\"outlinewidth\": 0, \"ticks\": \"\"}, \"type\": \"contourcarpet\"}], \"heatmap\": [{\"colorbar\": {\"outlinewidth\": 0, \"ticks\": \"\"}, \"colorscale\": [[0.0, \"#0d0887\"], [0.1111111111111111, \"#46039f\"], [0.2222222222222222, \"#7201a8\"], [0.3333333333333333, \"#9c179e\"], [0.4444444444444444, \"#bd3786\"], [0.5555555555555556, \"#d8576b\"], [0.6666666666666666, \"#ed7953\"], [0.7777777777777778, \"#fb9f3a\"], [0.8888888888888888, \"#fdca26\"], [1.0, \"#f0f921\"]], \"type\": \"heatmap\"}], \"heatmapgl\": [{\"colorbar\": {\"outlinewidth\": 0, \"ticks\": \"\"}, \"colorscale\": [[0.0, \"#0d0887\"], [0.1111111111111111, \"#46039f\"], [0.2222222222222222, \"#7201a8\"], [0.3333333333333333, \"#9c179e\"], [0.4444444444444444, \"#bd3786\"], [0.5555555555555556, \"#d8576b\"], [0.6666666666666666, \"#ed7953\"], [0.7777777777777778, \"#fb9f3a\"], [0.8888888888888888, \"#fdca26\"], [1.0, \"#f0f921\"]], \"type\": \"heatmapgl\"}], \"histogram\": [{\"marker\": {\"colorbar\": {\"outlinewidth\": 0, \"ticks\": \"\"}}, \"type\": \"histogram\"}], \"histogram2d\": [{\"colorbar\": {\"outlinewidth\": 0, \"ticks\": \"\"}, \"colorscale\": [[0.0, \"#0d0887\"], [0.1111111111111111, \"#46039f\"], [0.2222222222222222, \"#7201a8\"], [0.3333333333333333, \"#9c179e\"], [0.4444444444444444, \"#bd3786\"], [0.5555555555555556, \"#d8576b\"], [0.6666666666666666, \"#ed7953\"], [0.7777777777777778, \"#fb9f3a\"], [0.8888888888888888, \"#fdca26\"], [1.0, \"#f0f921\"]], \"type\": \"histogram2d\"}], \"histogram2dcontour\": [{\"colorbar\": {\"outlinewidth\": 0, \"ticks\": \"\"}, \"colorscale\": [[0.0, \"#0d0887\"], [0.1111111111111111, \"#46039f\"], [0.2222222222222222, \"#7201a8\"], [0.3333333333333333, \"#9c179e\"], [0.4444444444444444, \"#bd3786\"], [0.5555555555555556, \"#d8576b\"], [0.6666666666666666, \"#ed7953\"], [0.7777777777777778, \"#fb9f3a\"], [0.8888888888888888, \"#fdca26\"], [1.0, \"#f0f921\"]], \"type\": \"histogram2dcontour\"}], \"mesh3d\": [{\"colorbar\": {\"outlinewidth\": 0, \"ticks\": \"\"}, \"type\": \"mesh3d\"}], \"parcoords\": [{\"line\": {\"colorbar\": {\"outlinewidth\": 0, \"ticks\": \"\"}}, \"type\": \"parcoords\"}], \"pie\": [{\"automargin\": true, \"type\": \"pie\"}], \"scatter\": [{\"marker\": {\"colorbar\": {\"outlinewidth\": 0, \"ticks\": \"\"}}, \"type\": \"scatter\"}], \"scatter3d\": [{\"line\": {\"colorbar\": {\"outlinewidth\": 0, \"ticks\": \"\"}}, \"marker\": {\"colorbar\": {\"outlinewidth\": 0, \"ticks\": \"\"}}, \"type\": \"scatter3d\"}], \"scattercarpet\": [{\"marker\": {\"colorbar\": {\"outlinewidth\": 0, \"ticks\": \"\"}}, \"type\": \"scattercarpet\"}], \"scattergeo\": [{\"marker\": {\"colorbar\": {\"outlinewidth\": 0, \"ticks\": \"\"}}, \"type\": \"scattergeo\"}], \"scattergl\": [{\"marker\": {\"colorbar\": {\"outlinewidth\": 0, \"ticks\": \"\"}}, \"type\": \"scattergl\"}], \"scattermapbox\": [{\"marker\": {\"colorbar\": {\"outlinewidth\": 0, \"ticks\": \"\"}}, \"type\": \"scattermapbox\"}], \"scatterpolar\": [{\"marker\": {\"colorbar\": {\"outlinewidth\": 0, \"ticks\": \"\"}}, \"type\": \"scatterpolar\"}], \"scatterpolargl\": [{\"marker\": {\"colorbar\": {\"outlinewidth\": 0, \"ticks\": \"\"}}, \"type\": \"scatterpolargl\"}], \"scatterternary\": [{\"marker\": {\"colorbar\": {\"outlinewidth\": 0, \"ticks\": \"\"}}, \"type\": \"scatterternary\"}], \"surface\": [{\"colorbar\": {\"outlinewidth\": 0, \"ticks\": \"\"}, \"colorscale\": [[0.0, \"#0d0887\"], [0.1111111111111111, \"#46039f\"], [0.2222222222222222, \"#7201a8\"], [0.3333333333333333, \"#9c179e\"], [0.4444444444444444, \"#bd3786\"], [0.5555555555555556, \"#d8576b\"], [0.6666666666666666, \"#ed7953\"], [0.7777777777777778, \"#fb9f3a\"], [0.8888888888888888, \"#fdca26\"], [1.0, \"#f0f921\"]], \"type\": \"surface\"}], \"table\": [{\"cells\": {\"fill\": {\"color\": \"#EBF0F8\"}, \"line\": {\"color\": \"white\"}}, \"header\": {\"fill\": {\"color\": \"#C8D4E3\"}, \"line\": {\"color\": \"white\"}}, \"type\": \"table\"}]}, \"layout\": {\"annotationdefaults\": {\"arrowcolor\": \"#2a3f5f\", \"arrowhead\": 0, \"arrowwidth\": 1}, \"coloraxis\": {\"colorbar\": {\"outlinewidth\": 0, \"ticks\": \"\"}}, \"colorscale\": {\"diverging\": [[0, \"#8e0152\"], [0.1, \"#c51b7d\"], [0.2, \"#de77ae\"], [0.3, \"#f1b6da\"], [0.4, \"#fde0ef\"], [0.5, \"#f7f7f7\"], [0.6, \"#e6f5d0\"], [0.7, \"#b8e186\"], [0.8, \"#7fbc41\"], [0.9, \"#4d9221\"], [1, \"#276419\"]], \"sequential\": [[0.0, \"#0d0887\"], [0.1111111111111111, \"#46039f\"], [0.2222222222222222, \"#7201a8\"], [0.3333333333333333, \"#9c179e\"], [0.4444444444444444, \"#bd3786\"], [0.5555555555555556, \"#d8576b\"], [0.6666666666666666, \"#ed7953\"], [0.7777777777777778, \"#fb9f3a\"], [0.8888888888888888, \"#fdca26\"], [1.0, \"#f0f921\"]], \"sequentialminus\": [[0.0, \"#0d0887\"], [0.1111111111111111, \"#46039f\"], [0.2222222222222222, \"#7201a8\"], [0.3333333333333333, \"#9c179e\"], [0.4444444444444444, \"#bd3786\"], [0.5555555555555556, \"#d8576b\"], [0.6666666666666666, \"#ed7953\"], [0.7777777777777778, \"#fb9f3a\"], [0.8888888888888888, \"#fdca26\"], [1.0, \"#f0f921\"]]}, \"colorway\": [\"#636efa\", \"#EF553B\", \"#00cc96\", \"#ab63fa\", \"#FFA15A\", \"#19d3f3\", \"#FF6692\", \"#B6E880\", \"#FF97FF\", \"#FECB52\"], \"font\": {\"color\": \"#2a3f5f\"}, \"geo\": {\"bgcolor\": \"white\", \"lakecolor\": \"white\", \"landcolor\": \"#E5ECF6\", \"showlakes\": true, \"showland\": true, \"subunitcolor\": \"white\"}, \"hoverlabel\": {\"align\": \"left\"}, \"hovermode\": \"closest\", \"mapbox\": {\"style\": \"light\"}, \"paper_bgcolor\": \"white\", \"plot_bgcolor\": \"#E5ECF6\", \"polar\": {\"angularaxis\": {\"gridcolor\": \"white\", \"linecolor\": \"white\", \"ticks\": \"\"}, \"bgcolor\": \"#E5ECF6\", \"radialaxis\": {\"gridcolor\": \"white\", \"linecolor\": \"white\", \"ticks\": \"\"}}, \"scene\": {\"xaxis\": {\"backgroundcolor\": \"#E5ECF6\", \"gridcolor\": \"white\", \"gridwidth\": 2, \"linecolor\": \"white\", \"showbackground\": true, \"ticks\": \"\", \"zerolinecolor\": \"white\"}, \"yaxis\": {\"backgroundcolor\": \"#E5ECF6\", \"gridcolor\": \"white\", \"gridwidth\": 2, \"linecolor\": \"white\", \"showbackground\": true, \"ticks\": \"\", \"zerolinecolor\": \"white\"}, \"zaxis\": {\"backgroundcolor\": \"#E5ECF6\", \"gridcolor\": \"white\", \"gridwidth\": 2, \"linecolor\": \"white\", \"showbackground\": true, \"ticks\": \"\", \"zerolinecolor\": \"white\"}}, \"shapedefaults\": {\"line\": {\"color\": \"#2a3f5f\"}}, \"ternary\": {\"aaxis\": {\"gridcolor\": \"white\", \"linecolor\": \"white\", \"ticks\": \"\"}, \"baxis\": {\"gridcolor\": \"white\", \"linecolor\": \"white\", \"ticks\": \"\"}, \"bgcolor\": \"#E5ECF6\", \"caxis\": {\"gridcolor\": \"white\", \"linecolor\": \"white\", \"ticks\": \"\"}}, \"title\": {\"x\": 0.05}, \"xaxis\": {\"automargin\": true, \"gridcolor\": \"white\", \"linecolor\": \"white\", \"ticks\": \"\", \"title\": {\"standoff\": 15}, \"zerolinecolor\": \"white\", \"zerolinewidth\": 2}, \"yaxis\": {\"automargin\": true, \"gridcolor\": \"white\", \"linecolor\": \"white\", \"ticks\": \"\", \"title\": {\"standoff\": 15}, \"zerolinecolor\": \"white\", \"zerolinewidth\": 2}}}, \"xaxis\": {\"anchor\": \"y\", \"domain\": [0.0, 0.45]}, \"xaxis2\": {\"anchor\": \"y2\", \"domain\": [0.55, 1.0]}, \"xaxis3\": {\"anchor\": \"y3\", \"domain\": [0.0, 1.0]}, \"yaxis\": {\"anchor\": \"x\", \"domain\": [0.44800000000000006, 1.0], \"type\": \"log\"}, \"yaxis2\": {\"anchor\": \"x2\", \"domain\": [0.44800000000000006, 1.0], \"type\": \"log\"}, \"yaxis3\": {\"anchor\": \"x3\", \"domain\": [0.0, 0.36800000000000005], \"type\": \"log\"}},\n",
              "                        {\"responsive\": true}\n",
              "                    ).then(function(){\n",
              "                            \n",
              "var gd = document.getElementById('dc3458f4-b05b-4af0-a530-0ad13212f4f3');\n",
              "var x = new MutationObserver(function (mutations, observer) {{\n",
              "        var display = window.getComputedStyle(gd).display;\n",
              "        if (!display || display === 'none') {{\n",
              "            console.log([gd, 'removed!']);\n",
              "            Plotly.purge(gd);\n",
              "            observer.disconnect();\n",
              "        }}\n",
              "}});\n",
              "\n",
              "// Listen for the removal of the full notebook cells\n",
              "var notebookContainer = gd.closest('#notebook-container');\n",
              "if (notebookContainer) {{\n",
              "    x.observe(notebookContainer, {childList: true});\n",
              "}}\n",
              "\n",
              "// Listen for the clearing of the current output cell\n",
              "var outputEl = gd.closest('.output');\n",
              "if (outputEl) {{\n",
              "    x.observe(outputEl, {childList: true});\n",
              "}}\n",
              "\n",
              "                        })\n",
              "                };\n",
              "                \n",
              "            </script>\n",
              "        </div>\n",
              "</body>\n",
              "</html>"
            ]
          },
          "metadata": {
            "tags": []
          }
        }
      ]
    },
    {
      "cell_type": "markdown",
      "metadata": {
        "id": "kLD5P4QdCl3M"
      },
      "source": [
        "In questo caso, il **portafoglio MV** sembra davvero essere la **scelta migliore**, sia dal punto di vista del **V@R** che da quello del **CV@R**.\n",
        "\n",
        " Possiamo notare anche  che i portafogli che **non** prevedono **vendite allo scoperto**, nonostante fossero utili a ridurre gli errori di stima, sono i meno performanti dal punto di vista della ricchezza terminale.\n",
        " \n",
        "E' interessante notare che, in questo caso, come in quello precedente (con dati stimati a 30 giorni), il **portafoglio a minima varianza** generi comunque dei **risultati molto buoni** sulla ricchezza terminale.\n",
        "\n",
        " Infine, nonostante i **vincoli** sulle **vendite** allo **scoperto** abbiano l'effetto di ridurre gli errori di stima, hanno anche quello di **aumentare** la **varianza** del **portafoglio a minima varianza**. La spiegazione può essere la seguente: imponendo un nuovo vincolo, stiamo riducendo la regione di ammissibilità del problema."
      ]
    }
  ]
}